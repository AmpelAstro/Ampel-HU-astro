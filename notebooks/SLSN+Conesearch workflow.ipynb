{
 "cells": [
  {
   "cell_type": "markdown",
   "id": "0f44e097",
   "metadata": {},
   "source": [
    "Sample SLSN search based on initial conesearch. "
   ]
  },
  {
   "cell_type": "code",
   "execution_count": null,
   "id": "cc4d474e",
   "metadata": {},
   "outputs": [],
   "source": [
    "import requests, os"
   ]
  },
  {
   "cell_type": "code",
   "execution_count": null,
   "id": "2304d7c2",
   "metadata": {},
   "outputs": [],
   "source": [
    "# This is the archive token which can be obtained from https://ampel.zeuthen.desy.de/live/dashboard/tokens\n",
    "# In order to retrieve ZTF partnership alerts your token needs to have the appropriate access\n",
    "token = os.environ[\"ARCHIVE_TOKEN\"]   # I have mine stored\n",
    "header = {\"Authorization\": \"bearer \"+token}"
   ]
  },
  {
   "cell_type": "code",
   "execution_count": null,
   "id": "403fa111",
   "metadata": {},
   "outputs": [],
   "source": [
    "workdir = './ampel_slsn'   # Assuming this exists"
   ]
  },
  {
   "cell_type": "markdown",
   "id": "69b57d5a",
   "metadata": {},
   "source": [
    "## 1. Creating archive alert stream based on alert properties. \n",
    "\n",
    "The pipeline will parse a set of alerts retrieved from the DESY/Ampel alert archive. This demonstration uses a limited consearch centered on a known SLSN (ZTF19abfvnns). This query can include filtering based on properties of the ZTF alert candidate field. For more options, see the `ztf.alert.candidate` section of https://zwickytransientfacility.github.io/ztf-avro-alert/schema.html\n",
    "\n",
    "The obtained token (`resume_token`) will be used when configuring the alert loader below, and will allow the alert processor to operate on a stream of archive alerts. "
   ]
  },
  {
   "cell_type": "code",
   "execution_count": null,
   "id": "4cc2223c",
   "metadata": {},
   "outputs": [],
   "source": [
    "endpoint = 'https://ampel.zeuthen.desy.de/api/ztf/archive/v3/streams/from_query?'"
   ]
  },
  {
   "cell_type": "code",
   "execution_count": null,
   "id": "a438a43b",
   "metadata": {},
   "outputs": [],
   "source": [
    "query = {\n",
    "\"cone\": {\n",
    "#    \"ra\": 193.28143551564065,\n",
    "#    \"dec\": 33.488720966906016,\n",
    "    \"ra\": 1.1691247,      \n",
    "    \"dec\": 42.8698038,\n",
    "    \"radius\": 2. / 60\n",
    "  },\n",
    "\"candidate\": {\n",
    "    \"rb\": {\n",
    "      \"$gt\": 0.3\n",
    "    },\n",
    "    \"ndethist\": {\n",
    "      \"$gt\": 5,\n",
    "      \"$lte\": 10000\n",
    "    },\n",
    "    \"isdiffpos\": {\"$in\": [\"t\", \"1\"]},\n",
    "  }\n",
    "}"
   ]
  },
  {
   "cell_type": "code",
   "execution_count": null,
   "id": "67e221e4",
   "metadata": {},
   "outputs": [],
   "source": [
    "response = requests.post(endpoint, headers=header, json=query )"
   ]
  },
  {
   "cell_type": "code",
   "execution_count": null,
   "id": "5f01b054",
   "metadata": {},
   "outputs": [],
   "source": [
    "if not response.ok:\n",
    "    print( 'Query creation failed.')"
   ]
  },
  {
   "cell_type": "code",
   "execution_count": null,
   "id": "e8c9f013",
   "metadata": {},
   "outputs": [],
   "source": [
    "# The full response contains the resume token as well as the chunk size, i.e.\n",
    "# how many alerts will be return in each call to the alert iterator.\n",
    "response.json()"
   ]
  },
  {
   "cell_type": "code",
   "execution_count": null,
   "id": "03a76124",
   "metadata": {},
   "outputs": [],
   "source": [
    "resume_token = response.json()['resume_token']"
   ]
  },
  {
   "cell_type": "markdown",
   "id": "8de4ad30",
   "metadata": {},
   "source": [
    "At this point the alert archive will start the process of staging alerts for release. This process takes a few min (length depending on query size), during which time the resume_token will stay locked. "
   ]
  },
  {
   "cell_type": "markdown",
   "id": "fef58015",
   "metadata": {},
   "source": [
    "## 2. Configure an alert filter\n",
    "\n",
    "Only alerts passing these criteria will be propagated to full analysis. This partially replicates critera from the query filter implemented above, as the filter defined here could be used also for a live application where no initial archive selection is done. \n"
   ]
  },
  {
   "cell_type": "code",
   "execution_count": null,
   "id": "af02a70b",
   "metadata": {},
   "outputs": [],
   "source": [
    "from ampel.log.AmpelLogger import AmpelLogger\n",
    "from ampel.contrib.hu.t0.RcfFilter import RcfFilter\n",
    "logger = AmpelLogger.get_logger()"
   ]
  },
  {
   "cell_type": "code",
   "execution_count": null,
   "id": "31af743d",
   "metadata": {},
   "outputs": [],
   "source": [
    "# Decent filter parameters\n",
    "filter_config = {\n",
    "    \"min_ndet\": 6,          # Min number of detections\n",
    "    \"max_magpsf\": 19.3,      \n",
    "    \"min_dist_to_sso\": 15,     \n",
    "    \"min_gal_lat\": 7,      \n",
    "    \"min_age\": 10,\n",
    "    \"max_ipac_age\": 100,\n",
    "    \"min_rb\": 0.3,\n",
    "#    \"min_drb\": 0.99,\n",
    "}"
   ]
  },
  {
   "cell_type": "code",
   "execution_count": null,
   "id": "9e7849f0",
   "metadata": {},
   "outputs": [],
   "source": [
    "t0filter = RcfFilter( **filter_config, logger=logger )\n",
    "t0filter.post_init()"
   ]
  },
  {
   "cell_type": "markdown",
   "id": "841291fc",
   "metadata": {},
   "source": [
    "## 3. Initiate DB connection and AMPEL context\n",
    "\n",
    "Will create a local MongoDB collection `ztf_slsn` - if one exists this will be purged initially.\n"
   ]
  },
  {
   "cell_type": "code",
   "execution_count": null,
   "id": "f6bd3078",
   "metadata": {},
   "outputs": [],
   "source": [
    "from ampel.secret.AmpelVault import AmpelVault\n",
    "from ampel.secret.DictSecretProvider import DictSecretProvider\n",
    "from ampel.dev.DevAmpelContext import DevAmpelContext"
   ]
  },
  {
   "cell_type": "code",
   "execution_count": null,
   "id": "b23c12c0",
   "metadata": {},
   "outputs": [],
   "source": [
    "# Create a vault - the way to input \"secrets\" into the system\n",
    "secrets = { \n",
    "            \"ztf/archive/token\": token,\n",
    "          }\n",
    "vault = AmpelVault([DictSecretProvider(secrets)])"
   ]
  },
  {
   "cell_type": "code",
   "execution_count": null,
   "id": "79eb83a9",
   "metadata": {},
   "outputs": [],
   "source": [
    "# Assume that a configuration file exists here (see Ampel-HU-astro install instructions)\n",
    "AMPEL_CONF = '../ampel_conf.yaml'"
   ]
  },
  {
   "cell_type": "code",
   "execution_count": null,
   "id": "958307da",
   "metadata": {},
   "outputs": [],
   "source": [
    "channel = 'myslsn'"
   ]
  },
  {
   "cell_type": "code",
   "execution_count": null,
   "id": "811aa218",
   "metadata": {},
   "outputs": [],
   "source": [
    "# Assuming a local MongoDB instance\n",
    "ctx = DevAmpelContext.load(\n",
    "    config = AMPEL_CONF,\n",
    "    db_prefix = 'ztf_slsn',\n",
    "    purge_db = True,\n",
    "    vault = vault\n",
    ")\n",
    "ctx.add_channel(\n",
    "    name=channel,\n",
    "    access=['ZTF', 'ZTF_PUB', 'ZTF_PRIV']\n",
    ")"
   ]
  },
  {
   "cell_type": "markdown",
   "id": "2c3c365a",
   "metadata": {},
   "source": [
    "## 4. Configure modules to be used in workflow\n",
    "\n",
    "As the last step these are combined into the `directives` which are supplied to the alert processor.  "
   ]
  },
  {
   "cell_type": "code",
   "execution_count": null,
   "id": "97c53001",
   "metadata": {},
   "outputs": [],
   "source": [
    "# Catalogs to match positions to \n",
    "cat_conf = {\n",
    "    'catalogs' : {\n",
    "        'NEDz' : {\n",
    "            'use' : 'catsHTM',\n",
    "            'rs_arcsec' : 10.0,\n",
    "            'keys_to_append' : ['ObjType', 'Velocity', 'z'],\n",
    "        },\n",
    "        'LSPhotoZZou' : {\n",
    "            'use' : 'extcats',\n",
    "            'rs_arcsec' : 10.0,\n",
    "            'keys_to_append' : ['photoz','ra','dec','e_photoz','specz','_6','logMassBest','logMassInf','logMassSup'],\n",
    "            'pre_filter' : None,\n",
    "            'post_filter' : None,\n",
    "            'all': False,\n",
    "        },\n",
    "        'wiseScosPhotoz' : {\n",
    "            'use' : 'extcats',\n",
    "            'rs_arcsec' : 10.0,\n",
    "            'keys_to_append' : ['zPhoto_Corr','ra','dec','wiseID','w1mCorr','w2mCorr'],\n",
    "            'pre_filter' : None,\n",
    "            'post_filter' : None,\n",
    "        },\n",
    "        'twoMPZ' : {\n",
    "            'use' : 'extcats',\n",
    "            'rs_arcsec' : 10.0,\n",
    "            'keys_to_append' : ['zPhoto','ra','dec','zSpec'],\n",
    "            'pre_filter' : None,\n",
    "            'post_filter' : None,\n",
    "        },\n",
    "         'PS1_photoz' : {\n",
    "            'use' : 'extcats',\n",
    "            'rs_arcsec' : 10.0,\n",
    "            'keys_to_append' : ['raMean','decMean','z_phot','z_photErr', 'z_phot0', '_2'],\n",
    "            'pre_filter' : None,\n",
    "            'post_filter' : None,\n",
    "        },\n",
    "    }\n",
    "}"
   ]
  },
  {
   "cell_type": "code",
   "execution_count": null,
   "id": "18c61fd5",
   "metadata": {},
   "outputs": [],
   "source": [
    "# New, new, also with all categories?\n",
    "ampelz_conf = {\n",
    "    \"max_redshift_category\" : 7,\n",
    "    \"t2_dependency\": [\n",
    "        {\n",
    "            \"unit\": \"T2CatalogMatch\",\n",
    "            \"config\": cat_conf,\n",
    "            \"link_override\": {\n",
    "                'filter': 'PPSFilter', 'sort': 'jd', \"select\": \"first\"\n",
    "                }\n",
    "        },\n",
    "    ]\n",
    "}"
   ]
  },
  {
   "cell_type": "code",
   "execution_count": null,
   "id": "1d8f4e10",
   "metadata": {},
   "outputs": [],
   "source": [
    "# T2PhaseLimit: Determine fit region \n",
    "phaselimit_conf = {\n",
    "    \"half_time\": 100,\n",
    "    \"plot_suffix\": \"png\",\n",
    "    \"plot_dir\": workdir,\n",
    "    \"max_flux\": 2000,\n",
    "    \"min_sigma\": 3,\n",
    "    \"risedec_fractions\": [0.5,0.9],\n",
    "    \"tabulator\": [\n",
    "        {\"unit\": \"ZTFT2Tabulator\"}\n",
    "    ],\n",
    "    \n",
    "}"
   ]
  },
  {
   "cell_type": "code",
   "execution_count": null,
   "id": "c878fcd9",
   "metadata": {},
   "outputs": [],
   "source": [
    "sncosmo_conf = {\n",
    "    \"sncosmo_model_name\" : \"salt2\",\n",
    "    \"redshift_kind\" : 'T2DigestRedshifts',\n",
    "    \"max_ampelz_group\" : 7,      # For this purpose we use any available redshift\n",
    "    \"t2_dependency\": [\n",
    "        {\n",
    "            \"unit\": \"T2DigestRedshifts\",\n",
    "            \"config\": ampelz_conf,\n",
    "        },\n",
    "    ], \n",
    "    \"tabulator\": [\n",
    "        {\"unit\": \"ZTFT2Tabulator\"}\n",
    "    ],\n",
    "    \"plot_props\": {\n",
    "        \"tags\": [\"SALT\", \"SNCOSMO\"],\n",
    "        \"file_name\": {\n",
    "            \"format_str\": \"%s_%s_%s.svg\",\n",
    "            \"arg_keys\": [\"stock\", \"model\", \"redshift_kind\"]\n",
    "        },\n",
    "        \"title\": {\n",
    "            \"format_str\": \"%s %s %s\",\n",
    "            \"arg_keys\": [\"stock\", \"model\", \"redshift_kind\"]\n",
    "        },\n",
    "        \"fig_text\": {\n",
    "            \"format_str\": \"%s %s \\nz-source %s \\nchisq %.2f ndof %s\",\n",
    "            \"arg_keys\": [\"stock\", \"model\", \"redshift_kind\", \"chisq\", \"ndof\"]\n",
    "        },\n",
    "        \"width\": 10,\n",
    "        \"height\": 6,\n",
    "        \"id_mapper\": \"ZTFIdMapper\",\n",
    "        \"disk_save\": workdir,\n",
    "    }\n",
    "}"
   ]
  },
  {
   "cell_type": "code",
   "execution_count": null,
   "id": "f16c6c57",
   "metadata": {},
   "outputs": [],
   "source": [
    "directives = [\n",
    "        {\n",
    "            \"channel\": channel,\n",
    "            \"filter\": {\n",
    "                \"unit\": \"RcfFilter\",\n",
    "                \"config\": filter_config,\n",
    "                \"on_stock_match\": 'bypass',\n",
    "            },\n",
    "            \"ingest\": {\n",
    "                \"mux\": {\n",
    "                    \"unit\": \"ZiArchiveMuxer\",\n",
    "                    \"config\": {\n",
    "                        \"history_days\": 999,\n",
    "                        \"future_days\": 999\n",
    "                    },\n",
    "                    \"combine\": [\n",
    "                        {\n",
    "                            \"unit\": \"ZiT1Combiner\",\n",
    "                            \"state_t2\": [\n",
    "                                {\n",
    "                                    \"unit\": \"T2DigestRedshifts\",\n",
    "                                    \"config\": ampelz_conf,\n",
    "                                },\n",
    "                                {\n",
    "                                    \"unit\": \"T2MatchBTS\",\n",
    "                                },\n",
    "                                {\n",
    "                                    \"unit\": \"T2PhaseLimit\",\n",
    "                                    \"config\": phaselimit_conf,\n",
    "                                },\n",
    "                                {\n",
    "                                    \"unit\": \"T2RunSncosmo\",\n",
    "                                    \"config\": sncosmo_conf,\n",
    "                                },                            \n",
    "                            ]\n",
    "                        }\n",
    "                    ],\n",
    "                    \"insert\": {\n",
    "                        \"point_t2\": [\n",
    "                            {\n",
    "                                'unit': 'T2CatalogMatch',\n",
    "                                'config': cat_conf,\n",
    "                                \"ingest\": {\n",
    "                                    'filter': 'PPSFilter', 'sort': 'jd', 'select': 'first'\n",
    "                                }\n",
    "                            },\n",
    "                        ],\n",
    "                    }\n",
    "\n",
    "                }\n",
    "            }\n",
    "        }\n",
    "    ]"
   ]
  },
  {
   "cell_type": "markdown",
   "id": "b577259b",
   "metadata": {},
   "source": [
    "## 5. Initiate an alert processor and process alerts"
   ]
  },
  {
   "cell_type": "code",
   "execution_count": null,
   "id": "20be1594",
   "metadata": {},
   "outputs": [],
   "source": [
    "ITER_MAX = 1000"
   ]
  },
  {
   "cell_type": "code",
   "execution_count": null,
   "id": "ac902db7",
   "metadata": {},
   "outputs": [],
   "source": [
    "loader_config = {'archive':\"https://ampel.zeuthen.desy.de/api/ztf/archive/v3\", \"stream\":resume_token}"
   ]
  },
  {
   "cell_type": "code",
   "execution_count": null,
   "id": "df0fe667",
   "metadata": {},
   "outputs": [],
   "source": [
    "ac = ctx.new_context_unit(\n",
    "    unit = \"AlertConsumer\",\n",
    "    process_name = \"AP_test\",\n",
    "    iter_max = ITER_MAX,\n",
    "    log_profile = os.environ.get('log_profile', 'debug'),\n",
    "    shaper = \"ZiDataPointShaper\",\n",
    "    compiler_opts = \"ZiCompilerOptions\",\n",
    "    supplier = {\n",
    "        \"unit\": \"ZiAlertSupplier\",\n",
    "        'config': {\n",
    "            'deserialize': None,\n",
    "            'loader': {\n",
    "                'unit': 'ZTFArchiveAlertLoader',\n",
    "                'config': loader_config\n",
    "            }\n",
    "        }\n",
    "    },\n",
    "    directives = directives\n",
    ")\n"
   ]
  },
  {
   "cell_type": "code",
   "execution_count": null,
   "id": "a07a10c9",
   "metadata": {},
   "outputs": [],
   "source": [
    "n = ac.run()"
   ]
  },
  {
   "cell_type": "code",
   "execution_count": null,
   "id": "1ac481bc",
   "metadata": {},
   "outputs": [],
   "source": [
    "print(f\"{n} alerts processed for channel {channel}\")"
   ]
  },
  {
   "cell_type": "markdown",
   "id": "8b6cb4e1",
   "metadata": {},
   "source": [
    "## 6. Process T2 tickets \n",
    "\n",
    "A number of alerts passed the filter criteria. For these, the additional module computations configured above were scheduled for computation. We will now carry out these operations. "
   ]
  },
  {
   "cell_type": "code",
   "execution_count": null,
   "id": "8d9895f4",
   "metadata": {},
   "outputs": [],
   "source": [
    "t2w = ctx.new_context_unit(\n",
    "    unit = 'T2Worker',\n",
    "    process_name = 'T2Processor_test',\n",
    "    log_profile = os.environ.get('log_profile', 'default')\n",
    ")"
   ]
  },
  {
   "cell_type": "code",
   "execution_count": null,
   "id": "29ccd7ce",
   "metadata": {},
   "outputs": [],
   "source": [
    "t2w.run()"
   ]
  },
  {
   "cell_type": "markdown",
   "id": "629c9c8a",
   "metadata": {},
   "source": [
    "## 7. Display out put figures\n",
    "\n",
    "Some of the executed units produced debug figures. These are display here (assuming the hard-coded paths work).\n"
   ]
  },
  {
   "cell_type": "code",
   "execution_count": null,
   "id": "a05e5bc6",
   "metadata": {},
   "outputs": [],
   "source": [
    "from IPython.core.display import SVG\n",
    "import matplotlib.pyplot as plt\n",
    "import matplotlib.image as pim"
   ]
  },
  {
   "cell_type": "code",
   "execution_count": null,
   "id": "f81daeb5",
   "metadata": {},
   "outputs": [],
   "source": [
    "# Phaselimit analysis of lc duration and peak\n",
    "im = pim.imread(workdir+\"/t2phaselimit_232711938.png\")\n",
    "plt.imshow(im)"
   ]
  },
  {
   "cell_type": "code",
   "execution_count": null,
   "id": "82c7f68a",
   "metadata": {},
   "outputs": [],
   "source": [
    "# SALT2 (SNIa) model fit to the data, using the redshift found from catalogs\n",
    "SVG(filename=workdir+\"/ZTF19abfvnns_salt2_T2DigestRedshifts.svg\")"
   ]
  },
  {
   "cell_type": "markdown",
   "id": "ce531f5b",
   "metadata": {},
   "source": [
    "## 8. Store output\n",
    "\n",
    "T3 units parses the full DB content. The sample unit prints selected properties to an external file. "
   ]
  },
  {
   "cell_type": "code",
   "execution_count": null,
   "id": "7af40940",
   "metadata": {},
   "outputs": [],
   "source": [
    "table_config =  {\n",
    "                                        'table_schema' : {\n",
    "                                            'T2DigestRedshifts': {\n",
    "                                                'Ampel z' : ['ampel_z'],\n",
    "                                                'Ampel z group' : ['group_z_nbr'],\n",
    "                                                'Ampel distance' :['ampel_dist'],\n",
    "                                            },\n",
    "                                            'T2RunSncosmo' : {\n",
    "                                                'Peak B abs mag' : ['fit_metrics','restpeak_model_absmag_B'],\n",
    "                                                'SALT2 X1' : ['sncosmo_result','paramdict','x1'],\n",
    "                                                'SALT2 X1 (err)' : ['sncosmo_result','errors','x1'],\n",
    "                                                'SALT2 Color' : ['sncosmo_result','paramdict','c'],\n",
    "                                                'SALT2 Color (err)' : ['sncosmo_result','errors','c'],\n",
    "                                                'Pulls around peak' : ['fit_metrics','absmean_peak_pull'],\n",
    "                                                'Det. around peak' : ['fit_metrics','nbr_peak_pulls'],\n",
    "                                            },\n",
    "                                            'T2MatchBTS' : {\n",
    "                                                'Type' : ['bts_type'],\n",
    "                                                'IAU ID': ['bts_IAUID'],\n",
    "                                            },\n",
    "                                            'T2PhaseLimit' : {\n",
    "                                                'Peak time' : ['t_peak'],\n",
    "                                                'Est duration': ['t_masked_duration'],\n",
    "                                                'Risetime g (0.5)': ['t_risedec','risedec_ztfg', 'rise_0.5'],\n",
    "                                                'Falltime g (0.5)': ['t_risedec','risedec_ztfg', 'fall_0.5'],\n",
    "                                                'Risetime r (0.5)': ['t_risedec','risedec_ztfr', 'rise_0.5'],\n",
    "                                                'Falltime r (0.5)': ['t_risedec','risedec_ztfr', 'fall_0.5'],\n",
    "                                            },\n",
    "                                            \n",
    "                                        },\n",
    "                                        'transient_table_schema' : {\n",
    "                                            \n",
    "                                            \n",
    "                                        },\n",
    "                                        'include_stock' : True,\n",
    "                                        'include_channels' : True,\n",
    "                                        'fmt' : 'csv',\n",
    "                                        'local_path' : workdir\n",
    "                                    }"
   ]
  },
  {
   "cell_type": "code",
   "execution_count": null,
   "id": "be81eaff",
   "metadata": {},
   "outputs": [],
   "source": [
    "t3p = ctx.new_context_unit(\n",
    "    process_name = \"TablePrint\",\n",
    "    unit = \"T3Processor\",\n",
    "    execute = [\n",
    "        {\n",
    "            \"unit\": \"T3ReviewUnitExecutor\",\n",
    "            \"config\": {\n",
    "                \"supply\": {\n",
    "                    \"unit\": \"T3DefaultBufferSupplier\",\n",
    "                    \"config\": {\n",
    "                        \"select\": {\n",
    "                            \"unit\": \"T3StockSelector\",\n",
    "                            \"config\": {\"channel\": channel}\n",
    "                        },\n",
    "                        \"load\": {\n",
    "                            \"unit\": \"T3SimpleDataLoader\",\n",
    "                            \"config\": {\n",
    "                                \"directives\": [\"STOCK\", \"T1\", \"T2DOC\"],\n",
    "                                \"channel\": channel\n",
    "                            }\n",
    "                        }\n",
    "                     }\n",
    "                },\n",
    "                \"stage\" : {\n",
    "                    \"unit\": \"T3SimpleStager\",\n",
    "                    \"config\": {\n",
    "                        \"execute\": [\n",
    "                            {\n",
    "                                \"unit\": \"TransientTablePublisher\",\n",
    "                                \"config\": table_config\n",
    "                            }\n",
    "                        ]\n",
    "                    }\n",
    "                }\n",
    "            }\n",
    "        }\n",
    "    ]\n",
    ")"
   ]
  },
  {
   "cell_type": "code",
   "execution_count": null,
   "id": "aaff4530",
   "metadata": {},
   "outputs": [],
   "source": [
    "t3p.run()"
   ]
  },
  {
   "cell_type": "code",
   "execution_count": null,
   "id": "31e32b99",
   "metadata": {},
   "outputs": [],
   "source": [
    "import pandas as pd"
   ]
  },
  {
   "cell_type": "code",
   "execution_count": null,
   "id": "4c9ced65",
   "metadata": {},
   "outputs": [],
   "source": [
    "df = pd.read_csv(workdir+'/TransientTable.csv')"
   ]
  },
  {
   "cell_type": "code",
   "execution_count": null,
   "id": "bb16a49b",
   "metadata": {},
   "outputs": [],
   "source": [
    "df"
   ]
  },
  {
   "cell_type": "code",
   "execution_count": null,
   "id": "680d1854",
   "metadata": {},
   "outputs": [],
   "source": []
  }
 ],
 "metadata": {
  "kernelspec": {
   "display_name": "Python 3 (ipykernel)",
   "language": "python",
   "name": "python3"
  },
  "language_info": {
   "codemirror_mode": {
    "name": "ipython",
    "version": 3
   },
   "file_extension": ".py",
   "mimetype": "text/x-python",
   "name": "python",
   "nbconvert_exporter": "python",
   "pygments_lexer": "ipython3",
   "version": "3.10.13"
  }
 },
 "nbformat": 4,
 "nbformat_minor": 5
}
