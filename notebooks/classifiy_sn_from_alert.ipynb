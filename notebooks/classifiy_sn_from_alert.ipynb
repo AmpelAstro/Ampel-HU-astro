{
 "cells": [
  {
   "cell_type": "markdown",
   "id": "d490fdc1-0766-4f68-83a4-1f632ab679da",
   "metadata": {},
   "source": [
    "This notebook will:\n",
    "- Download ZTF alerts for a named SN from the DESY archive.\n",
    "- Load a set of AMPEL feature extraction and ML classification units.\n",
    "- Apply these to each phase of the transient, using an assumbed redshift.\n",
    "- Plot the evolution of SNIa probability provided by each classifier."
   ]
  },
  {
   "cell_type": "code",
   "execution_count": null,
   "id": "d074219e-349c-463b-9c2f-4507e3abce85",
   "metadata": {},
   "outputs": [],
   "source": [
    "# Name (ZTF ID) of transient and redshift to use (when relevant)\n",
    "#snname = \"ZTF20aaumsrr\"  # Ia\n",
    "#snname = \"ZTF24abhgzjl\"  # Ia\n",
    "#snname = \"ZTF24abiesnr\" # Ibn\n",
    "#z_assumed = 0.063\n",
    "\n",
    "# Objects from ZTF experiment\n",
    "snname, z_assumed = \"ZTF24abiaxkd\", 0.07  # SNII\n",
    "#snname, z_assumed = \"ZTF24abiesnr\", 0.07  # SNIbn\n",
    "#snname, z_assumed = \"ZTF24abikstg\", 0.07  # SNIc\n",
    "\n",
    "\n",
    "\n"
   ]
  },
  {
   "cell_type": "code",
   "execution_count": null,
   "id": "f4fb5a96-94bd-4902-bd52-6017d5da5a4f",
   "metadata": {},
   "outputs": [],
   "source": [
    "import os\n",
    "import requests\n",
    "import warnings\n",
    "warnings.filterwarnings('ignore')\n",
    "\n",
    "# Plotting\n",
    "import matplotlib.pyplot as plt\n",
    "from IPython.core.display import Image, display\n",
    "import seaborn as sns/home/jnordin/data/ztf_ipacfp/septemberexperiment\n",
    "import numpy as np\n",
    "\n",
    "# Base AMPEL tools\n",
    "from ampel.log.AmpelLogger import AmpelLogger\n",
    "from ampel.content.T1Document import T1Document \n",
    "from ampel.dev.DevAmpelContext import DevAmpelContext\n",
    "from ampel_notebook_utils import api_get_datapoints\n",
    "\n",
    "# Units linking to feature extraction and ML algorithms\n",
    "from ampel.contrib.hu.t2.T2RunParsnipRiseDecline import T2RunParsnipRiseDecline\n",
    "from ampel.contrib.hu.t2.T2RunParsnipRiseDecline import get_probability_evolution"
   ]
  },
  {
   "cell_type": "code",
   "execution_count": null,
   "id": "b12b7ab1-20ea-435a-9c1a-8c119e84530d",
   "metadata": {},
   "outputs": [],
   "source": []
  },
  {
   "cell_type": "code",
   "execution_count": null,
   "id": "b5df192e-96d4-4495-b6f6-21aaed1b0d6d",
   "metadata": {},
   "outputs": [],
   "source": [
    "# Path to AMPEL configuration file\n",
    "AMPEL_CONF = '/home/jnordin/github/ampelNov24/Ampel-HU-astro/ampel_conf.yaml'\n",
    "# Personal access token to the DESY ZTF archive\n",
    "token = os.environ[\"ARCHIVE_TOKEN\"]"
   ]
  },
  {
   "cell_type": "code",
   "execution_count": null,
   "id": "750e1068-f54d-4084-b790-98aab8401dc1",
   "metadata": {},
   "outputs": [],
   "source": [
    "# Parse the system for paths to analysis units\n",
    "ctx = DevAmpelContext.load(\n",
    "    config = AMPEL_CONF,\n",
    "    db_prefix = 'dumpme',\n",
    "    purge_db = True,\n",
    ")"
   ]
  },
  {
   "cell_type": "markdown",
   "id": "9dea234b-0441-4332-9c94-6848ee03218d",
   "metadata": {},
   "source": [
    "### Obtain data from archive"
   ]
  },
  {
   "cell_type": "code",
   "execution_count": null,
   "id": "b1b6f374-b356-4f57-a93d-f4dd99263f85",
   "metadata": {},
   "outputs": [],
   "source": [
    "dps = api_get_datapoints(snname, token)\n",
    "print(f'Found {len(dps)} datapoints')"
   ]
  },
  {
   "cell_type": "code",
   "execution_count": null,
   "id": "29f9df58-c5bd-407f-b159-4869a0af84d2",
   "metadata": {},
   "outputs": [],
   "source": [
    "# Make sure datapoints sorted according to increasing time \n",
    "dps = sorted(dps, key=lambda x: x['body']['jd'])"
   ]
  },
  {
   "cell_type": "code",
   "execution_count": null,
   "id": "d7f10256-2575-4bf0-9673-9d7a5fefc87d",
   "metadata": {},
   "outputs": [],
   "source": [
    "# Record detection date for plotting\n",
    "jddet = min([dp['body']['jd'] for dp in dps if 'magpsf' in dp['body']])\n",
    "print(f'First detected at JD {jddet}')"
   ]
  },
  {
   "cell_type": "markdown",
   "id": "39ed5402-5a5b-4e00-be74-634b3d8a928b",
   "metadata": {},
   "source": [
    "### Configure and loading classifiers"
   ]
  },
  {
   "cell_type": "code",
   "execution_count": null,
   "id": "6d27c9ae-242a-486f-a21d-c10395cf8e86",
   "metadata": {},
   "outputs": [],
   "source": [
    "# This configuration file is provided in full\n",
    "# It lists the detailed descrpiptor of all classifiers to use, including local paths to \n",
    "# classifier input files.\n",
    "rdp_config = { \n",
    "   'classifier_name': 'rdp',\n",
    "   'classifier_version': \"0.1\",\n",
    "   't_cadence': 3.,\n",
    "   'significant_bands': ['ztfg',  'ztfr', 'ztfi'],\n",
    "   'paths_parsnip': {\n",
    "       'snlong': {\n",
    "                'model': '/home/jnordin/data/parsnip/parsnip_ps1_ztf.pt',\n",
    "                'classifier': '/home/jnordin/data/parsnip/ztf_classifier.pkl',\n",
    "       }\n",
    "    },\n",
    "    'paths_xgbmulti': {\n",
    "        'sample1': {\n",
    "            'path': '/home/jnordin/data/noiztf/v240809/xgb_models/model_sn_long_sample1',\n",
    "            'classes': [ \"slsn\", \"snia\", \"snibc\", \"snii\", \"sniin\" ],\n",
    "        },\n",
    "        'later': {\n",
    "            'path': '/home/jnordin/github/ampelJul24/Ampel-HU-astro/scripts/risedecline_sets_v2/late/models_multivar/sn_long/model_sn_long',\n",
    "            'classes': [ \"slsn\", \"snia\", \"snibc\", \"snii\", \"sniin\" ],\n",
    "        },\n",
    "        'early': {\n",
    "            'path': '/home/jnordin/github/ampelJul24/Ampel-HU-astro/scripts/risedecline_sets_v2/early/models_multivar/sn_long/model_sn_long',\n",
    "            'classes': [ \"slsn\", \"snia\", \"snibc\", \"snii\", \"sniin\" ],\n",
    "        },\n",
    "        'last_parsnip': {\n",
    "            'path': '/home/jnordin/github/ampelJul24/Ampel-HU-astro/scripts/risedecline_sets_v2/lastalert/pa/models_multivar/sn_long/model_sn_long',\n",
    "            'classes': [ \"slsn\", \"snia\", \"snibc\", \"snii\", \"sniin\" ],\n",
    "        },\n",
    "        'last_risedec': {\n",
    "            'path': '/home/jnordin/github/ampelJul24/Ampel-HU-astro/scripts/risedecline_sets_v2/lastalert/rd/models_multivar/sn_long/model_sn_long',\n",
    "            'classes': [ \"slsn\", \"snia\", \"snibc\", \"snii\", \"sniin\" ],\n",
    "        },\n",
    "        'last_prd': {\n",
    "            'path': '/home/jnordin/github/ampelJul24/Ampel-HU-astro/scripts/risedecline_sets_v2/lastalert/rdp/models_multivar/sn_long/model_sn_long',\n",
    "            'classes': [ \"slsn\", \"snia\", \"snibc\", \"snii\", \"sniin\" ],\n",
    "        }\n",
    "    },\n",
    "    'paths_xgbbinary': {},\n",
    "    'parsnip_zeropoint_offset': 0,\n",
    "    'add_parsnip_from': 'snlong', \n",
    "    'parsnipplot_suffix': 'png',\n",
    "    'parsnipplot_dir': '/home/jnordin/tmp/ztfparsnip_fp',\n",
    "    'fixed_z': z_assumed,\n",
    "    'redshift_kind': None,\n",
    "    'return_features': True,\n",
    "    'tabulator': [ {'unit': 'ZTFT2Tabulator'} ],                \n",
    "    't2_dependency': [],\n",
    "}"
   ]
  },
  {
   "cell_type": "code",
   "execution_count": null,
   "id": "7d863f2c-85d9-4246-b56c-2c4c28702e78",
   "metadata": {},
   "outputs": [],
   "source": [
    "# Model/result labeling corresponding to the above, used while plotting.\n",
    "classlabeling = {\n",
    "    'Parsnip': {'targetname': 'SNIa', 'model': 'parsnip', 'training': 'snlong' },\n",
    "    'XRDSampling': {'targetname': 'snia', 'model': 'xgbmulti', 'training': 'sample1' },    \n",
    "    'XRDPostpeak': {'targetname': 'snia', 'model': 'xgbmulti', 'training': 'later' },    \n",
    "    'XRDEarly': {'targetname': 'snia', 'model': 'xgbmulti', 'training': 'early' },    \n",
    "    'XParsnipLast': {'targetname': 'snia', 'model': 'xgbmulti', 'training': 'last_parsnip' },    \n",
    "    'XRDLast': {'targetname': 'snia', 'model': 'xgbmulti', 'training': 'last_risedec' },    \n",
    "    'XRDPLast': {'targetname': 'snia', 'model': 'xgbmulti', 'training': 'last_prd' },    \n",
    "}"
   ]
  },
  {
   "cell_type": "code",
   "execution_count": null,
   "id": "752e17b8-594e-4bf0-8f21-de4fb8f10d57",
   "metadata": {},
   "outputs": [],
   "source": [
    "# Load base classifier unit \n",
    "t2unit = T2RunParsnipRiseDecline( **rdp_config, logger=AmpelLogger.get_logger() )"
   ]
  },
  {
   "cell_type": "code",
   "execution_count": null,
   "id": "c098baf8-10d3-48da-b6fa-98c9e279f550",
   "metadata": {},
   "outputs": [],
   "source": [
    "# Read classifier files \n",
    "t2unit.post_init()"
   ]
  },
  {
   "cell_type": "markdown",
   "id": "caeb0dcf-96b6-43ff-862e-0a362245eb94",
   "metadata": {},
   "source": [
    "### Run classifiers.\n",
    "Loop through each dp, gradually increase dps range and study evolution of probability. "
   ]
  },
  {
   "cell_type": "code",
   "execution_count": null,
   "id": "eaebdf1c-b534-483a-9eed-0afda2524cb8",
   "metadata": {
    "scrolled": true
   },
   "outputs": [],
   "source": [
    "classifier_results = []\n",
    "for k in range(len(dps)):\n",
    "    if not 'magpsf' in dps[k]['body']:\n",
    "        continue\n",
    "    print(\"Alert {} @ JD {}\".format(k, dps[k]['body']['jd'] ))\n",
    "    classifier_results.append( t2unit.process(T1Document(stock=dps[0]['stock'], link=0), dps[0:k+1], t2_views=[]) )\n"
   ]
  },
  {
   "cell_type": "markdown",
   "id": "51b1dd2d-5dd4-4a25-b588-f6ab1b24e5fc",
   "metadata": {},
   "source": [
    "### Plot results "
   ]
  },
  {
   "cell_type": "code",
   "execution_count": null,
   "id": "5065b112-961a-4c5e-8dc8-489b38daf1da",
   "metadata": {
    "scrolled": true
   },
   "outputs": [],
   "source": [
    "_ = plt.figure(1,figsize=(12,12))\n",
    "\n",
    "fig, axs = plt.subplots(2, 1, sharex=True)\n",
    "fig.subplots_adjust(hspace=0)\n",
    "\n",
    "plt.subplot(2,1,1)\n",
    "\n",
    "plt.title( snname )\n",
    "\n",
    "# g\n",
    "phot = np.array( [\n",
    "            (dp['body']['jd']-jddet,dp['body']['magpsf'],dp['body']['sigmapsf']) \n",
    "            for dp in dps if 'magpsf' in dp['body'] and dp['body']['fid']==1 \n",
    "])\n",
    "if len(phot)>0:\n",
    "    ax = sns.lineplot(x=phot[:,0],y=phot[:,1], label='ZTF g', color='green')\n",
    "    ax.errorbar(phot[:,0], phot[:,1], yerr=phot[:,2], fmt='o', color='k', alpha=0.5)\n",
    "\n",
    "# R\n",
    "phot = np.array( [\n",
    "            (dp['body']['jd']-jddet,dp['body']['magpsf'],dp['body']['sigmapsf']) \n",
    "            for dp in dps if 'magpsf' in dp['body'] and dp['body']['fid']==2 \n",
    "])\n",
    "if len(phot)>0:\n",
    "    ax = sns.lineplot(x=phot[:,0],y=phot[:,1], label='ZTF R', color='red')\n",
    "    ax.errorbar(phot[:,0], phot[:,1], yerr=phot[:,2], fmt='o', color='k', alpha=0.5)\n",
    "\n",
    "# i\n",
    "phot = np.array( [\n",
    "            (dp['body']['jd']-jddet,dp['body']['magpsf'],dp['body']['sigmapsf']) \n",
    "            for dp in dps if 'magpsf' in dp['body'] and dp['body']['fid']==3 \n",
    "])\n",
    "if len(phot)>0:\n",
    "    ax = sns.lineplot(x=phot[:,0],y=phot[:,1], label='ZTF i', color='green')\n",
    "    ax.errorbar(phot[:,0], phot[:,1], yerr=phot[:,2], fmt='o', color='k', alpha=0.5)\n",
    "\n",
    "plt.gca().invert_yaxis()\n",
    "plt.xlabel('Time (days wrt to JD {}'.format(jddet))\n",
    "plt.ylabel('Magnitude')\n",
    "\n",
    "\n",
    "plt.subplot(2,1,2)\n",
    "\n",
    "colors = sns.color_palette(n_colors=len(classlabeling))\n",
    "for modellabel, modelkeys in classlabeling.items():\n",
    "    print(modelkeys['targetname'])\n",
    "    print(modelkeys['model'])\n",
    "    print(modelkeys['training'])\n",
    "    t, c = get_probability_evolution( classifier_results, \n",
    "                                     modelkeys['targetname'], modelkeys['model'], \"rdp\", \n",
    "                                     classlabel=modelkeys['training'] )\n",
    "    sns.lineplot(x=[ti-jddet for ti in t],y=c, label=modellabel, color=colors.pop(), linewidth=3, alpha=0.7 )\n",
    "\n",
    "plt.ylabel('{} Probability'.format(\n",
    "    set([v['targetname'] for k,v in classlabeling.items()]) ) \n",
    "          )\n",
    "plt.xlabel('Time (days wrt to JD {})'.format(jddet))\n",
    "\n",
    "_ = plt.legend(loc=1, bbox_to_anchor=(1.32, 1.),\n",
    "          fancybox=False, shadow=False, ncol=1)\n",
    "plt.show()"
   ]
  },
  {
   "cell_type": "code",
   "execution_count": null,
   "id": "8b54fca8-2c0b-4bff-afd3-ba7e95066d99",
   "metadata": {},
   "outputs": [],
   "source": [
    "# Above plot shows results for a SNIa ... change the targetname to pick up another class and rerun plot\n",
    "classlabeling = {\n",
    "    'Parsnip': {'targetname': 'SNII', 'model': 'parsnip', 'training': 'snlong' },\n",
    "    'XRDSampling': {'targetname': 'snii', 'model': 'xgbmulti', 'training': 'sample1' },    \n",
    "    'XRDPostpeak': {'targetname': 'snii', 'model': 'xgbmulti', 'training': 'later' },    \n",
    "    'XRDEarly': {'targetname': 'snii', 'model': 'xgbmulti', 'training': 'early' },    \n",
    "    'XParsnipLast': {'targetname': 'snii', 'model': 'xgbmulti', 'training': 'last_parsnip' },    \n",
    "    'XRDLast': {'targetname': 'snii', 'model': 'xgbmulti', 'training': 'last_risedec' },    \n",
    "    'XRDPLast': {'targetname': 'snii', 'model': 'xgbmulti', 'training': 'last_prd' },    \n",
    "}\n"
   ]
  },
  {
   "cell_type": "code",
   "execution_count": null,
   "id": "81668955-f957-49be-8d05-3e76fcaa3567",
   "metadata": {},
   "outputs": [],
   "source": [
    "# Above plot shows results for a SNIa ... change the targetname to pick up another class and rerun plot\n",
    "classlabeling = {\n",
    "    'Parsnip': {'targetname': 'SNIbc', 'model': 'parsnip', 'training': 'snlong' },\n",
    "    'XRDSampling': {'targetname': 'snibc', 'model': 'xgbmulti', 'training': 'sample1' },    \n",
    "    'XRDPostpeak': {'targetname': 'snibc', 'model': 'xgbmulti', 'training': 'later' },    \n",
    "    'XRDEarly': {'targetname': 'snibc', 'model': 'xgbmulti', 'training': 'early' },    \n",
    "    'XParsnipLast': {'targetname': 'snibc', 'model': 'xgbmulti', 'training': 'last_parsnip' },    \n",
    "    'XRDLast': {'targetname': 'snibc', 'model': 'xgbmulti', 'training': 'last_risedec' },    \n",
    "    'XRDPLast': {'targetname': 'snibc', 'model': 'xgbmulti', 'training': 'last_prd' },    \n",
    "}"
   ]
  },
  {
   "cell_type": "code",
   "execution_count": null,
   "id": "5d0c808c-1109-432f-95a0-42c87f2c221f",
   "metadata": {},
   "outputs": [],
   "source": []
  }
 ],
 "metadata": {
  "kernelspec": {
   "display_name": "Python 3 (ipykernel)",
   "language": "python",
   "name": "python3"
  },
  "language_info": {
   "codemirror_mode": {
    "name": "ipython",
    "version": 3
   },
   "file_extension": ".py",
   "mimetype": "text/x-python",
   "name": "python",
   "nbconvert_exporter": "python",
   "pygments_lexer": "ipython3",
   "version": "3.10.15"
  }
 },
 "nbformat": 4,
 "nbformat_minor": 5
}
