{
 "cells": [
  {
   "cell_type": "code",
   "execution_count": 12,
   "metadata": {},
   "outputs": [],
   "source": [
    "import numpy as np\n",
    "import pandas as pd\n",
    "import os, sys\n",
    "\n",
    "import json\n",
    "\n",
    "import plotly.graph_objects as go"
   ]
  },
  {
   "cell_type": "code",
   "execution_count": 25,
   "metadata": {},
   "outputs": [],
   "source": [
    "data_dir = \"/mnt/c/Users/Public/Documents/Uni/master/masterarbeit/ampel/ampel-results/random/TransientTable\"\n",
    "\n",
    "data_files = [file for file in os.listdir(data_dir) if \".csv\" in file and \"~lock\" not in file]\n",
    "\n",
    "total_dataframe = pd.DataFrame()\n",
    "for datafile in data_files:\n",
    "    tmp_df = pd.read_csv(os.path.join(data_dir, datafile), sep=\";\")\n",
    "    total_dataframe = pd.concat((total_dataframe, tmp_df))\n",
    "\n",
    "\n",
    "total_entries = len(total_dataframe)"
   ]
  },
  {
   "cell_type": "code",
   "execution_count": 14,
   "metadata": {},
   "outputs": [],
   "source": [
    "def jsonify(string: str):\n",
    "    if type(string) != str:\n",
    "        return \"\"\n",
    "    tmp_str = string.replace(\"'\", '\"')\n",
    "    tmp_str = tmp_str.replace(\"None\", \"null\")\n",
    "    tmp_str = tmp_str.replace(\"True\", \"true\")\n",
    "    tmp_str = tmp_str.replace(\"False\", \"false\")\n",
    "\n",
    "    return tmp_str"
   ]
  },
  {
   "cell_type": "code",
   "execution_count": 24,
   "metadata": {},
   "outputs": [
    {
     "name": "stdout",
     "output_type": "stream",
     "text": [
      "{'ndet': 1, 'frac_pos': 1.0, 'jd_det': 2458735.0098727, 'jd_last': 2458735.0098727, 't_lc': 0.0, 't_predetect': None, 'mag_det': 19.657461166381836, 'band_det_id': 64, 'mag_last': 19.657461166381836, 'band_last_id': 64, 'mag_min': 19.657461166381836, 'bool_pure': True, 'jd_peak_ztfg': 2458735.0098727, 'bool_rise': False, 'bool_fall': False, 'bool_peaked': False, 'bool_fastrise': None, 'bool_fastfall': None, 'bool_hasgaps': None, 'det_bands': 64, 'last_bands': 64, 'success': True}\n",
      "4507\n",
      "1849\n"
     ]
    }
   ],
   "source": [
    "\n",
    "\n",
    "#print(total_dataframe.head())\n",
    "\n",
    "\n",
    "pos_rowslist_dict = {\"bns_maurice_1\": [], \"bns_maurice_2\": [], \"bns_maurice_3\": [], \"bns_maurice_4\": []}\n",
    "\n",
    "rowslist = []\n",
    "for k, row in total_dataframe.iterrows():\n",
    "    dec_str = jsonify(row[\"rise_decline\"])\n",
    "    #print(tmp_str)\n",
    "    dec_dict = json.loads(dec_str)\n",
    "    #print(dec_dict)\n",
    "\n",
    "    rowslist.append(dec_dict)\n",
    "\n",
    "    #print(row[\"chisquares\"])\n",
    "    pos_str = jsonify(row[\"chisquares\"])\n",
    "    if pos_str != \"\":\n",
    "        pos_dict = json.loads(pos_str)\n",
    "        #print(pos_dict)\n",
    "        for key, value in pos_dict.items():\n",
    "            value[\"ndet\"] = dec_dict[\"ndet\"]\n",
    "            value[\"latest_det\"] = dec_dict[\"jd_last\"]\n",
    "            value[\"first_det\"] = dec_dict[\"jd_det\"]\n",
    "            value[\"kilonovaness\"] = row[\"kilonovaness\"]\n",
    "            value[\"map_seed\"] = row[\"map_seed\"]\n",
    "            value[\"map_dist\"] = row[\"map_dist\"]\n",
    "            value[\"map_area\"] = row[\"map_area\"]\n",
    "            if value[\"ndof\"] > 0:\n",
    "                value[\"red_chisqu\"] = value[\"chisq\"] / value[\"ndof\"]\n",
    "            else:\n",
    "                value[\"red_chisqu\"] = -999\n",
    "            pos_rowslist_dict[key].append(value)\n",
    "    #print(row[\"rise_decline\"][\"ndet\"])\n",
    "\n",
    "print(rowslist[0])\n",
    "print(len(rowslist))\n",
    "pos_df_dict = {}\n",
    "for key in pos_rowslist_dict:\n",
    "    pos_df_dict[key] = pd.DataFrame(pos_rowslist_dict[key]).sort_values(by=\"ndet\")\n",
    "\n",
    "print(len(pos_df_dict[key]))"
   ]
  },
  {
   "cell_type": "code",
   "execution_count": 26,
   "metadata": {},
   "outputs": [
    {
     "name": "stdout",
     "output_type": "stream",
     "text": [
      "bins: [  0.8          6.02105263  11.24210526  16.46315789  21.68421053\n",
      "  26.90526316  32.12631579  37.34736842  42.56842105  47.78947368\n",
      "  53.01052632  58.23157895  63.45263158  68.67368421  73.89473684\n",
      "  79.11578947  84.33684211  89.55789474  94.77894737 100.        ]\n",
      "% entries with fit: bns_maurice_1 :  0.4102507211005103\n",
      "ndof > 0: 798 is 17.70579099179055 %\n",
      "% entries with fit: bns_maurice_2 :  0.4102507211005103\n",
      "ndof > 0: 798 is 17.70579099179055 %\n",
      "% entries with fit: bns_maurice_3 :  0.4102507211005103\n",
      "ndof > 0: 798 is 17.70579099179055 %\n",
      "% entries with fit: bns_maurice_4 :  0.4102507211005103\n",
      "ndof > 0: 798 is 17.70579099179055 %\n"
     ]
    },
    {
     "data": {
      "application/vnd.plotly.v1+json": {
       "config": {
        "plotlyServerURL": "https://plot.ly"
       },
       "data": [
        {
         "name": "bns_maurice_1",
         "type": "bar",
         "x": [
          0.8,
          6.021052631578947,
          11.242105263157896,
          16.46315789473684,
          21.68421052631579,
          26.90526315789474,
          32.126315789473686,
          37.34736842105263,
          42.56842105263158,
          47.78947368421053,
          53.01052631578948,
          58.23157894736842,
          63.45263157894737,
          68.67368421052632,
          73.89473684210526,
          79.11578947368422,
          84.33684210526316,
          89.5578947368421,
          94.77894736842106,
          100
         ],
         "y": [
          0.05678745267712277,
          0.03299080584099513,
          0.02650081124932396,
          0.017847485127095726,
          0.017306652244456464,
          0.011357490535424553,
          0.007030827474310438,
          0.006489994591671174,
          0.006489994591671174,
          0.003244997295835587,
          0.0016224986479177934,
          0,
          0.003244997295835587,
          0.0005408328826392645,
          0.0005408328826392645,
          0,
          0.001081665765278529,
          0.0005408328826392645,
          0.0005408328826392645
         ]
        },
        {
         "name": "bns_maurice_2",
         "type": "bar",
         "x": [
          0.8,
          6.021052631578947,
          11.242105263157896,
          16.46315789473684,
          21.68421052631579,
          26.90526315789474,
          32.126315789473686,
          37.34736842105263,
          42.56842105263158,
          47.78947368421053,
          53.01052631578948,
          58.23157894736842,
          63.45263157894737,
          68.67368421052632,
          73.89473684210526,
          79.11578947368422,
          84.33684210526316,
          89.5578947368421,
          94.77894736842106,
          100
         ],
         "y": [
          0.056246619794483504,
          0.024337479718766902,
          0.0167658193618172,
          0.02163331530557058,
          0.01568415359653867,
          0.01081665765278529,
          0.011898323418063819,
          0.0075716603569497025,
          0.008653326122228232,
          0.0075716603569497025,
          0.0027041644131963224,
          0.0016224986479177934,
          0.002163331530557058,
          0,
          0.0005408328826392645,
          0.0005408328826392645,
          0.001081665765278529,
          0,
          0.001081665765278529
         ]
        },
        {
         "name": "bns_maurice_3",
         "type": "bar",
         "x": [
          0.8,
          6.021052631578947,
          11.242105263157896,
          16.46315789473684,
          21.68421052631579,
          26.90526315789474,
          32.126315789473686,
          37.34736842105263,
          42.56842105263158,
          47.78947368421053,
          53.01052631578948,
          58.23157894736842,
          63.45263157894737,
          68.67368421052632,
          73.89473684210526,
          79.11578947368422,
          84.33684210526316,
          89.5578947368421,
          94.77894736842106,
          100
         ],
         "y": [
          0.06489994591671173,
          0.04056246619794483,
          0.03299080584099513,
          0.015143320713899405,
          0.011898323418063819,
          0.010275824770146024,
          0.008112493239588967,
          0.004326663061114116,
          0.0037858301784748512,
          0.003244997295835587,
          0.0005408328826392645,
          0,
          0.002163331530557058,
          0,
          0,
          0.0005408328826392645,
          0.001081665765278529,
          0.0005408328826392645,
          0.0005408328826392645
         ]
        },
        {
         "name": "bns_maurice_4",
         "type": "bar",
         "x": [
          0.8,
          6.021052631578947,
          11.242105263157896,
          16.46315789473684,
          21.68421052631579,
          26.90526315789474,
          32.126315789473686,
          37.34736842105263,
          42.56842105263158,
          47.78947368421053,
          53.01052631578948,
          58.23157894736842,
          63.45263157894737,
          68.67368421052632,
          73.89473684210526,
          79.11578947368422,
          84.33684210526316,
          89.5578947368421,
          94.77894736842106,
          100
         ],
         "y": [
          0.08545159545700379,
          0.042725797728501894,
          0.020010816657652784,
          0.016224986479177934,
          0.014602487831260141,
          0.01081665765278529,
          0.009194159004867496,
          0.008653326122228232,
          0.005949161709031909,
          0.004326663061114116,
          0.0037858301784748512,
          0.0016224986479177934,
          0.001081665765278529,
          0,
          0,
          0.0005408328826392645,
          0,
          0.0005408328826392645,
          0
         ]
        }
       ],
       "layout": {
        "template": {
         "data": {
          "bar": [
           {
            "error_x": {
             "color": "#2a3f5f"
            },
            "error_y": {
             "color": "#2a3f5f"
            },
            "marker": {
             "line": {
              "color": "#E5ECF6",
              "width": 0.5
             },
             "pattern": {
              "fillmode": "overlay",
              "size": 10,
              "solidity": 0.2
             }
            },
            "type": "bar"
           }
          ],
          "barpolar": [
           {
            "marker": {
             "line": {
              "color": "#E5ECF6",
              "width": 0.5
             },
             "pattern": {
              "fillmode": "overlay",
              "size": 10,
              "solidity": 0.2
             }
            },
            "type": "barpolar"
           }
          ],
          "carpet": [
           {
            "aaxis": {
             "endlinecolor": "#2a3f5f",
             "gridcolor": "white",
             "linecolor": "white",
             "minorgridcolor": "white",
             "startlinecolor": "#2a3f5f"
            },
            "baxis": {
             "endlinecolor": "#2a3f5f",
             "gridcolor": "white",
             "linecolor": "white",
             "minorgridcolor": "white",
             "startlinecolor": "#2a3f5f"
            },
            "type": "carpet"
           }
          ],
          "choropleth": [
           {
            "colorbar": {
             "outlinewidth": 0,
             "ticks": ""
            },
            "type": "choropleth"
           }
          ],
          "contour": [
           {
            "colorbar": {
             "outlinewidth": 0,
             "ticks": ""
            },
            "colorscale": [
             [
              0,
              "#0d0887"
             ],
             [
              0.1111111111111111,
              "#46039f"
             ],
             [
              0.2222222222222222,
              "#7201a8"
             ],
             [
              0.3333333333333333,
              "#9c179e"
             ],
             [
              0.4444444444444444,
              "#bd3786"
             ],
             [
              0.5555555555555556,
              "#d8576b"
             ],
             [
              0.6666666666666666,
              "#ed7953"
             ],
             [
              0.7777777777777778,
              "#fb9f3a"
             ],
             [
              0.8888888888888888,
              "#fdca26"
             ],
             [
              1,
              "#f0f921"
             ]
            ],
            "type": "contour"
           }
          ],
          "contourcarpet": [
           {
            "colorbar": {
             "outlinewidth": 0,
             "ticks": ""
            },
            "type": "contourcarpet"
           }
          ],
          "heatmap": [
           {
            "colorbar": {
             "outlinewidth": 0,
             "ticks": ""
            },
            "colorscale": [
             [
              0,
              "#0d0887"
             ],
             [
              0.1111111111111111,
              "#46039f"
             ],
             [
              0.2222222222222222,
              "#7201a8"
             ],
             [
              0.3333333333333333,
              "#9c179e"
             ],
             [
              0.4444444444444444,
              "#bd3786"
             ],
             [
              0.5555555555555556,
              "#d8576b"
             ],
             [
              0.6666666666666666,
              "#ed7953"
             ],
             [
              0.7777777777777778,
              "#fb9f3a"
             ],
             [
              0.8888888888888888,
              "#fdca26"
             ],
             [
              1,
              "#f0f921"
             ]
            ],
            "type": "heatmap"
           }
          ],
          "heatmapgl": [
           {
            "colorbar": {
             "outlinewidth": 0,
             "ticks": ""
            },
            "colorscale": [
             [
              0,
              "#0d0887"
             ],
             [
              0.1111111111111111,
              "#46039f"
             ],
             [
              0.2222222222222222,
              "#7201a8"
             ],
             [
              0.3333333333333333,
              "#9c179e"
             ],
             [
              0.4444444444444444,
              "#bd3786"
             ],
             [
              0.5555555555555556,
              "#d8576b"
             ],
             [
              0.6666666666666666,
              "#ed7953"
             ],
             [
              0.7777777777777778,
              "#fb9f3a"
             ],
             [
              0.8888888888888888,
              "#fdca26"
             ],
             [
              1,
              "#f0f921"
             ]
            ],
            "type": "heatmapgl"
           }
          ],
          "histogram": [
           {
            "marker": {
             "pattern": {
              "fillmode": "overlay",
              "size": 10,
              "solidity": 0.2
             }
            },
            "type": "histogram"
           }
          ],
          "histogram2d": [
           {
            "colorbar": {
             "outlinewidth": 0,
             "ticks": ""
            },
            "colorscale": [
             [
              0,
              "#0d0887"
             ],
             [
              0.1111111111111111,
              "#46039f"
             ],
             [
              0.2222222222222222,
              "#7201a8"
             ],
             [
              0.3333333333333333,
              "#9c179e"
             ],
             [
              0.4444444444444444,
              "#bd3786"
             ],
             [
              0.5555555555555556,
              "#d8576b"
             ],
             [
              0.6666666666666666,
              "#ed7953"
             ],
             [
              0.7777777777777778,
              "#fb9f3a"
             ],
             [
              0.8888888888888888,
              "#fdca26"
             ],
             [
              1,
              "#f0f921"
             ]
            ],
            "type": "histogram2d"
           }
          ],
          "histogram2dcontour": [
           {
            "colorbar": {
             "outlinewidth": 0,
             "ticks": ""
            },
            "colorscale": [
             [
              0,
              "#0d0887"
             ],
             [
              0.1111111111111111,
              "#46039f"
             ],
             [
              0.2222222222222222,
              "#7201a8"
             ],
             [
              0.3333333333333333,
              "#9c179e"
             ],
             [
              0.4444444444444444,
              "#bd3786"
             ],
             [
              0.5555555555555556,
              "#d8576b"
             ],
             [
              0.6666666666666666,
              "#ed7953"
             ],
             [
              0.7777777777777778,
              "#fb9f3a"
             ],
             [
              0.8888888888888888,
              "#fdca26"
             ],
             [
              1,
              "#f0f921"
             ]
            ],
            "type": "histogram2dcontour"
           }
          ],
          "mesh3d": [
           {
            "colorbar": {
             "outlinewidth": 0,
             "ticks": ""
            },
            "type": "mesh3d"
           }
          ],
          "parcoords": [
           {
            "line": {
             "colorbar": {
              "outlinewidth": 0,
              "ticks": ""
             }
            },
            "type": "parcoords"
           }
          ],
          "pie": [
           {
            "automargin": true,
            "type": "pie"
           }
          ],
          "scatter": [
           {
            "fillpattern": {
             "fillmode": "overlay",
             "size": 10,
             "solidity": 0.2
            },
            "type": "scatter"
           }
          ],
          "scatter3d": [
           {
            "line": {
             "colorbar": {
              "outlinewidth": 0,
              "ticks": ""
             }
            },
            "marker": {
             "colorbar": {
              "outlinewidth": 0,
              "ticks": ""
             }
            },
            "type": "scatter3d"
           }
          ],
          "scattercarpet": [
           {
            "marker": {
             "colorbar": {
              "outlinewidth": 0,
              "ticks": ""
             }
            },
            "type": "scattercarpet"
           }
          ],
          "scattergeo": [
           {
            "marker": {
             "colorbar": {
              "outlinewidth": 0,
              "ticks": ""
             }
            },
            "type": "scattergeo"
           }
          ],
          "scattergl": [
           {
            "marker": {
             "colorbar": {
              "outlinewidth": 0,
              "ticks": ""
             }
            },
            "type": "scattergl"
           }
          ],
          "scattermapbox": [
           {
            "marker": {
             "colorbar": {
              "outlinewidth": 0,
              "ticks": ""
             }
            },
            "type": "scattermapbox"
           }
          ],
          "scatterpolar": [
           {
            "marker": {
             "colorbar": {
              "outlinewidth": 0,
              "ticks": ""
             }
            },
            "type": "scatterpolar"
           }
          ],
          "scatterpolargl": [
           {
            "marker": {
             "colorbar": {
              "outlinewidth": 0,
              "ticks": ""
             }
            },
            "type": "scatterpolargl"
           }
          ],
          "scatterternary": [
           {
            "marker": {
             "colorbar": {
              "outlinewidth": 0,
              "ticks": ""
             }
            },
            "type": "scatterternary"
           }
          ],
          "surface": [
           {
            "colorbar": {
             "outlinewidth": 0,
             "ticks": ""
            },
            "colorscale": [
             [
              0,
              "#0d0887"
             ],
             [
              0.1111111111111111,
              "#46039f"
             ],
             [
              0.2222222222222222,
              "#7201a8"
             ],
             [
              0.3333333333333333,
              "#9c179e"
             ],
             [
              0.4444444444444444,
              "#bd3786"
             ],
             [
              0.5555555555555556,
              "#d8576b"
             ],
             [
              0.6666666666666666,
              "#ed7953"
             ],
             [
              0.7777777777777778,
              "#fb9f3a"
             ],
             [
              0.8888888888888888,
              "#fdca26"
             ],
             [
              1,
              "#f0f921"
             ]
            ],
            "type": "surface"
           }
          ],
          "table": [
           {
            "cells": {
             "fill": {
              "color": "#EBF0F8"
             },
             "line": {
              "color": "white"
             }
            },
            "header": {
             "fill": {
              "color": "#C8D4E3"
             },
             "line": {
              "color": "white"
             }
            },
            "type": "table"
           }
          ]
         },
         "layout": {
          "annotationdefaults": {
           "arrowcolor": "#2a3f5f",
           "arrowhead": 0,
           "arrowwidth": 1
          },
          "autotypenumbers": "strict",
          "coloraxis": {
           "colorbar": {
            "outlinewidth": 0,
            "ticks": ""
           }
          },
          "colorscale": {
           "diverging": [
            [
             0,
             "#8e0152"
            ],
            [
             0.1,
             "#c51b7d"
            ],
            [
             0.2,
             "#de77ae"
            ],
            [
             0.3,
             "#f1b6da"
            ],
            [
             0.4,
             "#fde0ef"
            ],
            [
             0.5,
             "#f7f7f7"
            ],
            [
             0.6,
             "#e6f5d0"
            ],
            [
             0.7,
             "#b8e186"
            ],
            [
             0.8,
             "#7fbc41"
            ],
            [
             0.9,
             "#4d9221"
            ],
            [
             1,
             "#276419"
            ]
           ],
           "sequential": [
            [
             0,
             "#0d0887"
            ],
            [
             0.1111111111111111,
             "#46039f"
            ],
            [
             0.2222222222222222,
             "#7201a8"
            ],
            [
             0.3333333333333333,
             "#9c179e"
            ],
            [
             0.4444444444444444,
             "#bd3786"
            ],
            [
             0.5555555555555556,
             "#d8576b"
            ],
            [
             0.6666666666666666,
             "#ed7953"
            ],
            [
             0.7777777777777778,
             "#fb9f3a"
            ],
            [
             0.8888888888888888,
             "#fdca26"
            ],
            [
             1,
             "#f0f921"
            ]
           ],
           "sequentialminus": [
            [
             0,
             "#0d0887"
            ],
            [
             0.1111111111111111,
             "#46039f"
            ],
            [
             0.2222222222222222,
             "#7201a8"
            ],
            [
             0.3333333333333333,
             "#9c179e"
            ],
            [
             0.4444444444444444,
             "#bd3786"
            ],
            [
             0.5555555555555556,
             "#d8576b"
            ],
            [
             0.6666666666666666,
             "#ed7953"
            ],
            [
             0.7777777777777778,
             "#fb9f3a"
            ],
            [
             0.8888888888888888,
             "#fdca26"
            ],
            [
             1,
             "#f0f921"
            ]
           ]
          },
          "colorway": [
           "#636efa",
           "#EF553B",
           "#00cc96",
           "#ab63fa",
           "#FFA15A",
           "#19d3f3",
           "#FF6692",
           "#B6E880",
           "#FF97FF",
           "#FECB52"
          ],
          "font": {
           "color": "#2a3f5f"
          },
          "geo": {
           "bgcolor": "white",
           "lakecolor": "white",
           "landcolor": "#E5ECF6",
           "showlakes": true,
           "showland": true,
           "subunitcolor": "white"
          },
          "hoverlabel": {
           "align": "left"
          },
          "hovermode": "closest",
          "mapbox": {
           "style": "light"
          },
          "paper_bgcolor": "white",
          "plot_bgcolor": "#E5ECF6",
          "polar": {
           "angularaxis": {
            "gridcolor": "white",
            "linecolor": "white",
            "ticks": ""
           },
           "bgcolor": "#E5ECF6",
           "radialaxis": {
            "gridcolor": "white",
            "linecolor": "white",
            "ticks": ""
           }
          },
          "scene": {
           "xaxis": {
            "backgroundcolor": "#E5ECF6",
            "gridcolor": "white",
            "gridwidth": 2,
            "linecolor": "white",
            "showbackground": true,
            "ticks": "",
            "zerolinecolor": "white"
           },
           "yaxis": {
            "backgroundcolor": "#E5ECF6",
            "gridcolor": "white",
            "gridwidth": 2,
            "linecolor": "white",
            "showbackground": true,
            "ticks": "",
            "zerolinecolor": "white"
           },
           "zaxis": {
            "backgroundcolor": "#E5ECF6",
            "gridcolor": "white",
            "gridwidth": 2,
            "linecolor": "white",
            "showbackground": true,
            "ticks": "",
            "zerolinecolor": "white"
           }
          },
          "shapedefaults": {
           "line": {
            "color": "#2a3f5f"
           }
          },
          "ternary": {
           "aaxis": {
            "gridcolor": "white",
            "linecolor": "white",
            "ticks": ""
           },
           "baxis": {
            "gridcolor": "white",
            "linecolor": "white",
            "ticks": ""
           },
           "bgcolor": "#E5ECF6",
           "caxis": {
            "gridcolor": "white",
            "linecolor": "white",
            "ticks": ""
           }
          },
          "title": {
           "x": 0.05
          },
          "xaxis": {
           "automargin": true,
           "gridcolor": "white",
           "linecolor": "white",
           "ticks": "",
           "title": {
            "standoff": 15
           },
           "zerolinecolor": "white",
           "zerolinewidth": 2
          },
          "yaxis": {
           "automargin": true,
           "gridcolor": "white",
           "linecolor": "white",
           "ticks": "",
           "title": {
            "standoff": 15
           },
           "zerolinecolor": "white",
           "zerolinewidth": 2
          }
         }
        },
        "title": {
         "text": "reduced chisqu distribution over random maps"
        },
        "xaxis": {
         "title": {
          "text": "reduced chisqu"
         }
        },
        "yaxis": {
         "title": {
          "text": "percentage of all candidates"
         }
        }
       }
      },
      "text/html": [
       "<div>                            <div id=\"f1e4805b-453e-474d-9a3e-36e02c8d689f\" class=\"plotly-graph-div\" style=\"height:525px; width:100%;\"></div>            <script type=\"text/javascript\">                require([\"plotly\"], function(Plotly) {                    window.PLOTLYENV=window.PLOTLYENV || {};                                    if (document.getElementById(\"f1e4805b-453e-474d-9a3e-36e02c8d689f\")) {                    Plotly.newPlot(                        \"f1e4805b-453e-474d-9a3e-36e02c8d689f\",                        [{\"name\":\"bns_maurice_1\",\"x\":[0.8,6.021052631578947,11.242105263157896,16.46315789473684,21.68421052631579,26.90526315789474,32.126315789473686,37.34736842105263,42.56842105263158,47.78947368421053,53.01052631578948,58.23157894736842,63.45263157894737,68.67368421052632,73.89473684210526,79.11578947368422,84.33684210526316,89.5578947368421,94.77894736842106,100.0],\"y\":[0.05678745267712277,0.03299080584099513,0.02650081124932396,0.017847485127095726,0.017306652244456464,0.011357490535424553,0.007030827474310438,0.006489994591671174,0.006489994591671174,0.003244997295835587,0.0016224986479177934,0.0,0.003244997295835587,0.0005408328826392645,0.0005408328826392645,0.0,0.001081665765278529,0.0005408328826392645,0.0005408328826392645],\"type\":\"bar\"},{\"name\":\"bns_maurice_2\",\"x\":[0.8,6.021052631578947,11.242105263157896,16.46315789473684,21.68421052631579,26.90526315789474,32.126315789473686,37.34736842105263,42.56842105263158,47.78947368421053,53.01052631578948,58.23157894736842,63.45263157894737,68.67368421052632,73.89473684210526,79.11578947368422,84.33684210526316,89.5578947368421,94.77894736842106,100.0],\"y\":[0.056246619794483504,0.024337479718766902,0.0167658193618172,0.02163331530557058,0.01568415359653867,0.01081665765278529,0.011898323418063819,0.0075716603569497025,0.008653326122228232,0.0075716603569497025,0.0027041644131963224,0.0016224986479177934,0.002163331530557058,0.0,0.0005408328826392645,0.0005408328826392645,0.001081665765278529,0.0,0.001081665765278529],\"type\":\"bar\"},{\"name\":\"bns_maurice_3\",\"x\":[0.8,6.021052631578947,11.242105263157896,16.46315789473684,21.68421052631579,26.90526315789474,32.126315789473686,37.34736842105263,42.56842105263158,47.78947368421053,53.01052631578948,58.23157894736842,63.45263157894737,68.67368421052632,73.89473684210526,79.11578947368422,84.33684210526316,89.5578947368421,94.77894736842106,100.0],\"y\":[0.06489994591671173,0.04056246619794483,0.03299080584099513,0.015143320713899405,0.011898323418063819,0.010275824770146024,0.008112493239588967,0.004326663061114116,0.0037858301784748512,0.003244997295835587,0.0005408328826392645,0.0,0.002163331530557058,0.0,0.0,0.0005408328826392645,0.001081665765278529,0.0005408328826392645,0.0005408328826392645],\"type\":\"bar\"},{\"name\":\"bns_maurice_4\",\"x\":[0.8,6.021052631578947,11.242105263157896,16.46315789473684,21.68421052631579,26.90526315789474,32.126315789473686,37.34736842105263,42.56842105263158,47.78947368421053,53.01052631578948,58.23157894736842,63.45263157894737,68.67368421052632,73.89473684210526,79.11578947368422,84.33684210526316,89.5578947368421,94.77894736842106,100.0],\"y\":[0.08545159545700379,0.042725797728501894,0.020010816657652784,0.016224986479177934,0.014602487831260141,0.01081665765278529,0.009194159004867496,0.008653326122228232,0.005949161709031909,0.004326663061114116,0.0037858301784748512,0.0016224986479177934,0.001081665765278529,0.0,0.0,0.0005408328826392645,0.0,0.0005408328826392645,0.0],\"type\":\"bar\"}],                        {\"template\":{\"data\":{\"histogram2dcontour\":[{\"type\":\"histogram2dcontour\",\"colorbar\":{\"outlinewidth\":0,\"ticks\":\"\"},\"colorscale\":[[0.0,\"#0d0887\"],[0.1111111111111111,\"#46039f\"],[0.2222222222222222,\"#7201a8\"],[0.3333333333333333,\"#9c179e\"],[0.4444444444444444,\"#bd3786\"],[0.5555555555555556,\"#d8576b\"],[0.6666666666666666,\"#ed7953\"],[0.7777777777777778,\"#fb9f3a\"],[0.8888888888888888,\"#fdca26\"],[1.0,\"#f0f921\"]]}],\"choropleth\":[{\"type\":\"choropleth\",\"colorbar\":{\"outlinewidth\":0,\"ticks\":\"\"}}],\"histogram2d\":[{\"type\":\"histogram2d\",\"colorbar\":{\"outlinewidth\":0,\"ticks\":\"\"},\"colorscale\":[[0.0,\"#0d0887\"],[0.1111111111111111,\"#46039f\"],[0.2222222222222222,\"#7201a8\"],[0.3333333333333333,\"#9c179e\"],[0.4444444444444444,\"#bd3786\"],[0.5555555555555556,\"#d8576b\"],[0.6666666666666666,\"#ed7953\"],[0.7777777777777778,\"#fb9f3a\"],[0.8888888888888888,\"#fdca26\"],[1.0,\"#f0f921\"]]}],\"heatmap\":[{\"type\":\"heatmap\",\"colorbar\":{\"outlinewidth\":0,\"ticks\":\"\"},\"colorscale\":[[0.0,\"#0d0887\"],[0.1111111111111111,\"#46039f\"],[0.2222222222222222,\"#7201a8\"],[0.3333333333333333,\"#9c179e\"],[0.4444444444444444,\"#bd3786\"],[0.5555555555555556,\"#d8576b\"],[0.6666666666666666,\"#ed7953\"],[0.7777777777777778,\"#fb9f3a\"],[0.8888888888888888,\"#fdca26\"],[1.0,\"#f0f921\"]]}],\"heatmapgl\":[{\"type\":\"heatmapgl\",\"colorbar\":{\"outlinewidth\":0,\"ticks\":\"\"},\"colorscale\":[[0.0,\"#0d0887\"],[0.1111111111111111,\"#46039f\"],[0.2222222222222222,\"#7201a8\"],[0.3333333333333333,\"#9c179e\"],[0.4444444444444444,\"#bd3786\"],[0.5555555555555556,\"#d8576b\"],[0.6666666666666666,\"#ed7953\"],[0.7777777777777778,\"#fb9f3a\"],[0.8888888888888888,\"#fdca26\"],[1.0,\"#f0f921\"]]}],\"contourcarpet\":[{\"type\":\"contourcarpet\",\"colorbar\":{\"outlinewidth\":0,\"ticks\":\"\"}}],\"contour\":[{\"type\":\"contour\",\"colorbar\":{\"outlinewidth\":0,\"ticks\":\"\"},\"colorscale\":[[0.0,\"#0d0887\"],[0.1111111111111111,\"#46039f\"],[0.2222222222222222,\"#7201a8\"],[0.3333333333333333,\"#9c179e\"],[0.4444444444444444,\"#bd3786\"],[0.5555555555555556,\"#d8576b\"],[0.6666666666666666,\"#ed7953\"],[0.7777777777777778,\"#fb9f3a\"],[0.8888888888888888,\"#fdca26\"],[1.0,\"#f0f921\"]]}],\"surface\":[{\"type\":\"surface\",\"colorbar\":{\"outlinewidth\":0,\"ticks\":\"\"},\"colorscale\":[[0.0,\"#0d0887\"],[0.1111111111111111,\"#46039f\"],[0.2222222222222222,\"#7201a8\"],[0.3333333333333333,\"#9c179e\"],[0.4444444444444444,\"#bd3786\"],[0.5555555555555556,\"#d8576b\"],[0.6666666666666666,\"#ed7953\"],[0.7777777777777778,\"#fb9f3a\"],[0.8888888888888888,\"#fdca26\"],[1.0,\"#f0f921\"]]}],\"mesh3d\":[{\"type\":\"mesh3d\",\"colorbar\":{\"outlinewidth\":0,\"ticks\":\"\"}}],\"scatter\":[{\"fillpattern\":{\"fillmode\":\"overlay\",\"size\":10,\"solidity\":0.2},\"type\":\"scatter\"}],\"parcoords\":[{\"type\":\"parcoords\",\"line\":{\"colorbar\":{\"outlinewidth\":0,\"ticks\":\"\"}}}],\"scatterpolargl\":[{\"type\":\"scatterpolargl\",\"marker\":{\"colorbar\":{\"outlinewidth\":0,\"ticks\":\"\"}}}],\"bar\":[{\"error_x\":{\"color\":\"#2a3f5f\"},\"error_y\":{\"color\":\"#2a3f5f\"},\"marker\":{\"line\":{\"color\":\"#E5ECF6\",\"width\":0.5},\"pattern\":{\"fillmode\":\"overlay\",\"size\":10,\"solidity\":0.2}},\"type\":\"bar\"}],\"scattergeo\":[{\"type\":\"scattergeo\",\"marker\":{\"colorbar\":{\"outlinewidth\":0,\"ticks\":\"\"}}}],\"scatterpolar\":[{\"type\":\"scatterpolar\",\"marker\":{\"colorbar\":{\"outlinewidth\":0,\"ticks\":\"\"}}}],\"histogram\":[{\"marker\":{\"pattern\":{\"fillmode\":\"overlay\",\"size\":10,\"solidity\":0.2}},\"type\":\"histogram\"}],\"scattergl\":[{\"type\":\"scattergl\",\"marker\":{\"colorbar\":{\"outlinewidth\":0,\"ticks\":\"\"}}}],\"scatter3d\":[{\"type\":\"scatter3d\",\"line\":{\"colorbar\":{\"outlinewidth\":0,\"ticks\":\"\"}},\"marker\":{\"colorbar\":{\"outlinewidth\":0,\"ticks\":\"\"}}}],\"scattermapbox\":[{\"type\":\"scattermapbox\",\"marker\":{\"colorbar\":{\"outlinewidth\":0,\"ticks\":\"\"}}}],\"scatterternary\":[{\"type\":\"scatterternary\",\"marker\":{\"colorbar\":{\"outlinewidth\":0,\"ticks\":\"\"}}}],\"scattercarpet\":[{\"type\":\"scattercarpet\",\"marker\":{\"colorbar\":{\"outlinewidth\":0,\"ticks\":\"\"}}}],\"carpet\":[{\"aaxis\":{\"endlinecolor\":\"#2a3f5f\",\"gridcolor\":\"white\",\"linecolor\":\"white\",\"minorgridcolor\":\"white\",\"startlinecolor\":\"#2a3f5f\"},\"baxis\":{\"endlinecolor\":\"#2a3f5f\",\"gridcolor\":\"white\",\"linecolor\":\"white\",\"minorgridcolor\":\"white\",\"startlinecolor\":\"#2a3f5f\"},\"type\":\"carpet\"}],\"table\":[{\"cells\":{\"fill\":{\"color\":\"#EBF0F8\"},\"line\":{\"color\":\"white\"}},\"header\":{\"fill\":{\"color\":\"#C8D4E3\"},\"line\":{\"color\":\"white\"}},\"type\":\"table\"}],\"barpolar\":[{\"marker\":{\"line\":{\"color\":\"#E5ECF6\",\"width\":0.5},\"pattern\":{\"fillmode\":\"overlay\",\"size\":10,\"solidity\":0.2}},\"type\":\"barpolar\"}],\"pie\":[{\"automargin\":true,\"type\":\"pie\"}]},\"layout\":{\"autotypenumbers\":\"strict\",\"colorway\":[\"#636efa\",\"#EF553B\",\"#00cc96\",\"#ab63fa\",\"#FFA15A\",\"#19d3f3\",\"#FF6692\",\"#B6E880\",\"#FF97FF\",\"#FECB52\"],\"font\":{\"color\":\"#2a3f5f\"},\"hovermode\":\"closest\",\"hoverlabel\":{\"align\":\"left\"},\"paper_bgcolor\":\"white\",\"plot_bgcolor\":\"#E5ECF6\",\"polar\":{\"bgcolor\":\"#E5ECF6\",\"angularaxis\":{\"gridcolor\":\"white\",\"linecolor\":\"white\",\"ticks\":\"\"},\"radialaxis\":{\"gridcolor\":\"white\",\"linecolor\":\"white\",\"ticks\":\"\"}},\"ternary\":{\"bgcolor\":\"#E5ECF6\",\"aaxis\":{\"gridcolor\":\"white\",\"linecolor\":\"white\",\"ticks\":\"\"},\"baxis\":{\"gridcolor\":\"white\",\"linecolor\":\"white\",\"ticks\":\"\"},\"caxis\":{\"gridcolor\":\"white\",\"linecolor\":\"white\",\"ticks\":\"\"}},\"coloraxis\":{\"colorbar\":{\"outlinewidth\":0,\"ticks\":\"\"}},\"colorscale\":{\"sequential\":[[0.0,\"#0d0887\"],[0.1111111111111111,\"#46039f\"],[0.2222222222222222,\"#7201a8\"],[0.3333333333333333,\"#9c179e\"],[0.4444444444444444,\"#bd3786\"],[0.5555555555555556,\"#d8576b\"],[0.6666666666666666,\"#ed7953\"],[0.7777777777777778,\"#fb9f3a\"],[0.8888888888888888,\"#fdca26\"],[1.0,\"#f0f921\"]],\"sequentialminus\":[[0.0,\"#0d0887\"],[0.1111111111111111,\"#46039f\"],[0.2222222222222222,\"#7201a8\"],[0.3333333333333333,\"#9c179e\"],[0.4444444444444444,\"#bd3786\"],[0.5555555555555556,\"#d8576b\"],[0.6666666666666666,\"#ed7953\"],[0.7777777777777778,\"#fb9f3a\"],[0.8888888888888888,\"#fdca26\"],[1.0,\"#f0f921\"]],\"diverging\":[[0,\"#8e0152\"],[0.1,\"#c51b7d\"],[0.2,\"#de77ae\"],[0.3,\"#f1b6da\"],[0.4,\"#fde0ef\"],[0.5,\"#f7f7f7\"],[0.6,\"#e6f5d0\"],[0.7,\"#b8e186\"],[0.8,\"#7fbc41\"],[0.9,\"#4d9221\"],[1,\"#276419\"]]},\"xaxis\":{\"gridcolor\":\"white\",\"linecolor\":\"white\",\"ticks\":\"\",\"title\":{\"standoff\":15},\"zerolinecolor\":\"white\",\"automargin\":true,\"zerolinewidth\":2},\"yaxis\":{\"gridcolor\":\"white\",\"linecolor\":\"white\",\"ticks\":\"\",\"title\":{\"standoff\":15},\"zerolinecolor\":\"white\",\"automargin\":true,\"zerolinewidth\":2},\"scene\":{\"xaxis\":{\"backgroundcolor\":\"#E5ECF6\",\"gridcolor\":\"white\",\"linecolor\":\"white\",\"showbackground\":true,\"ticks\":\"\",\"zerolinecolor\":\"white\",\"gridwidth\":2},\"yaxis\":{\"backgroundcolor\":\"#E5ECF6\",\"gridcolor\":\"white\",\"linecolor\":\"white\",\"showbackground\":true,\"ticks\":\"\",\"zerolinecolor\":\"white\",\"gridwidth\":2},\"zaxis\":{\"backgroundcolor\":\"#E5ECF6\",\"gridcolor\":\"white\",\"linecolor\":\"white\",\"showbackground\":true,\"ticks\":\"\",\"zerolinecolor\":\"white\",\"gridwidth\":2}},\"shapedefaults\":{\"line\":{\"color\":\"#2a3f5f\"}},\"annotationdefaults\":{\"arrowcolor\":\"#2a3f5f\",\"arrowhead\":0,\"arrowwidth\":1},\"geo\":{\"bgcolor\":\"white\",\"landcolor\":\"#E5ECF6\",\"subunitcolor\":\"white\",\"showland\":true,\"showlakes\":true,\"lakecolor\":\"white\"},\"title\":{\"x\":0.05},\"mapbox\":{\"style\":\"light\"}}},\"xaxis\":{\"title\":{\"text\":\"reduced chisqu\"}},\"yaxis\":{\"title\":{\"text\":\"percentage of all candidates\"}},\"title\":{\"text\":\"reduced chisqu distribution over random maps\"}},                        {\"responsive\": true}                    ).then(function(){\n",
       "                            \n",
       "var gd = document.getElementById('f1e4805b-453e-474d-9a3e-36e02c8d689f');\n",
       "var x = new MutationObserver(function (mutations, observer) {{\n",
       "        var display = window.getComputedStyle(gd).display;\n",
       "        if (!display || display === 'none') {{\n",
       "            console.log([gd, 'removed!']);\n",
       "            Plotly.purge(gd);\n",
       "            observer.disconnect();\n",
       "        }}\n",
       "}});\n",
       "\n",
       "// Listen for the removal of the full notebook cells\n",
       "var notebookContainer = gd.closest('#notebook-container');\n",
       "if (notebookContainer) {{\n",
       "    x.observe(notebookContainer, {childList: true});\n",
       "}}\n",
       "\n",
       "// Listen for the clearing of the current output cell\n",
       "var outputEl = gd.closest('.output');\n",
       "if (outputEl) {{\n",
       "    x.observe(outputEl, {childList: true});\n",
       "}}\n",
       "\n",
       "                        })                };                });            </script>        </div>"
      ]
     },
     "metadata": {},
     "output_type": "display_data"
    }
   ],
   "source": [
    "keys = list(pos_df_dict.keys())\n",
    "key = keys[0]\n",
    "\n",
    "fig = go.Figure()\n",
    "\n",
    "max_red_chisq = 100\n",
    "n_bins = 20\n",
    "bins = np.linspace(0.8, max_red_chisq, n_bins)\n",
    "print(\"bins:\", bins)\n",
    "\n",
    "\n",
    "for key in keys[:]:\n",
    "\n",
    "    total_number = len(pos_df_dict[key])\n",
    "    print(f\"% entries with fit:\", key, \": \", total_number / total_entries)\n",
    "    above_0_ndof = len(pos_df_dict[key][pos_df_dict[key][\"ndof\"] > 0])\n",
    "    percentage_above_0_ndof = above_0_ndof / total_entries * 100\n",
    "    print(\"ndof > 0:\", above_0_ndof,\"is\",  percentage_above_0_ndof, \"%\")\n",
    "\n",
    "    tmp_data = pos_df_dict[key].copy()[np.logical_and(pos_df_dict[key][\"chisq\"] <= max_red_chisq, pos_df_dict[key][\"chisq\"] >= 0.8) ]\n",
    "\n",
    "    tmp_hist = np.histogram(tmp_data[\"red_chisqu\"], bins=bins)\n",
    "    #print(tmp_hist)\n",
    "\n",
    "    fig.add_trace(go.Bar(x=bins, y = tmp_hist[0]/len(pos_df_dict[key]), name=key))\n",
    "    #fig.add_trace(go.Histogram(x=tmp_data[\"chisq\"], name=key))\n",
    "fig.update_layout({\"xaxis_title\": \"reduced chisqu\",\n",
    "                   \"yaxis_title\": \"percentage of all candidates\",\n",
    "                   \"title\": \"reduced chisqu distribution over random maps\"})\n",
    "fig.show()"
   ]
  },
  {
   "cell_type": "code",
   "execution_count": null,
   "metadata": {},
   "outputs": [],
   "source": []
  }
 ],
 "metadata": {
  "kernelspec": {
   "display_name": "ampel-hu",
   "language": "python",
   "name": "python3"
  },
  "language_info": {
   "codemirror_mode": {
    "name": "ipython",
    "version": 3
   },
   "file_extension": ".py",
   "mimetype": "text/x-python",
   "name": "python",
   "nbconvert_exporter": "python",
   "pygments_lexer": "ipython3",
   "version": "3.10.9"
  }
 },
 "nbformat": 4,
 "nbformat_minor": 2
}
