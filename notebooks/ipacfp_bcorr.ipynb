{
 "cells": [
  {
   "cell_type": "markdown",
   "id": "43827f56",
   "metadata": {},
   "source": [
    "Process dr3 lightcurves produced by the IPAC Forced photometry pipeline, make quick fits. "
   ]
  },
  {
   "cell_type": "code",
   "execution_count": null,
   "id": "2e1e53d4",
   "metadata": {},
   "outputs": [],
   "source": [
    "import sys, os"
   ]
  },
  {
   "cell_type": "code",
   "execution_count": null,
   "id": "9f65a940",
   "metadata": {},
   "outputs": [],
   "source": [
    "from ampel.secret.AmpelVault import AmpelVault\n",
    "from ampel.secret.DictSecretProvider import DictSecretProvider\n",
    "from ampel.dev.DevAmpelContext import DevAmpelContext\n",
    "from ampel.alert.load import DirAlertLoader\n",
    "from ampel.alert.load import FileAlertLoader\n"
   ]
  },
  {
   "cell_type": "code",
   "execution_count": null,
   "id": "0c05a781",
   "metadata": {},
   "outputs": [],
   "source": [
    "AMPEL_CONF = '/home/jnordin/github/ampelJan25/Ampel-HU-astro/ampel_conf.yaml'"
   ]
  },
  {
   "cell_type": "code",
   "execution_count": null,
   "id": "24fbac12",
   "metadata": {},
   "outputs": [],
   "source": [
    "# Select date of query with format e.g. '20210610'\n",
    "channel = 'lcana'\n",
    "ITER_MAX = 10\n",
    "ALERT_DIR = '/home/jnordin/github/ampelMay24/Ampel-HU-astro/notebooks/dr3_bts'"
   ]
  },
  {
   "cell_type": "code",
   "execution_count": null,
   "id": "13471b29",
   "metadata": {},
   "outputs": [],
   "source": [
    "ctx = DevAmpelContext.load(\n",
    "    config = AMPEL_CONF,\n",
    "    db_prefix = 'bts_bcorr',\n",
    "    purge_db = False,\n",
    "#    vault = vault\n",
    ")\n",
    "ctx.add_channel(\n",
    "    name=channel,\n",
    "    access=['ZTF', 'ZTF_PUB', 'ZTF_PRIV']\n",
    ")"
   ]
  },
  {
   "cell_type": "code",
   "execution_count": null,
   "id": "062107ad",
   "metadata": {},
   "outputs": [],
   "source": [
    "directives = [\n",
    "        {\n",
    "            \"channel\": channel,\n",
    "            \"ingest\": {\n",
    "                \"mux\": {\n",
    "                    \"unit\": \"ZiMongoMuxer\",\n",
    "                    \"config\": {\n",
    "                        \"db_complete\": True,     \n",
    "                    },\n",
    "                    \"combine\": [\n",
    "                        {\n",
    "                            \"unit\": \"ZiT1Combiner\",\n",
    "                            \"state_t2\": [\n",
    "                                {\n",
    "                                    \"unit\": \"T2TabulatorRiseDecline\",\n",
    "                                    \"config\": {\n",
    "                                        'tabulator': [ {'unit': 'ZTFFPTabulator'} ],    \n",
    "                                        't_cadence': 3,\n",
    "                                        'significant_bands': ['ztfg', 'ztfr', 'ztfi'],\n",
    "                                    }\n",
    "                                },\n",
    "                            ]\n",
    "                        }\n",
    "                    ],\n",
    "                }\n",
    "            }\n",
    "        }\n",
    "    ]"
   ]
  },
  {
   "cell_type": "code",
   "execution_count": null,
   "id": "0e601040-4220-41a8-b4a6-47933ec06d48",
   "metadata": {},
   "outputs": [],
   "source": [
    "### Update templates such that T2Compiler does not break"
   ]
  },
  {
   "cell_type": "code",
   "execution_count": null,
   "id": "7b2a030f-8e66-4bc7-bb8c-88ac4c7aa66d",
   "metadata": {},
   "outputs": [],
   "source": [
    "from ampel.util.template import apply_templates\n",
    "from ampel.log.AmpelLogger import AmpelLogger"
   ]
  },
  {
   "cell_type": "code",
   "execution_count": null,
   "id": "81263eb4-6769-4b90-a5d6-50e290806ef6",
   "metadata": {},
   "outputs": [],
   "source": [
    "templates = ('resolve_run_time_aliases', 'hash_t2_config')"
   ]
  },
  {
   "cell_type": "code",
   "execution_count": null,
   "id": "661bfe1d-fdf7-4caa-8e9b-82d2e1397e55",
   "metadata": {},
   "outputs": [],
   "source": [
    "apply_templates(ctx, templates, {\"directives\":directives}, logger=AmpelLogger.get_logger())"
   ]
  },
  {
   "cell_type": "code",
   "execution_count": null,
   "id": "aa341787",
   "metadata": {},
   "outputs": [],
   "source": [
    "ac = ctx.new_context_unit(\n",
    "    unit = \"AlertConsumer\",\n",
    "    process_name = \"AP_test\",\n",
    "    iter_max = ITER_MAX,\n",
    "    log_profile = os.environ.get('log_profile', 'debug'),\n",
    "    shaper = \"ZiDataPointShaper\",\n",
    "    # Do not use the standard ZTF compiler options as these assume that the stock->name conversion works.\n",
    "    # Should develop a new id translater which, possibly, use ra,dec to search for the correct name.\n",
    "    #compiler_opts = \"ZiCompilerOptions\",\n",
    "    supplier = {\n",
    "        \"unit\": \"ZTFIPACForcedPhotometryAlertSupplier\",\n",
    "        'config': {\n",
    "#            'deserialize': None,\n",
    "            'alert_history': False,\n",
    "            'save_file_dir': '/home/jnordin/tmp/baselinecorr',\n",
    "            'name_file': '/home/jnordin/data/ztf_ipacfp/bts_explorer_241122.csv',\n",
    "            'file_keys': {\n",
    "                \"id\": \"ZTFID\",\n",
    "                \"ra\": \"RA\",\n",
    "                \"dec\": \"Dec\",\n",
    "                \"raunit\": \"hourangle\",\n",
    "                \"decunit\": \"deg\",\n",
    "            },\n",
    "            'loader': {\n",
    "                'unit': 'DirFileNamesLoader',                \n",
    "                'config': {'folder': ALERT_DIR, 'extension' : 'txt'}\n",
    "            }\n",
    "        }\n",
    "    },\n",
    "    directives = directives\n",
    ")\n"
   ]
  },
  {
   "cell_type": "code",
   "execution_count": null,
   "id": "75650ff7",
   "metadata": {
    "scrolled": true
   },
   "outputs": [],
   "source": [
    "n = ac.run()"
   ]
  },
  {
   "cell_type": "code",
   "execution_count": null,
   "id": "ae825934",
   "metadata": {},
   "outputs": [],
   "source": [
    "print(f\"{n} alerts processed for channel {channel}\")"
   ]
  },
  {
   "cell_type": "code",
   "execution_count": null,
   "id": "f08b8043",
   "metadata": {},
   "outputs": [],
   "source": [
    "t2w = ctx.new_context_unit(\n",
    "    unit = 'T2Worker',\n",
    "    process_name = 'T2Processor_test',\n",
    "    log_profile = os.environ.get('log_profile', 'default')\n",
    ")"
   ]
  },
  {
   "cell_type": "code",
   "execution_count": null,
   "id": "b7e92bba",
   "metadata": {},
   "outputs": [],
   "source": [
    "t2w.run()"
   ]
  },
  {
   "cell_type": "code",
   "execution_count": null,
   "id": "97b58514-dc16-4123-9ef1-86e7cbf37ba9",
   "metadata": {},
   "outputs": [],
   "source": []
  }
 ],
 "metadata": {
  "kernelspec": {
   "display_name": "Python 3 (ipykernel)",
   "language": "python",
   "name": "python3"
  },
  "language_info": {
   "codemirror_mode": {
    "name": "ipython",
    "version": 3
   },
   "file_extension": ".py",
   "mimetype": "text/x-python",
   "name": "python",
   "nbconvert_exporter": "python",
   "pygments_lexer": "ipython3",
   "version": "3.10.16"
  }
 },
 "nbformat": 4,
 "nbformat_minor": 5
}
