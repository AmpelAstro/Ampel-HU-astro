{
 "cells": [
  {
   "attachments": {},
   "cell_type": "markdown",
   "id": "independent-detail",
   "metadata": {},
   "source": [
    "Notebook which will:\n",
    "- Obtain alert photometry for named SN and create alert.\n",
    "- Check whether this passes through a filter."
   ]
  },
  {
   "cell_type": "code",
   "execution_count": 1,
   "id": "pursuant-luxury",
   "metadata": {},
   "outputs": [],
   "source": [
    "import requests, os\n",
    "from ampel.log.AmpelLogger import AmpelLogger\n",
    "from ampel.contrib.hu.t0.SimpleDecentFilter import SimpleDecentFilter\n",
    "from ampel.contrib.hu.t0.PredetectionFilter import PredetectionFilter\n",
    "from ampel.contrib.hu.t0.RedshiftCatalogFilter import RedshiftCatalogFilter\n",
    "\n",
    "from ampel.ztf.alert.ZiAlertSupplier import ZiAlertSupplier\n",
    "\n",
    "import numpy as np"
   ]
  },
  {
   "cell_type": "code",
   "execution_count": 2,
   "id": "e251a1c3",
   "metadata": {},
   "outputs": [],
   "source": [
    "logger = AmpelLogger.get_logger()"
   ]
  },
  {
   "cell_type": "code",
   "execution_count": 3,
   "id": "e7656d26",
   "metadata": {},
   "outputs": [],
   "source": [
    "# Access to the AMPEL data archive assumes an individual *archive token* which can be obtained from \n",
    "# https://ampel.zeuthen.desy.de/live/dashboard/tokens\n",
    "# This currently builds on GitHub authorization for AmpelProject members.\n",
    "token = os.environ[\"ARCHIVE_TOKEN\"]"
   ]
  },
  {
   "cell_type": "code",
   "execution_count": 4,
   "id": "4bfa250d",
   "metadata": {},
   "outputs": [
    {
     "name": "stdout",
     "output_type": "stream",
     "text": [
      "['ZTF19aasknld' 'ZTF19aaslfre' 'ZTF19aaskmit' 'ZTF19aaslswv'\n",
      " 'ZTF19aaslpds' 'ZTF19aaslzjf' 'ZTF19aatazmc' 'ZTF19aasldad'\n",
      " 'ZTF19aaskiht' 'ZTF19aaslssx' 'ZTF19aasldsv' 'ZTF19aaslozu'\n",
      " 'ZTF19aasmppj' 'ZTF19aaslxmg' 'ZTF19aaslpsk' 'ZTF19aaskpux'\n",
      " 'ZTF19aasslob' 'ZTF19aaslfmk' 'ZTF19aaslovx' 'ZTF19aasrgik'\n",
      " 'ZTF19aaslddj' 'ZTF19aaskikg' 'ZTF19aaskktr' 'ZTF19aataxum'\n",
      " 'ZTF19aaskjyj' 'ZTF19aaskjsw' 'ZTF19aaskjwt' 'ZTF19aaskpbp'\n",
      " 'ZTF19aaskmpt' 'ZTF19aasknfi' 'ZTF19aaslpqg' 'ZTF19aasmdqa'\n",
      " 'ZTF19aaslell' 'ZTF19aaskihm' 'ZTF19aaskyxh' 'ZTF19aaslixg'\n",
      " 'ZTF19aaskijn' 'ZTF19aasledp' 'ZTF19aaskipx' 'ZTF19aaslrms'\n",
      " 'ZTF19aaslldo' 'ZTF19aasmqvm']\n",
      "['ZTF19aasmftm' 'ZTF19aaslzjf' 'ZTF19aasmddt' 'ZTF19aasmekb'\n",
      " 'ZTF19aassfws' 'ZTF19aaslszp' 'ZTF19aaslolf' 'ZTF19aaslozu'\n",
      " 'ZTF19aasshpf' 'ZTF19aaslphi' 'ZTF19aaslpds' 'ZTF19aasmzqf'\n",
      " 'ZTF19aaslzfk' 'ZTF19aaslvwn' 'ZTF19aasmdir']\n"
     ]
    }
   ],
   "source": [
    "filename_ampel = \"/mnt/c/Users/Public/Documents/Uni/master/masterarbeit/ampel/ampel-results/test/190426c_ampel_cand.csv\"\n",
    "filename_kasliwal = \"/mnt/c/Users/Public/Documents/Uni/master/masterarbeit/ampel/ampel-results/test/190426c_kasliwal_cand.csv\"\n",
    "\n",
    "# Name of ZTF objects to lookup\n",
    "snnames_ampel = np.genfromtxt(filename_ampel, delimiter=\",\", dtype=None,encoding=\"UTF-8\")\n",
    "\n",
    "snnames_kasliwal = np.genfromtxt(filename_kasliwal, delimiter=\",\", dtype=None,encoding=\"UTF-8\")\n",
    "\n",
    "print(snnames_ampel)\n",
    "print(snnames_kasliwal)\n",
    "\n",
    "trigger_jd = 2458600.14022394"
   ]
  },
  {
   "cell_type": "code",
   "execution_count": 5,
   "id": "48a9f580",
   "metadata": {},
   "outputs": [],
   "source": [
    "def api_to_alert(name, token, tags=['FilterTest']):\n",
    "    \"\"\"\n",
    "    Retrieve the alert history of a SN and return all recreated alerts.    \n",
    "    \"\"\"\n",
    "    \n",
    "    # Setup connection\n",
    "    endpoint = \"https://ampel.zeuthen.desy.de/api/ztf/archive/v3/object/{}/alerts?with_history=false\".format(name)\n",
    "\n",
    "    header = {\"Authorization\": \"bearer \"+token}\n",
    "\n",
    "    response = requests.get(endpoint, headers=header )\n",
    "    \n",
    "    if not response.ok:\n",
    "        print('... failed to get alert')\n",
    "        return None\n",
    "    \n",
    "    return [ZiAlertSupplier.shape_alert_dict( a, tags ) for a in response.json()]"
   ]
  },
  {
   "cell_type": "code",
   "execution_count": 6,
   "id": "379a3da5",
   "metadata": {},
   "outputs": [],
   "source": [
    "def get_alert_array(snnames_array):\n",
    "    alert_array = []\n",
    "    for snname in snnames_array:\n",
    "        alerts = api_to_alert(snname, token)\n",
    "        #print(f'{snname}: Found {len(alerts)} alerts.')\n",
    "        alert_array.append(alerts)\n",
    "    return alert_array"
   ]
  },
  {
   "cell_type": "code",
   "execution_count": 7,
   "id": "vietnamese-singapore",
   "metadata": {
    "scrolled": true
   },
   "outputs": [],
   "source": [
    "alert_array_ampel = get_alert_array(snnames_ampel)\n",
    "alert_array_kasliwal = get_alert_array(snnames_kasliwal)"
   ]
  },
  {
   "attachments": {},
   "cell_type": "markdown",
   "id": "1efbaccf",
   "metadata": {},
   "source": [
    "Defining parameters for filter."
   ]
  },
  {
   "cell_type": "code",
   "execution_count": 8,
   "id": "02d62fcc",
   "metadata": {},
   "outputs": [],
   "source": [
    "filter_config = {\n",
    "    #\"gaia_excessnoise_sig_max\": 999,\n",
    "    #\"gaia_plx_signif\": 3,\n",
    "    #\"gaia_pm_signif\": 3,\n",
    "    #\"gaia_rs\": 10,\n",
    "    #\"gaia_veto_gmag_max\": 20,\n",
    "    #\"gaia_veto_gmag_min\": 9,\n",
    "    \"min_ndet\": 1, # should be 2\n",
    "    \"min_tspan\": -1,\n",
    "    \"max_tspan\": 365,\n",
    "    #min_archive_tspan: -99\n",
    "    \"max_archive_tspan\": 0.1,\n",
    "    \"min_drb\": 0.3,\n",
    "    \"min_gal_lat\": 0,\n",
    "    \"min_rb\": 0.0,\n",
    "    \"min_sso_dist\": 20,\n",
    "    \"ps1_confusion_rad\": 3,\n",
    "    \"ps1_confusion_sg_tol\": 0.1,\n",
    "    \"ps1_sgveto_rad\": 1,\n",
    "    \"ps1_sgveto_th\": 0.8,\n",
    "    \"max_fwhm\": 5.5,\n",
    "    # max_elong: 2\n",
    "    \"max_elong\": 1.4,\n",
    "    \"max_magdiff\": 1,\n",
    "    \"max_nbad\": 2\n",
    "}\n",
    "\n",
    "predetection_filter_config = {\n",
    "    \"trigger_jd\": trigger_jd,\n",
    "    \"gaia_excessnoise_sig_max\": 999,\n",
    "    \"gaia_plx_signif\": 3,\n",
    "    \"gaia_pm_signif\": 3,\n",
    "    \"gaia_rs\": 10,\n",
    "    \"gaia_veto_gmag_max\": 20,\n",
    "    \"gaia_veto_gmag_min\": 9,\n",
    "    \"min_ndet\": 1,\n",
    "    \"min_tspan\": -1,\n",
    "    \"max_tspan\": 1,\n",
    "    #\"min_archive_tspan\": -99,\n",
    "    \"max_archive_tspan\": .1,\n",
    "    \"min_drb\": 0.3,\n",
    "    \"min_gal_lat\": 0,\n",
    "    \"min_rb\": 0.0,\n",
    "    \"min_sso_dist\": 20,\n",
    "    \"ps1_confusion_rad\": 3,\n",
    "    \"ps1_confusion_sg_tol\": 0.1,\n",
    "    \"ps1_sgveto_rad\": 1,\n",
    "    \"ps1_sgveto_th\": 0.8,\n",
    "    \"max_fwhm\": 5.5,\n",
    "    \"max_elong\": 2,\n",
    "    \"max_magdiff\": 1,\n",
    "    \"max_nbad\": 2,\n",
    "    \"resource\": {\"ampel-ztf/catalogmatch\":\"https://ampel.zeuthen.desy.de/api/catalogmatch/\"} # gaia handling\n",
    "}"
   ]
  },
  {
   "cell_type": "code",
   "execution_count": 9,
   "id": "8346187c",
   "metadata": {},
   "outputs": [],
   "source": [
    "t0filter = SimpleDecentFilter( **filter_config, logger=logger )\n",
    "t0filter = PredetectionFilter( **predetection_filter_config, logger=logger )\n",
    "t0filter.post_init()"
   ]
  },
  {
   "cell_type": "code",
   "execution_count": 21,
   "id": "19b5b52c",
   "metadata": {},
   "outputs": [],
   "source": [
    "# using SimpleDecentFilter\n",
    "def simple_process(alerts):\n",
    "\n",
    "    pass_array = []\n",
    "    rejection_reason_array = []\n",
    "\n",
    "    for alert in alerts:\n",
    "        passes = True\n",
    "        alert_jds = np.array(alert.get_values(\"jd\", filters=t0filter.filter_pps))\n",
    "\n",
    "        predetection_jds = [jd for jd in alert_jds if jd < trigger_jd]\n",
    "\n",
    "        if len(predetection_jds) > 0:\n",
    "            passes = False\n",
    "            pass_array.append(passes)\n",
    "            rejection_reason_array.append(\"predetection\")\n",
    "            continue\n",
    "\n",
    "\n",
    "\n",
    "        foo = t0filter.process(alert)\n",
    "        if not foo:\n",
    "            #print(foo)\n",
    "            passes = False\n",
    "            pass_array.append(passes)\n",
    "            rejection_reason_array.append(\"simpledecent\")\n",
    "            continue\n",
    "\n",
    "        pass_array.append(passes)\n",
    "        #print(foo)\n",
    "\n",
    "    print(\"total:\", np.any(pass_array), pass_array)\n",
    "    #print(\"\\t\\t\\t\", rejection_reason_array)"
   ]
  },
  {
   "cell_type": "code",
   "execution_count": 10,
   "id": "57df8433",
   "metadata": {},
   "outputs": [],
   "source": [
    "#using PredetectionFilter\n",
    "def process(alerts):\n",
    "\n",
    "    pass_array = []\n",
    "    rejection_reason_array = []\n",
    "\n",
    "    for alert in alerts:\n",
    "        passes = True\n",
    "\n",
    "        foo = t0filter.process(alert)\n",
    "        if not foo:\n",
    "            #print(foo)\n",
    "            passes = False\n",
    "            #pass_array.append(passes)\n",
    "            rejection_reason_array.append(\"decent\")\n",
    "            #continue\n",
    "\n",
    "        pass_array.append(passes)\n",
    "        #print(foo)\n",
    "\n",
    "    #print(\"total:\", np.any(pass_array), pass_array)\n",
    "    return np.any(pass_array)\n",
    "    #print(\"\\t\\t\\t\", rejection_reason_array)"
   ]
  },
  {
   "cell_type": "code",
   "execution_count": 11,
   "id": "aa7ad631",
   "metadata": {},
   "outputs": [],
   "source": [
    "def process_alerts(alert_array, name_array):\n",
    "    pass_array = []\n",
    "    for i, snname in enumerate(name_array):\n",
    "        print(snname, end =\" \")\n",
    "        pass_alert = process(alert_array[i])\n",
    "        \n",
    "        pass_array.append(pass_alert)\n",
    "        print(pass_alert)\n",
    "    return pass_array\n"
   ]
  },
  {
   "cell_type": "code",
   "execution_count": 12,
   "id": "0f136456",
   "metadata": {},
   "outputs": [
    {
     "name": "stdout",
     "output_type": "stream",
     "text": [
      "ZTF19aasknld True\n",
      "ZTF19aaslfre True\n",
      "ZTF19aaskmit True\n",
      "ZTF19aaslswv True\n",
      "ZTF19aaslpds True\n",
      "ZTF19aaslzjf True\n",
      "ZTF19aatazmc True\n",
      "ZTF19aasldad True\n",
      "ZTF19aaskiht True\n",
      "ZTF19aaslssx True\n",
      "ZTF19aasldsv True\n",
      "ZTF19aaslozu True\n",
      "ZTF19aasmppj True\n",
      "ZTF19aaslxmg True\n",
      "ZTF19aaslpsk True\n",
      "ZTF19aaskpux True\n",
      "ZTF19aasslob True\n",
      "ZTF19aaslfmk True\n",
      "ZTF19aaslovx True\n",
      "ZTF19aasrgik True\n",
      "ZTF19aaslddj True\n",
      "ZTF19aaskikg True\n",
      "ZTF19aaskktr True\n",
      "ZTF19aataxum True\n",
      "ZTF19aaskjyj True\n",
      "ZTF19aaskjsw True\n",
      "ZTF19aaskjwt True\n",
      "ZTF19aaskpbp True\n",
      "ZTF19aaskmpt True\n",
      "ZTF19aasknfi True\n",
      "ZTF19aaslpqg True\n",
      "ZTF19aasmdqa True\n",
      "ZTF19aaslell True\n",
      "ZTF19aaskihm True\n",
      "ZTF19aaskyxh True\n",
      "ZTF19aaslixg True\n",
      "ZTF19aaskijn True\n",
      "ZTF19aasledp True\n",
      "ZTF19aaskipx True\n",
      "ZTF19aaslrms True\n",
      "ZTF19aaslldo True\n",
      "ZTF19aasmqvm True\n"
     ]
    }
   ],
   "source": [
    "pass_ampel = process_alerts(alert_array_ampel, snnames_ampel)"
   ]
  },
  {
   "cell_type": "code",
   "execution_count": 13,
   "id": "cd8c354e",
   "metadata": {},
   "outputs": [
    {
     "name": "stdout",
     "output_type": "stream",
     "text": [
      "ZTF19aasmftm False\n",
      "ZTF19aaslzjf True\n",
      "ZTF19aasmddt False\n",
      "ZTF19aasmekb False\n",
      "ZTF19aassfws False\n",
      "ZTF19aaslszp False\n",
      "ZTF19aaslolf False\n",
      "ZTF19aaslozu True\n",
      "ZTF19aasshpf False\n",
      "ZTF19aaslphi False\n",
      "ZTF19aaslpds True\n",
      "ZTF19aasmzqf False\n",
      "ZTF19aaslzfk True\n",
      "ZTF19aaslvwn False\n",
      "ZTF19aasmdir False\n"
     ]
    }
   ],
   "source": [
    "pass_kasliwal = process_alerts(alert_array_kasliwal, snnames_kasliwal)"
   ]
  },
  {
   "cell_type": "code",
   "execution_count": 14,
   "id": "0731532d",
   "metadata": {},
   "outputs": [
    {
     "name": "stdout",
     "output_type": "stream",
     "text": [
      "Candidates in kasliwal that don't pass filter criteria:\n",
      "['ZTF19aasmftm' 'ZTF19aasmddt' 'ZTF19aasmekb' 'ZTF19aassfws'\n",
      " 'ZTF19aaslszp' 'ZTF19aaslolf' 'ZTF19aasshpf' 'ZTF19aaslphi'\n",
      " 'ZTF19aasmzqf' 'ZTF19aaslvwn' 'ZTF19aasmdir']\n"
     ]
    }
   ],
   "source": [
    "#print(np.isin(snnames_ampel, snnames_kasliwal))\n",
    "\n",
    "mask = np.logical_and(np.logical_not(np.isin(snnames_kasliwal, snnames_ampel)), np.logical_not(pass_kasliwal))\n",
    "kasliwal_only_filtered = snnames_kasliwal[mask]\n",
    "\n",
    "print(\"Candidates in kasliwal that don't pass filter criteria:\")\n",
    "print(kasliwal_only_filtered)"
   ]
  },
  {
   "cell_type": "code",
   "execution_count": null,
   "id": "c8b2cc78",
   "metadata": {},
   "outputs": [],
   "source": [
    "alert_array = get_alert_array(kasliwal_only_filtered)\n",
    "\n",
    "process_alerts(alert_array, kasliwal_only_filtered)"
   ]
  },
  {
   "cell_type": "code",
   "execution_count": 80,
   "id": "5073a144",
   "metadata": {},
   "outputs": [
    {
     "name": "stdout",
     "output_type": "stream",
     "text": [
      "{'jd': 2458601.9643056, 'fid': 2, 'pid': 847464303715, 'diffmaglim': 21.331493377685547, 'programid': 2, 'candid': 847464303715015104, 'isdiffpos': 't', 'tblid': 104, 'nid': 847, 'rcid': 37, 'field': 867, 'xpos': 1958.6419677734375, 'ypos': 1907.498779296875, 'ra': 325.9004479, 'dec': 77.8315634, 'magpsf': 20.937414169311523, 'sigmapsf': 0.15824905037879944, 'chipsf': 0.9810299873352051, 'magap': 20.756399154663086, 'sigmagap': 0.20589999854564667, 'distnr': 0.2524823546409607, 'magnr': 20.84000015258789, 'sigmagnr': 0.07699999958276749, 'chinr': 1.184000015258789, 'sharpnr': 0.03099999949336052, 'sky': 5.9032697677612305, 'magdiff': -0.18101400136947632, 'fwhm': 3.2699999809265137, 'classtar': 0.9819999933242798, 'mindtoedge': 1113.8580322265625, 'magfromlim': 0.5750929713249207, 'seeratio': 0.8667665719985962, 'aimage': 1.00600004196167, 'bimage': 0.8019999861717224, 'aimagerat': 0.3076452612876892, 'bimagerat': 0.24525994062423706, 'elong': 1.2543641328811646, 'nneg': 2, 'nbad': 0, 'rb': 0.3157142996788025, 'ssdistnr': -999.0, 'ssmagnr': -999.0, 'ssnamenr': 'null', 'sumrat': 1.0, 'magapbig': 20.849700927734375, 'sigmagapbig': 0.28839999437332153, 'ranr': 325.9001752, 'decnr': 77.8315213, 'sgmag1': 21.595800399780273, 'srmag1': 21.165599822998047, 'simag1': 20.95359992980957, 'szmag1': 20.480199813842773, 'sgscore1': 0.0016666699666529894, 'distpsnr1': 0.11519839614629745, 'ndethist': 3, 'ncovhist': 68, 'jdstarthist': 2458600.8834722, 'jdendhist': 2458601.9643056, 'scorr': 9.55556392669678, 'tooflag': 1, 'objectidps1': 201393259006158647, 'objectidps2': 201393258995126401, 'sgmag2': 18.834999084472656, 'srmag2': 17.967899322509766, 'simag2': 17.55500030517578, 'szmag2': 17.356300354003906, 'sgscore2': 0.9918749928474426, 'distpsnr2': 6.83928918838501, 'objectidps3': 201393259130783209, 'sgmag3': 19.273399353027344, 'srmag3': 18.467599868774414, 'simag3': 18.103500366210938, 'szmag3': 17.916200637817383, 'sgscore3': 0.9975000023841858, 'distpsnr3': 18.960506439208984, 'nmtchps': 7, 'rfid': 867120237, 'jdstartref': 2458199.015706, 'jdendref': 2458302.883218, 'nframesref': 15, 'rbversion': 't15_f5_c3', 'dsnrms': 5.21880578994751, 'ssnrms': 12.430632591247559, 'dsdiff': -7.211826801300049, 'magzpsci': 28.628414154052734, 'magzpsciunc': 2.815200105033e-06, 'magzpscirms': 0.026314999908208847, 'nmatches': 1756, 'clrcoeff': 0.10429400205612183, 'clrcounc': 3.273999936936889e-06, 'zpclrcov': -2.9600000743812416e-06, 'zpmed': 28.719999313354492, 'clrmed': 0.8640000224113464, 'clrrms': 0.20408299565315247, 'neargaia': 6.843602180480957, 'neargaiabright': 67.6276626586914, 'maggaia': 17.8532657623291, 'maggaiabright': 12.812947273254395, 'exptime': 300.0}\n",
      "no drb\n",
      "rb 0.38857144117355347\n",
      "isdiffpos t\n",
      "{'jd': 2458600.8834722, 'fid': 1, 'pid': 846383473715, 'diffmaglim': 21.44113540649414, 'programid': 2, 'candid': 846383473715015119, 'isdiffpos': 't', 'tblid': 119, 'nid': 846, 'rcid': 37, 'field': 867, 'xpos': 1954.759521484375, 'ypos': 1857.885986328125, 'ra': 325.9005801, 'dec': 77.8314705, 'magpsf': 21.411968231201172, 'sigmapsf': 0.18770535290241241, 'chipsf': 0.9590048789978027, 'magap': 21.475099563598633, 'sigmagap': 0.3824000060558319, 'distnr': 0.348036527633667, 'magnr': 21.732999801635742, 'sigmagnr': 0.09700000286102295, 'chinr': 0.6959999799728394, 'sharpnr': 0.15800000727176666, 'sky': 4.282766819000244, 'magdiff': 0.06313099712133408, 'fwhm': 2.2699999809265137, 'classtar': 0.9679999947547913, 'mindtoedge': 1117.740478515625, 'magfromlim': -0.033965129405260086, 'seeratio': 1.172672986984253, 'aimage': 0.8759999871253967, 'bimage': 0.7929999828338623, 'aimagerat': 0.38590309023857117, 'bimagerat': 0.34933921694755554, 'elong': 1.1046658754348755, 'nneg': 4, 'nbad': 0, 'rb': 0.38857144117355347, 'ssdistnr': -999.0, 'ssmagnr': -999.0, 'ssnamenr': 'null', 'sumrat': 0.9804081916809082, 'magapbig': 21.075300216674805, 'sigmagapbig': 0.3391000032424927, 'ranr': 325.900744, 'decnr': 77.8315617, 'sgmag1': 21.595800399780273, 'srmag1': 21.165599822998047, 'simag1': 20.95359992980957, 'szmag1': 20.480199813842773, 'sgscore1': 0.0016666699666529894, 'distpsnr1': 0.4282129108905792, 'ndethist': 1, 'ncovhist': 65, 'jdstarthist': 2458600.8834722, 'jdendhist': 2458600.8834722, 'scorr': 8.53779983520508, 'tooflag': 1, 'objectidps1': 201393259006158647, 'objectidps2': 201393258995126401, 'sgmag2': 18.834999084472656, 'srmag2': 17.967899322509766, 'simag2': 17.55500030517578, 'szmag2': 17.356300354003906, 'sgscore2': 0.9918749928474426, 'distpsnr2': 6.519188404083252, 'objectidps3': 201393259130783209, 'sgmag3': 19.273399353027344, 'srmag3': 18.467599868774414, 'simag3': 18.103500366210938, 'szmag3': 17.916200637817383, 'sgscore3': 0.9975000023841858, 'distpsnr3': 18.62143898010254, 'nmtchps': 7, 'rfid': 867120137, 'jdstartref': 2458262.946505, 'jdendref': 2458379.820961, 'nframesref': 15, 'rbversion': 't15_f5_c3', 'dsnrms': 4.778682708740234, 'ssnrms': 9.434795379638672, 'dsdiff': -4.6561126708984375, 'magzpsci': 27.981969833374023, 'magzpsciunc': 3.7109000459167873e-06, 'magzpscirms': 0.023006999865174294, 'nmatches': 1859, 'clrcoeff': -0.06902100145816803, 'clrcounc': 4.35050014857552e-06, 'zpclrcov': -3.919999926438322e-06, 'zpmed': 27.92300033569336, 'clrmed': 0.8629999756813049, 'clrrms': 0.20294299721717834, 'neargaia': 6.523573398590088, 'neargaiabright': 67.87532043457031, 'maggaia': 17.8532657623291, 'maggaiabright': 12.812947273254395, 'exptime': 180.0}\n",
      "no drb\n",
      "rb 0.415714293718338\n",
      "isdiffpos t\n",
      "{'jd': 2458601.8859375, 'fid': 1, 'pid': 847385933715, 'diffmaglim': 21.526643753051758, 'programid': 2, 'candid': 847385933715015032, 'isdiffpos': 't', 'tblid': 32, 'nid': 847, 'rcid': 37, 'field': 867, 'xpos': 1967.887939453125, 'ypos': 1881.4329833984375, 'ra': 325.9002898, 'dec': 77.8314675, 'magpsf': 21.16044807434082, 'sigmapsf': 0.12050526589155197, 'chipsf': 0.9026623964309692, 'magap': 21.623600006103516, 'sigmagap': 0.3801000118255615, 'distnr': 0.47798144817352295, 'magnr': 21.732999801635742, 'sigmagnr': 0.09700000286102295, 'chinr': 0.6959999799728394, 'sharpnr': 0.15800000727176666, 'sky': 3.040030002593994, 'magdiff': 0.4631510078907013, 'fwhm': 2.9600000381469727, 'classtar': 0.9810000061988831, 'mindtoedge': 1104.612060546875, 'magfromlim': -0.09695553779602051, 'seeratio': 0.9582952857017517, 'aimage': 0.7279999852180481, 'bimage': 0.6809999942779541, 'aimagerat': 0.24594594538211823, 'bimagerat': 0.23006756603717804, 'elong': 1.0690160989761353, 'nneg': 5, 'nbad': 0, 'rb': 0.415714293718338, 'ssdistnr': -999.0, 'ssmagnr': -999.0, 'ssnamenr': 'null', 'sumrat': 1.0, 'magapbig': 21.570899963378906, 'sigmagapbig': 0.4641000032424927, 'ranr': 325.900744, 'decnr': 77.8315617, 'sgmag1': 21.595800399780273, 'srmag1': 21.165599822998047, 'simag1': 20.95359992980957, 'szmag1': 20.480199813842773, 'sgscore1': 0.0016666699666529894, 'distpsnr1': 0.4766892194747925, 'ndethist': 2, 'ncovhist': 67, 'jdstarthist': 2458600.8834722, 'jdendhist': 2458601.8859375, 'scorr': 10.408519744873, 'tooflag': 1, 'objectidps1': 201393259006158647, 'objectidps2': 201393258995126401, 'sgmag2': 18.834999084472656, 'srmag2': 17.967899322509766, 'simag2': 17.55500030517578, 'szmag2': 17.356300354003906, 'sgscore2': 0.9918749928474426, 'distpsnr2': 6.48354959487915, 'objectidps3': 201393259130783209, 'sgmag3': 19.273399353027344, 'srmag3': 18.467599868774414, 'simag3': 18.103500366210938, 'szmag3': 17.916200637817383, 'sgscore3': 0.9975000023841858, 'distpsnr3': 18.72541618347168, 'nmtchps': 6, 'rfid': 867120137, 'jdstartref': 2458262.946505, 'jdendref': 2458379.820961, 'nframesref': 15, 'rbversion': 't15_f5_c3', 'dsnrms': 6.138504981994629, 'ssnrms': 11.423304557800293, 'dsdiff': -5.284799575805664, 'magzpsci': 28.53944969177246, 'magzpsciunc': 3.461600044829538e-06, 'magzpscirms': 0.02268099971115589, 'nmatches': 1837, 'clrcoeff': -0.0701799988746643, 'clrcounc': 4.050999905302888e-06, 'zpclrcov': -3.6500000533123966e-06, 'zpmed': 28.479000091552734, 'clrmed': 0.8629999756813049, 'clrrms': 0.20395000278949738, 'neargaia': 6.487818241119385, 'neargaiabright': 67.98860931396484, 'maggaia': 17.8532657623291, 'maggaiabright': 12.812947273254395, 'exptime': 300.0}\n",
      "no drb\n",
      "rb 0.3157142996788025\n",
      "isdiffpos t\n"
     ]
    }
   ],
   "source": [
    "alerts = alert_array[0]\n",
    "for a in alerts:\n",
    "    print(latest)\n",
    "    latest = a.datapoints[0]\n",
    "    # drb\n",
    "    try:\n",
    "        print('drb', latest['drb'])\n",
    "    except KeyError:\n",
    "        print('no drb')\n",
    "    # rb\n",
    "    try:\n",
    "        print('rb', latest['rb'])\n",
    "    except KeyError:\n",
    "        print('no rb')\n",
    "    # isdiffpos\n",
    "    try:\n",
    "        print('isdiffpos', latest['isdiffpos'])\n",
    "    except KeyError:\n",
    "        print('no isdiffpos')\n"
   ]
  },
  {
   "cell_type": "code",
   "execution_count": 53,
   "id": "36f39516",
   "metadata": {},
   "outputs": [
    {
     "data": {
      "text/plain": [
       "({'jd': 2458864.0659259,\n",
       "  'fid': 2,\n",
       "  'pid': 1109565924415,\n",
       "  'diffmaglim': 19.72231674194336,\n",
       "  'programid': 2,\n",
       "  'candid': 1109565924415015004,\n",
       "  'isdiffpos': 't',\n",
       "  'tblid': 4,\n",
       "  'nid': 1109,\n",
       "  'rcid': 44,\n",
       "  'field': 380,\n",
       "  'xpos': 963.0435791015625,\n",
       "  'ypos': 2300.962158203125,\n",
       "  'ra': 250.1394082,\n",
       "  'dec': -8.6740589,\n",
       "  'magpsf': 19.557470321655273,\n",
       "  'sigmapsf': 0.1663540005683899,\n",
       "  'chipsf': 1.578667163848877,\n",
       "  'magap': 19.33880043029785,\n",
       "  'sigmagap': 0.2721000015735626,\n",
       "  'distnr': 2.3860857486724854,\n",
       "  'magnr': 22.381999969482422,\n",
       "  'sigmagnr': 0.2280000001192093,\n",
       "  'chinr': 0.7580000162124634,\n",
       "  'sharpnr': -0.2029999941587448,\n",
       "  'sky': 0.020566310733556747,\n",
       "  'magdiff': -0.21866999566555023,\n",
       "  'fwhm': 3.2799999713897705,\n",
       "  'classtar': 0.9789999723434448,\n",
       "  'mindtoedge': 779.5377807617188,\n",
       "  'magfromlim': 0.383515864610672,\n",
       "  'seeratio': 0.7646490931510925,\n",
       "  'aimage': 0.8330000042915344,\n",
       "  'bimage': 0.7390000224113464,\n",
       "  'aimagerat': 0.2539634108543396,\n",
       "  'bimagerat': 0.22530487179756165,\n",
       "  'elong': 1.1271989345550537,\n",
       "  'nneg': 6,\n",
       "  'nbad': 0,\n",
       "  'rb': 0.618571400642395,\n",
       "  'ssdistnr': -999.0,\n",
       "  'ssmagnr': -999.0,\n",
       "  'ssnamenr': 'null',\n",
       "  'sumrat': 0.9127148389816284,\n",
       "  'magapbig': 19.810400009155273,\n",
       "  'sigmagapbig': 0.5386000275611877,\n",
       "  'ranr': 250.1400293,\n",
       "  'decnr': -8.6743316,\n",
       "  'sgmag1': -999.0,\n",
       "  'srmag1': -999.0,\n",
       "  'simag1': 19.47249984741211,\n",
       "  'szmag1': -999.0,\n",
       "  'sgscore1': 0.7803329825401306,\n",
       "  'distpsnr1': 0.1342533528804779,\n",
       "  'ndethist': 6,\n",
       "  'ncovhist': 96,\n",
       "  'jdstarthist': 2458860.0658449,\n",
       "  'jdendhist': 2458864.0659259,\n",
       "  'scorr': 9.21509552001953,\n",
       "  'tooflag': 0,\n",
       "  'objectidps1': 97592501394471570,\n",
       "  'objectidps2': 97592501375820643,\n",
       "  'sgmag2': -999.0,\n",
       "  'srmag2': 21.33099937438965,\n",
       "  'simag2': 20.0625,\n",
       "  'szmag2': 19.342899322509766,\n",
       "  'sgscore2': 0.988083004951477,\n",
       "  'distpsnr2': 6.97999382019043,\n",
       "  'objectidps3': 97592501381984515,\n",
       "  'sgmag3': -999.0,\n",
       "  'srmag3': 20.95359992980957,\n",
       "  'simag3': 20.436500549316406,\n",
       "  'szmag3': 20.166900634765625,\n",
       "  'sgscore3': 0.9671670198440552,\n",
       "  'distpsnr3': 10.172480583190918,\n",
       "  'nmtchps': 14,\n",
       "  'rfid': 380120244,\n",
       "  'jdstartref': 2458216.928889,\n",
       "  'jdendref': 2458362.631852,\n",
       "  'nframesref': 21,\n",
       "  'rbversion': 't17_f5_c3',\n",
       "  'dsnrms': 3.5827178955078125,\n",
       "  'ssnrms': 9.924795150756836,\n",
       "  'dsdiff': -6.342077255249023,\n",
       "  'magzpsci': 26.253469467163086,\n",
       "  'magzpsciunc': 6.295399998634821e-06,\n",
       "  'magzpscirms': 0.025374000892043114,\n",
       "  'nmatches': 2062,\n",
       "  'clrcoeff': 0.08481799811124802,\n",
       "  'clrcounc': 9.404599950357806e-06,\n",
       "  'zpclrcov': -7.550000191258732e-06,\n",
       "  'zpmed': 26.320999145507812,\n",
       "  'clrmed': 0.7730000019073486,\n",
       "  'clrrms': 0.15561799705028534,\n",
       "  'neargaia': 24.457279205322266,\n",
       "  'neargaiabright': -999.0,\n",
       "  'maggaia': 17.670639038085938,\n",
       "  'maggaiabright': -999.0,\n",
       "  'exptime': 30.0,\n",
       "  'drb': 0.9851456880569458,\n",
       "  'drbversion': 'd6_m7'},)"
      ]
     },
     "execution_count": 53,
     "metadata": {},
     "output_type": "execute_result"
    }
   ],
   "source": [
    "alerts[0].datapoints"
   ]
  },
  {
   "attachments": {},
   "cell_type": "markdown",
   "id": "d1efd010",
   "metadata": {},
   "source": [
    "### Explore the RedshiftFilter"
   ]
  },
  {
   "cell_type": "code",
   "execution_count": 14,
   "id": "c34ef096",
   "metadata": {},
   "outputs": [],
   "source": [
    "zfilter_config = {\n",
    "    \"catalog_match_radius\": 30,\n",
    "    \"min_z\": 0.002,\n",
    "    \"max_z\": 0.025,\n",
    "    \"max_tspan\": 5.,        # Max total detection age in alert\n",
    "    \"max_archive_tspan\": 5.,        # Max total detection age in IPAC DB\n",
    "    \"min_rb\": 0.3,             # real bogus score\n",
    "    \"min_drb\": 0.995,         # deep learning real bogus score \n",
    "    # Should be set during proper install\n",
    "    \"resource\": {\"ampel-ztf/catalogmatch\":\"https://ampel.zeuthen.desy.de/api/catalogmatch/\"},\n",
    "}"
   ]
  },
  {
   "cell_type": "code",
   "execution_count": 15,
   "id": "4b5e561d",
   "metadata": {},
   "outputs": [],
   "source": [
    "zfilter = RedshiftCatalogFilter( **zfilter_config, logger=logger )\n",
    "zfilter.post_init()"
   ]
  },
  {
   "cell_type": "code",
   "execution_count": 16,
   "id": "6550b4ec",
   "metadata": {},
   "outputs": [
    {
     "name": "stdout",
     "output_type": "stream",
     "text": [
      "2458864.0659259 None\n",
      "2459335.9309375 None\n",
      "2459337.9111574 None\n",
      "2459337.9413194 None\n",
      "2459339.8768866 None\n",
      "2459342.8762731 None\n",
      "2459342.9180556 None\n",
      "2459345.8988542 None\n",
      "2459345.9414352 None\n",
      "2460087.7539699 None\n",
      "2460087.8678125 None\n",
      "2460089.8064815 None\n",
      "2460089.8441782 None\n"
     ]
    }
   ],
   "source": [
    "for alert in alerts:\n",
    "    foo = zfilter.process(alert)\n",
    "    print(alert.datapoints[0]['jd'], foo)"
   ]
  },
  {
   "cell_type": "code",
   "execution_count": 17,
   "id": "cc720bc4",
   "metadata": {},
   "outputs": [
    {
     "data": {
      "text/plain": [
       "2458864.0659259"
      ]
     },
     "execution_count": 17,
     "metadata": {},
     "output_type": "execute_result"
    }
   ],
   "source": [
    "alerts[0].datapoints[0]['jd']"
   ]
  },
  {
   "cell_type": "code",
   "execution_count": null,
   "id": "29460f3e",
   "metadata": {},
   "outputs": [],
   "source": []
  }
 ],
 "metadata": {
  "kernelspec": {
   "display_name": "Python 3 (ipykernel)",
   "language": "python",
   "name": "python3"
  },
  "language_info": {
   "codemirror_mode": {
    "name": "ipython",
    "version": 3
   },
   "file_extension": ".py",
   "mimetype": "text/x-python",
   "name": "python",
   "nbconvert_exporter": "python",
   "pygments_lexer": "ipython3",
   "version": "3.10.9"
  }
 },
 "nbformat": 4,
 "nbformat_minor": 5
}
