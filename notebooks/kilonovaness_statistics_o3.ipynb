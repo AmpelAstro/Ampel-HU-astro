{
 "cells": [
  {
   "cell_type": "code",
   "execution_count": 1,
   "metadata": {},
   "outputs": [],
   "source": [
    "import numpy as np\n",
    "import pandas as pd\n",
    "import matplotlib.pyplot as plt\n",
    "import plotly.graph_objects as go\n",
    "import os"
   ]
  },
  {
   "cell_type": "code",
   "execution_count": 2,
   "metadata": {},
   "outputs": [],
   "source": [
    "tablefile_dir = \"/mnt/c/Users/Public/Documents/Uni/master/masterarbeit/ampel/ampel-results/O3/TransientTable/\"\n",
    "tablefile_name = \"TransientTable.csv\"\n",
    "save_dir = \"./pics/o3/\"\n",
    "tablefiles = [os.path.join(tablefile_dir, event_dir, tablefile_name) for event_dir in os.listdir(tablefile_dir) if os.path.exists(os.path.join(tablefile_dir, event_dir, tablefile_name) )]\n",
    "\n",
    "tablefiles = [os.path.join(tablefile_dir, file) for file in os.listdir(tablefile_dir) if \"TransientTable\" in file]\n",
    "#print(\"\\n\".join(tablefiles))"
   ]
  },
  {
   "cell_type": "code",
   "execution_count": 3,
   "metadata": {},
   "outputs": [
    {
     "name": "stdout",
     "output_type": "stream",
     "text": [
      "760\n"
     ]
    },
    {
     "data": {
      "text/plain": [
       "0      16\n",
       "1      16\n",
       "0      16\n",
       "0      16\n",
       "1      16\n",
       "       ..\n",
       "174     1\n",
       "175     1\n",
       "176     1\n",
       "177     1\n",
       "16      1\n",
       "Name: kilonovaness, Length: 760, dtype: int64"
      ]
     },
     "execution_count": 3,
     "metadata": {},
     "output_type": "execute_result"
    }
   ],
   "source": [
    "all_data = pd.DataFrame()\n",
    "\n",
    "for file in tablefiles:\n",
    "    #print(file)\n",
    "    df_tmp = pd.read_csv(file, sep=\";\")\n",
    "    #print(rate_tmp)\n",
    "    all_data = pd.concat([all_data, df_tmp])\n",
    "\n",
    "#all_data[\"map_name\"]\n",
    "print(len(all_data))\n",
    "all_data[\"kilonovaness\"] = all_data[\"kilonovaness\"].astype(int)\n",
    "all_data_sorted = all_data.copy().sort_values(by=\"kilonovaness\", ascending=False)\n",
    "all_data_sorted[\"kilonovaness\"]"
   ]
  },
  {
   "cell_type": "code",
   "execution_count": 4,
   "metadata": {},
   "outputs": [
    {
     "data": {
      "text/html": [
       "<div>\n",
       "<style scoped>\n",
       "    .dataframe tbody tr th:only-of-type {\n",
       "        vertical-align: middle;\n",
       "    }\n",
       "\n",
       "    .dataframe tbody tr th {\n",
       "        vertical-align: top;\n",
       "    }\n",
       "\n",
       "    .dataframe thead th {\n",
       "        text-align: right;\n",
       "    }\n",
       "</style>\n",
       "<table border=\"1\" class=\"dataframe\">\n",
       "  <thead>\n",
       "    <tr style=\"text-align: right;\">\n",
       "      <th></th>\n",
       "      <th>kilonovaness</th>\n",
       "      <th>kn-1000-rate</th>\n",
       "      <th>seed</th>\n",
       "      <th>Map dist</th>\n",
       "      <th>kn-count</th>\n",
       "    </tr>\n",
       "  </thead>\n",
       "  <tbody>\n",
       "    <tr>\n",
       "      <th>2</th>\n",
       "      <td>3</td>\n",
       "      <td>4.746925</td>\n",
       "      <td>S190910h_0</td>\n",
       "      <td>241.450383</td>\n",
       "      <td>115</td>\n",
       "    </tr>\n",
       "    <tr>\n",
       "      <th>0</th>\n",
       "      <td>1</td>\n",
       "      <td>3.013996</td>\n",
       "      <td>S190930t_0</td>\n",
       "      <td>108.485191</td>\n",
       "      <td>73</td>\n",
       "    </tr>\n",
       "    <tr>\n",
       "      <th>2</th>\n",
       "      <td>3</td>\n",
       "      <td>1.899230</td>\n",
       "      <td>S190930t_0</td>\n",
       "      <td>108.485191</td>\n",
       "      <td>46</td>\n",
       "    </tr>\n",
       "    <tr>\n",
       "      <th>0</th>\n",
       "      <td>1</td>\n",
       "      <td>18.152655</td>\n",
       "      <td>S191109d_0</td>\n",
       "      <td>1810.148665</td>\n",
       "      <td>27</td>\n",
       "    </tr>\n",
       "    <tr>\n",
       "      <th>0</th>\n",
       "      <td>1</td>\n",
       "      <td>36.631187</td>\n",
       "      <td>S191110x_0</td>\n",
       "      <td>203.976886</td>\n",
       "      <td>27</td>\n",
       "    </tr>\n",
       "    <tr>\n",
       "      <th>4</th>\n",
       "      <td>5</td>\n",
       "      <td>0.908107</td>\n",
       "      <td>S190910h_0</td>\n",
       "      <td>241.450383</td>\n",
       "      <td>22</td>\n",
       "    </tr>\n",
       "    <tr>\n",
       "      <th>4</th>\n",
       "      <td>5</td>\n",
       "      <td>0.867040</td>\n",
       "      <td>S190930t_0</td>\n",
       "      <td>108.485191</td>\n",
       "      <td>21</td>\n",
       "    </tr>\n",
       "    <tr>\n",
       "      <th>0</th>\n",
       "      <td>1</td>\n",
       "      <td>7.007407</td>\n",
       "      <td>S190930s_0</td>\n",
       "      <td>752.372125</td>\n",
       "      <td>14</td>\n",
       "    </tr>\n",
       "    <tr>\n",
       "      <th>5</th>\n",
       "      <td>6</td>\n",
       "      <td>0.578027</td>\n",
       "      <td>S190930t_0</td>\n",
       "      <td>108.485191</td>\n",
       "      <td>14</td>\n",
       "    </tr>\n",
       "    <tr>\n",
       "      <th>2</th>\n",
       "      <td>3</td>\n",
       "      <td>6.506878</td>\n",
       "      <td>S190930s_0</td>\n",
       "      <td>752.372125</td>\n",
       "      <td>13</td>\n",
       "    </tr>\n",
       "    <tr>\n",
       "      <th>0</th>\n",
       "      <td>1</td>\n",
       "      <td>9.252234</td>\n",
       "      <td>S191105e_1</td>\n",
       "      <td>1167.541423</td>\n",
       "      <td>12</td>\n",
       "    </tr>\n",
       "    <tr>\n",
       "      <th>0</th>\n",
       "      <td>1</td>\n",
       "      <td>1.935707</td>\n",
       "      <td>S200112r_1</td>\n",
       "      <td>1136.255140</td>\n",
       "      <td>12</td>\n",
       "    </tr>\n",
       "    <tr>\n",
       "      <th>2</th>\n",
       "      <td>3</td>\n",
       "      <td>14.923817</td>\n",
       "      <td>S191110x_0</td>\n",
       "      <td>203.976886</td>\n",
       "      <td>11</td>\n",
       "    </tr>\n",
       "    <tr>\n",
       "      <th>2</th>\n",
       "      <td>3</td>\n",
       "      <td>4.252216</td>\n",
       "      <td>S200213t_1</td>\n",
       "      <td>223.549169</td>\n",
       "      <td>11</td>\n",
       "    </tr>\n",
       "  </tbody>\n",
       "</table>\n",
       "</div>"
      ],
      "text/plain": [
       "   kilonovaness  kn-1000-rate        seed     Map dist  kn-count\n",
       "2             3      4.746925  S190910h_0   241.450383       115\n",
       "0             1      3.013996  S190930t_0   108.485191        73\n",
       "2             3      1.899230  S190930t_0   108.485191        46\n",
       "0             1     18.152655  S191109d_0  1810.148665        27\n",
       "0             1     36.631187  S191110x_0   203.976886        27\n",
       "4             5      0.908107  S190910h_0   241.450383        22\n",
       "4             5      0.867040  S190930t_0   108.485191        21\n",
       "0             1      7.007407  S190930s_0   752.372125        14\n",
       "5             6      0.578027  S190930t_0   108.485191        14\n",
       "2             3      6.506878  S190930s_0   752.372125        13\n",
       "0             1      9.252234  S191105e_1  1167.541423        12\n",
       "0             1      1.935707  S200112r_1  1136.255140        12\n",
       "2             3     14.923817  S191110x_0   203.976886        11\n",
       "2             3      4.252216  S200213t_1   223.549169        11"
      ]
     },
     "execution_count": 4,
     "metadata": {},
     "output_type": "execute_result"
    }
   ],
   "source": [
    "kilonovaness_range = np.arange(1, 25)\n",
    "\n",
    "rate_df = pd.DataFrame()\n",
    "\n",
    "for file in tablefiles:\n",
    "    #print(file)\n",
    "    if \"~lock\" in file:\n",
    "        continue\n",
    "    df_tmp = pd.read_csv(file, sep=\";\")\n",
    "    try:\n",
    "        # count kilonovaness = n occurences in tablefile, then divide by total map_area/1000sqdeg \n",
    "        df_tmp[\"kn-1000-rate\"] = np.array([np.count_nonzero(df_tmp[\"kilonovaness\"] == kilonovaness) for kilonovaness in df_tmp[\"kilonovaness\"]]) / df_tmp[\"map_area\"] * 1000\n",
    "        df_tmp[\"kn-counts\"] = np.array([np.count_nonzero(df_tmp[\"kilonovaness\"] == kilonovaness) for kilonovaness in df_tmp[\"kilonovaness\"]])\n",
    "    except:\n",
    "        print(df_tmp, file)\n",
    "\n",
    "\n",
    "    #rate_tmp = np.array([np.count_nonzero(df_tmp[\"kilonovaness\"] == kilonovaness) for kilonovaness in df_tmp[\"kilonovaness\"].unique()]) / df_tmp[\"map_area\"][0] * 1000\n",
    "    rate_tmp = np.array([np.count_nonzero(df_tmp[\"kilonovaness\"] == kilonovaness) for kilonovaness in kilonovaness_range]) / df_tmp[\"map_area\"][0] * 1000\n",
    "\n",
    "    #count_tmp = np.array([np.count_nonzero(df_tmp[\"kilonovaness\"] == kilonovaness) for kilonovaness in df_tmp[\"kilonovaness\"].unique()])\n",
    "    count_tmp = np.array([np.count_nonzero(df_tmp[\"kilonovaness\"] == kilonovaness) for kilonovaness in kilonovaness_range])\n",
    "\n",
    "    #tmp_rate_df = pd.DataFrame({\"kilonovaness\": df_tmp[\"kilonovaness\"].unique(),\"kn-1000-rate\": rate_tmp, \"seed\": df_tmp[\"map_seed\"][0], \"Map dist\": df_tmp[\"map_dist\"][0], \"kn-count\": count_tmp})\n",
    "    tmp_rate_df = pd.DataFrame({\"kilonovaness\": kilonovaness_range,\"kn-1000-rate\": rate_tmp, \"seed\": df_tmp[\"map_seed\"][0], \"Map dist\": df_tmp[\"map_dist\"][0], \"kn-count\": count_tmp})\n",
    "\n",
    "    #print(rate_tmp)\n",
    "    rate_df = pd.concat([rate_df, tmp_rate_df])\n",
    "\n",
    "\n",
    "rate_df.sort_values(by=\"kn-count\", ascending=False).head(14)\n"
   ]
  },
  {
   "cell_type": "code",
   "execution_count": 5,
   "metadata": {},
   "outputs": [
    {
     "name": "stderr",
     "output_type": "stream",
     "text": [
      "/tmp/ipykernel_20716/3925381868.py:85: UserWarning: The figure layout has changed to tight\n",
      "  fig.tight_layout()\n"
     ]
    },
    {
     "data": {
      "image/png": "[encoded data removed]",
      "text/plain": [
       "<Figure size 1000x1000 with 25 Axes>"
      ]
     },
     "metadata": {},
     "output_type": "display_data"
    }
   ],
   "source": [
    "distance_mins = [0, 400, 800, 1200, 1600]\n",
    "distance_maxs = [400, 800, 1200, 1600, np.inf]\n",
    "n = len(distance_mins)\n",
    "m = len(distance_maxs)\n",
    "\n",
    "binned_data = np.empty((n, m), dtype=pd.DataFrame)\n",
    "\n",
    "#print(binned_data)\n",
    "\n",
    "for k in range(n):\n",
    "    for j in range(k, m):\n",
    "\n",
    "        dist_min = distance_mins[k]\n",
    "        dist_max = distance_maxs[j]\n",
    "        #print(f\"From {dist_min} to {dist_max} Mpc\")\n",
    "\n",
    "\n",
    "        kilonovaness_rate = pd.DataFrame(columns=[\"kilonovaness\", \"rate-1000\", \"std-1000\", \"entries\"])\n",
    "        #print(kilonovaness_rate.head())\n",
    "        #print(data[\"kilonovaness\"].unique())\n",
    "\n",
    "        \n",
    "        lim_data = rate_df.copy()[np.logical_and(rate_df[\"Map dist\"] >= dist_min, rate_df[\"Map dist\"] < dist_max)]\n",
    "\n",
    "        #print(dist_min, dist_max, len(lim_data))\n",
    "        for kilonovaness in lim_data[\"kilonovaness\"].unique():\n",
    "            #print(kilonovaness)\n",
    "            tmp = lim_data.copy()[lim_data[\"kilonovaness\"] == kilonovaness]\n",
    "\n",
    "            #print(tmp)\n",
    "\n",
    "            data_dict = {\"kilonovaness\": [kilonovaness], \"rate-1000\": [np.mean(tmp[\"kn-1000-rate\"].values)], \"std-1000\": [np.std(tmp[\"kn-1000-rate\"].values)], \"entries\":[len(tmp[\"kn-1000-rate\"].values)], \"kn-count\": [sum(tmp[\"kn-count\"])]}\n",
    "            #print(data_dict)\n",
    "            mini_tmp = pd.DataFrame.from_dict(data_dict)\n",
    "\n",
    "            kilonovaness_rate = pd.concat([kilonovaness_rate, mini_tmp])\n",
    "            kilonovaness_rate = kilonovaness_rate.sort_values(by=[\"kilonovaness\"], ascending=True)\n",
    "        \n",
    "        #print(\"kilonovaness rate\", kilonovaness_rate)\n",
    "        binned_data[k, j] = kilonovaness_rate\n",
    "        \n",
    "        # print(kilonovaness_rate)\n",
    "\n",
    "#print(kilonovaness_rate.head(5))\n",
    "\n",
    "#print(binned_data)\n",
    "\n",
    "fig, axs = plt.subplots(ncols=m, nrows=n, figsize=(10, 10),\n",
    "                        layout=\"constrained\", sharex=True, sharey=True, subplot_kw={\"xticks\": [0, 1, 5, 10, 15, 20, 25], \"yticks\": [0, 5, 10, 15, 20,25, 30, 35, 40, 45]})\n",
    "# fill plots\n",
    "for row in range(n):\n",
    "    ind_1 = row\n",
    "    for col in range(m):\n",
    "\n",
    "        ind_2 = col\n",
    "        if (binned_data[row, col] is not None):\n",
    "            #print(), 20, 25\n",
    "            axs[ind_1, ind_2].plot(binned_data[row, col][\"kilonovaness\"], binned_data[row, col][\"rate-1000\"], marker=\".\", label=\"Occurrences\")\n",
    "            #secax_x2 = axs[-row-1, -col-1].twinx()\n",
    "            axs[ind_1, ind_2].plot(binned_data[row, col][\"kilonovaness\"], binned_data[row, col][\"std-1000\"], marker=\".\", color=\"orange\", label=\"Standard deviation\")\n",
    "            #secax_x2.plot(binned_data[row, col][\"kilonovaness\"], binned_data[row, col][\"std-1000\"], marker=\".\", color=\"orange\")\n",
    "            axs[ind_1, ind_2].set_title(f\"{distance_mins[row]}-{distance_maxs[col]} Mpc\", fontsize=8)\n",
    "            axs[ind_1, ind_2].grid()\n",
    "        else:\n",
    "            axs[ind_1, ind_2].set_visible(False)\n",
    "        #pass\n",
    "\n",
    "handles, labels = axs[row, col].get_legend_handles_labels()\n",
    "fig.legend(handles, labels, loc='center right')\n",
    "\n",
    "fig.suptitle('Mean Occurences of kilonovaness per area for distance intervals')\n",
    "fig.supxlabel(\"kilonovaness\")\n",
    "fig.supylabel(\"Occurences per 1000 sq. deg.\", ha=\"left\")\n",
    "\n",
    "# dummy axes 2 for right ylabel\n",
    "# ax = fig.add_subplot(1, 1, 1)\n",
    "# ax.set_xticks([])\n",
    "# ax.set_yticks([])\n",
    "# [ax.spines[side].set_visible(False) for side in ('left', 'top', 'right', 'bottom')]\n",
    "# ax.patch.set_visible(False)\n",
    "# ax.yaxis.set_label_position('right')\n",
    "# ax.set_ylabel('Standard deviation', labelpad=30, fontsize=12)\n",
    "\n",
    "\n",
    "fig.tight_layout()\n",
    "plt.show()\n"
   ]
  },
  {
   "cell_type": "code",
   "execution_count": null,
   "metadata": {},
   "outputs": [],
   "source": []
  },
  {
   "cell_type": "code",
   "execution_count": 10,
   "metadata": {},
   "outputs": [
    {
     "data": {
      "application/vnd.plotly.v1+json": {
       "config": {
        "plotlyServerURL": "https://plot.ly"
       },
       "data": [
        {
         "line": {
          "width": 0
         },
         "marker": {
          "color": "#444"
         },
         "mode": "lines",
         "name": "Upper Bound",
         "showlegend": false,
         "type": "scatter",
         "x": [
          1,
          2,
          3,
          4,
          5,
          6,
          7,
          8,
          9,
          10,
          11,
          12,
          13,
          14,
          15,
          16,
          17,
          18,
          19,
          20,
          21,
          22,
          23,
          24
         ],
         "y": [
          15.304794385312906,
          1.3491400360210863,
          6.345160722583676,
          0.6799765705875964,
          1.1706339488117368,
          1.100984038767555,
          0.3051845809577499,
          1.071594663024329,
          0.7923511493937767,
          1.2294597825533242,
          0.8781265751915213,
          0.6462858564923459,
          0.7990033295186221,
          0.15671744272750793,
          0.2895365201851831,
          0.3983500076968086,
          0,
          0,
          0,
          0,
          0,
          0,
          0,
          0
         ]
        },
        {
         "fill": "tonexty",
         "line": {
          "width": 0
         },
         "mode": "lines",
         "name": "Lower Bound",
         "opacity": 0.1,
         "showlegend": false,
         "type": "scatter",
         "x": [
          1,
          2,
          3,
          4,
          5,
          6,
          7,
          8,
          9,
          10,
          11,
          12,
          13,
          14,
          15,
          16,
          17,
          18,
          19,
          20,
          21,
          22,
          23,
          24
         ],
         "y": [
          -3.7819199384593745,
          -0.3986287597038702,
          -0.571199240855341,
          -0.20817175801468438,
          -0.23534647729685548,
          -0.10686974303329999,
          -0.11312919152866943,
          -0.2714312165022711,
          -0.21282357610507624,
          -0.35906863292745217,
          -0.2691818738724505,
          -0.16698281506402904,
          -0.2015908854519563,
          -0.06955062801076779,
          -0.15027911490034218,
          -0.16311369191688263,
          0,
          0,
          0,
          0,
          0,
          0,
          0,
          0
         ]
        },
        {
         "line": {
          "color": "blue"
         },
         "name": "Occurrences",
         "type": "scatter",
         "x": [
          1,
          2,
          3,
          4,
          5,
          6,
          7,
          8,
          9,
          10,
          11,
          12,
          13,
          14,
          15,
          16,
          17,
          18,
          19,
          20,
          21,
          22,
          23,
          24
         ],
         "y": [
          5.761437223426766,
          0.4752556381586081,
          2.8869807408641677,
          0.235902406286456,
          0.4676437357574406,
          0.4970571478671274,
          0.09602769471454026,
          0.40008172326102887,
          0.28976378664435026,
          0.435195574812936,
          0.3044723506595354,
          0.23965152071415843,
          0.2987062220333329,
          0.043583407358370074,
          0.06962870264242045,
          0.117618157889963,
          0,
          0,
          0,
          0,
          0,
          0,
          0,
          0
         ]
        }
       ],
       "layout": {
        "annotations": [
         {
          "showarrow": false,
          "text": "AT2017gfo <br> at 0 days",
          "x": 18,
          "xanchor": "right",
          "xref": "x",
          "y": 1,
          "yanchor": "top",
          "yref": "y domain"
         },
         {
          "showarrow": false,
          "text": "AT2017gfo <br> at 3 days",
          "x": 21,
          "xanchor": "left",
          "xref": "x",
          "y": 0,
          "yanchor": "bottom",
          "yref": "y domain"
         }
        ],
        "height": 500,
        "hovermode": "x",
        "shapes": [
         {
          "line": {
           "dash": "dash",
           "width": 1
          },
          "type": "line",
          "x0": 18,
          "x1": 18,
          "xref": "x",
          "y0": 0,
          "y1": 1,
          "yref": "y domain"
         },
         {
          "line": {
           "dash": "dash",
           "width": 1
          },
          "type": "line",
          "x0": 21,
          "x1": 21,
          "xref": "x",
          "y0": 0,
          "y1": 1,
          "yref": "y domain"
         }
        ],
        "template": {
         "data": {
          "bar": [
           {
            "error_x": {
             "color": "#2a3f5f"
            },
            "error_y": {
             "color": "#2a3f5f"
            },
            "marker": {
             "line": {
              "color": "#E5ECF6",
              "width": 0.5
             },
             "pattern": {
              "fillmode": "overlay",
              "size": 10,
              "solidity": 0.2
             }
            },
            "type": "bar"
           }
          ],
          "barpolar": [
           {
            "marker": {
             "line": {
              "color": "#E5ECF6",
              "width": 0.5
             },
             "pattern": {
              "fillmode": "overlay",
              "size": 10,
              "solidity": 0.2
             }
            },
            "type": "barpolar"
           }
          ],
          "carpet": [
           {
            "aaxis": {
             "endlinecolor": "#2a3f5f",
             "gridcolor": "white",
             "linecolor": "white",
             "minorgridcolor": "white",
             "startlinecolor": "#2a3f5f"
            },
            "baxis": {
             "endlinecolor": "#2a3f5f",
             "gridcolor": "white",
             "linecolor": "white",
             "minorgridcolor": "white",
             "startlinecolor": "#2a3f5f"
            },
            "type": "carpet"
           }
          ],
          "choropleth": [
           {
            "colorbar": {
             "outlinewidth": 0,
             "ticks": ""
            },
            "type": "choropleth"
           }
          ],
          "contour": [
           {
            "colorbar": {
             "outlinewidth": 0,
             "ticks": ""
            },
            "colorscale": [
             [
              0,
              "#0d0887"
             ],
             [
              0.1111111111111111,
              "#46039f"
             ],
             [
              0.2222222222222222,
              "#7201a8"
             ],
             [
              0.3333333333333333,
              "#9c179e"
             ],
             [
              0.4444444444444444,
              "#bd3786"
             ],
             [
              0.5555555555555556,
              "#d8576b"
             ],
             [
              0.6666666666666666,
              "#ed7953"
             ],
             [
              0.7777777777777778,
              "#fb9f3a"
             ],
             [
              0.8888888888888888,
              "#fdca26"
             ],
             [
              1,
              "#f0f921"
             ]
            ],
            "type": "contour"
           }
          ],
          "contourcarpet": [
           {
            "colorbar": {
             "outlinewidth": 0,
             "ticks": ""
            },
            "type": "contourcarpet"
           }
          ],
          "heatmap": [
           {
            "colorbar": {
             "outlinewidth": 0,
             "ticks": ""
            },
            "colorscale": [
             [
              0,
              "#0d0887"
             ],
             [
              0.1111111111111111,
              "#46039f"
             ],
             [
              0.2222222222222222,
              "#7201a8"
             ],
             [
              0.3333333333333333,
              "#9c179e"
             ],
             [
              0.4444444444444444,
              "#bd3786"
             ],
             [
              0.5555555555555556,
              "#d8576b"
             ],
             [
              0.6666666666666666,
              "#ed7953"
             ],
             [
              0.7777777777777778,
              "#fb9f3a"
             ],
             [
              0.8888888888888888,
              "#fdca26"
             ],
             [
              1,
              "#f0f921"
             ]
            ],
            "type": "heatmap"
           }
          ],
          "heatmapgl": [
           {
            "colorbar": {
             "outlinewidth": 0,
             "ticks": ""
            },
            "colorscale": [
             [
              0,
              "#0d0887"
             ],
             [
              0.1111111111111111,
              "#46039f"
             ],
             [
              0.2222222222222222,
              "#7201a8"
             ],
             [
              0.3333333333333333,
              "#9c179e"
             ],
             [
              0.4444444444444444,
              "#bd3786"
             ],
             [
              0.5555555555555556,
              "#d8576b"
             ],
             [
              0.6666666666666666,
              "#ed7953"
             ],
             [
              0.7777777777777778,
              "#fb9f3a"
             ],
             [
              0.8888888888888888,
              "#fdca26"
             ],
             [
              1,
              "#f0f921"
             ]
            ],
            "type": "heatmapgl"
           }
          ],
          "histogram": [
           {
            "marker": {
             "pattern": {
              "fillmode": "overlay",
              "size": 10,
              "solidity": 0.2
             }
            },
            "type": "histogram"
           }
          ],
          "histogram2d": [
           {
            "colorbar": {
             "outlinewidth": 0,
             "ticks": ""
            },
            "colorscale": [
             [
              0,
              "#0d0887"
             ],
             [
              0.1111111111111111,
              "#46039f"
             ],
             [
              0.2222222222222222,
              "#7201a8"
             ],
             [
              0.3333333333333333,
              "#9c179e"
             ],
             [
              0.4444444444444444,
              "#bd3786"
             ],
             [
              0.5555555555555556,
              "#d8576b"
             ],
             [
              0.6666666666666666,
              "#ed7953"
             ],
             [
              0.7777777777777778,
              "#fb9f3a"
             ],
             [
              0.8888888888888888,
              "#fdca26"
             ],
             [
              1,
              "#f0f921"
             ]
            ],
            "type": "histogram2d"
           }
          ],
          "histogram2dcontour": [
           {
            "colorbar": {
             "outlinewidth": 0,
             "ticks": ""
            },
            "colorscale": [
             [
              0,
              "#0d0887"
             ],
             [
              0.1111111111111111,
              "#46039f"
             ],
             [
              0.2222222222222222,
              "#7201a8"
             ],
             [
              0.3333333333333333,
              "#9c179e"
             ],
             [
              0.4444444444444444,
              "#bd3786"
             ],
             [
              0.5555555555555556,
              "#d8576b"
             ],
             [
              0.6666666666666666,
              "#ed7953"
             ],
             [
              0.7777777777777778,
              "#fb9f3a"
             ],
             [
              0.8888888888888888,
              "#fdca26"
             ],
             [
              1,
              "#f0f921"
             ]
            ],
            "type": "histogram2dcontour"
           }
          ],
          "mesh3d": [
           {
            "colorbar": {
             "outlinewidth": 0,
             "ticks": ""
            },
            "type": "mesh3d"
           }
          ],
          "parcoords": [
           {
            "line": {
             "colorbar": {
              "outlinewidth": 0,
              "ticks": ""
             }
            },
            "type": "parcoords"
           }
          ],
          "pie": [
           {
            "automargin": true,
            "type": "pie"
           }
          ],
          "scatter": [
           {
            "fillpattern": {
             "fillmode": "overlay",
             "size": 10,
             "solidity": 0.2
            },
            "type": "scatter"
           }
          ],
          "scatter3d": [
           {
            "line": {
             "colorbar": {
              "outlinewidth": 0,
              "ticks": ""
             }
            },
            "marker": {
             "colorbar": {
              "outlinewidth": 0,
              "ticks": ""
             }
            },
            "type": "scatter3d"
           }
          ],
          "scattercarpet": [
           {
            "marker": {
             "colorbar": {
              "outlinewidth": 0,
              "ticks": ""
             }
            },
            "type": "scattercarpet"
           }
          ],
          "scattergeo": [
           {
            "marker": {
             "colorbar": {
              "outlinewidth": 0,
              "ticks": ""
             }
            },
            "type": "scattergeo"
           }
          ],
          "scattergl": [
           {
            "marker": {
             "colorbar": {
              "outlinewidth": 0,
              "ticks": ""
             }
            },
            "type": "scattergl"
           }
          ],
          "scattermapbox": [
           {
            "marker": {
             "colorbar": {
              "outlinewidth": 0,
              "ticks": ""
             }
            },
            "type": "scattermapbox"
           }
          ],
          "scatterpolar": [
           {
            "marker": {
             "colorbar": {
              "outlinewidth": 0,
              "ticks": ""
             }
            },
            "type": "scatterpolar"
           }
          ],
          "scatterpolargl": [
           {
            "marker": {
             "colorbar": {
              "outlinewidth": 0,
              "ticks": ""
             }
            },
            "type": "scatterpolargl"
           }
          ],
          "scatterternary": [
           {
            "marker": {
             "colorbar": {
              "outlinewidth": 0,
              "ticks": ""
             }
            },
            "type": "scatterternary"
           }
          ],
          "surface": [
           {
            "colorbar": {
             "outlinewidth": 0,
             "ticks": ""
            },
            "colorscale": [
             [
              0,
              "#0d0887"
             ],
             [
              0.1111111111111111,
              "#46039f"
             ],
             [
              0.2222222222222222,
              "#7201a8"
             ],
             [
              0.3333333333333333,
              "#9c179e"
             ],
             [
              0.4444444444444444,
              "#bd3786"
             ],
             [
              0.5555555555555556,
              "#d8576b"
             ],
             [
              0.6666666666666666,
              "#ed7953"
             ],
             [
              0.7777777777777778,
              "#fb9f3a"
             ],
             [
              0.8888888888888888,
              "#fdca26"
             ],
             [
              1,
              "#f0f921"
             ]
            ],
            "type": "surface"
           }
          ],
          "table": [
           {
            "cells": {
             "fill": {
              "color": "#EBF0F8"
             },
             "line": {
              "color": "white"
             }
            },
            "header": {
             "fill": {
              "color": "#C8D4E3"
             },
             "line": {
              "color": "white"
             }
            },
            "type": "table"
           }
          ]
         },
         "layout": {
          "annotationdefaults": {
           "arrowcolor": "#2a3f5f",
           "arrowhead": 0,
           "arrowwidth": 1
          },
          "autotypenumbers": "strict",
          "coloraxis": {
           "colorbar": {
            "outlinewidth": 0,
            "ticks": ""
           }
          },
          "colorscale": {
           "diverging": [
            [
             0,
             "#8e0152"
            ],
            [
             0.1,
             "#c51b7d"
            ],
            [
             0.2,
             "#de77ae"
            ],
            [
             0.3,
             "#f1b6da"
            ],
            [
             0.4,
             "#fde0ef"
            ],
            [
             0.5,
             "#f7f7f7"
            ],
            [
             0.6,
             "#e6f5d0"
            ],
            [
             0.7,
             "#b8e186"
            ],
            [
             0.8,
             "#7fbc41"
            ],
            [
             0.9,
             "#4d9221"
            ],
            [
             1,
             "#276419"
            ]
           ],
           "sequential": [
            [
             0,
             "#0d0887"
            ],
            [
             0.1111111111111111,
             "#46039f"
            ],
            [
             0.2222222222222222,
             "#7201a8"
            ],
            [
             0.3333333333333333,
             "#9c179e"
            ],
            [
             0.4444444444444444,
             "#bd3786"
            ],
            [
             0.5555555555555556,
             "#d8576b"
            ],
            [
             0.6666666666666666,
             "#ed7953"
            ],
            [
             0.7777777777777778,
             "#fb9f3a"
            ],
            [
             0.8888888888888888,
             "#fdca26"
            ],
            [
             1,
             "#f0f921"
            ]
           ],
           "sequentialminus": [
            [
             0,
             "#0d0887"
            ],
            [
             0.1111111111111111,
             "#46039f"
            ],
            [
             0.2222222222222222,
             "#7201a8"
            ],
            [
             0.3333333333333333,
             "#9c179e"
            ],
            [
             0.4444444444444444,
             "#bd3786"
            ],
            [
             0.5555555555555556,
             "#d8576b"
            ],
            [
             0.6666666666666666,
             "#ed7953"
            ],
            [
             0.7777777777777778,
             "#fb9f3a"
            ],
            [
             0.8888888888888888,
             "#fdca26"
            ],
            [
             1,
             "#f0f921"
            ]
           ]
          },
          "colorway": [
           "#636efa",
           "#EF553B",
           "#00cc96",
           "#ab63fa",
           "#FFA15A",
           "#19d3f3",
           "#FF6692",
           "#B6E880",
           "#FF97FF",
           "#FECB52"
          ],
          "font": {
           "color": "#2a3f5f"
          },
          "geo": {
           "bgcolor": "white",
           "lakecolor": "white",
           "landcolor": "#E5ECF6",
           "showlakes": true,
           "showland": true,
           "subunitcolor": "white"
          },
          "hoverlabel": {
           "align": "left"
          },
          "hovermode": "closest",
          "mapbox": {
           "style": "light"
          },
          "paper_bgcolor": "white",
          "plot_bgcolor": "#E5ECF6",
          "polar": {
           "angularaxis": {
            "gridcolor": "white",
            "linecolor": "white",
            "ticks": ""
           },
           "bgcolor": "#E5ECF6",
           "radialaxis": {
            "gridcolor": "white",
            "linecolor": "white",
            "ticks": ""
           }
          },
          "scene": {
           "xaxis": {
            "backgroundcolor": "#E5ECF6",
            "gridcolor": "white",
            "gridwidth": 2,
            "linecolor": "white",
            "showbackground": true,
            "ticks": "",
            "zerolinecolor": "white"
           },
           "yaxis": {
            "backgroundcolor": "#E5ECF6",
            "gridcolor": "white",
            "gridwidth": 2,
            "linecolor": "white",
            "showbackground": true,
            "ticks": "",
            "zerolinecolor": "white"
           },
           "zaxis": {
            "backgroundcolor": "#E5ECF6",
            "gridcolor": "white",
            "gridwidth": 2,
            "linecolor": "white",
            "showbackground": true,
            "ticks": "",
            "zerolinecolor": "white"
           }
          },
          "shapedefaults": {
           "line": {
            "color": "#2a3f5f"
           }
          },
          "ternary": {
           "aaxis": {
            "gridcolor": "white",
            "linecolor": "white",
            "ticks": ""
           },
           "baxis": {
            "gridcolor": "white",
            "linecolor": "white",
            "ticks": ""
           },
           "bgcolor": "#E5ECF6",
           "caxis": {
            "gridcolor": "white",
            "linecolor": "white",
            "ticks": ""
           }
          },
          "title": {
           "x": 0.05
          },
          "xaxis": {
           "automargin": true,
           "gridcolor": "white",
           "linecolor": "white",
           "ticks": "",
           "title": {
            "standoff": 15
           },
           "zerolinecolor": "white",
           "zerolinewidth": 2
          },
          "yaxis": {
           "automargin": true,
           "gridcolor": "white",
           "linecolor": "white",
           "ticks": "",
           "title": {
            "standoff": 15
           },
           "zerolinecolor": "white",
           "zerolinewidth": 2
          }
         }
        },
        "title": {
         "text": "0-inf Mpc, entries in bin = 760"
        },
        "width": 500,
        "xaxis": {
         "range": [
          0,
          22
         ]
        },
        "yaxis": {
         "title": {
          "text": "Mean occurrences per 1000 sq. deg."
         }
        }
       }
      },
      "text/html": [
       "<div>                            <div id=\"a9f7f0da-9040-4b8d-8d90-19d2221df231\" class=\"plotly-graph-div\" style=\"height:500px; width:500px;\"></div>            <script type=\"text/javascript\">                require([\"plotly\"], function(Plotly) {                    window.PLOTLYENV=window.PLOTLYENV || {};                                    if (document.getElementById(\"a9f7f0da-9040-4b8d-8d90-19d2221df231\")) {                    Plotly.newPlot(                        \"a9f7f0da-9040-4b8d-8d90-19d2221df231\",                        [{\"line\":{\"width\":0},\"marker\":{\"color\":\"#444\"},\"mode\":\"lines\",\"name\":\"Upper Bound\",\"showlegend\":false,\"x\":[1.0,2.0,3.0,4.0,5.0,6.0,7.0,8.0,9.0,10.0,11.0,12.0,13.0,14.0,15.0,16.0,17.0,18.0,19.0,20.0,21.0,22.0,23.0,24.0],\"y\":[15.304794385312906,1.3491400360210863,6.345160722583676,0.6799765705875964,1.1706339488117368,1.100984038767555,0.3051845809577499,1.071594663024329,0.7923511493937767,1.2294597825533242,0.8781265751915213,0.6462858564923459,0.7990033295186221,0.15671744272750793,0.2895365201851831,0.3983500076968086,0.0,0.0,0.0,0.0,0.0,0.0,0.0,0.0],\"type\":\"scatter\"},{\"fill\":\"tonexty\",\"line\":{\"width\":0},\"mode\":\"lines\",\"name\":\"Lower Bound\",\"opacity\":0.1,\"showlegend\":false,\"x\":[1.0,2.0,3.0,4.0,5.0,6.0,7.0,8.0,9.0,10.0,11.0,12.0,13.0,14.0,15.0,16.0,17.0,18.0,19.0,20.0,21.0,22.0,23.0,24.0],\"y\":[-3.7819199384593745,-0.3986287597038702,-0.571199240855341,-0.20817175801468438,-0.23534647729685548,-0.10686974303329999,-0.11312919152866943,-0.2714312165022711,-0.21282357610507624,-0.35906863292745217,-0.2691818738724505,-0.16698281506402904,-0.2015908854519563,-0.06955062801076779,-0.15027911490034218,-0.16311369191688263,0.0,0.0,0.0,0.0,0.0,0.0,0.0,0.0],\"type\":\"scatter\"},{\"line\":{\"color\":\"blue\"},\"name\":\"Occurrences\",\"x\":[1.0,2.0,3.0,4.0,5.0,6.0,7.0,8.0,9.0,10.0,11.0,12.0,13.0,14.0,15.0,16.0,17.0,18.0,19.0,20.0,21.0,22.0,23.0,24.0],\"y\":[5.761437223426766,0.4752556381586081,2.8869807408641677,0.235902406286456,0.4676437357574406,0.4970571478671274,0.09602769471454026,0.40008172326102887,0.28976378664435026,0.435195574812936,0.3044723506595354,0.23965152071415843,0.2987062220333329,0.043583407358370074,0.06962870264242045,0.117618157889963,0.0,0.0,0.0,0.0,0.0,0.0,0.0,0.0],\"type\":\"scatter\"}],                        {\"template\":{\"data\":{\"histogram2dcontour\":[{\"type\":\"histogram2dcontour\",\"colorbar\":{\"outlinewidth\":0,\"ticks\":\"\"},\"colorscale\":[[0.0,\"#0d0887\"],[0.1111111111111111,\"#46039f\"],[0.2222222222222222,\"#7201a8\"],[0.3333333333333333,\"#9c179e\"],[0.4444444444444444,\"#bd3786\"],[0.5555555555555556,\"#d8576b\"],[0.6666666666666666,\"#ed7953\"],[0.7777777777777778,\"#fb9f3a\"],[0.8888888888888888,\"#fdca26\"],[1.0,\"#f0f921\"]]}],\"choropleth\":[{\"type\":\"choropleth\",\"colorbar\":{\"outlinewidth\":0,\"ticks\":\"\"}}],\"histogram2d\":[{\"type\":\"histogram2d\",\"colorbar\":{\"outlinewidth\":0,\"ticks\":\"\"},\"colorscale\":[[0.0,\"#0d0887\"],[0.1111111111111111,\"#46039f\"],[0.2222222222222222,\"#7201a8\"],[0.3333333333333333,\"#9c179e\"],[0.4444444444444444,\"#bd3786\"],[0.5555555555555556,\"#d8576b\"],[0.6666666666666666,\"#ed7953\"],[0.7777777777777778,\"#fb9f3a\"],[0.8888888888888888,\"#fdca26\"],[1.0,\"#f0f921\"]]}],\"heatmap\":[{\"type\":\"heatmap\",\"colorbar\":{\"outlinewidth\":0,\"ticks\":\"\"},\"colorscale\":[[0.0,\"#0d0887\"],[0.1111111111111111,\"#46039f\"],[0.2222222222222222,\"#7201a8\"],[0.3333333333333333,\"#9c179e\"],[0.4444444444444444,\"#bd3786\"],[0.5555555555555556,\"#d8576b\"],[0.6666666666666666,\"#ed7953\"],[0.7777777777777778,\"#fb9f3a\"],[0.8888888888888888,\"#fdca26\"],[1.0,\"#f0f921\"]]}],\"heatmapgl\":[{\"type\":\"heatmapgl\",\"colorbar\":{\"outlinewidth\":0,\"ticks\":\"\"},\"colorscale\":[[0.0,\"#0d0887\"],[0.1111111111111111,\"#46039f\"],[0.2222222222222222,\"#7201a8\"],[0.3333333333333333,\"#9c179e\"],[0.4444444444444444,\"#bd3786\"],[0.5555555555555556,\"#d8576b\"],[0.6666666666666666,\"#ed7953\"],[0.7777777777777778,\"#fb9f3a\"],[0.8888888888888888,\"#fdca26\"],[1.0,\"#f0f921\"]]}],\"contourcarpet\":[{\"type\":\"contourcarpet\",\"colorbar\":{\"outlinewidth\":0,\"ticks\":\"\"}}],\"contour\":[{\"type\":\"contour\",\"colorbar\":{\"outlinewidth\":0,\"ticks\":\"\"},\"colorscale\":[[0.0,\"#0d0887\"],[0.1111111111111111,\"#46039f\"],[0.2222222222222222,\"#7201a8\"],[0.3333333333333333,\"#9c179e\"],[0.4444444444444444,\"#bd3786\"],[0.5555555555555556,\"#d8576b\"],[0.6666666666666666,\"#ed7953\"],[0.7777777777777778,\"#fb9f3a\"],[0.8888888888888888,\"#fdca26\"],[1.0,\"#f0f921\"]]}],\"surface\":[{\"type\":\"surface\",\"colorbar\":{\"outlinewidth\":0,\"ticks\":\"\"},\"colorscale\":[[0.0,\"#0d0887\"],[0.1111111111111111,\"#46039f\"],[0.2222222222222222,\"#7201a8\"],[0.3333333333333333,\"#9c179e\"],[0.4444444444444444,\"#bd3786\"],[0.5555555555555556,\"#d8576b\"],[0.6666666666666666,\"#ed7953\"],[0.7777777777777778,\"#fb9f3a\"],[0.8888888888888888,\"#fdca26\"],[1.0,\"#f0f921\"]]}],\"mesh3d\":[{\"type\":\"mesh3d\",\"colorbar\":{\"outlinewidth\":0,\"ticks\":\"\"}}],\"scatter\":[{\"fillpattern\":{\"fillmode\":\"overlay\",\"size\":10,\"solidity\":0.2},\"type\":\"scatter\"}],\"parcoords\":[{\"type\":\"parcoords\",\"line\":{\"colorbar\":{\"outlinewidth\":0,\"ticks\":\"\"}}}],\"scatterpolargl\":[{\"type\":\"scatterpolargl\",\"marker\":{\"colorbar\":{\"outlinewidth\":0,\"ticks\":\"\"}}}],\"bar\":[{\"error_x\":{\"color\":\"#2a3f5f\"},\"error_y\":{\"color\":\"#2a3f5f\"},\"marker\":{\"line\":{\"color\":\"#E5ECF6\",\"width\":0.5},\"pattern\":{\"fillmode\":\"overlay\",\"size\":10,\"solidity\":0.2}},\"type\":\"bar\"}],\"scattergeo\":[{\"type\":\"scattergeo\",\"marker\":{\"colorbar\":{\"outlinewidth\":0,\"ticks\":\"\"}}}],\"scatterpolar\":[{\"type\":\"scatterpolar\",\"marker\":{\"colorbar\":{\"outlinewidth\":0,\"ticks\":\"\"}}}],\"histogram\":[{\"marker\":{\"pattern\":{\"fillmode\":\"overlay\",\"size\":10,\"solidity\":0.2}},\"type\":\"histogram\"}],\"scattergl\":[{\"type\":\"scattergl\",\"marker\":{\"colorbar\":{\"outlinewidth\":0,\"ticks\":\"\"}}}],\"scatter3d\":[{\"type\":\"scatter3d\",\"line\":{\"colorbar\":{\"outlinewidth\":0,\"ticks\":\"\"}},\"marker\":{\"colorbar\":{\"outlinewidth\":0,\"ticks\":\"\"}}}],\"scattermapbox\":[{\"type\":\"scattermapbox\",\"marker\":{\"colorbar\":{\"outlinewidth\":0,\"ticks\":\"\"}}}],\"scatterternary\":[{\"type\":\"scatterternary\",\"marker\":{\"colorbar\":{\"outlinewidth\":0,\"ticks\":\"\"}}}],\"scattercarpet\":[{\"type\":\"scattercarpet\",\"marker\":{\"colorbar\":{\"outlinewidth\":0,\"ticks\":\"\"}}}],\"carpet\":[{\"aaxis\":{\"endlinecolor\":\"#2a3f5f\",\"gridcolor\":\"white\",\"linecolor\":\"white\",\"minorgridcolor\":\"white\",\"startlinecolor\":\"#2a3f5f\"},\"baxis\":{\"endlinecolor\":\"#2a3f5f\",\"gridcolor\":\"white\",\"linecolor\":\"white\",\"minorgridcolor\":\"white\",\"startlinecolor\":\"#2a3f5f\"},\"type\":\"carpet\"}],\"table\":[{\"cells\":{\"fill\":{\"color\":\"#EBF0F8\"},\"line\":{\"color\":\"white\"}},\"header\":{\"fill\":{\"color\":\"#C8D4E3\"},\"line\":{\"color\":\"white\"}},\"type\":\"table\"}],\"barpolar\":[{\"marker\":{\"line\":{\"color\":\"#E5ECF6\",\"width\":0.5},\"pattern\":{\"fillmode\":\"overlay\",\"size\":10,\"solidity\":0.2}},\"type\":\"barpolar\"}],\"pie\":[{\"automargin\":true,\"type\":\"pie\"}]},\"layout\":{\"autotypenumbers\":\"strict\",\"colorway\":[\"#636efa\",\"#EF553B\",\"#00cc96\",\"#ab63fa\",\"#FFA15A\",\"#19d3f3\",\"#FF6692\",\"#B6E880\",\"#FF97FF\",\"#FECB52\"],\"font\":{\"color\":\"#2a3f5f\"},\"hovermode\":\"closest\",\"hoverlabel\":{\"align\":\"left\"},\"paper_bgcolor\":\"white\",\"plot_bgcolor\":\"#E5ECF6\",\"polar\":{\"bgcolor\":\"#E5ECF6\",\"angularaxis\":{\"gridcolor\":\"white\",\"linecolor\":\"white\",\"ticks\":\"\"},\"radialaxis\":{\"gridcolor\":\"white\",\"linecolor\":\"white\",\"ticks\":\"\"}},\"ternary\":{\"bgcolor\":\"#E5ECF6\",\"aaxis\":{\"gridcolor\":\"white\",\"linecolor\":\"white\",\"ticks\":\"\"},\"baxis\":{\"gridcolor\":\"white\",\"linecolor\":\"white\",\"ticks\":\"\"},\"caxis\":{\"gridcolor\":\"white\",\"linecolor\":\"white\",\"ticks\":\"\"}},\"coloraxis\":{\"colorbar\":{\"outlinewidth\":0,\"ticks\":\"\"}},\"colorscale\":{\"sequential\":[[0.0,\"#0d0887\"],[0.1111111111111111,\"#46039f\"],[0.2222222222222222,\"#7201a8\"],[0.3333333333333333,\"#9c179e\"],[0.4444444444444444,\"#bd3786\"],[0.5555555555555556,\"#d8576b\"],[0.6666666666666666,\"#ed7953\"],[0.7777777777777778,\"#fb9f3a\"],[0.8888888888888888,\"#fdca26\"],[1.0,\"#f0f921\"]],\"sequentialminus\":[[0.0,\"#0d0887\"],[0.1111111111111111,\"#46039f\"],[0.2222222222222222,\"#7201a8\"],[0.3333333333333333,\"#9c179e\"],[0.4444444444444444,\"#bd3786\"],[0.5555555555555556,\"#d8576b\"],[0.6666666666666666,\"#ed7953\"],[0.7777777777777778,\"#fb9f3a\"],[0.8888888888888888,\"#fdca26\"],[1.0,\"#f0f921\"]],\"diverging\":[[0,\"#8e0152\"],[0.1,\"#c51b7d\"],[0.2,\"#de77ae\"],[0.3,\"#f1b6da\"],[0.4,\"#fde0ef\"],[0.5,\"#f7f7f7\"],[0.6,\"#e6f5d0\"],[0.7,\"#b8e186\"],[0.8,\"#7fbc41\"],[0.9,\"#4d9221\"],[1,\"#276419\"]]},\"xaxis\":{\"gridcolor\":\"white\",\"linecolor\":\"white\",\"ticks\":\"\",\"title\":{\"standoff\":15},\"zerolinecolor\":\"white\",\"automargin\":true,\"zerolinewidth\":2},\"yaxis\":{\"gridcolor\":\"white\",\"linecolor\":\"white\",\"ticks\":\"\",\"title\":{\"standoff\":15},\"zerolinecolor\":\"white\",\"automargin\":true,\"zerolinewidth\":2},\"scene\":{\"xaxis\":{\"backgroundcolor\":\"#E5ECF6\",\"gridcolor\":\"white\",\"linecolor\":\"white\",\"showbackground\":true,\"ticks\":\"\",\"zerolinecolor\":\"white\",\"gridwidth\":2},\"yaxis\":{\"backgroundcolor\":\"#E5ECF6\",\"gridcolor\":\"white\",\"linecolor\":\"white\",\"showbackground\":true,\"ticks\":\"\",\"zerolinecolor\":\"white\",\"gridwidth\":2},\"zaxis\":{\"backgroundcolor\":\"#E5ECF6\",\"gridcolor\":\"white\",\"linecolor\":\"white\",\"showbackground\":true,\"ticks\":\"\",\"zerolinecolor\":\"white\",\"gridwidth\":2}},\"shapedefaults\":{\"line\":{\"color\":\"#2a3f5f\"}},\"annotationdefaults\":{\"arrowcolor\":\"#2a3f5f\",\"arrowhead\":0,\"arrowwidth\":1},\"geo\":{\"bgcolor\":\"white\",\"landcolor\":\"#E5ECF6\",\"subunitcolor\":\"white\",\"showland\":true,\"showlakes\":true,\"lakecolor\":\"white\"},\"title\":{\"x\":0.05},\"mapbox\":{\"style\":\"light\"}}},\"shapes\":[{\"line\":{\"dash\":\"dash\",\"width\":1},\"type\":\"line\",\"x0\":18,\"x1\":18,\"xref\":\"x\",\"y0\":0,\"y1\":1,\"yref\":\"y domain\"},{\"line\":{\"dash\":\"dash\",\"width\":1},\"type\":\"line\",\"x0\":21,\"x1\":21,\"xref\":\"x\",\"y0\":0,\"y1\":1,\"yref\":\"y domain\"}],\"annotations\":[{\"showarrow\":false,\"text\":\"AT2017gfo \\u003cbr\\u003e at 0 days\",\"x\":18,\"xanchor\":\"right\",\"xref\":\"x\",\"y\":1,\"yanchor\":\"top\",\"yref\":\"y domain\"},{\"showarrow\":false,\"text\":\"AT2017gfo \\u003cbr\\u003e at 3 days\",\"x\":21,\"xanchor\":\"left\",\"xref\":\"x\",\"y\":0,\"yanchor\":\"bottom\",\"yref\":\"y domain\"}],\"xaxis\":{\"range\":[0,22]},\"width\":500,\"height\":500,\"title\":{\"text\":\"0-inf Mpc, entries in bin = 760\"},\"hovermode\":\"x\",\"yaxis\":{\"title\":{\"text\":\"Mean occurrences per 1000 sq. deg.\"}}},                        {\"responsive\": true}                    ).then(function(){\n",
       "                            \n",
       "var gd = document.getElementById('a9f7f0da-9040-4b8d-8d90-19d2221df231');\n",
       "var x = new MutationObserver(function (mutations, observer) {{\n",
       "        var display = window.getComputedStyle(gd).display;\n",
       "        if (!display || display === 'none') {{\n",
       "            console.log([gd, 'removed!']);\n",
       "            Plotly.purge(gd);\n",
       "            observer.disconnect();\n",
       "        }}\n",
       "}});\n",
       "\n",
       "// Listen for the removal of the full notebook cells\n",
       "var notebookContainer = gd.closest('#notebook-container');\n",
       "if (notebookContainer) {{\n",
       "    x.observe(notebookContainer, {childList: true});\n",
       "}}\n",
       "\n",
       "// Listen for the clearing of the current output cell\n",
       "var outputEl = gd.closest('.output');\n",
       "if (outputEl) {{\n",
       "    x.observe(outputEl, {childList: true});\n",
       "}}\n",
       "\n",
       "                        })                };                });            </script>        </div>"
      ]
     },
     "metadata": {},
     "output_type": "display_data"
    },
    {
     "data": {
      "application/vnd.plotly.v1+json": {
       "config": {
        "plotlyServerURL": "https://plot.ly"
       },
       "data": [
        {
         "line": {
          "width": 0
         },
         "marker": {
          "color": "#444"
         },
         "mode": "lines",
         "name": "Upper Bound",
         "showlegend": false,
         "type": "scatter",
         "x": [
          1,
          2,
          3,
          4,
          5,
          6,
          7,
          8,
          9,
          10,
          11,
          12,
          13,
          14,
          15,
          16,
          17,
          18,
          19,
          20,
          21,
          22,
          23,
          24
         ],
         "y": [
          19.94403385283988,
          0.08964970894482245,
          7.560315110098115,
          0.5843848972414756,
          1.3039285366201485,
          1.2334429151935962,
          0.20248631384427984,
          0.5276508123486261,
          0.6545098443969724,
          0.3397741869952593,
          0.4824756723031256,
          0.06491398419956104,
          0.06779342396442445,
          0.07604003273712767,
          0.044251963988018186,
          0.30925205492174646,
          0,
          0,
          0,
          0,
          0,
          0,
          0,
          0
         ]
        },
        {
         "fill": "tonexty",
         "line": {
          "width": 0
         },
         "mode": "lines",
         "name": "Lower Bound",
         "opacity": 0.1,
         "showlegend": false,
         "type": "scatter",
         "x": [
          1,
          2,
          3,
          4,
          5,
          6,
          7,
          8,
          9,
          10,
          11,
          12,
          13,
          14,
          15,
          16,
          17,
          18,
          19,
          20,
          21,
          22,
          23,
          24
         ],
         "y": [
          -4.896927792628281,
          -0.017842674133885225,
          -0.9243516975130959,
          -0.2163464265960148,
          -0.3169919971952331,
          -0.1058285972275389,
          -0.05918562834059521,
          -0.10597702013401589,
          -0.1942747044012967,
          -0.10858320193477042,
          -0.20463774062902262,
          -0.02249279487768032,
          -0.008883091972264483,
          -0.02535731462474542,
          -0.016546598475396433,
          -0.15462602746087323,
          0,
          0,
          0,
          0,
          0,
          0,
          0,
          0
         ]
        },
        {
         "line": {
          "color": "blue"
         },
         "name": "Occurrences",
         "type": "scatter",
         "x": [
          1,
          2,
          3,
          4,
          5,
          6,
          7,
          8,
          9,
          10,
          11,
          12,
          13,
          14,
          15,
          16,
          17,
          18,
          19,
          20,
          21,
          22,
          23,
          24
         ],
         "y": [
          7.5235530301058,
          0.03590351740546861,
          3.3179817062925094,
          0.18401923532273037,
          0.4934682697124577,
          0.5638071589830287,
          0.07165034275184232,
          0.2108368961073051,
          0.2301175699978378,
          0.11559549253024445,
          0.1389189658370515,
          0.021210594660940357,
          0.029455165996079984,
          0.025341359056191122,
          0.013852682756310875,
          0.07731301373043661,
          0,
          0,
          0,
          0,
          0,
          0,
          0,
          0
         ]
        }
       ],
       "layout": {
        "annotations": [
         {
          "showarrow": false,
          "text": "AT2017gfo <br> at 0 days",
          "x": 18,
          "xanchor": "right",
          "xref": "x",
          "y": 1,
          "yanchor": "top",
          "yref": "y domain"
         },
         {
          "showarrow": false,
          "text": "AT2017gfo <br> at 3 days",
          "x": 21,
          "xanchor": "left",
          "xref": "x",
          "y": 0,
          "yanchor": "bottom",
          "yref": "y domain"
         }
        ],
        "height": 500,
        "hovermode": "x",
        "shapes": [
         {
          "line": {
           "dash": "dash",
           "width": 1
          },
          "type": "line",
          "x0": 18,
          "x1": 18,
          "xref": "x",
          "y0": 0,
          "y1": 1,
          "yref": "y domain"
         },
         {
          "line": {
           "dash": "dash",
           "width": 1
          },
          "type": "line",
          "x0": 21,
          "x1": 21,
          "xref": "x",
          "y0": 0,
          "y1": 1,
          "yref": "y domain"
         }
        ],
        "template": {
         "data": {
          "bar": [
           {
            "error_x": {
             "color": "#2a3f5f"
            },
            "error_y": {
             "color": "#2a3f5f"
            },
            "marker": {
             "line": {
              "color": "#E5ECF6",
              "width": 0.5
             },
             "pattern": {
              "fillmode": "overlay",
              "size": 10,
              "solidity": 0.2
             }
            },
            "type": "bar"
           }
          ],
          "barpolar": [
           {
            "marker": {
             "line": {
              "color": "#E5ECF6",
              "width": 0.5
             },
             "pattern": {
              "fillmode": "overlay",
              "size": 10,
              "solidity": 0.2
             }
            },
            "type": "barpolar"
           }
          ],
          "carpet": [
           {
            "aaxis": {
             "endlinecolor": "#2a3f5f",
             "gridcolor": "white",
             "linecolor": "white",
             "minorgridcolor": "white",
             "startlinecolor": "#2a3f5f"
            },
            "baxis": {
             "endlinecolor": "#2a3f5f",
             "gridcolor": "white",
             "linecolor": "white",
             "minorgridcolor": "white",
             "startlinecolor": "#2a3f5f"
            },
            "type": "carpet"
           }
          ],
          "choropleth": [
           {
            "colorbar": {
             "outlinewidth": 0,
             "ticks": ""
            },
            "type": "choropleth"
           }
          ],
          "contour": [
           {
            "colorbar": {
             "outlinewidth": 0,
             "ticks": ""
            },
            "colorscale": [
             [
              0,
              "#0d0887"
             ],
             [
              0.1111111111111111,
              "#46039f"
             ],
             [
              0.2222222222222222,
              "#7201a8"
             ],
             [
              0.3333333333333333,
              "#9c179e"
             ],
             [
              0.4444444444444444,
              "#bd3786"
             ],
             [
              0.5555555555555556,
              "#d8576b"
             ],
             [
              0.6666666666666666,
              "#ed7953"
             ],
             [
              0.7777777777777778,
              "#fb9f3a"
             ],
             [
              0.8888888888888888,
              "#fdca26"
             ],
             [
              1,
              "#f0f921"
             ]
            ],
            "type": "contour"
           }
          ],
          "contourcarpet": [
           {
            "colorbar": {
             "outlinewidth": 0,
             "ticks": ""
            },
            "type": "contourcarpet"
           }
          ],
          "heatmap": [
           {
            "colorbar": {
             "outlinewidth": 0,
             "ticks": ""
            },
            "colorscale": [
             [
              0,
              "#0d0887"
             ],
             [
              0.1111111111111111,
              "#46039f"
             ],
             [
              0.2222222222222222,
              "#7201a8"
             ],
             [
              0.3333333333333333,
              "#9c179e"
             ],
             [
              0.4444444444444444,
              "#bd3786"
             ],
             [
              0.5555555555555556,
              "#d8576b"
             ],
             [
              0.6666666666666666,
              "#ed7953"
             ],
             [
              0.7777777777777778,
              "#fb9f3a"
             ],
             [
              0.8888888888888888,
              "#fdca26"
             ],
             [
              1,
              "#f0f921"
             ]
            ],
            "type": "heatmap"
           }
          ],
          "heatmapgl": [
           {
            "colorbar": {
             "outlinewidth": 0,
             "ticks": ""
            },
            "colorscale": [
             [
              0,
              "#0d0887"
             ],
             [
              0.1111111111111111,
              "#46039f"
             ],
             [
              0.2222222222222222,
              "#7201a8"
             ],
             [
              0.3333333333333333,
              "#9c179e"
             ],
             [
              0.4444444444444444,
              "#bd3786"
             ],
             [
              0.5555555555555556,
              "#d8576b"
             ],
             [
              0.6666666666666666,
              "#ed7953"
             ],
             [
              0.7777777777777778,
              "#fb9f3a"
             ],
             [
              0.8888888888888888,
              "#fdca26"
             ],
             [
              1,
              "#f0f921"
             ]
            ],
            "type": "heatmapgl"
           }
          ],
          "histogram": [
           {
            "marker": {
             "pattern": {
              "fillmode": "overlay",
              "size": 10,
              "solidity": 0.2
             }
            },
            "type": "histogram"
           }
          ],
          "histogram2d": [
           {
            "colorbar": {
             "outlinewidth": 0,
             "ticks": ""
            },
            "colorscale": [
             [
              0,
              "#0d0887"
             ],
             [
              0.1111111111111111,
              "#46039f"
             ],
             [
              0.2222222222222222,
              "#7201a8"
             ],
             [
              0.3333333333333333,
              "#9c179e"
             ],
             [
              0.4444444444444444,
              "#bd3786"
             ],
             [
              0.5555555555555556,
              "#d8576b"
             ],
             [
              0.6666666666666666,
              "#ed7953"
             ],
             [
              0.7777777777777778,
              "#fb9f3a"
             ],
             [
              0.8888888888888888,
              "#fdca26"
             ],
             [
              1,
              "#f0f921"
             ]
            ],
            "type": "histogram2d"
           }
          ],
          "histogram2dcontour": [
           {
            "colorbar": {
             "outlinewidth": 0,
             "ticks": ""
            },
            "colorscale": [
             [
              0,
              "#0d0887"
             ],
             [
              0.1111111111111111,
              "#46039f"
             ],
             [
              0.2222222222222222,
              "#7201a8"
             ],
             [
              0.3333333333333333,
              "#9c179e"
             ],
             [
              0.4444444444444444,
              "#bd3786"
             ],
             [
              0.5555555555555556,
              "#d8576b"
             ],
             [
              0.6666666666666666,
              "#ed7953"
             ],
             [
              0.7777777777777778,
              "#fb9f3a"
             ],
             [
              0.8888888888888888,
              "#fdca26"
             ],
             [
              1,
              "#f0f921"
             ]
            ],
            "type": "histogram2dcontour"
           }
          ],
          "mesh3d": [
           {
            "colorbar": {
             "outlinewidth": 0,
             "ticks": ""
            },
            "type": "mesh3d"
           }
          ],
          "parcoords": [
           {
            "line": {
             "colorbar": {
              "outlinewidth": 0,
              "ticks": ""
             }
            },
            "type": "parcoords"
           }
          ],
          "pie": [
           {
            "automargin": true,
            "type": "pie"
           }
          ],
          "scatter": [
           {
            "fillpattern": {
             "fillmode": "overlay",
             "size": 10,
             "solidity": 0.2
            },
            "type": "scatter"
           }
          ],
          "scatter3d": [
           {
            "line": {
             "colorbar": {
              "outlinewidth": 0,
              "ticks": ""
             }
            },
            "marker": {
             "colorbar": {
              "outlinewidth": 0,
              "ticks": ""
             }
            },
            "type": "scatter3d"
           }
          ],
          "scattercarpet": [
           {
            "marker": {
             "colorbar": {
              "outlinewidth": 0,
              "ticks": ""
             }
            },
            "type": "scattercarpet"
           }
          ],
          "scattergeo": [
           {
            "marker": {
             "colorbar": {
              "outlinewidth": 0,
              "ticks": ""
             }
            },
            "type": "scattergeo"
           }
          ],
          "scattergl": [
           {
            "marker": {
             "colorbar": {
              "outlinewidth": 0,
              "ticks": ""
             }
            },
            "type": "scattergl"
           }
          ],
          "scattermapbox": [
           {
            "marker": {
             "colorbar": {
              "outlinewidth": 0,
              "ticks": ""
             }
            },
            "type": "scattermapbox"
           }
          ],
          "scatterpolar": [
           {
            "marker": {
             "colorbar": {
              "outlinewidth": 0,
              "ticks": ""
             }
            },
            "type": "scatterpolar"
           }
          ],
          "scatterpolargl": [
           {
            "marker": {
             "colorbar": {
              "outlinewidth": 0,
              "ticks": ""
             }
            },
            "type": "scatterpolargl"
           }
          ],
          "scatterternary": [
           {
            "marker": {
             "colorbar": {
              "outlinewidth": 0,
              "ticks": ""
             }
            },
            "type": "scatterternary"
           }
          ],
          "surface": [
           {
            "colorbar": {
             "outlinewidth": 0,
             "ticks": ""
            },
            "colorscale": [
             [
              0,
              "#0d0887"
             ],
             [
              0.1111111111111111,
              "#46039f"
             ],
             [
              0.2222222222222222,
              "#7201a8"
             ],
             [
              0.3333333333333333,
              "#9c179e"
             ],
             [
              0.4444444444444444,
              "#bd3786"
             ],
             [
              0.5555555555555556,
              "#d8576b"
             ],
             [
              0.6666666666666666,
              "#ed7953"
             ],
             [
              0.7777777777777778,
              "#fb9f3a"
             ],
             [
              0.8888888888888888,
              "#fdca26"
             ],
             [
              1,
              "#f0f921"
             ]
            ],
            "type": "surface"
           }
          ],
          "table": [
           {
            "cells": {
             "fill": {
              "color": "#EBF0F8"
             },
             "line": {
              "color": "white"
             }
            },
            "header": {
             "fill": {
              "color": "#C8D4E3"
             },
             "line": {
              "color": "white"
             }
            },
            "type": "table"
           }
          ]
         },
         "layout": {
          "annotationdefaults": {
           "arrowcolor": "#2a3f5f",
           "arrowhead": 0,
           "arrowwidth": 1
          },
          "autotypenumbers": "strict",
          "coloraxis": {
           "colorbar": {
            "outlinewidth": 0,
            "ticks": ""
           }
          },
          "colorscale": {
           "diverging": [
            [
             0,
             "#8e0152"
            ],
            [
             0.1,
             "#c51b7d"
            ],
            [
             0.2,
             "#de77ae"
            ],
            [
             0.3,
             "#f1b6da"
            ],
            [
             0.4,
             "#fde0ef"
            ],
            [
             0.5,
             "#f7f7f7"
            ],
            [
             0.6,
             "#e6f5d0"
            ],
            [
             0.7,
             "#b8e186"
            ],
            [
             0.8,
             "#7fbc41"
            ],
            [
             0.9,
             "#4d9221"
            ],
            [
             1,
             "#276419"
            ]
           ],
           "sequential": [
            [
             0,
             "#0d0887"
            ],
            [
             0.1111111111111111,
             "#46039f"
            ],
            [
             0.2222222222222222,
             "#7201a8"
            ],
            [
             0.3333333333333333,
             "#9c179e"
            ],
            [
             0.4444444444444444,
             "#bd3786"
            ],
            [
             0.5555555555555556,
             "#d8576b"
            ],
            [
             0.6666666666666666,
             "#ed7953"
            ],
            [
             0.7777777777777778,
             "#fb9f3a"
            ],
            [
             0.8888888888888888,
             "#fdca26"
            ],
            [
             1,
             "#f0f921"
            ]
           ],
           "sequentialminus": [
            [
             0,
             "#0d0887"
            ],
            [
             0.1111111111111111,
             "#46039f"
            ],
            [
             0.2222222222222222,
             "#7201a8"
            ],
            [
             0.3333333333333333,
             "#9c179e"
            ],
            [
             0.4444444444444444,
             "#bd3786"
            ],
            [
             0.5555555555555556,
             "#d8576b"
            ],
            [
             0.6666666666666666,
             "#ed7953"
            ],
            [
             0.7777777777777778,
             "#fb9f3a"
            ],
            [
             0.8888888888888888,
             "#fdca26"
            ],
            [
             1,
             "#f0f921"
            ]
           ]
          },
          "colorway": [
           "#636efa",
           "#EF553B",
           "#00cc96",
           "#ab63fa",
           "#FFA15A",
           "#19d3f3",
           "#FF6692",
           "#B6E880",
           "#FF97FF",
           "#FECB52"
          ],
          "font": {
           "color": "#2a3f5f"
          },
          "geo": {
           "bgcolor": "white",
           "lakecolor": "white",
           "landcolor": "#E5ECF6",
           "showlakes": true,
           "showland": true,
           "subunitcolor": "white"
          },
          "hoverlabel": {
           "align": "left"
          },
          "hovermode": "closest",
          "mapbox": {
           "style": "light"
          },
          "paper_bgcolor": "white",
          "plot_bgcolor": "#E5ECF6",
          "polar": {
           "angularaxis": {
            "gridcolor": "white",
            "linecolor": "white",
            "ticks": ""
           },
           "bgcolor": "#E5ECF6",
           "radialaxis": {
            "gridcolor": "white",
            "linecolor": "white",
            "ticks": ""
           }
          },
          "scene": {
           "xaxis": {
            "backgroundcolor": "#E5ECF6",
            "gridcolor": "white",
            "gridwidth": 2,
            "linecolor": "white",
            "showbackground": true,
            "ticks": "",
            "zerolinecolor": "white"
           },
           "yaxis": {
            "backgroundcolor": "#E5ECF6",
            "gridcolor": "white",
            "gridwidth": 2,
            "linecolor": "white",
            "showbackground": true,
            "ticks": "",
            "zerolinecolor": "white"
           },
           "zaxis": {
            "backgroundcolor": "#E5ECF6",
            "gridcolor": "white",
            "gridwidth": 2,
            "linecolor": "white",
            "showbackground": true,
            "ticks": "",
            "zerolinecolor": "white"
           }
          },
          "shapedefaults": {
           "line": {
            "color": "#2a3f5f"
           }
          },
          "ternary": {
           "aaxis": {
            "gridcolor": "white",
            "linecolor": "white",
            "ticks": ""
           },
           "baxis": {
            "gridcolor": "white",
            "linecolor": "white",
            "ticks": ""
           },
           "bgcolor": "#E5ECF6",
           "caxis": {
            "gridcolor": "white",
            "linecolor": "white",
            "ticks": ""
           }
          },
          "title": {
           "x": 0.05
          },
          "xaxis": {
           "automargin": true,
           "gridcolor": "white",
           "linecolor": "white",
           "ticks": "",
           "title": {
            "standoff": 15
           },
           "zerolinecolor": "white",
           "zerolinewidth": 2
          },
          "yaxis": {
           "automargin": true,
           "gridcolor": "white",
           "linecolor": "white",
           "ticks": "",
           "title": {
            "standoff": 15
           },
           "zerolinecolor": "white",
           "zerolinewidth": 2
          }
         }
        },
        "title": {
         "text": "0-400 Mpc, entries in bin = 508"
        },
        "width": 500,
        "xaxis": {
         "range": [
          0,
          22
         ]
        },
        "yaxis": {
         "title": {
          "text": "Mean occurrences per 1000 sq. deg."
         }
        }
       }
      },
      "text/html": [
       "<div>                            <div id=\"2be6a337-f28e-4075-b77d-4aa88d432d6f\" class=\"plotly-graph-div\" style=\"height:500px; width:500px;\"></div>            <script type=\"text/javascript\">                require([\"plotly\"], function(Plotly) {                    window.PLOTLYENV=window.PLOTLYENV || {};                                    if (document.getElementById(\"2be6a337-f28e-4075-b77d-4aa88d432d6f\")) {                    Plotly.newPlot(                        \"2be6a337-f28e-4075-b77d-4aa88d432d6f\",                        [{\"line\":{\"width\":0},\"marker\":{\"color\":\"#444\"},\"mode\":\"lines\",\"name\":\"Upper Bound\",\"showlegend\":false,\"x\":[1.0,2.0,3.0,4.0,5.0,6.0,7.0,8.0,9.0,10.0,11.0,12.0,13.0,14.0,15.0,16.0,17.0,18.0,19.0,20.0,21.0,22.0,23.0,24.0],\"y\":[19.94403385283988,0.08964970894482245,7.560315110098115,0.5843848972414756,1.3039285366201485,1.2334429151935962,0.20248631384427984,0.5276508123486261,0.6545098443969724,0.3397741869952593,0.4824756723031256,0.06491398419956104,0.06779342396442445,0.07604003273712767,0.044251963988018186,0.30925205492174646,0.0,0.0,0.0,0.0,0.0,0.0,0.0,0.0],\"type\":\"scatter\"},{\"fill\":\"tonexty\",\"line\":{\"width\":0},\"mode\":\"lines\",\"name\":\"Lower Bound\",\"opacity\":0.1,\"showlegend\":false,\"x\":[1.0,2.0,3.0,4.0,5.0,6.0,7.0,8.0,9.0,10.0,11.0,12.0,13.0,14.0,15.0,16.0,17.0,18.0,19.0,20.0,21.0,22.0,23.0,24.0],\"y\":[-4.896927792628281,-0.017842674133885225,-0.9243516975130959,-0.2163464265960148,-0.3169919971952331,-0.1058285972275389,-0.05918562834059521,-0.10597702013401589,-0.1942747044012967,-0.10858320193477042,-0.20463774062902262,-0.02249279487768032,-0.008883091972264483,-0.02535731462474542,-0.016546598475396433,-0.15462602746087323,0.0,0.0,0.0,0.0,0.0,0.0,0.0,0.0],\"type\":\"scatter\"},{\"line\":{\"color\":\"blue\"},\"name\":\"Occurrences\",\"x\":[1.0,2.0,3.0,4.0,5.0,6.0,7.0,8.0,9.0,10.0,11.0,12.0,13.0,14.0,15.0,16.0,17.0,18.0,19.0,20.0,21.0,22.0,23.0,24.0],\"y\":[7.5235530301058,0.03590351740546861,3.3179817062925094,0.18401923532273037,0.4934682697124577,0.5638071589830287,0.07165034275184232,0.2108368961073051,0.2301175699978378,0.11559549253024445,0.1389189658370515,0.021210594660940357,0.029455165996079984,0.025341359056191122,0.013852682756310875,0.07731301373043661,0.0,0.0,0.0,0.0,0.0,0.0,0.0,0.0],\"type\":\"scatter\"}],                        {\"template\":{\"data\":{\"histogram2dcontour\":[{\"type\":\"histogram2dcontour\",\"colorbar\":{\"outlinewidth\":0,\"ticks\":\"\"},\"colorscale\":[[0.0,\"#0d0887\"],[0.1111111111111111,\"#46039f\"],[0.2222222222222222,\"#7201a8\"],[0.3333333333333333,\"#9c179e\"],[0.4444444444444444,\"#bd3786\"],[0.5555555555555556,\"#d8576b\"],[0.6666666666666666,\"#ed7953\"],[0.7777777777777778,\"#fb9f3a\"],[0.8888888888888888,\"#fdca26\"],[1.0,\"#f0f921\"]]}],\"choropleth\":[{\"type\":\"choropleth\",\"colorbar\":{\"outlinewidth\":0,\"ticks\":\"\"}}],\"histogram2d\":[{\"type\":\"histogram2d\",\"colorbar\":{\"outlinewidth\":0,\"ticks\":\"\"},\"colorscale\":[[0.0,\"#0d0887\"],[0.1111111111111111,\"#46039f\"],[0.2222222222222222,\"#7201a8\"],[0.3333333333333333,\"#9c179e\"],[0.4444444444444444,\"#bd3786\"],[0.5555555555555556,\"#d8576b\"],[0.6666666666666666,\"#ed7953\"],[0.7777777777777778,\"#fb9f3a\"],[0.8888888888888888,\"#fdca26\"],[1.0,\"#f0f921\"]]}],\"heatmap\":[{\"type\":\"heatmap\",\"colorbar\":{\"outlinewidth\":0,\"ticks\":\"\"},\"colorscale\":[[0.0,\"#0d0887\"],[0.1111111111111111,\"#46039f\"],[0.2222222222222222,\"#7201a8\"],[0.3333333333333333,\"#9c179e\"],[0.4444444444444444,\"#bd3786\"],[0.5555555555555556,\"#d8576b\"],[0.6666666666666666,\"#ed7953\"],[0.7777777777777778,\"#fb9f3a\"],[0.8888888888888888,\"#fdca26\"],[1.0,\"#f0f921\"]]}],\"heatmapgl\":[{\"type\":\"heatmapgl\",\"colorbar\":{\"outlinewidth\":0,\"ticks\":\"\"},\"colorscale\":[[0.0,\"#0d0887\"],[0.1111111111111111,\"#46039f\"],[0.2222222222222222,\"#7201a8\"],[0.3333333333333333,\"#9c179e\"],[0.4444444444444444,\"#bd3786\"],[0.5555555555555556,\"#d8576b\"],[0.6666666666666666,\"#ed7953\"],[0.7777777777777778,\"#fb9f3a\"],[0.8888888888888888,\"#fdca26\"],[1.0,\"#f0f921\"]]}],\"contourcarpet\":[{\"type\":\"contourcarpet\",\"colorbar\":{\"outlinewidth\":0,\"ticks\":\"\"}}],\"contour\":[{\"type\":\"contour\",\"colorbar\":{\"outlinewidth\":0,\"ticks\":\"\"},\"colorscale\":[[0.0,\"#0d0887\"],[0.1111111111111111,\"#46039f\"],[0.2222222222222222,\"#7201a8\"],[0.3333333333333333,\"#9c179e\"],[0.4444444444444444,\"#bd3786\"],[0.5555555555555556,\"#d8576b\"],[0.6666666666666666,\"#ed7953\"],[0.7777777777777778,\"#fb9f3a\"],[0.8888888888888888,\"#fdca26\"],[1.0,\"#f0f921\"]]}],\"surface\":[{\"type\":\"surface\",\"colorbar\":{\"outlinewidth\":0,\"ticks\":\"\"},\"colorscale\":[[0.0,\"#0d0887\"],[0.1111111111111111,\"#46039f\"],[0.2222222222222222,\"#7201a8\"],[0.3333333333333333,\"#9c179e\"],[0.4444444444444444,\"#bd3786\"],[0.5555555555555556,\"#d8576b\"],[0.6666666666666666,\"#ed7953\"],[0.7777777777777778,\"#fb9f3a\"],[0.8888888888888888,\"#fdca26\"],[1.0,\"#f0f921\"]]}],\"mesh3d\":[{\"type\":\"mesh3d\",\"colorbar\":{\"outlinewidth\":0,\"ticks\":\"\"}}],\"scatter\":[{\"fillpattern\":{\"fillmode\":\"overlay\",\"size\":10,\"solidity\":0.2},\"type\":\"scatter\"}],\"parcoords\":[{\"type\":\"parcoords\",\"line\":{\"colorbar\":{\"outlinewidth\":0,\"ticks\":\"\"}}}],\"scatterpolargl\":[{\"type\":\"scatterpolargl\",\"marker\":{\"colorbar\":{\"outlinewidth\":0,\"ticks\":\"\"}}}],\"bar\":[{\"error_x\":{\"color\":\"#2a3f5f\"},\"error_y\":{\"color\":\"#2a3f5f\"},\"marker\":{\"line\":{\"color\":\"#E5ECF6\",\"width\":0.5},\"pattern\":{\"fillmode\":\"overlay\",\"size\":10,\"solidity\":0.2}},\"type\":\"bar\"}],\"scattergeo\":[{\"type\":\"scattergeo\",\"marker\":{\"colorbar\":{\"outlinewidth\":0,\"ticks\":\"\"}}}],\"scatterpolar\":[{\"type\":\"scatterpolar\",\"marker\":{\"colorbar\":{\"outlinewidth\":0,\"ticks\":\"\"}}}],\"histogram\":[{\"marker\":{\"pattern\":{\"fillmode\":\"overlay\",\"size\":10,\"solidity\":0.2}},\"type\":\"histogram\"}],\"scattergl\":[{\"type\":\"scattergl\",\"marker\":{\"colorbar\":{\"outlinewidth\":0,\"ticks\":\"\"}}}],\"scatter3d\":[{\"type\":\"scatter3d\",\"line\":{\"colorbar\":{\"outlinewidth\":0,\"ticks\":\"\"}},\"marker\":{\"colorbar\":{\"outlinewidth\":0,\"ticks\":\"\"}}}],\"scattermapbox\":[{\"type\":\"scattermapbox\",\"marker\":{\"colorbar\":{\"outlinewidth\":0,\"ticks\":\"\"}}}],\"scatterternary\":[{\"type\":\"scatterternary\",\"marker\":{\"colorbar\":{\"outlinewidth\":0,\"ticks\":\"\"}}}],\"scattercarpet\":[{\"type\":\"scattercarpet\",\"marker\":{\"colorbar\":{\"outlinewidth\":0,\"ticks\":\"\"}}}],\"carpet\":[{\"aaxis\":{\"endlinecolor\":\"#2a3f5f\",\"gridcolor\":\"white\",\"linecolor\":\"white\",\"minorgridcolor\":\"white\",\"startlinecolor\":\"#2a3f5f\"},\"baxis\":{\"endlinecolor\":\"#2a3f5f\",\"gridcolor\":\"white\",\"linecolor\":\"white\",\"minorgridcolor\":\"white\",\"startlinecolor\":\"#2a3f5f\"},\"type\":\"carpet\"}],\"table\":[{\"cells\":{\"fill\":{\"color\":\"#EBF0F8\"},\"line\":{\"color\":\"white\"}},\"header\":{\"fill\":{\"color\":\"#C8D4E3\"},\"line\":{\"color\":\"white\"}},\"type\":\"table\"}],\"barpolar\":[{\"marker\":{\"line\":{\"color\":\"#E5ECF6\",\"width\":0.5},\"pattern\":{\"fillmode\":\"overlay\",\"size\":10,\"solidity\":0.2}},\"type\":\"barpolar\"}],\"pie\":[{\"automargin\":true,\"type\":\"pie\"}]},\"layout\":{\"autotypenumbers\":\"strict\",\"colorway\":[\"#636efa\",\"#EF553B\",\"#00cc96\",\"#ab63fa\",\"#FFA15A\",\"#19d3f3\",\"#FF6692\",\"#B6E880\",\"#FF97FF\",\"#FECB52\"],\"font\":{\"color\":\"#2a3f5f\"},\"hovermode\":\"closest\",\"hoverlabel\":{\"align\":\"left\"},\"paper_bgcolor\":\"white\",\"plot_bgcolor\":\"#E5ECF6\",\"polar\":{\"bgcolor\":\"#E5ECF6\",\"angularaxis\":{\"gridcolor\":\"white\",\"linecolor\":\"white\",\"ticks\":\"\"},\"radialaxis\":{\"gridcolor\":\"white\",\"linecolor\":\"white\",\"ticks\":\"\"}},\"ternary\":{\"bgcolor\":\"#E5ECF6\",\"aaxis\":{\"gridcolor\":\"white\",\"linecolor\":\"white\",\"ticks\":\"\"},\"baxis\":{\"gridcolor\":\"white\",\"linecolor\":\"white\",\"ticks\":\"\"},\"caxis\":{\"gridcolor\":\"white\",\"linecolor\":\"white\",\"ticks\":\"\"}},\"coloraxis\":{\"colorbar\":{\"outlinewidth\":0,\"ticks\":\"\"}},\"colorscale\":{\"sequential\":[[0.0,\"#0d0887\"],[0.1111111111111111,\"#46039f\"],[0.2222222222222222,\"#7201a8\"],[0.3333333333333333,\"#9c179e\"],[0.4444444444444444,\"#bd3786\"],[0.5555555555555556,\"#d8576b\"],[0.6666666666666666,\"#ed7953\"],[0.7777777777777778,\"#fb9f3a\"],[0.8888888888888888,\"#fdca26\"],[1.0,\"#f0f921\"]],\"sequentialminus\":[[0.0,\"#0d0887\"],[0.1111111111111111,\"#46039f\"],[0.2222222222222222,\"#7201a8\"],[0.3333333333333333,\"#9c179e\"],[0.4444444444444444,\"#bd3786\"],[0.5555555555555556,\"#d8576b\"],[0.6666666666666666,\"#ed7953\"],[0.7777777777777778,\"#fb9f3a\"],[0.8888888888888888,\"#fdca26\"],[1.0,\"#f0f921\"]],\"diverging\":[[0,\"#8e0152\"],[0.1,\"#c51b7d\"],[0.2,\"#de77ae\"],[0.3,\"#f1b6da\"],[0.4,\"#fde0ef\"],[0.5,\"#f7f7f7\"],[0.6,\"#e6f5d0\"],[0.7,\"#b8e186\"],[0.8,\"#7fbc41\"],[0.9,\"#4d9221\"],[1,\"#276419\"]]},\"xaxis\":{\"gridcolor\":\"white\",\"linecolor\":\"white\",\"ticks\":\"\",\"title\":{\"standoff\":15},\"zerolinecolor\":\"white\",\"automargin\":true,\"zerolinewidth\":2},\"yaxis\":{\"gridcolor\":\"white\",\"linecolor\":\"white\",\"ticks\":\"\",\"title\":{\"standoff\":15},\"zerolinecolor\":\"white\",\"automargin\":true,\"zerolinewidth\":2},\"scene\":{\"xaxis\":{\"backgroundcolor\":\"#E5ECF6\",\"gridcolor\":\"white\",\"linecolor\":\"white\",\"showbackground\":true,\"ticks\":\"\",\"zerolinecolor\":\"white\",\"gridwidth\":2},\"yaxis\":{\"backgroundcolor\":\"#E5ECF6\",\"gridcolor\":\"white\",\"linecolor\":\"white\",\"showbackground\":true,\"ticks\":\"\",\"zerolinecolor\":\"white\",\"gridwidth\":2},\"zaxis\":{\"backgroundcolor\":\"#E5ECF6\",\"gridcolor\":\"white\",\"linecolor\":\"white\",\"showbackground\":true,\"ticks\":\"\",\"zerolinecolor\":\"white\",\"gridwidth\":2}},\"shapedefaults\":{\"line\":{\"color\":\"#2a3f5f\"}},\"annotationdefaults\":{\"arrowcolor\":\"#2a3f5f\",\"arrowhead\":0,\"arrowwidth\":1},\"geo\":{\"bgcolor\":\"white\",\"landcolor\":\"#E5ECF6\",\"subunitcolor\":\"white\",\"showland\":true,\"showlakes\":true,\"lakecolor\":\"white\"},\"title\":{\"x\":0.05},\"mapbox\":{\"style\":\"light\"}}},\"shapes\":[{\"line\":{\"dash\":\"dash\",\"width\":1},\"type\":\"line\",\"x0\":18,\"x1\":18,\"xref\":\"x\",\"y0\":0,\"y1\":1,\"yref\":\"y domain\"},{\"line\":{\"dash\":\"dash\",\"width\":1},\"type\":\"line\",\"x0\":21,\"x1\":21,\"xref\":\"x\",\"y0\":0,\"y1\":1,\"yref\":\"y domain\"}],\"annotations\":[{\"showarrow\":false,\"text\":\"AT2017gfo \\u003cbr\\u003e at 0 days\",\"x\":18,\"xanchor\":\"right\",\"xref\":\"x\",\"y\":1,\"yanchor\":\"top\",\"yref\":\"y domain\"},{\"showarrow\":false,\"text\":\"AT2017gfo \\u003cbr\\u003e at 3 days\",\"x\":21,\"xanchor\":\"left\",\"xref\":\"x\",\"y\":0,\"yanchor\":\"bottom\",\"yref\":\"y domain\"}],\"xaxis\":{\"range\":[0,22]},\"width\":500,\"height\":500,\"title\":{\"text\":\"0-400 Mpc, entries in bin = 508\"},\"hovermode\":\"x\",\"yaxis\":{\"title\":{\"text\":\"Mean occurrences per 1000 sq. deg.\"}}},                        {\"responsive\": true}                    ).then(function(){\n",
       "                            \n",
       "var gd = document.getElementById('2be6a337-f28e-4075-b77d-4aa88d432d6f');\n",
       "var x = new MutationObserver(function (mutations, observer) {{\n",
       "        var display = window.getComputedStyle(gd).display;\n",
       "        if (!display || display === 'none') {{\n",
       "            console.log([gd, 'removed!']);\n",
       "            Plotly.purge(gd);\n",
       "            observer.disconnect();\n",
       "        }}\n",
       "}});\n",
       "\n",
       "// Listen for the removal of the full notebook cells\n",
       "var notebookContainer = gd.closest('#notebook-container');\n",
       "if (notebookContainer) {{\n",
       "    x.observe(notebookContainer, {childList: true});\n",
       "}}\n",
       "\n",
       "// Listen for the clearing of the current output cell\n",
       "var outputEl = gd.closest('.output');\n",
       "if (outputEl) {{\n",
       "    x.observe(outputEl, {childList: true});\n",
       "}}\n",
       "\n",
       "                        })                };                });            </script>        </div>"
      ]
     },
     "metadata": {},
     "output_type": "display_data"
    },
    {
     "data": {
      "application/vnd.plotly.v1+json": {
       "config": {
        "plotlyServerURL": "https://plot.ly"
       },
       "data": [
        {
         "line": {
          "width": 0
         },
         "marker": {
          "color": "#444"
         },
         "mode": "lines",
         "name": "Upper Bound",
         "showlegend": false,
         "type": "scatter",
         "x": [
          1,
          2,
          3,
          4,
          5,
          6,
          7,
          8,
          9,
          10,
          11,
          12,
          13,
          14,
          15,
          16,
          17,
          18,
          19,
          20,
          21,
          22,
          23,
          24
         ],
         "y": [
          6.11216892879553,
          1.86318795976399,
          5.69131259294609,
          1.1680776829071102,
          1.5333622577266293,
          1.0276995796943467,
          0.34186769371890147,
          0.5090885978452881,
          0.3534635860379179,
          0.7069271720758358,
          0.3534635860379179,
          0.8642855264687793,
          1.4058855591776669,
          0.34186769371890147,
          0.6837353874378029,
          0.8117608879973262,
          0,
          0,
          0,
          0,
          0,
          0,
          0,
          0
         ]
        },
        {
         "fill": "tonexty",
         "line": {
          "width": 0
         },
         "mode": "lines",
         "name": "Lower Bound",
         "opacity": 0.1,
         "showlegend": false,
         "type": "scatter",
         "x": [
          1,
          2,
          3,
          4,
          5,
          6,
          7,
          8,
          9,
          10,
          11,
          12,
          13,
          14,
          15,
          16,
          17,
          18,
          19,
          20,
          21,
          22,
          23,
          24
         ],
         "y": [
          0.8955349819268998,
          -0.1885768226341854,
          0.41322630733307086,
          -0.01097315298780388,
          0.12427131472993991,
          0.12091616788834197,
          -0.09160317245027005,
          -0.00007077297140756222,
          -0.09471028243266877,
          -0.18942056486533754,
          -0.09471028243266877,
          0.15615701534358772,
          0.20767330432572484,
          -0.09160317245027005,
          -0.1832063449005401,
          -0.04398975951819656,
          0,
          0,
          0,
          0,
          0,
          0,
          0,
          0
         ]
        },
        {
         "line": {
          "color": "blue"
         },
         "name": "Occurrences",
         "type": "scatter",
         "x": [
          1,
          2,
          3,
          4,
          5,
          6,
          7,
          8,
          9,
          10,
          11,
          12,
          13,
          14,
          15,
          16,
          17,
          18,
          19,
          20,
          21,
          22,
          23,
          24
         ],
         "y": [
          3.503851955361215,
          0.8373055685649023,
          3.0522694501395806,
          0.5785522649596532,
          0.8288167862282846,
          0.5743078737913443,
          0.1251322606343157,
          0.2545089124369403,
          0.12937665180262456,
          0.2587533036052491,
          0.12937665180262456,
          0.5102212709061835,
          0.8067794317516959,
          0.1251322606343157,
          0.2502645212686314,
          0.3838855642395648,
          0,
          0,
          0,
          0,
          0,
          0,
          0,
          0
         ]
        }
       ],
       "layout": {
        "annotations": [
         {
          "showarrow": false,
          "text": "AT2017gfo <br> at 0 days",
          "x": 18,
          "xanchor": "right",
          "xref": "x",
          "y": 1,
          "yanchor": "top",
          "yref": "y domain"
         },
         {
          "showarrow": false,
          "text": "AT2017gfo <br> at 3 days",
          "x": 21,
          "xanchor": "left",
          "xref": "x",
          "y": 0,
          "yanchor": "bottom",
          "yref": "y domain"
         }
        ],
        "height": 500,
        "hovermode": "x",
        "shapes": [
         {
          "line": {
           "dash": "dash",
           "width": 1
          },
          "type": "line",
          "x0": 18,
          "x1": 18,
          "xref": "x",
          "y0": 0,
          "y1": 1,
          "yref": "y domain"
         },
         {
          "line": {
           "dash": "dash",
           "width": 1
          },
          "type": "line",
          "x0": 21,
          "x1": 21,
          "xref": "x",
          "y0": 0,
          "y1": 1,
          "yref": "y domain"
         }
        ],
        "template": {
         "data": {
          "bar": [
           {
            "error_x": {
             "color": "#2a3f5f"
            },
            "error_y": {
             "color": "#2a3f5f"
            },
            "marker": {
             "line": {
              "color": "#E5ECF6",
              "width": 0.5
             },
             "pattern": {
              "fillmode": "overlay",
              "size": 10,
              "solidity": 0.2
             }
            },
            "type": "bar"
           }
          ],
          "barpolar": [
           {
            "marker": {
             "line": {
              "color": "#E5ECF6",
              "width": 0.5
             },
             "pattern": {
              "fillmode": "overlay",
              "size": 10,
              "solidity": 0.2
             }
            },
            "type": "barpolar"
           }
          ],
          "carpet": [
           {
            "aaxis": {
             "endlinecolor": "#2a3f5f",
             "gridcolor": "white",
             "linecolor": "white",
             "minorgridcolor": "white",
             "startlinecolor": "#2a3f5f"
            },
            "baxis": {
             "endlinecolor": "#2a3f5f",
             "gridcolor": "white",
             "linecolor": "white",
             "minorgridcolor": "white",
             "startlinecolor": "#2a3f5f"
            },
            "type": "carpet"
           }
          ],
          "choropleth": [
           {
            "colorbar": {
             "outlinewidth": 0,
             "ticks": ""
            },
            "type": "choropleth"
           }
          ],
          "contour": [
           {
            "colorbar": {
             "outlinewidth": 0,
             "ticks": ""
            },
            "colorscale": [
             [
              0,
              "#0d0887"
             ],
             [
              0.1111111111111111,
              "#46039f"
             ],
             [
              0.2222222222222222,
              "#7201a8"
             ],
             [
              0.3333333333333333,
              "#9c179e"
             ],
             [
              0.4444444444444444,
              "#bd3786"
             ],
             [
              0.5555555555555556,
              "#d8576b"
             ],
             [
              0.6666666666666666,
              "#ed7953"
             ],
             [
              0.7777777777777778,
              "#fb9f3a"
             ],
             [
              0.8888888888888888,
              "#fdca26"
             ],
             [
              1,
              "#f0f921"
             ]
            ],
            "type": "contour"
           }
          ],
          "contourcarpet": [
           {
            "colorbar": {
             "outlinewidth": 0,
             "ticks": ""
            },
            "type": "contourcarpet"
           }
          ],
          "heatmap": [
           {
            "colorbar": {
             "outlinewidth": 0,
             "ticks": ""
            },
            "colorscale": [
             [
              0,
              "#0d0887"
             ],
             [
              0.1111111111111111,
              "#46039f"
             ],
             [
              0.2222222222222222,
              "#7201a8"
             ],
             [
              0.3333333333333333,
              "#9c179e"
             ],
             [
              0.4444444444444444,
              "#bd3786"
             ],
             [
              0.5555555555555556,
              "#d8576b"
             ],
             [
              0.6666666666666666,
              "#ed7953"
             ],
             [
              0.7777777777777778,
              "#fb9f3a"
             ],
             [
              0.8888888888888888,
              "#fdca26"
             ],
             [
              1,
              "#f0f921"
             ]
            ],
            "type": "heatmap"
           }
          ],
          "heatmapgl": [
           {
            "colorbar": {
             "outlinewidth": 0,
             "ticks": ""
            },
            "colorscale": [
             [
              0,
              "#0d0887"
             ],
             [
              0.1111111111111111,
              "#46039f"
             ],
             [
              0.2222222222222222,
              "#7201a8"
             ],
             [
              0.3333333333333333,
              "#9c179e"
             ],
             [
              0.4444444444444444,
              "#bd3786"
             ],
             [
              0.5555555555555556,
              "#d8576b"
             ],
             [
              0.6666666666666666,
              "#ed7953"
             ],
             [
              0.7777777777777778,
              "#fb9f3a"
             ],
             [
              0.8888888888888888,
              "#fdca26"
             ],
             [
              1,
              "#f0f921"
             ]
            ],
            "type": "heatmapgl"
           }
          ],
          "histogram": [
           {
            "marker": {
             "pattern": {
              "fillmode": "overlay",
              "size": 10,
              "solidity": 0.2
             }
            },
            "type": "histogram"
           }
          ],
          "histogram2d": [
           {
            "colorbar": {
             "outlinewidth": 0,
             "ticks": ""
            },
            "colorscale": [
             [
              0,
              "#0d0887"
             ],
             [
              0.1111111111111111,
              "#46039f"
             ],
             [
              0.2222222222222222,
              "#7201a8"
             ],
             [
              0.3333333333333333,
              "#9c179e"
             ],
             [
              0.4444444444444444,
              "#bd3786"
             ],
             [
              0.5555555555555556,
              "#d8576b"
             ],
             [
              0.6666666666666666,
              "#ed7953"
             ],
             [
              0.7777777777777778,
              "#fb9f3a"
             ],
             [
              0.8888888888888888,
              "#fdca26"
             ],
             [
              1,
              "#f0f921"
             ]
            ],
            "type": "histogram2d"
           }
          ],
          "histogram2dcontour": [
           {
            "colorbar": {
             "outlinewidth": 0,
             "ticks": ""
            },
            "colorscale": [
             [
              0,
              "#0d0887"
             ],
             [
              0.1111111111111111,
              "#46039f"
             ],
             [
              0.2222222222222222,
              "#7201a8"
             ],
             [
              0.3333333333333333,
              "#9c179e"
             ],
             [
              0.4444444444444444,
              "#bd3786"
             ],
             [
              0.5555555555555556,
              "#d8576b"
             ],
             [
              0.6666666666666666,
              "#ed7953"
             ],
             [
              0.7777777777777778,
              "#fb9f3a"
             ],
             [
              0.8888888888888888,
              "#fdca26"
             ],
             [
              1,
              "#f0f921"
             ]
            ],
            "type": "histogram2dcontour"
           }
          ],
          "mesh3d": [
           {
            "colorbar": {
             "outlinewidth": 0,
             "ticks": ""
            },
            "type": "mesh3d"
           }
          ],
          "parcoords": [
           {
            "line": {
             "colorbar": {
              "outlinewidth": 0,
              "ticks": ""
             }
            },
            "type": "parcoords"
           }
          ],
          "pie": [
           {
            "automargin": true,
            "type": "pie"
           }
          ],
          "scatter": [
           {
            "fillpattern": {
             "fillmode": "overlay",
             "size": 10,
             "solidity": 0.2
            },
            "type": "scatter"
           }
          ],
          "scatter3d": [
           {
            "line": {
             "colorbar": {
              "outlinewidth": 0,
              "ticks": ""
             }
            },
            "marker": {
             "colorbar": {
              "outlinewidth": 0,
              "ticks": ""
             }
            },
            "type": "scatter3d"
           }
          ],
          "scattercarpet": [
           {
            "marker": {
             "colorbar": {
              "outlinewidth": 0,
              "ticks": ""
             }
            },
            "type": "scattercarpet"
           }
          ],
          "scattergeo": [
           {
            "marker": {
             "colorbar": {
              "outlinewidth": 0,
              "ticks": ""
             }
            },
            "type": "scattergeo"
           }
          ],
          "scattergl": [
           {
            "marker": {
             "colorbar": {
              "outlinewidth": 0,
              "ticks": ""
             }
            },
            "type": "scattergl"
           }
          ],
          "scattermapbox": [
           {
            "marker": {
             "colorbar": {
              "outlinewidth": 0,
              "ticks": ""
             }
            },
            "type": "scattermapbox"
           }
          ],
          "scatterpolar": [
           {
            "marker": {
             "colorbar": {
              "outlinewidth": 0,
              "ticks": ""
             }
            },
            "type": "scatterpolar"
           }
          ],
          "scatterpolargl": [
           {
            "marker": {
             "colorbar": {
              "outlinewidth": 0,
              "ticks": ""
             }
            },
            "type": "scatterpolargl"
           }
          ],
          "scatterternary": [
           {
            "marker": {
             "colorbar": {
              "outlinewidth": 0,
              "ticks": ""
             }
            },
            "type": "scatterternary"
           }
          ],
          "surface": [
           {
            "colorbar": {
             "outlinewidth": 0,
             "ticks": ""
            },
            "colorscale": [
             [
              0,
              "#0d0887"
             ],
             [
              0.1111111111111111,
              "#46039f"
             ],
             [
              0.2222222222222222,
              "#7201a8"
             ],
             [
              0.3333333333333333,
              "#9c179e"
             ],
             [
              0.4444444444444444,
              "#bd3786"
             ],
             [
              0.5555555555555556,
              "#d8576b"
             ],
             [
              0.6666666666666666,
              "#ed7953"
             ],
             [
              0.7777777777777778,
              "#fb9f3a"
             ],
             [
              0.8888888888888888,
              "#fdca26"
             ],
             [
              1,
              "#f0f921"
             ]
            ],
            "type": "surface"
           }
          ],
          "table": [
           {
            "cells": {
             "fill": {
              "color": "#EBF0F8"
             },
             "line": {
              "color": "white"
             }
            },
            "header": {
             "fill": {
              "color": "#C8D4E3"
             },
             "line": {
              "color": "white"
             }
            },
            "type": "table"
           }
          ]
         },
         "layout": {
          "annotationdefaults": {
           "arrowcolor": "#2a3f5f",
           "arrowhead": 0,
           "arrowwidth": 1
          },
          "autotypenumbers": "strict",
          "coloraxis": {
           "colorbar": {
            "outlinewidth": 0,
            "ticks": ""
           }
          },
          "colorscale": {
           "diverging": [
            [
             0,
             "#8e0152"
            ],
            [
             0.1,
             "#c51b7d"
            ],
            [
             0.2,
             "#de77ae"
            ],
            [
             0.3,
             "#f1b6da"
            ],
            [
             0.4,
             "#fde0ef"
            ],
            [
             0.5,
             "#f7f7f7"
            ],
            [
             0.6,
             "#e6f5d0"
            ],
            [
             0.7,
             "#b8e186"
            ],
            [
             0.8,
             "#7fbc41"
            ],
            [
             0.9,
             "#4d9221"
            ],
            [
             1,
             "#276419"
            ]
           ],
           "sequential": [
            [
             0,
             "#0d0887"
            ],
            [
             0.1111111111111111,
             "#46039f"
            ],
            [
             0.2222222222222222,
             "#7201a8"
            ],
            [
             0.3333333333333333,
             "#9c179e"
            ],
            [
             0.4444444444444444,
             "#bd3786"
            ],
            [
             0.5555555555555556,
             "#d8576b"
            ],
            [
             0.6666666666666666,
             "#ed7953"
            ],
            [
             0.7777777777777778,
             "#fb9f3a"
            ],
            [
             0.8888888888888888,
             "#fdca26"
            ],
            [
             1,
             "#f0f921"
            ]
           ],
           "sequentialminus": [
            [
             0,
             "#0d0887"
            ],
            [
             0.1111111111111111,
             "#46039f"
            ],
            [
             0.2222222222222222,
             "#7201a8"
            ],
            [
             0.3333333333333333,
             "#9c179e"
            ],
            [
             0.4444444444444444,
             "#bd3786"
            ],
            [
             0.5555555555555556,
             "#d8576b"
            ],
            [
             0.6666666666666666,
             "#ed7953"
            ],
            [
             0.7777777777777778,
             "#fb9f3a"
            ],
            [
             0.8888888888888888,
             "#fdca26"
            ],
            [
             1,
             "#f0f921"
            ]
           ]
          },
          "colorway": [
           "#636efa",
           "#EF553B",
           "#00cc96",
           "#ab63fa",
           "#FFA15A",
           "#19d3f3",
           "#FF6692",
           "#B6E880",
           "#FF97FF",
           "#FECB52"
          ],
          "font": {
           "color": "#2a3f5f"
          },
          "geo": {
           "bgcolor": "white",
           "lakecolor": "white",
           "landcolor": "#E5ECF6",
           "showlakes": true,
           "showland": true,
           "subunitcolor": "white"
          },
          "hoverlabel": {
           "align": "left"
          },
          "hovermode": "closest",
          "mapbox": {
           "style": "light"
          },
          "paper_bgcolor": "white",
          "plot_bgcolor": "#E5ECF6",
          "polar": {
           "angularaxis": {
            "gridcolor": "white",
            "linecolor": "white",
            "ticks": ""
           },
           "bgcolor": "#E5ECF6",
           "radialaxis": {
            "gridcolor": "white",
            "linecolor": "white",
            "ticks": ""
           }
          },
          "scene": {
           "xaxis": {
            "backgroundcolor": "#E5ECF6",
            "gridcolor": "white",
            "gridwidth": 2,
            "linecolor": "white",
            "showbackground": true,
            "ticks": "",
            "zerolinecolor": "white"
           },
           "yaxis": {
            "backgroundcolor": "#E5ECF6",
            "gridcolor": "white",
            "gridwidth": 2,
            "linecolor": "white",
            "showbackground": true,
            "ticks": "",
            "zerolinecolor": "white"
           },
           "zaxis": {
            "backgroundcolor": "#E5ECF6",
            "gridcolor": "white",
            "gridwidth": 2,
            "linecolor": "white",
            "showbackground": true,
            "ticks": "",
            "zerolinecolor": "white"
           }
          },
          "shapedefaults": {
           "line": {
            "color": "#2a3f5f"
           }
          },
          "ternary": {
           "aaxis": {
            "gridcolor": "white",
            "linecolor": "white",
            "ticks": ""
           },
           "baxis": {
            "gridcolor": "white",
            "linecolor": "white",
            "ticks": ""
           },
           "bgcolor": "#E5ECF6",
           "caxis": {
            "gridcolor": "white",
            "linecolor": "white",
            "ticks": ""
           }
          },
          "title": {
           "x": 0.05
          },
          "xaxis": {
           "automargin": true,
           "gridcolor": "white",
           "linecolor": "white",
           "ticks": "",
           "title": {
            "standoff": 15
           },
           "zerolinecolor": "white",
           "zerolinewidth": 2
          },
          "yaxis": {
           "automargin": true,
           "gridcolor": "white",
           "linecolor": "white",
           "ticks": "",
           "title": {
            "standoff": 15
           },
           "zerolinecolor": "white",
           "zerolinewidth": 2
          }
         }
        },
        "title": {
         "text": "400-800 Mpc, entries in bin = 105"
        },
        "width": 500,
        "xaxis": {
         "range": [
          0,
          22
         ]
        },
        "yaxis": {
         "title": {
          "text": "Mean occurrences per 1000 sq. deg."
         }
        }
       }
      },
      "text/html": [
       "<div>                            <div id=\"00931cc5-6f6c-4baf-ab9a-bc7125f66ad5\" class=\"plotly-graph-div\" style=\"height:500px; width:500px;\"></div>            <script type=\"text/javascript\">                require([\"plotly\"], function(Plotly) {                    window.PLOTLYENV=window.PLOTLYENV || {};                                    if (document.getElementById(\"00931cc5-6f6c-4baf-ab9a-bc7125f66ad5\")) {                    Plotly.newPlot(                        \"00931cc5-6f6c-4baf-ab9a-bc7125f66ad5\",                        [{\"line\":{\"width\":0},\"marker\":{\"color\":\"#444\"},\"mode\":\"lines\",\"name\":\"Upper Bound\",\"showlegend\":false,\"x\":[1.0,2.0,3.0,4.0,5.0,6.0,7.0,8.0,9.0,10.0,11.0,12.0,13.0,14.0,15.0,16.0,17.0,18.0,19.0,20.0,21.0,22.0,23.0,24.0],\"y\":[6.11216892879553,1.86318795976399,5.69131259294609,1.1680776829071102,1.5333622577266293,1.0276995796943467,0.34186769371890147,0.5090885978452881,0.3534635860379179,0.7069271720758358,0.3534635860379179,0.8642855264687793,1.4058855591776669,0.34186769371890147,0.6837353874378029,0.8117608879973262,0.0,0.0,0.0,0.0,0.0,0.0,0.0,0.0],\"type\":\"scatter\"},{\"fill\":\"tonexty\",\"line\":{\"width\":0},\"mode\":\"lines\",\"name\":\"Lower Bound\",\"opacity\":0.1,\"showlegend\":false,\"x\":[1.0,2.0,3.0,4.0,5.0,6.0,7.0,8.0,9.0,10.0,11.0,12.0,13.0,14.0,15.0,16.0,17.0,18.0,19.0,20.0,21.0,22.0,23.0,24.0],\"y\":[0.8955349819268998,-0.1885768226341854,0.41322630733307086,-0.01097315298780388,0.12427131472993991,0.12091616788834197,-0.09160317245027005,-0.00007077297140756222,-0.09471028243266877,-0.18942056486533754,-0.09471028243266877,0.15615701534358772,0.20767330432572484,-0.09160317245027005,-0.1832063449005401,-0.04398975951819656,0.0,0.0,0.0,0.0,0.0,0.0,0.0,0.0],\"type\":\"scatter\"},{\"line\":{\"color\":\"blue\"},\"name\":\"Occurrences\",\"x\":[1.0,2.0,3.0,4.0,5.0,6.0,7.0,8.0,9.0,10.0,11.0,12.0,13.0,14.0,15.0,16.0,17.0,18.0,19.0,20.0,21.0,22.0,23.0,24.0],\"y\":[3.503851955361215,0.8373055685649023,3.0522694501395806,0.5785522649596532,0.8288167862282846,0.5743078737913443,0.1251322606343157,0.2545089124369403,0.12937665180262456,0.2587533036052491,0.12937665180262456,0.5102212709061835,0.8067794317516959,0.1251322606343157,0.2502645212686314,0.3838855642395648,0.0,0.0,0.0,0.0,0.0,0.0,0.0,0.0],\"type\":\"scatter\"}],                        {\"template\":{\"data\":{\"histogram2dcontour\":[{\"type\":\"histogram2dcontour\",\"colorbar\":{\"outlinewidth\":0,\"ticks\":\"\"},\"colorscale\":[[0.0,\"#0d0887\"],[0.1111111111111111,\"#46039f\"],[0.2222222222222222,\"#7201a8\"],[0.3333333333333333,\"#9c179e\"],[0.4444444444444444,\"#bd3786\"],[0.5555555555555556,\"#d8576b\"],[0.6666666666666666,\"#ed7953\"],[0.7777777777777778,\"#fb9f3a\"],[0.8888888888888888,\"#fdca26\"],[1.0,\"#f0f921\"]]}],\"choropleth\":[{\"type\":\"choropleth\",\"colorbar\":{\"outlinewidth\":0,\"ticks\":\"\"}}],\"histogram2d\":[{\"type\":\"histogram2d\",\"colorbar\":{\"outlinewidth\":0,\"ticks\":\"\"},\"colorscale\":[[0.0,\"#0d0887\"],[0.1111111111111111,\"#46039f\"],[0.2222222222222222,\"#7201a8\"],[0.3333333333333333,\"#9c179e\"],[0.4444444444444444,\"#bd3786\"],[0.5555555555555556,\"#d8576b\"],[0.6666666666666666,\"#ed7953\"],[0.7777777777777778,\"#fb9f3a\"],[0.8888888888888888,\"#fdca26\"],[1.0,\"#f0f921\"]]}],\"heatmap\":[{\"type\":\"heatmap\",\"colorbar\":{\"outlinewidth\":0,\"ticks\":\"\"},\"colorscale\":[[0.0,\"#0d0887\"],[0.1111111111111111,\"#46039f\"],[0.2222222222222222,\"#7201a8\"],[0.3333333333333333,\"#9c179e\"],[0.4444444444444444,\"#bd3786\"],[0.5555555555555556,\"#d8576b\"],[0.6666666666666666,\"#ed7953\"],[0.7777777777777778,\"#fb9f3a\"],[0.8888888888888888,\"#fdca26\"],[1.0,\"#f0f921\"]]}],\"heatmapgl\":[{\"type\":\"heatmapgl\",\"colorbar\":{\"outlinewidth\":0,\"ticks\":\"\"},\"colorscale\":[[0.0,\"#0d0887\"],[0.1111111111111111,\"#46039f\"],[0.2222222222222222,\"#7201a8\"],[0.3333333333333333,\"#9c179e\"],[0.4444444444444444,\"#bd3786\"],[0.5555555555555556,\"#d8576b\"],[0.6666666666666666,\"#ed7953\"],[0.7777777777777778,\"#fb9f3a\"],[0.8888888888888888,\"#fdca26\"],[1.0,\"#f0f921\"]]}],\"contourcarpet\":[{\"type\":\"contourcarpet\",\"colorbar\":{\"outlinewidth\":0,\"ticks\":\"\"}}],\"contour\":[{\"type\":\"contour\",\"colorbar\":{\"outlinewidth\":0,\"ticks\":\"\"},\"colorscale\":[[0.0,\"#0d0887\"],[0.1111111111111111,\"#46039f\"],[0.2222222222222222,\"#7201a8\"],[0.3333333333333333,\"#9c179e\"],[0.4444444444444444,\"#bd3786\"],[0.5555555555555556,\"#d8576b\"],[0.6666666666666666,\"#ed7953\"],[0.7777777777777778,\"#fb9f3a\"],[0.8888888888888888,\"#fdca26\"],[1.0,\"#f0f921\"]]}],\"surface\":[{\"type\":\"surface\",\"colorbar\":{\"outlinewidth\":0,\"ticks\":\"\"},\"colorscale\":[[0.0,\"#0d0887\"],[0.1111111111111111,\"#46039f\"],[0.2222222222222222,\"#7201a8\"],[0.3333333333333333,\"#9c179e\"],[0.4444444444444444,\"#bd3786\"],[0.5555555555555556,\"#d8576b\"],[0.6666666666666666,\"#ed7953\"],[0.7777777777777778,\"#fb9f3a\"],[0.8888888888888888,\"#fdca26\"],[1.0,\"#f0f921\"]]}],\"mesh3d\":[{\"type\":\"mesh3d\",\"colorbar\":{\"outlinewidth\":0,\"ticks\":\"\"}}],\"scatter\":[{\"fillpattern\":{\"fillmode\":\"overlay\",\"size\":10,\"solidity\":0.2},\"type\":\"scatter\"}],\"parcoords\":[{\"type\":\"parcoords\",\"line\":{\"colorbar\":{\"outlinewidth\":0,\"ticks\":\"\"}}}],\"scatterpolargl\":[{\"type\":\"scatterpolargl\",\"marker\":{\"colorbar\":{\"outlinewidth\":0,\"ticks\":\"\"}}}],\"bar\":[{\"error_x\":{\"color\":\"#2a3f5f\"},\"error_y\":{\"color\":\"#2a3f5f\"},\"marker\":{\"line\":{\"color\":\"#E5ECF6\",\"width\":0.5},\"pattern\":{\"fillmode\":\"overlay\",\"size\":10,\"solidity\":0.2}},\"type\":\"bar\"}],\"scattergeo\":[{\"type\":\"scattergeo\",\"marker\":{\"colorbar\":{\"outlinewidth\":0,\"ticks\":\"\"}}}],\"scatterpolar\":[{\"type\":\"scatterpolar\",\"marker\":{\"colorbar\":{\"outlinewidth\":0,\"ticks\":\"\"}}}],\"histogram\":[{\"marker\":{\"pattern\":{\"fillmode\":\"overlay\",\"size\":10,\"solidity\":0.2}},\"type\":\"histogram\"}],\"scattergl\":[{\"type\":\"scattergl\",\"marker\":{\"colorbar\":{\"outlinewidth\":0,\"ticks\":\"\"}}}],\"scatter3d\":[{\"type\":\"scatter3d\",\"line\":{\"colorbar\":{\"outlinewidth\":0,\"ticks\":\"\"}},\"marker\":{\"colorbar\":{\"outlinewidth\":0,\"ticks\":\"\"}}}],\"scattermapbox\":[{\"type\":\"scattermapbox\",\"marker\":{\"colorbar\":{\"outlinewidth\":0,\"ticks\":\"\"}}}],\"scatterternary\":[{\"type\":\"scatterternary\",\"marker\":{\"colorbar\":{\"outlinewidth\":0,\"ticks\":\"\"}}}],\"scattercarpet\":[{\"type\":\"scattercarpet\",\"marker\":{\"colorbar\":{\"outlinewidth\":0,\"ticks\":\"\"}}}],\"carpet\":[{\"aaxis\":{\"endlinecolor\":\"#2a3f5f\",\"gridcolor\":\"white\",\"linecolor\":\"white\",\"minorgridcolor\":\"white\",\"startlinecolor\":\"#2a3f5f\"},\"baxis\":{\"endlinecolor\":\"#2a3f5f\",\"gridcolor\":\"white\",\"linecolor\":\"white\",\"minorgridcolor\":\"white\",\"startlinecolor\":\"#2a3f5f\"},\"type\":\"carpet\"}],\"table\":[{\"cells\":{\"fill\":{\"color\":\"#EBF0F8\"},\"line\":{\"color\":\"white\"}},\"header\":{\"fill\":{\"color\":\"#C8D4E3\"},\"line\":{\"color\":\"white\"}},\"type\":\"table\"}],\"barpolar\":[{\"marker\":{\"line\":{\"color\":\"#E5ECF6\",\"width\":0.5},\"pattern\":{\"fillmode\":\"overlay\",\"size\":10,\"solidity\":0.2}},\"type\":\"barpolar\"}],\"pie\":[{\"automargin\":true,\"type\":\"pie\"}]},\"layout\":{\"autotypenumbers\":\"strict\",\"colorway\":[\"#636efa\",\"#EF553B\",\"#00cc96\",\"#ab63fa\",\"#FFA15A\",\"#19d3f3\",\"#FF6692\",\"#B6E880\",\"#FF97FF\",\"#FECB52\"],\"font\":{\"color\":\"#2a3f5f\"},\"hovermode\":\"closest\",\"hoverlabel\":{\"align\":\"left\"},\"paper_bgcolor\":\"white\",\"plot_bgcolor\":\"#E5ECF6\",\"polar\":{\"bgcolor\":\"#E5ECF6\",\"angularaxis\":{\"gridcolor\":\"white\",\"linecolor\":\"white\",\"ticks\":\"\"},\"radialaxis\":{\"gridcolor\":\"white\",\"linecolor\":\"white\",\"ticks\":\"\"}},\"ternary\":{\"bgcolor\":\"#E5ECF6\",\"aaxis\":{\"gridcolor\":\"white\",\"linecolor\":\"white\",\"ticks\":\"\"},\"baxis\":{\"gridcolor\":\"white\",\"linecolor\":\"white\",\"ticks\":\"\"},\"caxis\":{\"gridcolor\":\"white\",\"linecolor\":\"white\",\"ticks\":\"\"}},\"coloraxis\":{\"colorbar\":{\"outlinewidth\":0,\"ticks\":\"\"}},\"colorscale\":{\"sequential\":[[0.0,\"#0d0887\"],[0.1111111111111111,\"#46039f\"],[0.2222222222222222,\"#7201a8\"],[0.3333333333333333,\"#9c179e\"],[0.4444444444444444,\"#bd3786\"],[0.5555555555555556,\"#d8576b\"],[0.6666666666666666,\"#ed7953\"],[0.7777777777777778,\"#fb9f3a\"],[0.8888888888888888,\"#fdca26\"],[1.0,\"#f0f921\"]],\"sequentialminus\":[[0.0,\"#0d0887\"],[0.1111111111111111,\"#46039f\"],[0.2222222222222222,\"#7201a8\"],[0.3333333333333333,\"#9c179e\"],[0.4444444444444444,\"#bd3786\"],[0.5555555555555556,\"#d8576b\"],[0.6666666666666666,\"#ed7953\"],[0.7777777777777778,\"#fb9f3a\"],[0.8888888888888888,\"#fdca26\"],[1.0,\"#f0f921\"]],\"diverging\":[[0,\"#8e0152\"],[0.1,\"#c51b7d\"],[0.2,\"#de77ae\"],[0.3,\"#f1b6da\"],[0.4,\"#fde0ef\"],[0.5,\"#f7f7f7\"],[0.6,\"#e6f5d0\"],[0.7,\"#b8e186\"],[0.8,\"#7fbc41\"],[0.9,\"#4d9221\"],[1,\"#276419\"]]},\"xaxis\":{\"gridcolor\":\"white\",\"linecolor\":\"white\",\"ticks\":\"\",\"title\":{\"standoff\":15},\"zerolinecolor\":\"white\",\"automargin\":true,\"zerolinewidth\":2},\"yaxis\":{\"gridcolor\":\"white\",\"linecolor\":\"white\",\"ticks\":\"\",\"title\":{\"standoff\":15},\"zerolinecolor\":\"white\",\"automargin\":true,\"zerolinewidth\":2},\"scene\":{\"xaxis\":{\"backgroundcolor\":\"#E5ECF6\",\"gridcolor\":\"white\",\"linecolor\":\"white\",\"showbackground\":true,\"ticks\":\"\",\"zerolinecolor\":\"white\",\"gridwidth\":2},\"yaxis\":{\"backgroundcolor\":\"#E5ECF6\",\"gridcolor\":\"white\",\"linecolor\":\"white\",\"showbackground\":true,\"ticks\":\"\",\"zerolinecolor\":\"white\",\"gridwidth\":2},\"zaxis\":{\"backgroundcolor\":\"#E5ECF6\",\"gridcolor\":\"white\",\"linecolor\":\"white\",\"showbackground\":true,\"ticks\":\"\",\"zerolinecolor\":\"white\",\"gridwidth\":2}},\"shapedefaults\":{\"line\":{\"color\":\"#2a3f5f\"}},\"annotationdefaults\":{\"arrowcolor\":\"#2a3f5f\",\"arrowhead\":0,\"arrowwidth\":1},\"geo\":{\"bgcolor\":\"white\",\"landcolor\":\"#E5ECF6\",\"subunitcolor\":\"white\",\"showland\":true,\"showlakes\":true,\"lakecolor\":\"white\"},\"title\":{\"x\":0.05},\"mapbox\":{\"style\":\"light\"}}},\"shapes\":[{\"line\":{\"dash\":\"dash\",\"width\":1},\"type\":\"line\",\"x0\":18,\"x1\":18,\"xref\":\"x\",\"y0\":0,\"y1\":1,\"yref\":\"y domain\"},{\"line\":{\"dash\":\"dash\",\"width\":1},\"type\":\"line\",\"x0\":21,\"x1\":21,\"xref\":\"x\",\"y0\":0,\"y1\":1,\"yref\":\"y domain\"}],\"annotations\":[{\"showarrow\":false,\"text\":\"AT2017gfo \\u003cbr\\u003e at 0 days\",\"x\":18,\"xanchor\":\"right\",\"xref\":\"x\",\"y\":1,\"yanchor\":\"top\",\"yref\":\"y domain\"},{\"showarrow\":false,\"text\":\"AT2017gfo \\u003cbr\\u003e at 3 days\",\"x\":21,\"xanchor\":\"left\",\"xref\":\"x\",\"y\":0,\"yanchor\":\"bottom\",\"yref\":\"y domain\"}],\"xaxis\":{\"range\":[0,22]},\"width\":500,\"height\":500,\"title\":{\"text\":\"400-800 Mpc, entries in bin = 105\"},\"hovermode\":\"x\",\"yaxis\":{\"title\":{\"text\":\"Mean occurrences per 1000 sq. deg.\"}}},                        {\"responsive\": true}                    ).then(function(){\n",
       "                            \n",
       "var gd = document.getElementById('00931cc5-6f6c-4baf-ab9a-bc7125f66ad5');\n",
       "var x = new MutationObserver(function (mutations, observer) {{\n",
       "        var display = window.getComputedStyle(gd).display;\n",
       "        if (!display || display === 'none') {{\n",
       "            console.log([gd, 'removed!']);\n",
       "            Plotly.purge(gd);\n",
       "            observer.disconnect();\n",
       "        }}\n",
       "}});\n",
       "\n",
       "// Listen for the removal of the full notebook cells\n",
       "var notebookContainer = gd.closest('#notebook-container');\n",
       "if (notebookContainer) {{\n",
       "    x.observe(notebookContainer, {childList: true});\n",
       "}}\n",
       "\n",
       "// Listen for the clearing of the current output cell\n",
       "var outputEl = gd.closest('.output');\n",
       "if (outputEl) {{\n",
       "    x.observe(outputEl, {childList: true});\n",
       "}}\n",
       "\n",
       "                        })                };                });            </script>        </div>"
      ]
     },
     "metadata": {},
     "output_type": "display_data"
    },
    {
     "data": {
      "application/vnd.plotly.v1+json": {
       "config": {
        "plotlyServerURL": "https://plot.ly"
       },
       "data": [
        {
         "line": {
          "width": 0
         },
         "marker": {
          "color": "#444"
         },
         "mode": "lines",
         "name": "Upper Bound",
         "showlegend": false,
         "type": "scatter",
         "x": [
          1,
          2,
          3,
          4,
          5,
          6,
          7,
          8,
          9,
          10,
          11,
          12,
          13,
          14,
          15,
          16,
          17,
          18,
          19,
          20,
          21,
          22,
          23,
          24
         ],
         "y": [
          9.252233879026532,
          0,
          4.626116939513266,
          0,
          0.7710194899188777,
          1.5420389798377556,
          0,
          3.0840779596755112,
          0.3226178428531952,
          1.5420389798377556,
          0.7710194899188777,
          0.4839267642797928,
          0.7710194899188777,
          0.1613089214265976,
          0.3226178428531952,
          0.1613089214265976,
          0,
          0,
          0,
          0,
          0,
          0,
          0,
          0
         ]
        },
        {
         "fill": "tonexty",
         "line": {
          "width": 0
         },
         "mode": "lines",
         "name": "Lower Bound",
         "opacity": 0.1,
         "showlegend": false,
         "type": "scatter",
         "x": [
          1,
          2,
          3,
          4,
          5,
          6,
          7,
          8,
          9,
          10,
          11,
          12,
          13,
          14,
          15,
          16,
          17,
          18,
          19,
          20,
          21,
          22,
          23,
          24
         ],
         "y": [
          1.935707057119171,
          0,
          1.1291624499861832,
          0,
          0,
          0.16130892142659758,
          0,
          0.32261784285319517,
          0,
          0.16130892142659758,
          0.6452356857063904,
          0,
          0.48392676427979275,
          0,
          0,
          0,
          0,
          0,
          0,
          0,
          0,
          0,
          0,
          0
         ]
        },
        {
         "line": {
          "color": "blue"
         },
         "name": "Occurrences",
         "type": "scatter",
         "x": [
          1,
          2,
          3,
          4,
          5,
          6,
          7,
          8,
          9,
          10,
          11,
          12,
          13,
          14,
          15,
          16,
          17,
          18,
          19,
          20,
          21,
          22,
          23,
          24
         ],
         "y": [
          5.593970468072851,
          0,
          2.8776396947497247,
          0,
          0.38550974495943885,
          0.8516739506321765,
          0,
          1.703347901264353,
          0.1613089214265976,
          0.8516739506321765,
          0.7081275878126341,
          0.2419633821398964,
          0.6274731270993352,
          0.0806544607132988,
          0.1613089214265976,
          0.0806544607132988,
          0,
          0,
          0,
          0,
          0,
          0,
          0,
          0
         ]
        }
       ],
       "layout": {
        "annotations": [
         {
          "showarrow": false,
          "text": "AT2017gfo <br> at 0 days",
          "x": 18,
          "xanchor": "right",
          "xref": "x",
          "y": 1,
          "yanchor": "top",
          "yref": "y domain"
         },
         {
          "showarrow": false,
          "text": "AT2017gfo <br> at 3 days",
          "x": 21,
          "xanchor": "left",
          "xref": "x",
          "y": 0,
          "yanchor": "bottom",
          "yref": "y domain"
         }
        ],
        "height": 500,
        "hovermode": "x",
        "shapes": [
         {
          "line": {
           "dash": "dash",
           "width": 1
          },
          "type": "line",
          "x0": 18,
          "x1": 18,
          "xref": "x",
          "y0": 0,
          "y1": 1,
          "yref": "y domain"
         },
         {
          "line": {
           "dash": "dash",
           "width": 1
          },
          "type": "line",
          "x0": 21,
          "x1": 21,
          "xref": "x",
          "y0": 0,
          "y1": 1,
          "yref": "y domain"
         }
        ],
        "template": {
         "data": {
          "bar": [
           {
            "error_x": {
             "color": "#2a3f5f"
            },
            "error_y": {
             "color": "#2a3f5f"
            },
            "marker": {
             "line": {
              "color": "#E5ECF6",
              "width": 0.5
             },
             "pattern": {
              "fillmode": "overlay",
              "size": 10,
              "solidity": 0.2
             }
            },
            "type": "bar"
           }
          ],
          "barpolar": [
           {
            "marker": {
             "line": {
              "color": "#E5ECF6",
              "width": 0.5
             },
             "pattern": {
              "fillmode": "overlay",
              "size": 10,
              "solidity": 0.2
             }
            },
            "type": "barpolar"
           }
          ],
          "carpet": [
           {
            "aaxis": {
             "endlinecolor": "#2a3f5f",
             "gridcolor": "white",
             "linecolor": "white",
             "minorgridcolor": "white",
             "startlinecolor": "#2a3f5f"
            },
            "baxis": {
             "endlinecolor": "#2a3f5f",
             "gridcolor": "white",
             "linecolor": "white",
             "minorgridcolor": "white",
             "startlinecolor": "#2a3f5f"
            },
            "type": "carpet"
           }
          ],
          "choropleth": [
           {
            "colorbar": {
             "outlinewidth": 0,
             "ticks": ""
            },
            "type": "choropleth"
           }
          ],
          "contour": [
           {
            "colorbar": {
             "outlinewidth": 0,
             "ticks": ""
            },
            "colorscale": [
             [
              0,
              "#0d0887"
             ],
             [
              0.1111111111111111,
              "#46039f"
             ],
             [
              0.2222222222222222,
              "#7201a8"
             ],
             [
              0.3333333333333333,
              "#9c179e"
             ],
             [
              0.4444444444444444,
              "#bd3786"
             ],
             [
              0.5555555555555556,
              "#d8576b"
             ],
             [
              0.6666666666666666,
              "#ed7953"
             ],
             [
              0.7777777777777778,
              "#fb9f3a"
             ],
             [
              0.8888888888888888,
              "#fdca26"
             ],
             [
              1,
              "#f0f921"
             ]
            ],
            "type": "contour"
           }
          ],
          "contourcarpet": [
           {
            "colorbar": {
             "outlinewidth": 0,
             "ticks": ""
            },
            "type": "contourcarpet"
           }
          ],
          "heatmap": [
           {
            "colorbar": {
             "outlinewidth": 0,
             "ticks": ""
            },
            "colorscale": [
             [
              0,
              "#0d0887"
             ],
             [
              0.1111111111111111,
              "#46039f"
             ],
             [
              0.2222222222222222,
              "#7201a8"
             ],
             [
              0.3333333333333333,
              "#9c179e"
             ],
             [
              0.4444444444444444,
              "#bd3786"
             ],
             [
              0.5555555555555556,
              "#d8576b"
             ],
             [
              0.6666666666666666,
              "#ed7953"
             ],
             [
              0.7777777777777778,
              "#fb9f3a"
             ],
             [
              0.8888888888888888,
              "#fdca26"
             ],
             [
              1,
              "#f0f921"
             ]
            ],
            "type": "heatmap"
           }
          ],
          "heatmapgl": [
           {
            "colorbar": {
             "outlinewidth": 0,
             "ticks": ""
            },
            "colorscale": [
             [
              0,
              "#0d0887"
             ],
             [
              0.1111111111111111,
              "#46039f"
             ],
             [
              0.2222222222222222,
              "#7201a8"
             ],
             [
              0.3333333333333333,
              "#9c179e"
             ],
             [
              0.4444444444444444,
              "#bd3786"
             ],
             [
              0.5555555555555556,
              "#d8576b"
             ],
             [
              0.6666666666666666,
              "#ed7953"
             ],
             [
              0.7777777777777778,
              "#fb9f3a"
             ],
             [
              0.8888888888888888,
              "#fdca26"
             ],
             [
              1,
              "#f0f921"
             ]
            ],
            "type": "heatmapgl"
           }
          ],
          "histogram": [
           {
            "marker": {
             "pattern": {
              "fillmode": "overlay",
              "size": 10,
              "solidity": 0.2
             }
            },
            "type": "histogram"
           }
          ],
          "histogram2d": [
           {
            "colorbar": {
             "outlinewidth": 0,
             "ticks": ""
            },
            "colorscale": [
             [
              0,
              "#0d0887"
             ],
             [
              0.1111111111111111,
              "#46039f"
             ],
             [
              0.2222222222222222,
              "#7201a8"
             ],
             [
              0.3333333333333333,
              "#9c179e"
             ],
             [
              0.4444444444444444,
              "#bd3786"
             ],
             [
              0.5555555555555556,
              "#d8576b"
             ],
             [
              0.6666666666666666,
              "#ed7953"
             ],
             [
              0.7777777777777778,
              "#fb9f3a"
             ],
             [
              0.8888888888888888,
              "#fdca26"
             ],
             [
              1,
              "#f0f921"
             ]
            ],
            "type": "histogram2d"
           }
          ],
          "histogram2dcontour": [
           {
            "colorbar": {
             "outlinewidth": 0,
             "ticks": ""
            },
            "colorscale": [
             [
              0,
              "#0d0887"
             ],
             [
              0.1111111111111111,
              "#46039f"
             ],
             [
              0.2222222222222222,
              "#7201a8"
             ],
             [
              0.3333333333333333,
              "#9c179e"
             ],
             [
              0.4444444444444444,
              "#bd3786"
             ],
             [
              0.5555555555555556,
              "#d8576b"
             ],
             [
              0.6666666666666666,
              "#ed7953"
             ],
             [
              0.7777777777777778,
              "#fb9f3a"
             ],
             [
              0.8888888888888888,
              "#fdca26"
             ],
             [
              1,
              "#f0f921"
             ]
            ],
            "type": "histogram2dcontour"
           }
          ],
          "mesh3d": [
           {
            "colorbar": {
             "outlinewidth": 0,
             "ticks": ""
            },
            "type": "mesh3d"
           }
          ],
          "parcoords": [
           {
            "line": {
             "colorbar": {
              "outlinewidth": 0,
              "ticks": ""
             }
            },
            "type": "parcoords"
           }
          ],
          "pie": [
           {
            "automargin": true,
            "type": "pie"
           }
          ],
          "scatter": [
           {
            "fillpattern": {
             "fillmode": "overlay",
             "size": 10,
             "solidity": 0.2
            },
            "type": "scatter"
           }
          ],
          "scatter3d": [
           {
            "line": {
             "colorbar": {
              "outlinewidth": 0,
              "ticks": ""
             }
            },
            "marker": {
             "colorbar": {
              "outlinewidth": 0,
              "ticks": ""
             }
            },
            "type": "scatter3d"
           }
          ],
          "scattercarpet": [
           {
            "marker": {
             "colorbar": {
              "outlinewidth": 0,
              "ticks": ""
             }
            },
            "type": "scattercarpet"
           }
          ],
          "scattergeo": [
           {
            "marker": {
             "colorbar": {
              "outlinewidth": 0,
              "ticks": ""
             }
            },
            "type": "scattergeo"
           }
          ],
          "scattergl": [
           {
            "marker": {
             "colorbar": {
              "outlinewidth": 0,
              "ticks": ""
             }
            },
            "type": "scattergl"
           }
          ],
          "scattermapbox": [
           {
            "marker": {
             "colorbar": {
              "outlinewidth": 0,
              "ticks": ""
             }
            },
            "type": "scattermapbox"
           }
          ],
          "scatterpolar": [
           {
            "marker": {
             "colorbar": {
              "outlinewidth": 0,
              "ticks": ""
             }
            },
            "type": "scatterpolar"
           }
          ],
          "scatterpolargl": [
           {
            "marker": {
             "colorbar": {
              "outlinewidth": 0,
              "ticks": ""
             }
            },
            "type": "scatterpolargl"
           }
          ],
          "scatterternary": [
           {
            "marker": {
             "colorbar": {
              "outlinewidth": 0,
              "ticks": ""
             }
            },
            "type": "scatterternary"
           }
          ],
          "surface": [
           {
            "colorbar": {
             "outlinewidth": 0,
             "ticks": ""
            },
            "colorscale": [
             [
              0,
              "#0d0887"
             ],
             [
              0.1111111111111111,
              "#46039f"
             ],
             [
              0.2222222222222222,
              "#7201a8"
             ],
             [
              0.3333333333333333,
              "#9c179e"
             ],
             [
              0.4444444444444444,
              "#bd3786"
             ],
             [
              0.5555555555555556,
              "#d8576b"
             ],
             [
              0.6666666666666666,
              "#ed7953"
             ],
             [
              0.7777777777777778,
              "#fb9f3a"
             ],
             [
              0.8888888888888888,
              "#fdca26"
             ],
             [
              1,
              "#f0f921"
             ]
            ],
            "type": "surface"
           }
          ],
          "table": [
           {
            "cells": {
             "fill": {
              "color": "#EBF0F8"
             },
             "line": {
              "color": "white"
             }
            },
            "header": {
             "fill": {
              "color": "#C8D4E3"
             },
             "line": {
              "color": "white"
             }
            },
            "type": "table"
           }
          ]
         },
         "layout": {
          "annotationdefaults": {
           "arrowcolor": "#2a3f5f",
           "arrowhead": 0,
           "arrowwidth": 1
          },
          "autotypenumbers": "strict",
          "coloraxis": {
           "colorbar": {
            "outlinewidth": 0,
            "ticks": ""
           }
          },
          "colorscale": {
           "diverging": [
            [
             0,
             "#8e0152"
            ],
            [
             0.1,
             "#c51b7d"
            ],
            [
             0.2,
             "#de77ae"
            ],
            [
             0.3,
             "#f1b6da"
            ],
            [
             0.4,
             "#fde0ef"
            ],
            [
             0.5,
             "#f7f7f7"
            ],
            [
             0.6,
             "#e6f5d0"
            ],
            [
             0.7,
             "#b8e186"
            ],
            [
             0.8,
             "#7fbc41"
            ],
            [
             0.9,
             "#4d9221"
            ],
            [
             1,
             "#276419"
            ]
           ],
           "sequential": [
            [
             0,
             "#0d0887"
            ],
            [
             0.1111111111111111,
             "#46039f"
            ],
            [
             0.2222222222222222,
             "#7201a8"
            ],
            [
             0.3333333333333333,
             "#9c179e"
            ],
            [
             0.4444444444444444,
             "#bd3786"
            ],
            [
             0.5555555555555556,
             "#d8576b"
            ],
            [
             0.6666666666666666,
             "#ed7953"
            ],
            [
             0.7777777777777778,
             "#fb9f3a"
            ],
            [
             0.8888888888888888,
             "#fdca26"
            ],
            [
             1,
             "#f0f921"
            ]
           ],
           "sequentialminus": [
            [
             0,
             "#0d0887"
            ],
            [
             0.1111111111111111,
             "#46039f"
            ],
            [
             0.2222222222222222,
             "#7201a8"
            ],
            [
             0.3333333333333333,
             "#9c179e"
            ],
            [
             0.4444444444444444,
             "#bd3786"
            ],
            [
             0.5555555555555556,
             "#d8576b"
            ],
            [
             0.6666666666666666,
             "#ed7953"
            ],
            [
             0.7777777777777778,
             "#fb9f3a"
            ],
            [
             0.8888888888888888,
             "#fdca26"
            ],
            [
             1,
             "#f0f921"
            ]
           ]
          },
          "colorway": [
           "#636efa",
           "#EF553B",
           "#00cc96",
           "#ab63fa",
           "#FFA15A",
           "#19d3f3",
           "#FF6692",
           "#B6E880",
           "#FF97FF",
           "#FECB52"
          ],
          "font": {
           "color": "#2a3f5f"
          },
          "geo": {
           "bgcolor": "white",
           "lakecolor": "white",
           "landcolor": "#E5ECF6",
           "showlakes": true,
           "showland": true,
           "subunitcolor": "white"
          },
          "hoverlabel": {
           "align": "left"
          },
          "hovermode": "closest",
          "mapbox": {
           "style": "light"
          },
          "paper_bgcolor": "white",
          "plot_bgcolor": "#E5ECF6",
          "polar": {
           "angularaxis": {
            "gridcolor": "white",
            "linecolor": "white",
            "ticks": ""
           },
           "bgcolor": "#E5ECF6",
           "radialaxis": {
            "gridcolor": "white",
            "linecolor": "white",
            "ticks": ""
           }
          },
          "scene": {
           "xaxis": {
            "backgroundcolor": "#E5ECF6",
            "gridcolor": "white",
            "gridwidth": 2,
            "linecolor": "white",
            "showbackground": true,
            "ticks": "",
            "zerolinecolor": "white"
           },
           "yaxis": {
            "backgroundcolor": "#E5ECF6",
            "gridcolor": "white",
            "gridwidth": 2,
            "linecolor": "white",
            "showbackground": true,
            "ticks": "",
            "zerolinecolor": "white"
           },
           "zaxis": {
            "backgroundcolor": "#E5ECF6",
            "gridcolor": "white",
            "gridwidth": 2,
            "linecolor": "white",
            "showbackground": true,
            "ticks": "",
            "zerolinecolor": "white"
           }
          },
          "shapedefaults": {
           "line": {
            "color": "#2a3f5f"
           }
          },
          "ternary": {
           "aaxis": {
            "gridcolor": "white",
            "linecolor": "white",
            "ticks": ""
           },
           "baxis": {
            "gridcolor": "white",
            "linecolor": "white",
            "ticks": ""
           },
           "bgcolor": "#E5ECF6",
           "caxis": {
            "gridcolor": "white",
            "linecolor": "white",
            "ticks": ""
           }
          },
          "title": {
           "x": 0.05
          },
          "xaxis": {
           "automargin": true,
           "gridcolor": "white",
           "linecolor": "white",
           "ticks": "",
           "title": {
            "standoff": 15
           },
           "zerolinecolor": "white",
           "zerolinewidth": 2
          },
          "yaxis": {
           "automargin": true,
           "gridcolor": "white",
           "linecolor": "white",
           "ticks": "",
           "title": {
            "standoff": 15
           },
           "zerolinecolor": "white",
           "zerolinewidth": 2
          }
         }
        },
        "title": {
         "text": "800-1200 Mpc, entries in bin = 68"
        },
        "width": 500,
        "xaxis": {
         "range": [
          0,
          22
         ]
        },
        "yaxis": {
         "title": {
          "text": "Mean occurrences per 1000 sq. deg."
         }
        }
       }
      },
      "text/html": [
       "<div>                            <div id=\"b64028ef-efea-4245-81d4-1e0b6af2b705\" class=\"plotly-graph-div\" style=\"height:500px; width:500px;\"></div>            <script type=\"text/javascript\">                require([\"plotly\"], function(Plotly) {                    window.PLOTLYENV=window.PLOTLYENV || {};                                    if (document.getElementById(\"b64028ef-efea-4245-81d4-1e0b6af2b705\")) {                    Plotly.newPlot(                        \"b64028ef-efea-4245-81d4-1e0b6af2b705\",                        [{\"line\":{\"width\":0},\"marker\":{\"color\":\"#444\"},\"mode\":\"lines\",\"name\":\"Upper Bound\",\"showlegend\":false,\"x\":[1.0,2.0,3.0,4.0,5.0,6.0,7.0,8.0,9.0,10.0,11.0,12.0,13.0,14.0,15.0,16.0,17.0,18.0,19.0,20.0,21.0,22.0,23.0,24.0],\"y\":[9.252233879026532,0.0,4.626116939513266,0.0,0.7710194899188777,1.5420389798377556,0.0,3.0840779596755112,0.3226178428531952,1.5420389798377556,0.7710194899188777,0.4839267642797928,0.7710194899188777,0.1613089214265976,0.3226178428531952,0.1613089214265976,0.0,0.0,0.0,0.0,0.0,0.0,0.0,0.0],\"type\":\"scatter\"},{\"fill\":\"tonexty\",\"line\":{\"width\":0},\"mode\":\"lines\",\"name\":\"Lower Bound\",\"opacity\":0.1,\"showlegend\":false,\"x\":[1.0,2.0,3.0,4.0,5.0,6.0,7.0,8.0,9.0,10.0,11.0,12.0,13.0,14.0,15.0,16.0,17.0,18.0,19.0,20.0,21.0,22.0,23.0,24.0],\"y\":[1.935707057119171,0.0,1.1291624499861832,0.0,0.0,0.16130892142659758,0.0,0.32261784285319517,0.0,0.16130892142659758,0.6452356857063904,0.0,0.48392676427979275,0.0,0.0,0.0,0.0,0.0,0.0,0.0,0.0,0.0,0.0,0.0],\"type\":\"scatter\"},{\"line\":{\"color\":\"blue\"},\"name\":\"Occurrences\",\"x\":[1.0,2.0,3.0,4.0,5.0,6.0,7.0,8.0,9.0,10.0,11.0,12.0,13.0,14.0,15.0,16.0,17.0,18.0,19.0,20.0,21.0,22.0,23.0,24.0],\"y\":[5.593970468072851,0.0,2.8776396947497247,0.0,0.38550974495943885,0.8516739506321765,0.0,1.703347901264353,0.1613089214265976,0.8516739506321765,0.7081275878126341,0.2419633821398964,0.6274731270993352,0.0806544607132988,0.1613089214265976,0.0806544607132988,0.0,0.0,0.0,0.0,0.0,0.0,0.0,0.0],\"type\":\"scatter\"}],                        {\"template\":{\"data\":{\"histogram2dcontour\":[{\"type\":\"histogram2dcontour\",\"colorbar\":{\"outlinewidth\":0,\"ticks\":\"\"},\"colorscale\":[[0.0,\"#0d0887\"],[0.1111111111111111,\"#46039f\"],[0.2222222222222222,\"#7201a8\"],[0.3333333333333333,\"#9c179e\"],[0.4444444444444444,\"#bd3786\"],[0.5555555555555556,\"#d8576b\"],[0.6666666666666666,\"#ed7953\"],[0.7777777777777778,\"#fb9f3a\"],[0.8888888888888888,\"#fdca26\"],[1.0,\"#f0f921\"]]}],\"choropleth\":[{\"type\":\"choropleth\",\"colorbar\":{\"outlinewidth\":0,\"ticks\":\"\"}}],\"histogram2d\":[{\"type\":\"histogram2d\",\"colorbar\":{\"outlinewidth\":0,\"ticks\":\"\"},\"colorscale\":[[0.0,\"#0d0887\"],[0.1111111111111111,\"#46039f\"],[0.2222222222222222,\"#7201a8\"],[0.3333333333333333,\"#9c179e\"],[0.4444444444444444,\"#bd3786\"],[0.5555555555555556,\"#d8576b\"],[0.6666666666666666,\"#ed7953\"],[0.7777777777777778,\"#fb9f3a\"],[0.8888888888888888,\"#fdca26\"],[1.0,\"#f0f921\"]]}],\"heatmap\":[{\"type\":\"heatmap\",\"colorbar\":{\"outlinewidth\":0,\"ticks\":\"\"},\"colorscale\":[[0.0,\"#0d0887\"],[0.1111111111111111,\"#46039f\"],[0.2222222222222222,\"#7201a8\"],[0.3333333333333333,\"#9c179e\"],[0.4444444444444444,\"#bd3786\"],[0.5555555555555556,\"#d8576b\"],[0.6666666666666666,\"#ed7953\"],[0.7777777777777778,\"#fb9f3a\"],[0.8888888888888888,\"#fdca26\"],[1.0,\"#f0f921\"]]}],\"heatmapgl\":[{\"type\":\"heatmapgl\",\"colorbar\":{\"outlinewidth\":0,\"ticks\":\"\"},\"colorscale\":[[0.0,\"#0d0887\"],[0.1111111111111111,\"#46039f\"],[0.2222222222222222,\"#7201a8\"],[0.3333333333333333,\"#9c179e\"],[0.4444444444444444,\"#bd3786\"],[0.5555555555555556,\"#d8576b\"],[0.6666666666666666,\"#ed7953\"],[0.7777777777777778,\"#fb9f3a\"],[0.8888888888888888,\"#fdca26\"],[1.0,\"#f0f921\"]]}],\"contourcarpet\":[{\"type\":\"contourcarpet\",\"colorbar\":{\"outlinewidth\":0,\"ticks\":\"\"}}],\"contour\":[{\"type\":\"contour\",\"colorbar\":{\"outlinewidth\":0,\"ticks\":\"\"},\"colorscale\":[[0.0,\"#0d0887\"],[0.1111111111111111,\"#46039f\"],[0.2222222222222222,\"#7201a8\"],[0.3333333333333333,\"#9c179e\"],[0.4444444444444444,\"#bd3786\"],[0.5555555555555556,\"#d8576b\"],[0.6666666666666666,\"#ed7953\"],[0.7777777777777778,\"#fb9f3a\"],[0.8888888888888888,\"#fdca26\"],[1.0,\"#f0f921\"]]}],\"surface\":[{\"type\":\"surface\",\"colorbar\":{\"outlinewidth\":0,\"ticks\":\"\"},\"colorscale\":[[0.0,\"#0d0887\"],[0.1111111111111111,\"#46039f\"],[0.2222222222222222,\"#7201a8\"],[0.3333333333333333,\"#9c179e\"],[0.4444444444444444,\"#bd3786\"],[0.5555555555555556,\"#d8576b\"],[0.6666666666666666,\"#ed7953\"],[0.7777777777777778,\"#fb9f3a\"],[0.8888888888888888,\"#fdca26\"],[1.0,\"#f0f921\"]]}],\"mesh3d\":[{\"type\":\"mesh3d\",\"colorbar\":{\"outlinewidth\":0,\"ticks\":\"\"}}],\"scatter\":[{\"fillpattern\":{\"fillmode\":\"overlay\",\"size\":10,\"solidity\":0.2},\"type\":\"scatter\"}],\"parcoords\":[{\"type\":\"parcoords\",\"line\":{\"colorbar\":{\"outlinewidth\":0,\"ticks\":\"\"}}}],\"scatterpolargl\":[{\"type\":\"scatterpolargl\",\"marker\":{\"colorbar\":{\"outlinewidth\":0,\"ticks\":\"\"}}}],\"bar\":[{\"error_x\":{\"color\":\"#2a3f5f\"},\"error_y\":{\"color\":\"#2a3f5f\"},\"marker\":{\"line\":{\"color\":\"#E5ECF6\",\"width\":0.5},\"pattern\":{\"fillmode\":\"overlay\",\"size\":10,\"solidity\":0.2}},\"type\":\"bar\"}],\"scattergeo\":[{\"type\":\"scattergeo\",\"marker\":{\"colorbar\":{\"outlinewidth\":0,\"ticks\":\"\"}}}],\"scatterpolar\":[{\"type\":\"scatterpolar\",\"marker\":{\"colorbar\":{\"outlinewidth\":0,\"ticks\":\"\"}}}],\"histogram\":[{\"marker\":{\"pattern\":{\"fillmode\":\"overlay\",\"size\":10,\"solidity\":0.2}},\"type\":\"histogram\"}],\"scattergl\":[{\"type\":\"scattergl\",\"marker\":{\"colorbar\":{\"outlinewidth\":0,\"ticks\":\"\"}}}],\"scatter3d\":[{\"type\":\"scatter3d\",\"line\":{\"colorbar\":{\"outlinewidth\":0,\"ticks\":\"\"}},\"marker\":{\"colorbar\":{\"outlinewidth\":0,\"ticks\":\"\"}}}],\"scattermapbox\":[{\"type\":\"scattermapbox\",\"marker\":{\"colorbar\":{\"outlinewidth\":0,\"ticks\":\"\"}}}],\"scatterternary\":[{\"type\":\"scatterternary\",\"marker\":{\"colorbar\":{\"outlinewidth\":0,\"ticks\":\"\"}}}],\"scattercarpet\":[{\"type\":\"scattercarpet\",\"marker\":{\"colorbar\":{\"outlinewidth\":0,\"ticks\":\"\"}}}],\"carpet\":[{\"aaxis\":{\"endlinecolor\":\"#2a3f5f\",\"gridcolor\":\"white\",\"linecolor\":\"white\",\"minorgridcolor\":\"white\",\"startlinecolor\":\"#2a3f5f\"},\"baxis\":{\"endlinecolor\":\"#2a3f5f\",\"gridcolor\":\"white\",\"linecolor\":\"white\",\"minorgridcolor\":\"white\",\"startlinecolor\":\"#2a3f5f\"},\"type\":\"carpet\"}],\"table\":[{\"cells\":{\"fill\":{\"color\":\"#EBF0F8\"},\"line\":{\"color\":\"white\"}},\"header\":{\"fill\":{\"color\":\"#C8D4E3\"},\"line\":{\"color\":\"white\"}},\"type\":\"table\"}],\"barpolar\":[{\"marker\":{\"line\":{\"color\":\"#E5ECF6\",\"width\":0.5},\"pattern\":{\"fillmode\":\"overlay\",\"size\":10,\"solidity\":0.2}},\"type\":\"barpolar\"}],\"pie\":[{\"automargin\":true,\"type\":\"pie\"}]},\"layout\":{\"autotypenumbers\":\"strict\",\"colorway\":[\"#636efa\",\"#EF553B\",\"#00cc96\",\"#ab63fa\",\"#FFA15A\",\"#19d3f3\",\"#FF6692\",\"#B6E880\",\"#FF97FF\",\"#FECB52\"],\"font\":{\"color\":\"#2a3f5f\"},\"hovermode\":\"closest\",\"hoverlabel\":{\"align\":\"left\"},\"paper_bgcolor\":\"white\",\"plot_bgcolor\":\"#E5ECF6\",\"polar\":{\"bgcolor\":\"#E5ECF6\",\"angularaxis\":{\"gridcolor\":\"white\",\"linecolor\":\"white\",\"ticks\":\"\"},\"radialaxis\":{\"gridcolor\":\"white\",\"linecolor\":\"white\",\"ticks\":\"\"}},\"ternary\":{\"bgcolor\":\"#E5ECF6\",\"aaxis\":{\"gridcolor\":\"white\",\"linecolor\":\"white\",\"ticks\":\"\"},\"baxis\":{\"gridcolor\":\"white\",\"linecolor\":\"white\",\"ticks\":\"\"},\"caxis\":{\"gridcolor\":\"white\",\"linecolor\":\"white\",\"ticks\":\"\"}},\"coloraxis\":{\"colorbar\":{\"outlinewidth\":0,\"ticks\":\"\"}},\"colorscale\":{\"sequential\":[[0.0,\"#0d0887\"],[0.1111111111111111,\"#46039f\"],[0.2222222222222222,\"#7201a8\"],[0.3333333333333333,\"#9c179e\"],[0.4444444444444444,\"#bd3786\"],[0.5555555555555556,\"#d8576b\"],[0.6666666666666666,\"#ed7953\"],[0.7777777777777778,\"#fb9f3a\"],[0.8888888888888888,\"#fdca26\"],[1.0,\"#f0f921\"]],\"sequentialminus\":[[0.0,\"#0d0887\"],[0.1111111111111111,\"#46039f\"],[0.2222222222222222,\"#7201a8\"],[0.3333333333333333,\"#9c179e\"],[0.4444444444444444,\"#bd3786\"],[0.5555555555555556,\"#d8576b\"],[0.6666666666666666,\"#ed7953\"],[0.7777777777777778,\"#fb9f3a\"],[0.8888888888888888,\"#fdca26\"],[1.0,\"#f0f921\"]],\"diverging\":[[0,\"#8e0152\"],[0.1,\"#c51b7d\"],[0.2,\"#de77ae\"],[0.3,\"#f1b6da\"],[0.4,\"#fde0ef\"],[0.5,\"#f7f7f7\"],[0.6,\"#e6f5d0\"],[0.7,\"#b8e186\"],[0.8,\"#7fbc41\"],[0.9,\"#4d9221\"],[1,\"#276419\"]]},\"xaxis\":{\"gridcolor\":\"white\",\"linecolor\":\"white\",\"ticks\":\"\",\"title\":{\"standoff\":15},\"zerolinecolor\":\"white\",\"automargin\":true,\"zerolinewidth\":2},\"yaxis\":{\"gridcolor\":\"white\",\"linecolor\":\"white\",\"ticks\":\"\",\"title\":{\"standoff\":15},\"zerolinecolor\":\"white\",\"automargin\":true,\"zerolinewidth\":2},\"scene\":{\"xaxis\":{\"backgroundcolor\":\"#E5ECF6\",\"gridcolor\":\"white\",\"linecolor\":\"white\",\"showbackground\":true,\"ticks\":\"\",\"zerolinecolor\":\"white\",\"gridwidth\":2},\"yaxis\":{\"backgroundcolor\":\"#E5ECF6\",\"gridcolor\":\"white\",\"linecolor\":\"white\",\"showbackground\":true,\"ticks\":\"\",\"zerolinecolor\":\"white\",\"gridwidth\":2},\"zaxis\":{\"backgroundcolor\":\"#E5ECF6\",\"gridcolor\":\"white\",\"linecolor\":\"white\",\"showbackground\":true,\"ticks\":\"\",\"zerolinecolor\":\"white\",\"gridwidth\":2}},\"shapedefaults\":{\"line\":{\"color\":\"#2a3f5f\"}},\"annotationdefaults\":{\"arrowcolor\":\"#2a3f5f\",\"arrowhead\":0,\"arrowwidth\":1},\"geo\":{\"bgcolor\":\"white\",\"landcolor\":\"#E5ECF6\",\"subunitcolor\":\"white\",\"showland\":true,\"showlakes\":true,\"lakecolor\":\"white\"},\"title\":{\"x\":0.05},\"mapbox\":{\"style\":\"light\"}}},\"shapes\":[{\"line\":{\"dash\":\"dash\",\"width\":1},\"type\":\"line\",\"x0\":18,\"x1\":18,\"xref\":\"x\",\"y0\":0,\"y1\":1,\"yref\":\"y domain\"},{\"line\":{\"dash\":\"dash\",\"width\":1},\"type\":\"line\",\"x0\":21,\"x1\":21,\"xref\":\"x\",\"y0\":0,\"y1\":1,\"yref\":\"y domain\"}],\"annotations\":[{\"showarrow\":false,\"text\":\"AT2017gfo \\u003cbr\\u003e at 0 days\",\"x\":18,\"xanchor\":\"right\",\"xref\":\"x\",\"y\":1,\"yanchor\":\"top\",\"yref\":\"y domain\"},{\"showarrow\":false,\"text\":\"AT2017gfo \\u003cbr\\u003e at 3 days\",\"x\":21,\"xanchor\":\"left\",\"xref\":\"x\",\"y\":0,\"yanchor\":\"bottom\",\"yref\":\"y domain\"}],\"xaxis\":{\"range\":[0,22]},\"width\":500,\"height\":500,\"title\":{\"text\":\"800-1200 Mpc, entries in bin = 68\"},\"hovermode\":\"x\",\"yaxis\":{\"title\":{\"text\":\"Mean occurrences per 1000 sq. deg.\"}}},                        {\"responsive\": true}                    ).then(function(){\n",
       "                            \n",
       "var gd = document.getElementById('b64028ef-efea-4245-81d4-1e0b6af2b705');\n",
       "var x = new MutationObserver(function (mutations, observer) {{\n",
       "        var display = window.getComputedStyle(gd).display;\n",
       "        if (!display || display === 'none') {{\n",
       "            console.log([gd, 'removed!']);\n",
       "            Plotly.purge(gd);\n",
       "            observer.disconnect();\n",
       "        }}\n",
       "}});\n",
       "\n",
       "// Listen for the removal of the full notebook cells\n",
       "var notebookContainer = gd.closest('#notebook-container');\n",
       "if (notebookContainer) {{\n",
       "    x.observe(notebookContainer, {childList: true});\n",
       "}}\n",
       "\n",
       "// Listen for the clearing of the current output cell\n",
       "var outputEl = gd.closest('.output');\n",
       "if (outputEl) {{\n",
       "    x.observe(outputEl, {childList: true});\n",
       "}}\n",
       "\n",
       "                        })                };                });            </script>        </div>"
      ]
     },
     "metadata": {},
     "output_type": "display_data"
    },
    {
     "data": {
      "application/vnd.plotly.v1+json": {
       "config": {
        "plotlyServerURL": "https://plot.ly"
       },
       "data": [
        {
         "line": {
          "width": 0
         },
         "marker": {
          "color": "#444"
         },
         "mode": "lines",
         "name": "Upper Bound",
         "showlegend": false,
         "type": "scatter",
         "x": [
          1,
          2,
          3,
          4,
          5,
          6,
          7,
          8,
          9,
          10,
          11,
          12,
          13,
          14,
          15,
          16,
          17,
          18,
          19,
          20,
          21,
          22,
          23,
          24
         ],
         "y": [
          2.3986473568489783,
          1.5990982378993188,
          6.396392951597275,
          0.7995491189496594,
          0.7995491189496594,
          0.7995491189496594,
          0.7995491189496594,
          0.7995491189496594,
          1.5990982378993188,
          0.7995491189496594,
          2.3986473568489783,
          1.4962150215337375,
          1.4962150215337375,
          0,
          0,
          0,
          0,
          0,
          0,
          0,
          0,
          0,
          0,
          0
         ]
        },
        {
         "fill": "tonexty",
         "line": {
          "width": 0
         },
         "mode": "lines",
         "name": "Lower Bound",
         "opacity": 0.1,
         "showlegend": false,
         "type": "scatter",
         "x": [
          1,
          2,
          3,
          4,
          5,
          6,
          7,
          8,
          9,
          10,
          11,
          12,
          13,
          14,
          15,
          16,
          17,
          18,
          19,
          20,
          21,
          22,
          23,
          24
         ],
         "y": [
          0,
          0,
          0,
          0,
          0,
          0,
          0,
          0,
          0,
          0,
          0,
          0.7995491189496595,
          0,
          0,
          0,
          0,
          0,
          0,
          0,
          0,
          0,
          0,
          0,
          0
         ]
        },
        {
         "line": {
          "color": "blue"
         },
         "name": "Occurrences",
         "type": "scatter",
         "x": [
          1,
          2,
          3,
          4,
          5,
          6,
          7,
          8,
          9,
          10,
          11,
          12,
          13,
          14,
          15,
          16,
          17,
          18,
          19,
          20,
          21,
          22,
          23,
          24
         ],
         "y": [
          1.1993236784244892,
          0.7995491189496594,
          3.1981964757986376,
          0.3997745594748297,
          0.3997745594748297,
          0.3997745594748297,
          0.3997745594748297,
          0.3997745594748297,
          0.7995491189496594,
          0.3997745594748297,
          1.1993236784244892,
          1.1478820702416985,
          0.7481075107668688,
          0,
          0,
          0,
          0,
          0,
          0,
          0,
          0,
          0,
          0,
          0
         ]
        }
       ],
       "layout": {
        "annotations": [
         {
          "showarrow": false,
          "text": "AT2017gfo <br> at 0 days",
          "x": 18,
          "xanchor": "right",
          "xref": "x",
          "y": 1,
          "yanchor": "top",
          "yref": "y domain"
         },
         {
          "showarrow": false,
          "text": "AT2017gfo <br> at 3 days",
          "x": 21,
          "xanchor": "left",
          "xref": "x",
          "y": 0,
          "yanchor": "bottom",
          "yref": "y domain"
         }
        ],
        "height": 500,
        "hovermode": "x",
        "shapes": [
         {
          "line": {
           "dash": "dash",
           "width": 1
          },
          "type": "line",
          "x0": 18,
          "x1": 18,
          "xref": "x",
          "y0": 0,
          "y1": 1,
          "yref": "y domain"
         },
         {
          "line": {
           "dash": "dash",
           "width": 1
          },
          "type": "line",
          "x0": 21,
          "x1": 21,
          "xref": "x",
          "y0": 0,
          "y1": 1,
          "yref": "y domain"
         }
        ],
        "template": {
         "data": {
          "bar": [
           {
            "error_x": {
             "color": "#2a3f5f"
            },
            "error_y": {
             "color": "#2a3f5f"
            },
            "marker": {
             "line": {
              "color": "#E5ECF6",
              "width": 0.5
             },
             "pattern": {
              "fillmode": "overlay",
              "size": 10,
              "solidity": 0.2
             }
            },
            "type": "bar"
           }
          ],
          "barpolar": [
           {
            "marker": {
             "line": {
              "color": "#E5ECF6",
              "width": 0.5
             },
             "pattern": {
              "fillmode": "overlay",
              "size": 10,
              "solidity": 0.2
             }
            },
            "type": "barpolar"
           }
          ],
          "carpet": [
           {
            "aaxis": {
             "endlinecolor": "#2a3f5f",
             "gridcolor": "white",
             "linecolor": "white",
             "minorgridcolor": "white",
             "startlinecolor": "#2a3f5f"
            },
            "baxis": {
             "endlinecolor": "#2a3f5f",
             "gridcolor": "white",
             "linecolor": "white",
             "minorgridcolor": "white",
             "startlinecolor": "#2a3f5f"
            },
            "type": "carpet"
           }
          ],
          "choropleth": [
           {
            "colorbar": {
             "outlinewidth": 0,
             "ticks": ""
            },
            "type": "choropleth"
           }
          ],
          "contour": [
           {
            "colorbar": {
             "outlinewidth": 0,
             "ticks": ""
            },
            "colorscale": [
             [
              0,
              "#0d0887"
             ],
             [
              0.1111111111111111,
              "#46039f"
             ],
             [
              0.2222222222222222,
              "#7201a8"
             ],
             [
              0.3333333333333333,
              "#9c179e"
             ],
             [
              0.4444444444444444,
              "#bd3786"
             ],
             [
              0.5555555555555556,
              "#d8576b"
             ],
             [
              0.6666666666666666,
              "#ed7953"
             ],
             [
              0.7777777777777778,
              "#fb9f3a"
             ],
             [
              0.8888888888888888,
              "#fdca26"
             ],
             [
              1,
              "#f0f921"
             ]
            ],
            "type": "contour"
           }
          ],
          "contourcarpet": [
           {
            "colorbar": {
             "outlinewidth": 0,
             "ticks": ""
            },
            "type": "contourcarpet"
           }
          ],
          "heatmap": [
           {
            "colorbar": {
             "outlinewidth": 0,
             "ticks": ""
            },
            "colorscale": [
             [
              0,
              "#0d0887"
             ],
             [
              0.1111111111111111,
              "#46039f"
             ],
             [
              0.2222222222222222,
              "#7201a8"
             ],
             [
              0.3333333333333333,
              "#9c179e"
             ],
             [
              0.4444444444444444,
              "#bd3786"
             ],
             [
              0.5555555555555556,
              "#d8576b"
             ],
             [
              0.6666666666666666,
              "#ed7953"
             ],
             [
              0.7777777777777778,
              "#fb9f3a"
             ],
             [
              0.8888888888888888,
              "#fdca26"
             ],
             [
              1,
              "#f0f921"
             ]
            ],
            "type": "heatmap"
           }
          ],
          "heatmapgl": [
           {
            "colorbar": {
             "outlinewidth": 0,
             "ticks": ""
            },
            "colorscale": [
             [
              0,
              "#0d0887"
             ],
             [
              0.1111111111111111,
              "#46039f"
             ],
             [
              0.2222222222222222,
              "#7201a8"
             ],
             [
              0.3333333333333333,
              "#9c179e"
             ],
             [
              0.4444444444444444,
              "#bd3786"
             ],
             [
              0.5555555555555556,
              "#d8576b"
             ],
             [
              0.6666666666666666,
              "#ed7953"
             ],
             [
              0.7777777777777778,
              "#fb9f3a"
             ],
             [
              0.8888888888888888,
              "#fdca26"
             ],
             [
              1,
              "#f0f921"
             ]
            ],
            "type": "heatmapgl"
           }
          ],
          "histogram": [
           {
            "marker": {
             "pattern": {
              "fillmode": "overlay",
              "size": 10,
              "solidity": 0.2
             }
            },
            "type": "histogram"
           }
          ],
          "histogram2d": [
           {
            "colorbar": {
             "outlinewidth": 0,
             "ticks": ""
            },
            "colorscale": [
             [
              0,
              "#0d0887"
             ],
             [
              0.1111111111111111,
              "#46039f"
             ],
             [
              0.2222222222222222,
              "#7201a8"
             ],
             [
              0.3333333333333333,
              "#9c179e"
             ],
             [
              0.4444444444444444,
              "#bd3786"
             ],
             [
              0.5555555555555556,
              "#d8576b"
             ],
             [
              0.6666666666666666,
              "#ed7953"
             ],
             [
              0.7777777777777778,
              "#fb9f3a"
             ],
             [
              0.8888888888888888,
              "#fdca26"
             ],
             [
              1,
              "#f0f921"
             ]
            ],
            "type": "histogram2d"
           }
          ],
          "histogram2dcontour": [
           {
            "colorbar": {
             "outlinewidth": 0,
             "ticks": ""
            },
            "colorscale": [
             [
              0,
              "#0d0887"
             ],
             [
              0.1111111111111111,
              "#46039f"
             ],
             [
              0.2222222222222222,
              "#7201a8"
             ],
             [
              0.3333333333333333,
              "#9c179e"
             ],
             [
              0.4444444444444444,
              "#bd3786"
             ],
             [
              0.5555555555555556,
              "#d8576b"
             ],
             [
              0.6666666666666666,
              "#ed7953"
             ],
             [
              0.7777777777777778,
              "#fb9f3a"
             ],
             [
              0.8888888888888888,
              "#fdca26"
             ],
             [
              1,
              "#f0f921"
             ]
            ],
            "type": "histogram2dcontour"
           }
          ],
          "mesh3d": [
           {
            "colorbar": {
             "outlinewidth": 0,
             "ticks": ""
            },
            "type": "mesh3d"
           }
          ],
          "parcoords": [
           {
            "line": {
             "colorbar": {
              "outlinewidth": 0,
              "ticks": ""
             }
            },
            "type": "parcoords"
           }
          ],
          "pie": [
           {
            "automargin": true,
            "type": "pie"
           }
          ],
          "scatter": [
           {
            "fillpattern": {
             "fillmode": "overlay",
             "size": 10,
             "solidity": 0.2
            },
            "type": "scatter"
           }
          ],
          "scatter3d": [
           {
            "line": {
             "colorbar": {
              "outlinewidth": 0,
              "ticks": ""
             }
            },
            "marker": {
             "colorbar": {
              "outlinewidth": 0,
              "ticks": ""
             }
            },
            "type": "scatter3d"
           }
          ],
          "scattercarpet": [
           {
            "marker": {
             "colorbar": {
              "outlinewidth": 0,
              "ticks": ""
             }
            },
            "type": "scattercarpet"
           }
          ],
          "scattergeo": [
           {
            "marker": {
             "colorbar": {
              "outlinewidth": 0,
              "ticks": ""
             }
            },
            "type": "scattergeo"
           }
          ],
          "scattergl": [
           {
            "marker": {
             "colorbar": {
              "outlinewidth": 0,
              "ticks": ""
             }
            },
            "type": "scattergl"
           }
          ],
          "scattermapbox": [
           {
            "marker": {
             "colorbar": {
              "outlinewidth": 0,
              "ticks": ""
             }
            },
            "type": "scattermapbox"
           }
          ],
          "scatterpolar": [
           {
            "marker": {
             "colorbar": {
              "outlinewidth": 0,
              "ticks": ""
             }
            },
            "type": "scatterpolar"
           }
          ],
          "scatterpolargl": [
           {
            "marker": {
             "colorbar": {
              "outlinewidth": 0,
              "ticks": ""
             }
            },
            "type": "scatterpolargl"
           }
          ],
          "scatterternary": [
           {
            "marker": {
             "colorbar": {
              "outlinewidth": 0,
              "ticks": ""
             }
            },
            "type": "scatterternary"
           }
          ],
          "surface": [
           {
            "colorbar": {
             "outlinewidth": 0,
             "ticks": ""
            },
            "colorscale": [
             [
              0,
              "#0d0887"
             ],
             [
              0.1111111111111111,
              "#46039f"
             ],
             [
              0.2222222222222222,
              "#7201a8"
             ],
             [
              0.3333333333333333,
              "#9c179e"
             ],
             [
              0.4444444444444444,
              "#bd3786"
             ],
             [
              0.5555555555555556,
              "#d8576b"
             ],
             [
              0.6666666666666666,
              "#ed7953"
             ],
             [
              0.7777777777777778,
              "#fb9f3a"
             ],
             [
              0.8888888888888888,
              "#fdca26"
             ],
             [
              1,
              "#f0f921"
             ]
            ],
            "type": "surface"
           }
          ],
          "table": [
           {
            "cells": {
             "fill": {
              "color": "#EBF0F8"
             },
             "line": {
              "color": "white"
             }
            },
            "header": {
             "fill": {
              "color": "#C8D4E3"
             },
             "line": {
              "color": "white"
             }
            },
            "type": "table"
           }
          ]
         },
         "layout": {
          "annotationdefaults": {
           "arrowcolor": "#2a3f5f",
           "arrowhead": 0,
           "arrowwidth": 1
          },
          "autotypenumbers": "strict",
          "coloraxis": {
           "colorbar": {
            "outlinewidth": 0,
            "ticks": ""
           }
          },
          "colorscale": {
           "diverging": [
            [
             0,
             "#8e0152"
            ],
            [
             0.1,
             "#c51b7d"
            ],
            [
             0.2,
             "#de77ae"
            ],
            [
             0.3,
             "#f1b6da"
            ],
            [
             0.4,
             "#fde0ef"
            ],
            [
             0.5,
             "#f7f7f7"
            ],
            [
             0.6,
             "#e6f5d0"
            ],
            [
             0.7,
             "#b8e186"
            ],
            [
             0.8,
             "#7fbc41"
            ],
            [
             0.9,
             "#4d9221"
            ],
            [
             1,
             "#276419"
            ]
           ],
           "sequential": [
            [
             0,
             "#0d0887"
            ],
            [
             0.1111111111111111,
             "#46039f"
            ],
            [
             0.2222222222222222,
             "#7201a8"
            ],
            [
             0.3333333333333333,
             "#9c179e"
            ],
            [
             0.4444444444444444,
             "#bd3786"
            ],
            [
             0.5555555555555556,
             "#d8576b"
            ],
            [
             0.6666666666666666,
             "#ed7953"
            ],
            [
             0.7777777777777778,
             "#fb9f3a"
            ],
            [
             0.8888888888888888,
             "#fdca26"
            ],
            [
             1,
             "#f0f921"
            ]
           ],
           "sequentialminus": [
            [
             0,
             "#0d0887"
            ],
            [
             0.1111111111111111,
             "#46039f"
            ],
            [
             0.2222222222222222,
             "#7201a8"
            ],
            [
             0.3333333333333333,
             "#9c179e"
            ],
            [
             0.4444444444444444,
             "#bd3786"
            ],
            [
             0.5555555555555556,
             "#d8576b"
            ],
            [
             0.6666666666666666,
             "#ed7953"
            ],
            [
             0.7777777777777778,
             "#fb9f3a"
            ],
            [
             0.8888888888888888,
             "#fdca26"
            ],
            [
             1,
             "#f0f921"
            ]
           ]
          },
          "colorway": [
           "#636efa",
           "#EF553B",
           "#00cc96",
           "#ab63fa",
           "#FFA15A",
           "#19d3f3",
           "#FF6692",
           "#B6E880",
           "#FF97FF",
           "#FECB52"
          ],
          "font": {
           "color": "#2a3f5f"
          },
          "geo": {
           "bgcolor": "white",
           "lakecolor": "white",
           "landcolor": "#E5ECF6",
           "showlakes": true,
           "showland": true,
           "subunitcolor": "white"
          },
          "hoverlabel": {
           "align": "left"
          },
          "hovermode": "closest",
          "mapbox": {
           "style": "light"
          },
          "paper_bgcolor": "white",
          "plot_bgcolor": "#E5ECF6",
          "polar": {
           "angularaxis": {
            "gridcolor": "white",
            "linecolor": "white",
            "ticks": ""
           },
           "bgcolor": "#E5ECF6",
           "radialaxis": {
            "gridcolor": "white",
            "linecolor": "white",
            "ticks": ""
           }
          },
          "scene": {
           "xaxis": {
            "backgroundcolor": "#E5ECF6",
            "gridcolor": "white",
            "gridwidth": 2,
            "linecolor": "white",
            "showbackground": true,
            "ticks": "",
            "zerolinecolor": "white"
           },
           "yaxis": {
            "backgroundcolor": "#E5ECF6",
            "gridcolor": "white",
            "gridwidth": 2,
            "linecolor": "white",
            "showbackground": true,
            "ticks": "",
            "zerolinecolor": "white"
           },
           "zaxis": {
            "backgroundcolor": "#E5ECF6",
            "gridcolor": "white",
            "gridwidth": 2,
            "linecolor": "white",
            "showbackground": true,
            "ticks": "",
            "zerolinecolor": "white"
           }
          },
          "shapedefaults": {
           "line": {
            "color": "#2a3f5f"
           }
          },
          "ternary": {
           "aaxis": {
            "gridcolor": "white",
            "linecolor": "white",
            "ticks": ""
           },
           "baxis": {
            "gridcolor": "white",
            "linecolor": "white",
            "ticks": ""
           },
           "bgcolor": "#E5ECF6",
           "caxis": {
            "gridcolor": "white",
            "linecolor": "white",
            "ticks": ""
           }
          },
          "title": {
           "x": 0.05
          },
          "xaxis": {
           "automargin": true,
           "gridcolor": "white",
           "linecolor": "white",
           "ticks": "",
           "title": {
            "standoff": 15
           },
           "zerolinecolor": "white",
           "zerolinewidth": 2
          },
          "yaxis": {
           "automargin": true,
           "gridcolor": "white",
           "linecolor": "white",
           "ticks": "",
           "title": {
            "standoff": 15
           },
           "zerolinecolor": "white",
           "zerolinewidth": 2
          }
         }
        },
        "title": {
         "text": "1200-1600 Mpc, entries in bin = 27"
        },
        "width": 500,
        "xaxis": {
         "range": [
          0,
          22
         ]
        },
        "yaxis": {
         "title": {
          "text": "Mean occurrences per 1000 sq. deg."
         }
        }
       }
      },
      "text/html": [
       "<div>                            <div id=\"2cb4a2b3-2740-4143-86d4-fa8d80aaaf88\" class=\"plotly-graph-div\" style=\"height:500px; width:500px;\"></div>            <script type=\"text/javascript\">                require([\"plotly\"], function(Plotly) {                    window.PLOTLYENV=window.PLOTLYENV || {};                                    if (document.getElementById(\"2cb4a2b3-2740-4143-86d4-fa8d80aaaf88\")) {                    Plotly.newPlot(                        \"2cb4a2b3-2740-4143-86d4-fa8d80aaaf88\",                        [{\"line\":{\"width\":0},\"marker\":{\"color\":\"#444\"},\"mode\":\"lines\",\"name\":\"Upper Bound\",\"showlegend\":false,\"x\":[1.0,2.0,3.0,4.0,5.0,6.0,7.0,8.0,9.0,10.0,11.0,12.0,13.0,14.0,15.0,16.0,17.0,18.0,19.0,20.0,21.0,22.0,23.0,24.0],\"y\":[2.3986473568489783,1.5990982378993188,6.396392951597275,0.7995491189496594,0.7995491189496594,0.7995491189496594,0.7995491189496594,0.7995491189496594,1.5990982378993188,0.7995491189496594,2.3986473568489783,1.4962150215337375,1.4962150215337375,0.0,0.0,0.0,0.0,0.0,0.0,0.0,0.0,0.0,0.0,0.0],\"type\":\"scatter\"},{\"fill\":\"tonexty\",\"line\":{\"width\":0},\"mode\":\"lines\",\"name\":\"Lower Bound\",\"opacity\":0.1,\"showlegend\":false,\"x\":[1.0,2.0,3.0,4.0,5.0,6.0,7.0,8.0,9.0,10.0,11.0,12.0,13.0,14.0,15.0,16.0,17.0,18.0,19.0,20.0,21.0,22.0,23.0,24.0],\"y\":[0.0,0.0,0.0,0.0,0.0,0.0,0.0,0.0,0.0,0.0,0.0,0.7995491189496595,0.0,0.0,0.0,0.0,0.0,0.0,0.0,0.0,0.0,0.0,0.0,0.0],\"type\":\"scatter\"},{\"line\":{\"color\":\"blue\"},\"name\":\"Occurrences\",\"x\":[1.0,2.0,3.0,4.0,5.0,6.0,7.0,8.0,9.0,10.0,11.0,12.0,13.0,14.0,15.0,16.0,17.0,18.0,19.0,20.0,21.0,22.0,23.0,24.0],\"y\":[1.1993236784244892,0.7995491189496594,3.1981964757986376,0.3997745594748297,0.3997745594748297,0.3997745594748297,0.3997745594748297,0.3997745594748297,0.7995491189496594,0.3997745594748297,1.1993236784244892,1.1478820702416985,0.7481075107668688,0.0,0.0,0.0,0.0,0.0,0.0,0.0,0.0,0.0,0.0,0.0],\"type\":\"scatter\"}],                        {\"template\":{\"data\":{\"histogram2dcontour\":[{\"type\":\"histogram2dcontour\",\"colorbar\":{\"outlinewidth\":0,\"ticks\":\"\"},\"colorscale\":[[0.0,\"#0d0887\"],[0.1111111111111111,\"#46039f\"],[0.2222222222222222,\"#7201a8\"],[0.3333333333333333,\"#9c179e\"],[0.4444444444444444,\"#bd3786\"],[0.5555555555555556,\"#d8576b\"],[0.6666666666666666,\"#ed7953\"],[0.7777777777777778,\"#fb9f3a\"],[0.8888888888888888,\"#fdca26\"],[1.0,\"#f0f921\"]]}],\"choropleth\":[{\"type\":\"choropleth\",\"colorbar\":{\"outlinewidth\":0,\"ticks\":\"\"}}],\"histogram2d\":[{\"type\":\"histogram2d\",\"colorbar\":{\"outlinewidth\":0,\"ticks\":\"\"},\"colorscale\":[[0.0,\"#0d0887\"],[0.1111111111111111,\"#46039f\"],[0.2222222222222222,\"#7201a8\"],[0.3333333333333333,\"#9c179e\"],[0.4444444444444444,\"#bd3786\"],[0.5555555555555556,\"#d8576b\"],[0.6666666666666666,\"#ed7953\"],[0.7777777777777778,\"#fb9f3a\"],[0.8888888888888888,\"#fdca26\"],[1.0,\"#f0f921\"]]}],\"heatmap\":[{\"type\":\"heatmap\",\"colorbar\":{\"outlinewidth\":0,\"ticks\":\"\"},\"colorscale\":[[0.0,\"#0d0887\"],[0.1111111111111111,\"#46039f\"],[0.2222222222222222,\"#7201a8\"],[0.3333333333333333,\"#9c179e\"],[0.4444444444444444,\"#bd3786\"],[0.5555555555555556,\"#d8576b\"],[0.6666666666666666,\"#ed7953\"],[0.7777777777777778,\"#fb9f3a\"],[0.8888888888888888,\"#fdca26\"],[1.0,\"#f0f921\"]]}],\"heatmapgl\":[{\"type\":\"heatmapgl\",\"colorbar\":{\"outlinewidth\":0,\"ticks\":\"\"},\"colorscale\":[[0.0,\"#0d0887\"],[0.1111111111111111,\"#46039f\"],[0.2222222222222222,\"#7201a8\"],[0.3333333333333333,\"#9c179e\"],[0.4444444444444444,\"#bd3786\"],[0.5555555555555556,\"#d8576b\"],[0.6666666666666666,\"#ed7953\"],[0.7777777777777778,\"#fb9f3a\"],[0.8888888888888888,\"#fdca26\"],[1.0,\"#f0f921\"]]}],\"contourcarpet\":[{\"type\":\"contourcarpet\",\"colorbar\":{\"outlinewidth\":0,\"ticks\":\"\"}}],\"contour\":[{\"type\":\"contour\",\"colorbar\":{\"outlinewidth\":0,\"ticks\":\"\"},\"colorscale\":[[0.0,\"#0d0887\"],[0.1111111111111111,\"#46039f\"],[0.2222222222222222,\"#7201a8\"],[0.3333333333333333,\"#9c179e\"],[0.4444444444444444,\"#bd3786\"],[0.5555555555555556,\"#d8576b\"],[0.6666666666666666,\"#ed7953\"],[0.7777777777777778,\"#fb9f3a\"],[0.8888888888888888,\"#fdca26\"],[1.0,\"#f0f921\"]]}],\"surface\":[{\"type\":\"surface\",\"colorbar\":{\"outlinewidth\":0,\"ticks\":\"\"},\"colorscale\":[[0.0,\"#0d0887\"],[0.1111111111111111,\"#46039f\"],[0.2222222222222222,\"#7201a8\"],[0.3333333333333333,\"#9c179e\"],[0.4444444444444444,\"#bd3786\"],[0.5555555555555556,\"#d8576b\"],[0.6666666666666666,\"#ed7953\"],[0.7777777777777778,\"#fb9f3a\"],[0.8888888888888888,\"#fdca26\"],[1.0,\"#f0f921\"]]}],\"mesh3d\":[{\"type\":\"mesh3d\",\"colorbar\":{\"outlinewidth\":0,\"ticks\":\"\"}}],\"scatter\":[{\"fillpattern\":{\"fillmode\":\"overlay\",\"size\":10,\"solidity\":0.2},\"type\":\"scatter\"}],\"parcoords\":[{\"type\":\"parcoords\",\"line\":{\"colorbar\":{\"outlinewidth\":0,\"ticks\":\"\"}}}],\"scatterpolargl\":[{\"type\":\"scatterpolargl\",\"marker\":{\"colorbar\":{\"outlinewidth\":0,\"ticks\":\"\"}}}],\"bar\":[{\"error_x\":{\"color\":\"#2a3f5f\"},\"error_y\":{\"color\":\"#2a3f5f\"},\"marker\":{\"line\":{\"color\":\"#E5ECF6\",\"width\":0.5},\"pattern\":{\"fillmode\":\"overlay\",\"size\":10,\"solidity\":0.2}},\"type\":\"bar\"}],\"scattergeo\":[{\"type\":\"scattergeo\",\"marker\":{\"colorbar\":{\"outlinewidth\":0,\"ticks\":\"\"}}}],\"scatterpolar\":[{\"type\":\"scatterpolar\",\"marker\":{\"colorbar\":{\"outlinewidth\":0,\"ticks\":\"\"}}}],\"histogram\":[{\"marker\":{\"pattern\":{\"fillmode\":\"overlay\",\"size\":10,\"solidity\":0.2}},\"type\":\"histogram\"}],\"scattergl\":[{\"type\":\"scattergl\",\"marker\":{\"colorbar\":{\"outlinewidth\":0,\"ticks\":\"\"}}}],\"scatter3d\":[{\"type\":\"scatter3d\",\"line\":{\"colorbar\":{\"outlinewidth\":0,\"ticks\":\"\"}},\"marker\":{\"colorbar\":{\"outlinewidth\":0,\"ticks\":\"\"}}}],\"scattermapbox\":[{\"type\":\"scattermapbox\",\"marker\":{\"colorbar\":{\"outlinewidth\":0,\"ticks\":\"\"}}}],\"scatterternary\":[{\"type\":\"scatterternary\",\"marker\":{\"colorbar\":{\"outlinewidth\":0,\"ticks\":\"\"}}}],\"scattercarpet\":[{\"type\":\"scattercarpet\",\"marker\":{\"colorbar\":{\"outlinewidth\":0,\"ticks\":\"\"}}}],\"carpet\":[{\"aaxis\":{\"endlinecolor\":\"#2a3f5f\",\"gridcolor\":\"white\",\"linecolor\":\"white\",\"minorgridcolor\":\"white\",\"startlinecolor\":\"#2a3f5f\"},\"baxis\":{\"endlinecolor\":\"#2a3f5f\",\"gridcolor\":\"white\",\"linecolor\":\"white\",\"minorgridcolor\":\"white\",\"startlinecolor\":\"#2a3f5f\"},\"type\":\"carpet\"}],\"table\":[{\"cells\":{\"fill\":{\"color\":\"#EBF0F8\"},\"line\":{\"color\":\"white\"}},\"header\":{\"fill\":{\"color\":\"#C8D4E3\"},\"line\":{\"color\":\"white\"}},\"type\":\"table\"}],\"barpolar\":[{\"marker\":{\"line\":{\"color\":\"#E5ECF6\",\"width\":0.5},\"pattern\":{\"fillmode\":\"overlay\",\"size\":10,\"solidity\":0.2}},\"type\":\"barpolar\"}],\"pie\":[{\"automargin\":true,\"type\":\"pie\"}]},\"layout\":{\"autotypenumbers\":\"strict\",\"colorway\":[\"#636efa\",\"#EF553B\",\"#00cc96\",\"#ab63fa\",\"#FFA15A\",\"#19d3f3\",\"#FF6692\",\"#B6E880\",\"#FF97FF\",\"#FECB52\"],\"font\":{\"color\":\"#2a3f5f\"},\"hovermode\":\"closest\",\"hoverlabel\":{\"align\":\"left\"},\"paper_bgcolor\":\"white\",\"plot_bgcolor\":\"#E5ECF6\",\"polar\":{\"bgcolor\":\"#E5ECF6\",\"angularaxis\":{\"gridcolor\":\"white\",\"linecolor\":\"white\",\"ticks\":\"\"},\"radialaxis\":{\"gridcolor\":\"white\",\"linecolor\":\"white\",\"ticks\":\"\"}},\"ternary\":{\"bgcolor\":\"#E5ECF6\",\"aaxis\":{\"gridcolor\":\"white\",\"linecolor\":\"white\",\"ticks\":\"\"},\"baxis\":{\"gridcolor\":\"white\",\"linecolor\":\"white\",\"ticks\":\"\"},\"caxis\":{\"gridcolor\":\"white\",\"linecolor\":\"white\",\"ticks\":\"\"}},\"coloraxis\":{\"colorbar\":{\"outlinewidth\":0,\"ticks\":\"\"}},\"colorscale\":{\"sequential\":[[0.0,\"#0d0887\"],[0.1111111111111111,\"#46039f\"],[0.2222222222222222,\"#7201a8\"],[0.3333333333333333,\"#9c179e\"],[0.4444444444444444,\"#bd3786\"],[0.5555555555555556,\"#d8576b\"],[0.6666666666666666,\"#ed7953\"],[0.7777777777777778,\"#fb9f3a\"],[0.8888888888888888,\"#fdca26\"],[1.0,\"#f0f921\"]],\"sequentialminus\":[[0.0,\"#0d0887\"],[0.1111111111111111,\"#46039f\"],[0.2222222222222222,\"#7201a8\"],[0.3333333333333333,\"#9c179e\"],[0.4444444444444444,\"#bd3786\"],[0.5555555555555556,\"#d8576b\"],[0.6666666666666666,\"#ed7953\"],[0.7777777777777778,\"#fb9f3a\"],[0.8888888888888888,\"#fdca26\"],[1.0,\"#f0f921\"]],\"diverging\":[[0,\"#8e0152\"],[0.1,\"#c51b7d\"],[0.2,\"#de77ae\"],[0.3,\"#f1b6da\"],[0.4,\"#fde0ef\"],[0.5,\"#f7f7f7\"],[0.6,\"#e6f5d0\"],[0.7,\"#b8e186\"],[0.8,\"#7fbc41\"],[0.9,\"#4d9221\"],[1,\"#276419\"]]},\"xaxis\":{\"gridcolor\":\"white\",\"linecolor\":\"white\",\"ticks\":\"\",\"title\":{\"standoff\":15},\"zerolinecolor\":\"white\",\"automargin\":true,\"zerolinewidth\":2},\"yaxis\":{\"gridcolor\":\"white\",\"linecolor\":\"white\",\"ticks\":\"\",\"title\":{\"standoff\":15},\"zerolinecolor\":\"white\",\"automargin\":true,\"zerolinewidth\":2},\"scene\":{\"xaxis\":{\"backgroundcolor\":\"#E5ECF6\",\"gridcolor\":\"white\",\"linecolor\":\"white\",\"showbackground\":true,\"ticks\":\"\",\"zerolinecolor\":\"white\",\"gridwidth\":2},\"yaxis\":{\"backgroundcolor\":\"#E5ECF6\",\"gridcolor\":\"white\",\"linecolor\":\"white\",\"showbackground\":true,\"ticks\":\"\",\"zerolinecolor\":\"white\",\"gridwidth\":2},\"zaxis\":{\"backgroundcolor\":\"#E5ECF6\",\"gridcolor\":\"white\",\"linecolor\":\"white\",\"showbackground\":true,\"ticks\":\"\",\"zerolinecolor\":\"white\",\"gridwidth\":2}},\"shapedefaults\":{\"line\":{\"color\":\"#2a3f5f\"}},\"annotationdefaults\":{\"arrowcolor\":\"#2a3f5f\",\"arrowhead\":0,\"arrowwidth\":1},\"geo\":{\"bgcolor\":\"white\",\"landcolor\":\"#E5ECF6\",\"subunitcolor\":\"white\",\"showland\":true,\"showlakes\":true,\"lakecolor\":\"white\"},\"title\":{\"x\":0.05},\"mapbox\":{\"style\":\"light\"}}},\"shapes\":[{\"line\":{\"dash\":\"dash\",\"width\":1},\"type\":\"line\",\"x0\":18,\"x1\":18,\"xref\":\"x\",\"y0\":0,\"y1\":1,\"yref\":\"y domain\"},{\"line\":{\"dash\":\"dash\",\"width\":1},\"type\":\"line\",\"x0\":21,\"x1\":21,\"xref\":\"x\",\"y0\":0,\"y1\":1,\"yref\":\"y domain\"}],\"annotations\":[{\"showarrow\":false,\"text\":\"AT2017gfo \\u003cbr\\u003e at 0 days\",\"x\":18,\"xanchor\":\"right\",\"xref\":\"x\",\"y\":1,\"yanchor\":\"top\",\"yref\":\"y domain\"},{\"showarrow\":false,\"text\":\"AT2017gfo \\u003cbr\\u003e at 3 days\",\"x\":21,\"xanchor\":\"left\",\"xref\":\"x\",\"y\":0,\"yanchor\":\"bottom\",\"yref\":\"y domain\"}],\"xaxis\":{\"range\":[0,22]},\"width\":500,\"height\":500,\"title\":{\"text\":\"1200-1600 Mpc, entries in bin = 27\"},\"hovermode\":\"x\",\"yaxis\":{\"title\":{\"text\":\"Mean occurrences per 1000 sq. deg.\"}}},                        {\"responsive\": true}                    ).then(function(){\n",
       "                            \n",
       "var gd = document.getElementById('2cb4a2b3-2740-4143-86d4-fa8d80aaaf88');\n",
       "var x = new MutationObserver(function (mutations, observer) {{\n",
       "        var display = window.getComputedStyle(gd).display;\n",
       "        if (!display || display === 'none') {{\n",
       "            console.log([gd, 'removed!']);\n",
       "            Plotly.purge(gd);\n",
       "            observer.disconnect();\n",
       "        }}\n",
       "}});\n",
       "\n",
       "// Listen for the removal of the full notebook cells\n",
       "var notebookContainer = gd.closest('#notebook-container');\n",
       "if (notebookContainer) {{\n",
       "    x.observe(notebookContainer, {childList: true});\n",
       "}}\n",
       "\n",
       "// Listen for the clearing of the current output cell\n",
       "var outputEl = gd.closest('.output');\n",
       "if (outputEl) {{\n",
       "    x.observe(outputEl, {childList: true});\n",
       "}}\n",
       "\n",
       "                        })                };                });            </script>        </div>"
      ]
     },
     "metadata": {},
     "output_type": "display_data"
    },
    {
     "data": {
      "application/vnd.plotly.v1+json": {
       "config": {
        "plotlyServerURL": "https://plot.ly"
       },
       "data": [
        {
         "line": {
          "width": 0
         },
         "marker": {
          "color": "#444"
         },
         "mode": "lines",
         "name": "Upper Bound",
         "showlegend": false,
         "type": "scatter",
         "x": [
          1,
          2,
          3,
          4,
          5,
          6,
          7,
          8,
          9,
          10,
          11,
          12,
          13,
          14,
          15,
          16,
          17,
          18,
          19,
          20,
          21,
          22,
          23,
          24
         ],
         "y": [
          14.608128853841404,
          2.696150834855076,
          2.2140203554722047,
          0,
          0,
          0,
          0,
          0.6323112036758927,
          1.0820836188030667,
          2.88269008436391,
          0.5410418094015333,
          0,
          0,
          0,
          0,
          0,
          0,
          0,
          0,
          0,
          0,
          0,
          0,
          0
         ]
        },
        {
         "fill": "tonexty",
         "line": {
          "width": 0
         },
         "mode": "lines",
         "name": "Lower Bound",
         "opacity": 0.1,
         "showlegend": false,
         "type": "scatter",
         "x": [
          1,
          2,
          3,
          4,
          5,
          6,
          7,
          8,
          9,
          10,
          11,
          12,
          13,
          14,
          15,
          16,
          17,
          18,
          19,
          20,
          21,
          22,
          23,
          24
         ],
         "y": [
          -2.5063586695317115,
          0.4191909752230274,
          -0.15666811976062078,
          0,
          0,
          0,
          0,
          0.08039990044572581,
          -0.18565619774308978,
          0.08080452305889163,
          -0.09282809887154489,
          0,
          0,
          0,
          0,
          0,
          0,
          0,
          0,
          0,
          0,
          0,
          0,
          0
         ]
        },
        {
         "line": {
          "color": "blue"
         },
         "name": "Occurrences",
         "type": "scatter",
         "x": [
          1,
          2,
          3,
          4,
          5,
          6,
          7,
          8,
          9,
          10,
          11,
          12,
          13,
          14,
          15,
          16,
          17,
          18,
          19,
          20,
          21,
          22,
          23,
          24
         ],
         "y": [
          6.050885092154846,
          1.5576709050390518,
          1.028676117855792,
          0,
          0,
          0,
          0,
          0.35635555206080927,
          0.44821371052998843,
          1.4817473037114006,
          0.22410685526499421,
          0,
          0,
          0,
          0,
          0,
          0,
          0,
          0,
          0,
          0,
          0,
          0,
          0
         ]
        }
       ],
       "layout": {
        "annotations": [
         {
          "showarrow": false,
          "text": "AT2017gfo <br> at 0 days",
          "x": 18,
          "xanchor": "right",
          "xref": "x",
          "y": 1,
          "yanchor": "top",
          "yref": "y domain"
         },
         {
          "showarrow": false,
          "text": "AT2017gfo <br> at 3 days",
          "x": 21,
          "xanchor": "left",
          "xref": "x",
          "y": 0,
          "yanchor": "bottom",
          "yref": "y domain"
         }
        ],
        "height": 500,
        "hovermode": "x",
        "shapes": [
         {
          "line": {
           "dash": "dash",
           "width": 1
          },
          "type": "line",
          "x0": 18,
          "x1": 18,
          "xref": "x",
          "y0": 0,
          "y1": 1,
          "yref": "y domain"
         },
         {
          "line": {
           "dash": "dash",
           "width": 1
          },
          "type": "line",
          "x0": 21,
          "x1": 21,
          "xref": "x",
          "y0": 0,
          "y1": 1,
          "yref": "y domain"
         }
        ],
        "template": {
         "data": {
          "bar": [
           {
            "error_x": {
             "color": "#2a3f5f"
            },
            "error_y": {
             "color": "#2a3f5f"
            },
            "marker": {
             "line": {
              "color": "#E5ECF6",
              "width": 0.5
             },
             "pattern": {
              "fillmode": "overlay",
              "size": 10,
              "solidity": 0.2
             }
            },
            "type": "bar"
           }
          ],
          "barpolar": [
           {
            "marker": {
             "line": {
              "color": "#E5ECF6",
              "width": 0.5
             },
             "pattern": {
              "fillmode": "overlay",
              "size": 10,
              "solidity": 0.2
             }
            },
            "type": "barpolar"
           }
          ],
          "carpet": [
           {
            "aaxis": {
             "endlinecolor": "#2a3f5f",
             "gridcolor": "white",
             "linecolor": "white",
             "minorgridcolor": "white",
             "startlinecolor": "#2a3f5f"
            },
            "baxis": {
             "endlinecolor": "#2a3f5f",
             "gridcolor": "white",
             "linecolor": "white",
             "minorgridcolor": "white",
             "startlinecolor": "#2a3f5f"
            },
            "type": "carpet"
           }
          ],
          "choropleth": [
           {
            "colorbar": {
             "outlinewidth": 0,
             "ticks": ""
            },
            "type": "choropleth"
           }
          ],
          "contour": [
           {
            "colorbar": {
             "outlinewidth": 0,
             "ticks": ""
            },
            "colorscale": [
             [
              0,
              "#0d0887"
             ],
             [
              0.1111111111111111,
              "#46039f"
             ],
             [
              0.2222222222222222,
              "#7201a8"
             ],
             [
              0.3333333333333333,
              "#9c179e"
             ],
             [
              0.4444444444444444,
              "#bd3786"
             ],
             [
              0.5555555555555556,
              "#d8576b"
             ],
             [
              0.6666666666666666,
              "#ed7953"
             ],
             [
              0.7777777777777778,
              "#fb9f3a"
             ],
             [
              0.8888888888888888,
              "#fdca26"
             ],
             [
              1,
              "#f0f921"
             ]
            ],
            "type": "contour"
           }
          ],
          "contourcarpet": [
           {
            "colorbar": {
             "outlinewidth": 0,
             "ticks": ""
            },
            "type": "contourcarpet"
           }
          ],
          "heatmap": [
           {
            "colorbar": {
             "outlinewidth": 0,
             "ticks": ""
            },
            "colorscale": [
             [
              0,
              "#0d0887"
             ],
             [
              0.1111111111111111,
              "#46039f"
             ],
             [
              0.2222222222222222,
              "#7201a8"
             ],
             [
              0.3333333333333333,
              "#9c179e"
             ],
             [
              0.4444444444444444,
              "#bd3786"
             ],
             [
              0.5555555555555556,
              "#d8576b"
             ],
             [
              0.6666666666666666,
              "#ed7953"
             ],
             [
              0.7777777777777778,
              "#fb9f3a"
             ],
             [
              0.8888888888888888,
              "#fdca26"
             ],
             [
              1,
              "#f0f921"
             ]
            ],
            "type": "heatmap"
           }
          ],
          "heatmapgl": [
           {
            "colorbar": {
             "outlinewidth": 0,
             "ticks": ""
            },
            "colorscale": [
             [
              0,
              "#0d0887"
             ],
             [
              0.1111111111111111,
              "#46039f"
             ],
             [
              0.2222222222222222,
              "#7201a8"
             ],
             [
              0.3333333333333333,
              "#9c179e"
             ],
             [
              0.4444444444444444,
              "#bd3786"
             ],
             [
              0.5555555555555556,
              "#d8576b"
             ],
             [
              0.6666666666666666,
              "#ed7953"
             ],
             [
              0.7777777777777778,
              "#fb9f3a"
             ],
             [
              0.8888888888888888,
              "#fdca26"
             ],
             [
              1,
              "#f0f921"
             ]
            ],
            "type": "heatmapgl"
           }
          ],
          "histogram": [
           {
            "marker": {
             "pattern": {
              "fillmode": "overlay",
              "size": 10,
              "solidity": 0.2
             }
            },
            "type": "histogram"
           }
          ],
          "histogram2d": [
           {
            "colorbar": {
             "outlinewidth": 0,
             "ticks": ""
            },
            "colorscale": [
             [
              0,
              "#0d0887"
             ],
             [
              0.1111111111111111,
              "#46039f"
             ],
             [
              0.2222222222222222,
              "#7201a8"
             ],
             [
              0.3333333333333333,
              "#9c179e"
             ],
             [
              0.4444444444444444,
              "#bd3786"
             ],
             [
              0.5555555555555556,
              "#d8576b"
             ],
             [
              0.6666666666666666,
              "#ed7953"
             ],
             [
              0.7777777777777778,
              "#fb9f3a"
             ],
             [
              0.8888888888888888,
              "#fdca26"
             ],
             [
              1,
              "#f0f921"
             ]
            ],
            "type": "histogram2d"
           }
          ],
          "histogram2dcontour": [
           {
            "colorbar": {
             "outlinewidth": 0,
             "ticks": ""
            },
            "colorscale": [
             [
              0,
              "#0d0887"
             ],
             [
              0.1111111111111111,
              "#46039f"
             ],
             [
              0.2222222222222222,
              "#7201a8"
             ],
             [
              0.3333333333333333,
              "#9c179e"
             ],
             [
              0.4444444444444444,
              "#bd3786"
             ],
             [
              0.5555555555555556,
              "#d8576b"
             ],
             [
              0.6666666666666666,
              "#ed7953"
             ],
             [
              0.7777777777777778,
              "#fb9f3a"
             ],
             [
              0.8888888888888888,
              "#fdca26"
             ],
             [
              1,
              "#f0f921"
             ]
            ],
            "type": "histogram2dcontour"
           }
          ],
          "mesh3d": [
           {
            "colorbar": {
             "outlinewidth": 0,
             "ticks": ""
            },
            "type": "mesh3d"
           }
          ],
          "parcoords": [
           {
            "line": {
             "colorbar": {
              "outlinewidth": 0,
              "ticks": ""
             }
            },
            "type": "parcoords"
           }
          ],
          "pie": [
           {
            "automargin": true,
            "type": "pie"
           }
          ],
          "scatter": [
           {
            "fillpattern": {
             "fillmode": "overlay",
             "size": 10,
             "solidity": 0.2
            },
            "type": "scatter"
           }
          ],
          "scatter3d": [
           {
            "line": {
             "colorbar": {
              "outlinewidth": 0,
              "ticks": ""
             }
            },
            "marker": {
             "colorbar": {
              "outlinewidth": 0,
              "ticks": ""
             }
            },
            "type": "scatter3d"
           }
          ],
          "scattercarpet": [
           {
            "marker": {
             "colorbar": {
              "outlinewidth": 0,
              "ticks": ""
             }
            },
            "type": "scattercarpet"
           }
          ],
          "scattergeo": [
           {
            "marker": {
             "colorbar": {
              "outlinewidth": 0,
              "ticks": ""
             }
            },
            "type": "scattergeo"
           }
          ],
          "scattergl": [
           {
            "marker": {
             "colorbar": {
              "outlinewidth": 0,
              "ticks": ""
             }
            },
            "type": "scattergl"
           }
          ],
          "scattermapbox": [
           {
            "marker": {
             "colorbar": {
              "outlinewidth": 0,
              "ticks": ""
             }
            },
            "type": "scattermapbox"
           }
          ],
          "scatterpolar": [
           {
            "marker": {
             "colorbar": {
              "outlinewidth": 0,
              "ticks": ""
             }
            },
            "type": "scatterpolar"
           }
          ],
          "scatterpolargl": [
           {
            "marker": {
             "colorbar": {
              "outlinewidth": 0,
              "ticks": ""
             }
            },
            "type": "scatterpolargl"
           }
          ],
          "scatterternary": [
           {
            "marker": {
             "colorbar": {
              "outlinewidth": 0,
              "ticks": ""
             }
            },
            "type": "scatterternary"
           }
          ],
          "surface": [
           {
            "colorbar": {
             "outlinewidth": 0,
             "ticks": ""
            },
            "colorscale": [
             [
              0,
              "#0d0887"
             ],
             [
              0.1111111111111111,
              "#46039f"
             ],
             [
              0.2222222222222222,
              "#7201a8"
             ],
             [
              0.3333333333333333,
              "#9c179e"
             ],
             [
              0.4444444444444444,
              "#bd3786"
             ],
             [
              0.5555555555555556,
              "#d8576b"
             ],
             [
              0.6666666666666666,
              "#ed7953"
             ],
             [
              0.7777777777777778,
              "#fb9f3a"
             ],
             [
              0.8888888888888888,
              "#fdca26"
             ],
             [
              1,
              "#f0f921"
             ]
            ],
            "type": "surface"
           }
          ],
          "table": [
           {
            "cells": {
             "fill": {
              "color": "#EBF0F8"
             },
             "line": {
              "color": "white"
             }
            },
            "header": {
             "fill": {
              "color": "#C8D4E3"
             },
             "line": {
              "color": "white"
             }
            },
            "type": "table"
           }
          ]
         },
         "layout": {
          "annotationdefaults": {
           "arrowcolor": "#2a3f5f",
           "arrowhead": 0,
           "arrowwidth": 1
          },
          "autotypenumbers": "strict",
          "coloraxis": {
           "colorbar": {
            "outlinewidth": 0,
            "ticks": ""
           }
          },
          "colorscale": {
           "diverging": [
            [
             0,
             "#8e0152"
            ],
            [
             0.1,
             "#c51b7d"
            ],
            [
             0.2,
             "#de77ae"
            ],
            [
             0.3,
             "#f1b6da"
            ],
            [
             0.4,
             "#fde0ef"
            ],
            [
             0.5,
             "#f7f7f7"
            ],
            [
             0.6,
             "#e6f5d0"
            ],
            [
             0.7,
             "#b8e186"
            ],
            [
             0.8,
             "#7fbc41"
            ],
            [
             0.9,
             "#4d9221"
            ],
            [
             1,
             "#276419"
            ]
           ],
           "sequential": [
            [
             0,
             "#0d0887"
            ],
            [
             0.1111111111111111,
             "#46039f"
            ],
            [
             0.2222222222222222,
             "#7201a8"
            ],
            [
             0.3333333333333333,
             "#9c179e"
            ],
            [
             0.4444444444444444,
             "#bd3786"
            ],
            [
             0.5555555555555556,
             "#d8576b"
            ],
            [
             0.6666666666666666,
             "#ed7953"
            ],
            [
             0.7777777777777778,
             "#fb9f3a"
            ],
            [
             0.8888888888888888,
             "#fdca26"
            ],
            [
             1,
             "#f0f921"
            ]
           ],
           "sequentialminus": [
            [
             0,
             "#0d0887"
            ],
            [
             0.1111111111111111,
             "#46039f"
            ],
            [
             0.2222222222222222,
             "#7201a8"
            ],
            [
             0.3333333333333333,
             "#9c179e"
            ],
            [
             0.4444444444444444,
             "#bd3786"
            ],
            [
             0.5555555555555556,
             "#d8576b"
            ],
            [
             0.6666666666666666,
             "#ed7953"
            ],
            [
             0.7777777777777778,
             "#fb9f3a"
            ],
            [
             0.8888888888888888,
             "#fdca26"
            ],
            [
             1,
             "#f0f921"
            ]
           ]
          },
          "colorway": [
           "#636efa",
           "#EF553B",
           "#00cc96",
           "#ab63fa",
           "#FFA15A",
           "#19d3f3",
           "#FF6692",
           "#B6E880",
           "#FF97FF",
           "#FECB52"
          ],
          "font": {
           "color": "#2a3f5f"
          },
          "geo": {
           "bgcolor": "white",
           "lakecolor": "white",
           "landcolor": "#E5ECF6",
           "showlakes": true,
           "showland": true,
           "subunitcolor": "white"
          },
          "hoverlabel": {
           "align": "left"
          },
          "hovermode": "closest",
          "mapbox": {
           "style": "light"
          },
          "paper_bgcolor": "white",
          "plot_bgcolor": "#E5ECF6",
          "polar": {
           "angularaxis": {
            "gridcolor": "white",
            "linecolor": "white",
            "ticks": ""
           },
           "bgcolor": "#E5ECF6",
           "radialaxis": {
            "gridcolor": "white",
            "linecolor": "white",
            "ticks": ""
           }
          },
          "scene": {
           "xaxis": {
            "backgroundcolor": "#E5ECF6",
            "gridcolor": "white",
            "gridwidth": 2,
            "linecolor": "white",
            "showbackground": true,
            "ticks": "",
            "zerolinecolor": "white"
           },
           "yaxis": {
            "backgroundcolor": "#E5ECF6",
            "gridcolor": "white",
            "gridwidth": 2,
            "linecolor": "white",
            "showbackground": true,
            "ticks": "",
            "zerolinecolor": "white"
           },
           "zaxis": {
            "backgroundcolor": "#E5ECF6",
            "gridcolor": "white",
            "gridwidth": 2,
            "linecolor": "white",
            "showbackground": true,
            "ticks": "",
            "zerolinecolor": "white"
           }
          },
          "shapedefaults": {
           "line": {
            "color": "#2a3f5f"
           }
          },
          "ternary": {
           "aaxis": {
            "gridcolor": "white",
            "linecolor": "white",
            "ticks": ""
           },
           "baxis": {
            "gridcolor": "white",
            "linecolor": "white",
            "ticks": ""
           },
           "bgcolor": "#E5ECF6",
           "caxis": {
            "gridcolor": "white",
            "linecolor": "white",
            "ticks": ""
           }
          },
          "title": {
           "x": 0.05
          },
          "xaxis": {
           "automargin": true,
           "gridcolor": "white",
           "linecolor": "white",
           "ticks": "",
           "title": {
            "standoff": 15
           },
           "zerolinecolor": "white",
           "zerolinewidth": 2
          },
          "yaxis": {
           "automargin": true,
           "gridcolor": "white",
           "linecolor": "white",
           "ticks": "",
           "title": {
            "standoff": 15
           },
           "zerolinecolor": "white",
           "zerolinewidth": 2
          }
         }
        },
        "title": {
         "text": "1600-inf Mpc, entries in bin = 52"
        },
        "width": 500,
        "xaxis": {
         "range": [
          0,
          22
         ]
        },
        "yaxis": {
         "title": {
          "text": "Mean occurrences per 1000 sq. deg."
         }
        }
       }
      },
      "text/html": [
       "<div>                            <div id=\"4c88ca65-2e0d-46a1-a647-26a87d85f4da\" class=\"plotly-graph-div\" style=\"height:500px; width:500px;\"></div>            <script type=\"text/javascript\">                require([\"plotly\"], function(Plotly) {                    window.PLOTLYENV=window.PLOTLYENV || {};                                    if (document.getElementById(\"4c88ca65-2e0d-46a1-a647-26a87d85f4da\")) {                    Plotly.newPlot(                        \"4c88ca65-2e0d-46a1-a647-26a87d85f4da\",                        [{\"line\":{\"width\":0},\"marker\":{\"color\":\"#444\"},\"mode\":\"lines\",\"name\":\"Upper Bound\",\"showlegend\":false,\"x\":[1.0,2.0,3.0,4.0,5.0,6.0,7.0,8.0,9.0,10.0,11.0,12.0,13.0,14.0,15.0,16.0,17.0,18.0,19.0,20.0,21.0,22.0,23.0,24.0],\"y\":[14.608128853841404,2.696150834855076,2.2140203554722047,0.0,0.0,0.0,0.0,0.6323112036758927,1.0820836188030667,2.88269008436391,0.5410418094015333,0.0,0.0,0.0,0.0,0.0,0.0,0.0,0.0,0.0,0.0,0.0,0.0,0.0],\"type\":\"scatter\"},{\"fill\":\"tonexty\",\"line\":{\"width\":0},\"mode\":\"lines\",\"name\":\"Lower Bound\",\"opacity\":0.1,\"showlegend\":false,\"x\":[1.0,2.0,3.0,4.0,5.0,6.0,7.0,8.0,9.0,10.0,11.0,12.0,13.0,14.0,15.0,16.0,17.0,18.0,19.0,20.0,21.0,22.0,23.0,24.0],\"y\":[-2.5063586695317115,0.4191909752230274,-0.15666811976062078,0.0,0.0,0.0,0.0,0.08039990044572581,-0.18565619774308978,0.08080452305889163,-0.09282809887154489,0.0,0.0,0.0,0.0,0.0,0.0,0.0,0.0,0.0,0.0,0.0,0.0,0.0],\"type\":\"scatter\"},{\"line\":{\"color\":\"blue\"},\"name\":\"Occurrences\",\"x\":[1.0,2.0,3.0,4.0,5.0,6.0,7.0,8.0,9.0,10.0,11.0,12.0,13.0,14.0,15.0,16.0,17.0,18.0,19.0,20.0,21.0,22.0,23.0,24.0],\"y\":[6.050885092154846,1.5576709050390518,1.028676117855792,0.0,0.0,0.0,0.0,0.35635555206080927,0.44821371052998843,1.4817473037114006,0.22410685526499421,0.0,0.0,0.0,0.0,0.0,0.0,0.0,0.0,0.0,0.0,0.0,0.0,0.0],\"type\":\"scatter\"}],                        {\"template\":{\"data\":{\"histogram2dcontour\":[{\"type\":\"histogram2dcontour\",\"colorbar\":{\"outlinewidth\":0,\"ticks\":\"\"},\"colorscale\":[[0.0,\"#0d0887\"],[0.1111111111111111,\"#46039f\"],[0.2222222222222222,\"#7201a8\"],[0.3333333333333333,\"#9c179e\"],[0.4444444444444444,\"#bd3786\"],[0.5555555555555556,\"#d8576b\"],[0.6666666666666666,\"#ed7953\"],[0.7777777777777778,\"#fb9f3a\"],[0.8888888888888888,\"#fdca26\"],[1.0,\"#f0f921\"]]}],\"choropleth\":[{\"type\":\"choropleth\",\"colorbar\":{\"outlinewidth\":0,\"ticks\":\"\"}}],\"histogram2d\":[{\"type\":\"histogram2d\",\"colorbar\":{\"outlinewidth\":0,\"ticks\":\"\"},\"colorscale\":[[0.0,\"#0d0887\"],[0.1111111111111111,\"#46039f\"],[0.2222222222222222,\"#7201a8\"],[0.3333333333333333,\"#9c179e\"],[0.4444444444444444,\"#bd3786\"],[0.5555555555555556,\"#d8576b\"],[0.6666666666666666,\"#ed7953\"],[0.7777777777777778,\"#fb9f3a\"],[0.8888888888888888,\"#fdca26\"],[1.0,\"#f0f921\"]]}],\"heatmap\":[{\"type\":\"heatmap\",\"colorbar\":{\"outlinewidth\":0,\"ticks\":\"\"},\"colorscale\":[[0.0,\"#0d0887\"],[0.1111111111111111,\"#46039f\"],[0.2222222222222222,\"#7201a8\"],[0.3333333333333333,\"#9c179e\"],[0.4444444444444444,\"#bd3786\"],[0.5555555555555556,\"#d8576b\"],[0.6666666666666666,\"#ed7953\"],[0.7777777777777778,\"#fb9f3a\"],[0.8888888888888888,\"#fdca26\"],[1.0,\"#f0f921\"]]}],\"heatmapgl\":[{\"type\":\"heatmapgl\",\"colorbar\":{\"outlinewidth\":0,\"ticks\":\"\"},\"colorscale\":[[0.0,\"#0d0887\"],[0.1111111111111111,\"#46039f\"],[0.2222222222222222,\"#7201a8\"],[0.3333333333333333,\"#9c179e\"],[0.4444444444444444,\"#bd3786\"],[0.5555555555555556,\"#d8576b\"],[0.6666666666666666,\"#ed7953\"],[0.7777777777777778,\"#fb9f3a\"],[0.8888888888888888,\"#fdca26\"],[1.0,\"#f0f921\"]]}],\"contourcarpet\":[{\"type\":\"contourcarpet\",\"colorbar\":{\"outlinewidth\":0,\"ticks\":\"\"}}],\"contour\":[{\"type\":\"contour\",\"colorbar\":{\"outlinewidth\":0,\"ticks\":\"\"},\"colorscale\":[[0.0,\"#0d0887\"],[0.1111111111111111,\"#46039f\"],[0.2222222222222222,\"#7201a8\"],[0.3333333333333333,\"#9c179e\"],[0.4444444444444444,\"#bd3786\"],[0.5555555555555556,\"#d8576b\"],[0.6666666666666666,\"#ed7953\"],[0.7777777777777778,\"#fb9f3a\"],[0.8888888888888888,\"#fdca26\"],[1.0,\"#f0f921\"]]}],\"surface\":[{\"type\":\"surface\",\"colorbar\":{\"outlinewidth\":0,\"ticks\":\"\"},\"colorscale\":[[0.0,\"#0d0887\"],[0.1111111111111111,\"#46039f\"],[0.2222222222222222,\"#7201a8\"],[0.3333333333333333,\"#9c179e\"],[0.4444444444444444,\"#bd3786\"],[0.5555555555555556,\"#d8576b\"],[0.6666666666666666,\"#ed7953\"],[0.7777777777777778,\"#fb9f3a\"],[0.8888888888888888,\"#fdca26\"],[1.0,\"#f0f921\"]]}],\"mesh3d\":[{\"type\":\"mesh3d\",\"colorbar\":{\"outlinewidth\":0,\"ticks\":\"\"}}],\"scatter\":[{\"fillpattern\":{\"fillmode\":\"overlay\",\"size\":10,\"solidity\":0.2},\"type\":\"scatter\"}],\"parcoords\":[{\"type\":\"parcoords\",\"line\":{\"colorbar\":{\"outlinewidth\":0,\"ticks\":\"\"}}}],\"scatterpolargl\":[{\"type\":\"scatterpolargl\",\"marker\":{\"colorbar\":{\"outlinewidth\":0,\"ticks\":\"\"}}}],\"bar\":[{\"error_x\":{\"color\":\"#2a3f5f\"},\"error_y\":{\"color\":\"#2a3f5f\"},\"marker\":{\"line\":{\"color\":\"#E5ECF6\",\"width\":0.5},\"pattern\":{\"fillmode\":\"overlay\",\"size\":10,\"solidity\":0.2}},\"type\":\"bar\"}],\"scattergeo\":[{\"type\":\"scattergeo\",\"marker\":{\"colorbar\":{\"outlinewidth\":0,\"ticks\":\"\"}}}],\"scatterpolar\":[{\"type\":\"scatterpolar\",\"marker\":{\"colorbar\":{\"outlinewidth\":0,\"ticks\":\"\"}}}],\"histogram\":[{\"marker\":{\"pattern\":{\"fillmode\":\"overlay\",\"size\":10,\"solidity\":0.2}},\"type\":\"histogram\"}],\"scattergl\":[{\"type\":\"scattergl\",\"marker\":{\"colorbar\":{\"outlinewidth\":0,\"ticks\":\"\"}}}],\"scatter3d\":[{\"type\":\"scatter3d\",\"line\":{\"colorbar\":{\"outlinewidth\":0,\"ticks\":\"\"}},\"marker\":{\"colorbar\":{\"outlinewidth\":0,\"ticks\":\"\"}}}],\"scattermapbox\":[{\"type\":\"scattermapbox\",\"marker\":{\"colorbar\":{\"outlinewidth\":0,\"ticks\":\"\"}}}],\"scatterternary\":[{\"type\":\"scatterternary\",\"marker\":{\"colorbar\":{\"outlinewidth\":0,\"ticks\":\"\"}}}],\"scattercarpet\":[{\"type\":\"scattercarpet\",\"marker\":{\"colorbar\":{\"outlinewidth\":0,\"ticks\":\"\"}}}],\"carpet\":[{\"aaxis\":{\"endlinecolor\":\"#2a3f5f\",\"gridcolor\":\"white\",\"linecolor\":\"white\",\"minorgridcolor\":\"white\",\"startlinecolor\":\"#2a3f5f\"},\"baxis\":{\"endlinecolor\":\"#2a3f5f\",\"gridcolor\":\"white\",\"linecolor\":\"white\",\"minorgridcolor\":\"white\",\"startlinecolor\":\"#2a3f5f\"},\"type\":\"carpet\"}],\"table\":[{\"cells\":{\"fill\":{\"color\":\"#EBF0F8\"},\"line\":{\"color\":\"white\"}},\"header\":{\"fill\":{\"color\":\"#C8D4E3\"},\"line\":{\"color\":\"white\"}},\"type\":\"table\"}],\"barpolar\":[{\"marker\":{\"line\":{\"color\":\"#E5ECF6\",\"width\":0.5},\"pattern\":{\"fillmode\":\"overlay\",\"size\":10,\"solidity\":0.2}},\"type\":\"barpolar\"}],\"pie\":[{\"automargin\":true,\"type\":\"pie\"}]},\"layout\":{\"autotypenumbers\":\"strict\",\"colorway\":[\"#636efa\",\"#EF553B\",\"#00cc96\",\"#ab63fa\",\"#FFA15A\",\"#19d3f3\",\"#FF6692\",\"#B6E880\",\"#FF97FF\",\"#FECB52\"],\"font\":{\"color\":\"#2a3f5f\"},\"hovermode\":\"closest\",\"hoverlabel\":{\"align\":\"left\"},\"paper_bgcolor\":\"white\",\"plot_bgcolor\":\"#E5ECF6\",\"polar\":{\"bgcolor\":\"#E5ECF6\",\"angularaxis\":{\"gridcolor\":\"white\",\"linecolor\":\"white\",\"ticks\":\"\"},\"radialaxis\":{\"gridcolor\":\"white\",\"linecolor\":\"white\",\"ticks\":\"\"}},\"ternary\":{\"bgcolor\":\"#E5ECF6\",\"aaxis\":{\"gridcolor\":\"white\",\"linecolor\":\"white\",\"ticks\":\"\"},\"baxis\":{\"gridcolor\":\"white\",\"linecolor\":\"white\",\"ticks\":\"\"},\"caxis\":{\"gridcolor\":\"white\",\"linecolor\":\"white\",\"ticks\":\"\"}},\"coloraxis\":{\"colorbar\":{\"outlinewidth\":0,\"ticks\":\"\"}},\"colorscale\":{\"sequential\":[[0.0,\"#0d0887\"],[0.1111111111111111,\"#46039f\"],[0.2222222222222222,\"#7201a8\"],[0.3333333333333333,\"#9c179e\"],[0.4444444444444444,\"#bd3786\"],[0.5555555555555556,\"#d8576b\"],[0.6666666666666666,\"#ed7953\"],[0.7777777777777778,\"#fb9f3a\"],[0.8888888888888888,\"#fdca26\"],[1.0,\"#f0f921\"]],\"sequentialminus\":[[0.0,\"#0d0887\"],[0.1111111111111111,\"#46039f\"],[0.2222222222222222,\"#7201a8\"],[0.3333333333333333,\"#9c179e\"],[0.4444444444444444,\"#bd3786\"],[0.5555555555555556,\"#d8576b\"],[0.6666666666666666,\"#ed7953\"],[0.7777777777777778,\"#fb9f3a\"],[0.8888888888888888,\"#fdca26\"],[1.0,\"#f0f921\"]],\"diverging\":[[0,\"#8e0152\"],[0.1,\"#c51b7d\"],[0.2,\"#de77ae\"],[0.3,\"#f1b6da\"],[0.4,\"#fde0ef\"],[0.5,\"#f7f7f7\"],[0.6,\"#e6f5d0\"],[0.7,\"#b8e186\"],[0.8,\"#7fbc41\"],[0.9,\"#4d9221\"],[1,\"#276419\"]]},\"xaxis\":{\"gridcolor\":\"white\",\"linecolor\":\"white\",\"ticks\":\"\",\"title\":{\"standoff\":15},\"zerolinecolor\":\"white\",\"automargin\":true,\"zerolinewidth\":2},\"yaxis\":{\"gridcolor\":\"white\",\"linecolor\":\"white\",\"ticks\":\"\",\"title\":{\"standoff\":15},\"zerolinecolor\":\"white\",\"automargin\":true,\"zerolinewidth\":2},\"scene\":{\"xaxis\":{\"backgroundcolor\":\"#E5ECF6\",\"gridcolor\":\"white\",\"linecolor\":\"white\",\"showbackground\":true,\"ticks\":\"\",\"zerolinecolor\":\"white\",\"gridwidth\":2},\"yaxis\":{\"backgroundcolor\":\"#E5ECF6\",\"gridcolor\":\"white\",\"linecolor\":\"white\",\"showbackground\":true,\"ticks\":\"\",\"zerolinecolor\":\"white\",\"gridwidth\":2},\"zaxis\":{\"backgroundcolor\":\"#E5ECF6\",\"gridcolor\":\"white\",\"linecolor\":\"white\",\"showbackground\":true,\"ticks\":\"\",\"zerolinecolor\":\"white\",\"gridwidth\":2}},\"shapedefaults\":{\"line\":{\"color\":\"#2a3f5f\"}},\"annotationdefaults\":{\"arrowcolor\":\"#2a3f5f\",\"arrowhead\":0,\"arrowwidth\":1},\"geo\":{\"bgcolor\":\"white\",\"landcolor\":\"#E5ECF6\",\"subunitcolor\":\"white\",\"showland\":true,\"showlakes\":true,\"lakecolor\":\"white\"},\"title\":{\"x\":0.05},\"mapbox\":{\"style\":\"light\"}}},\"shapes\":[{\"line\":{\"dash\":\"dash\",\"width\":1},\"type\":\"line\",\"x0\":18,\"x1\":18,\"xref\":\"x\",\"y0\":0,\"y1\":1,\"yref\":\"y domain\"},{\"line\":{\"dash\":\"dash\",\"width\":1},\"type\":\"line\",\"x0\":21,\"x1\":21,\"xref\":\"x\",\"y0\":0,\"y1\":1,\"yref\":\"y domain\"}],\"annotations\":[{\"showarrow\":false,\"text\":\"AT2017gfo \\u003cbr\\u003e at 0 days\",\"x\":18,\"xanchor\":\"right\",\"xref\":\"x\",\"y\":1,\"yanchor\":\"top\",\"yref\":\"y domain\"},{\"showarrow\":false,\"text\":\"AT2017gfo \\u003cbr\\u003e at 3 days\",\"x\":21,\"xanchor\":\"left\",\"xref\":\"x\",\"y\":0,\"yanchor\":\"bottom\",\"yref\":\"y domain\"}],\"xaxis\":{\"range\":[0,22]},\"width\":500,\"height\":500,\"title\":{\"text\":\"1600-inf Mpc, entries in bin = 52\"},\"hovermode\":\"x\",\"yaxis\":{\"title\":{\"text\":\"Mean occurrences per 1000 sq. deg.\"}}},                        {\"responsive\": true}                    ).then(function(){\n",
       "                            \n",
       "var gd = document.getElementById('4c88ca65-2e0d-46a1-a647-26a87d85f4da');\n",
       "var x = new MutationObserver(function (mutations, observer) {{\n",
       "        var display = window.getComputedStyle(gd).display;\n",
       "        if (!display || display === 'none') {{\n",
       "            console.log([gd, 'removed!']);\n",
       "            Plotly.purge(gd);\n",
       "            observer.disconnect();\n",
       "        }}\n",
       "}});\n",
       "\n",
       "// Listen for the removal of the full notebook cells\n",
       "var notebookContainer = gd.closest('#notebook-container');\n",
       "if (notebookContainer) {{\n",
       "    x.observe(notebookContainer, {childList: true});\n",
       "}}\n",
       "\n",
       "// Listen for the clearing of the current output cell\n",
       "var outputEl = gd.closest('.output');\n",
       "if (outputEl) {{\n",
       "    x.observe(outputEl, {childList: true});\n",
       "}}\n",
       "\n",
       "                        })                };                });            </script>        </div>"
      ]
     },
     "metadata": {},
     "output_type": "display_data"
    }
   ],
   "source": [
    "distance_mins = [0, 0, 400, 800, 1200, 1600]\n",
    "distance_maxs = [np.inf, 400, 800, 1200, 1600, np.inf]\n",
    "n = len(distance_mins)\n",
    "m = len(distance_maxs)\n",
    "\n",
    "binned_data = np.empty(m, dtype=pd.DataFrame)\n",
    "\n",
    "gw170817_dict = {f\"AT2017gfo <br> at 0 days\" : 18, f\"AT2017gfo <br> at 3 days\": 21}\n",
    "anno_pos = {f\"AT2017gfo <br> at 0 days\" : \"top left\", f\"AT2017gfo <br> at 3 days\": \"bottom right\"}\n",
    "\n",
    "#print(binned_data)\n",
    "\n",
    "for k in range(m):\n",
    "\n",
    "\n",
    "    dist_min = distance_mins[k]\n",
    "    dist_max = distance_maxs[k]\n",
    "    #print(f\"From {dist_min} to {dist_max} Mpc\")\n",
    "\n",
    "\n",
    "    kilonovaness_rate = pd.DataFrame(columns=[\"kilonovaness\", \"rate-1000\", \"std-1000\", \"entries\"])\n",
    "    #print(kilonovaness_rate.head())\n",
    "    #print(data[\"kilonovaness\"].unique())\n",
    "\n",
    "    \n",
    "    lim_data = rate_df.copy()[np.logical_and(rate_df[\"Map dist\"] >= dist_min, rate_df[\"Map dist\"] < dist_max)]\n",
    "    #print(sum(lim_data[\"kn-count\"]))\n",
    "\n",
    "    #print(dist_min, dist_max, len(lim_data))\n",
    "    for kilonovaness in lim_data[\"kilonovaness\"].unique():\n",
    "        #print(kilonovaness)\n",
    "        tmp = lim_data.copy()[lim_data[\"kilonovaness\"] == kilonovaness]\n",
    "\n",
    "        #print(tmp)\n",
    "\n",
    "        data_dict = {\"kilonovaness\": [float(kilonovaness)], \"rate-1000\": [np.mean(tmp[\"kn-1000-rate\"].values)], \"std-1000\": [np.std(tmp[\"kn-1000-rate\"].values)], \"entries\":[len(tmp[\"kn-1000-rate\"].values)], \"kn-count\": [sum(tmp[\"kn-count\"])]}\n",
    "        #print(data_dict)\n",
    "        mini_tmp = pd.DataFrame.from_dict(data_dict)\n",
    "\n",
    "        kilonovaness_rate = pd.concat([kilonovaness_rate, mini_tmp])\n",
    "        kilonovaness_rate = kilonovaness_rate.sort_values(by=[\"kilonovaness\"], ascending=True)\n",
    "    \n",
    "    #print(\"kilonovaness rate\", kilonovaness_rate)\n",
    "    binned_data[k] = kilonovaness_rate\n",
    "        \n",
    "        # print(kilonovaness_rate)\n",
    "\n",
    "#print(kilonovaness_rate.head(5))\n",
    "\n",
    "#print(binned_data)\n",
    "\n",
    "\n",
    "# fill plots\n",
    "for col in range(m):\n",
    "    #fig, ax = plt.subplots(figsize=(5,5))\n",
    "    fig = go.Figure()\n",
    "    if (binned_data[col] is not None):\n",
    "        #print(), 20, 25\n",
    "\n",
    "        binned_data[col][\"minus\"] = np.clip(binned_data[col][\"rate-1000\"]-binned_data[col][\"std-1000\"], 0, np.inf)\n",
    "        binned_data[col][\"plus\"] = binned_data[col][\"rate-1000\"]+binned_data[col][\"std-1000\"]\n",
    "\n",
    "        fig.add_trace(go.Scatter(\n",
    "                                name='Upper Bound',\n",
    "                                x=binned_data[col][\"kilonovaness\"],\n",
    "                                y=binned_data[col][\"plus\"],\n",
    "                                mode='lines',\n",
    "                                marker=dict(color=\"#444\"),\n",
    "                                line=dict(width=0),\n",
    "                                showlegend=False\n",
    "                            ))\n",
    "        fig.add_trace(go.Scatter(\n",
    "                                name='Lower Bound',\n",
    "                                x=binned_data[col][\"kilonovaness\"],\n",
    "                                y=binned_data[col][\"minus\"],\n",
    "                                #marker=dict(color=\"#444\"),\n",
    "                                line=dict(width=0),\n",
    "                                mode='lines',\n",
    "                                #fillcolor='red',\n",
    "                                opacity=0.1,\n",
    "                                fill='tonexty',\n",
    "                                showlegend=False\n",
    "                            ))\n",
    "        \n",
    "        fig.add_trace(go.Scatter(x=binned_data[col][\"kilonovaness\"], y=binned_data[col][\"rate-1000\"], name=\"Occurrences\", line={\"color\": \"blue\"}))\n",
    "\n",
    "    for day, kilo in gw170817_dict.items():\n",
    "        fig.add_vline(x=kilo, line_width=1, line_dash=\"dash\", annotation_text=day, annotation_position=anno_pos[day])\n",
    "\n",
    "    fig.update_layout(width=500, \n",
    "                      height=500,\n",
    "                      title=f\"{distance_mins[col]}-{distance_maxs[col]} Mpc, entries in bin = {int(sum(binned_data[col]['kn-count']))}\",\n",
    "                      hovermode=\"x\",\n",
    "                      xaxis_range=(0, 22),\n",
    "                      yaxis_title=\"Mean occurrences per 1000 sq. deg.\")\n",
    "    #fig.tight_layout()\n",
    "    fig.show()\n",
    "\n",
    "    filename = os.path.join(save_dir, f\"kilonovaness_binned_{distance_mins[col]}_{distance_maxs[col]}.pdf\")\n",
    "    fig.write_image(filename)"
   ]
  },
  {
   "cell_type": "code",
   "execution_count": 7,
   "metadata": {},
   "outputs": [
    {
     "data": {
      "application/vnd.plotly.v1+json": {
       "config": {
        "plotlyServerURL": "https://plot.ly"
       },
       "data": [
        {
         "type": "scatter",
         "x": [
          1,
          2,
          3,
          4,
          5,
          6,
          7,
          8,
          9,
          10,
          11,
          12,
          13,
          14,
          15,
          16
         ],
         "y": [
          0.3013157894736842,
          0.030263157894736843,
          0.3355263157894737,
          0.021052631578947368,
          0.08289473684210526,
          0.04736842105263158,
          0.02368421052631579,
          0.031578947368421054,
          0.018421052631578946,
          0.025,
          0.02236842105263158,
          0.017105263157894738,
          0.019736842105263157,
          0.007894736842105263,
          0.007894736842105263,
          0.007894736842105263
         ]
        }
       ],
       "layout": {
        "template": {
         "data": {
          "bar": [
           {
            "error_x": {
             "color": "#2a3f5f"
            },
            "error_y": {
             "color": "#2a3f5f"
            },
            "marker": {
             "line": {
              "color": "#E5ECF6",
              "width": 0.5
             },
             "pattern": {
              "fillmode": "overlay",
              "size": 10,
              "solidity": 0.2
             }
            },
            "type": "bar"
           }
          ],
          "barpolar": [
           {
            "marker": {
             "line": {
              "color": "#E5ECF6",
              "width": 0.5
             },
             "pattern": {
              "fillmode": "overlay",
              "size": 10,
              "solidity": 0.2
             }
            },
            "type": "barpolar"
           }
          ],
          "carpet": [
           {
            "aaxis": {
             "endlinecolor": "#2a3f5f",
             "gridcolor": "white",
             "linecolor": "white",
             "minorgridcolor": "white",
             "startlinecolor": "#2a3f5f"
            },
            "baxis": {
             "endlinecolor": "#2a3f5f",
             "gridcolor": "white",
             "linecolor": "white",
             "minorgridcolor": "white",
             "startlinecolor": "#2a3f5f"
            },
            "type": "carpet"
           }
          ],
          "choropleth": [
           {
            "colorbar": {
             "outlinewidth": 0,
             "ticks": ""
            },
            "type": "choropleth"
           }
          ],
          "contour": [
           {
            "colorbar": {
             "outlinewidth": 0,
             "ticks": ""
            },
            "colorscale": [
             [
              0,
              "#0d0887"
             ],
             [
              0.1111111111111111,
              "#46039f"
             ],
             [
              0.2222222222222222,
              "#7201a8"
             ],
             [
              0.3333333333333333,
              "#9c179e"
             ],
             [
              0.4444444444444444,
              "#bd3786"
             ],
             [
              0.5555555555555556,
              "#d8576b"
             ],
             [
              0.6666666666666666,
              "#ed7953"
             ],
             [
              0.7777777777777778,
              "#fb9f3a"
             ],
             [
              0.8888888888888888,
              "#fdca26"
             ],
             [
              1,
              "#f0f921"
             ]
            ],
            "type": "contour"
           }
          ],
          "contourcarpet": [
           {
            "colorbar": {
             "outlinewidth": 0,
             "ticks": ""
            },
            "type": "contourcarpet"
           }
          ],
          "heatmap": [
           {
            "colorbar": {
             "outlinewidth": 0,
             "ticks": ""
            },
            "colorscale": [
             [
              0,
              "#0d0887"
             ],
             [
              0.1111111111111111,
              "#46039f"
             ],
             [
              0.2222222222222222,
              "#7201a8"
             ],
             [
              0.3333333333333333,
              "#9c179e"
             ],
             [
              0.4444444444444444,
              "#bd3786"
             ],
             [
              0.5555555555555556,
              "#d8576b"
             ],
             [
              0.6666666666666666,
              "#ed7953"
             ],
             [
              0.7777777777777778,
              "#fb9f3a"
             ],
             [
              0.8888888888888888,
              "#fdca26"
             ],
             [
              1,
              "#f0f921"
             ]
            ],
            "type": "heatmap"
           }
          ],
          "heatmapgl": [
           {
            "colorbar": {
             "outlinewidth": 0,
             "ticks": ""
            },
            "colorscale": [
             [
              0,
              "#0d0887"
             ],
             [
              0.1111111111111111,
              "#46039f"
             ],
             [
              0.2222222222222222,
              "#7201a8"
             ],
             [
              0.3333333333333333,
              "#9c179e"
             ],
             [
              0.4444444444444444,
              "#bd3786"
             ],
             [
              0.5555555555555556,
              "#d8576b"
             ],
             [
              0.6666666666666666,
              "#ed7953"
             ],
             [
              0.7777777777777778,
              "#fb9f3a"
             ],
             [
              0.8888888888888888,
              "#fdca26"
             ],
             [
              1,
              "#f0f921"
             ]
            ],
            "type": "heatmapgl"
           }
          ],
          "histogram": [
           {
            "marker": {
             "pattern": {
              "fillmode": "overlay",
              "size": 10,
              "solidity": 0.2
             }
            },
            "type": "histogram"
           }
          ],
          "histogram2d": [
           {
            "colorbar": {
             "outlinewidth": 0,
             "ticks": ""
            },
            "colorscale": [
             [
              0,
              "#0d0887"
             ],
             [
              0.1111111111111111,
              "#46039f"
             ],
             [
              0.2222222222222222,
              "#7201a8"
             ],
             [
              0.3333333333333333,
              "#9c179e"
             ],
             [
              0.4444444444444444,
              "#bd3786"
             ],
             [
              0.5555555555555556,
              "#d8576b"
             ],
             [
              0.6666666666666666,
              "#ed7953"
             ],
             [
              0.7777777777777778,
              "#fb9f3a"
             ],
             [
              0.8888888888888888,
              "#fdca26"
             ],
             [
              1,
              "#f0f921"
             ]
            ],
            "type": "histogram2d"
           }
          ],
          "histogram2dcontour": [
           {
            "colorbar": {
             "outlinewidth": 0,
             "ticks": ""
            },
            "colorscale": [
             [
              0,
              "#0d0887"
             ],
             [
              0.1111111111111111,
              "#46039f"
             ],
             [
              0.2222222222222222,
              "#7201a8"
             ],
             [
              0.3333333333333333,
              "#9c179e"
             ],
             [
              0.4444444444444444,
              "#bd3786"
             ],
             [
              0.5555555555555556,
              "#d8576b"
             ],
             [
              0.6666666666666666,
              "#ed7953"
             ],
             [
              0.7777777777777778,
              "#fb9f3a"
             ],
             [
              0.8888888888888888,
              "#fdca26"
             ],
             [
              1,
              "#f0f921"
             ]
            ],
            "type": "histogram2dcontour"
           }
          ],
          "mesh3d": [
           {
            "colorbar": {
             "outlinewidth": 0,
             "ticks": ""
            },
            "type": "mesh3d"
           }
          ],
          "parcoords": [
           {
            "line": {
             "colorbar": {
              "outlinewidth": 0,
              "ticks": ""
             }
            },
            "type": "parcoords"
           }
          ],
          "pie": [
           {
            "automargin": true,
            "type": "pie"
           }
          ],
          "scatter": [
           {
            "fillpattern": {
             "fillmode": "overlay",
             "size": 10,
             "solidity": 0.2
            },
            "type": "scatter"
           }
          ],
          "scatter3d": [
           {
            "line": {
             "colorbar": {
              "outlinewidth": 0,
              "ticks": ""
             }
            },
            "marker": {
             "colorbar": {
              "outlinewidth": 0,
              "ticks": ""
             }
            },
            "type": "scatter3d"
           }
          ],
          "scattercarpet": [
           {
            "marker": {
             "colorbar": {
              "outlinewidth": 0,
              "ticks": ""
             }
            },
            "type": "scattercarpet"
           }
          ],
          "scattergeo": [
           {
            "marker": {
             "colorbar": {
              "outlinewidth": 0,
              "ticks": ""
             }
            },
            "type": "scattergeo"
           }
          ],
          "scattergl": [
           {
            "marker": {
             "colorbar": {
              "outlinewidth": 0,
              "ticks": ""
             }
            },
            "type": "scattergl"
           }
          ],
          "scattermapbox": [
           {
            "marker": {
             "colorbar": {
              "outlinewidth": 0,
              "ticks": ""
             }
            },
            "type": "scattermapbox"
           }
          ],
          "scatterpolar": [
           {
            "marker": {
             "colorbar": {
              "outlinewidth": 0,
              "ticks": ""
             }
            },
            "type": "scatterpolar"
           }
          ],
          "scatterpolargl": [
           {
            "marker": {
             "colorbar": {
              "outlinewidth": 0,
              "ticks": ""
             }
            },
            "type": "scatterpolargl"
           }
          ],
          "scatterternary": [
           {
            "marker": {
             "colorbar": {
              "outlinewidth": 0,
              "ticks": ""
             }
            },
            "type": "scatterternary"
           }
          ],
          "surface": [
           {
            "colorbar": {
             "outlinewidth": 0,
             "ticks": ""
            },
            "colorscale": [
             [
              0,
              "#0d0887"
             ],
             [
              0.1111111111111111,
              "#46039f"
             ],
             [
              0.2222222222222222,
              "#7201a8"
             ],
             [
              0.3333333333333333,
              "#9c179e"
             ],
             [
              0.4444444444444444,
              "#bd3786"
             ],
             [
              0.5555555555555556,
              "#d8576b"
             ],
             [
              0.6666666666666666,
              "#ed7953"
             ],
             [
              0.7777777777777778,
              "#fb9f3a"
             ],
             [
              0.8888888888888888,
              "#fdca26"
             ],
             [
              1,
              "#f0f921"
             ]
            ],
            "type": "surface"
           }
          ],
          "table": [
           {
            "cells": {
             "fill": {
              "color": "#EBF0F8"
             },
             "line": {
              "color": "white"
             }
            },
            "header": {
             "fill": {
              "color": "#C8D4E3"
             },
             "line": {
              "color": "white"
             }
            },
            "type": "table"
           }
          ]
         },
         "layout": {
          "annotationdefaults": {
           "arrowcolor": "#2a3f5f",
           "arrowhead": 0,
           "arrowwidth": 1
          },
          "autotypenumbers": "strict",
          "coloraxis": {
           "colorbar": {
            "outlinewidth": 0,
            "ticks": ""
           }
          },
          "colorscale": {
           "diverging": [
            [
             0,
             "#8e0152"
            ],
            [
             0.1,
             "#c51b7d"
            ],
            [
             0.2,
             "#de77ae"
            ],
            [
             0.3,
             "#f1b6da"
            ],
            [
             0.4,
             "#fde0ef"
            ],
            [
             0.5,
             "#f7f7f7"
            ],
            [
             0.6,
             "#e6f5d0"
            ],
            [
             0.7,
             "#b8e186"
            ],
            [
             0.8,
             "#7fbc41"
            ],
            [
             0.9,
             "#4d9221"
            ],
            [
             1,
             "#276419"
            ]
           ],
           "sequential": [
            [
             0,
             "#0d0887"
            ],
            [
             0.1111111111111111,
             "#46039f"
            ],
            [
             0.2222222222222222,
             "#7201a8"
            ],
            [
             0.3333333333333333,
             "#9c179e"
            ],
            [
             0.4444444444444444,
             "#bd3786"
            ],
            [
             0.5555555555555556,
             "#d8576b"
            ],
            [
             0.6666666666666666,
             "#ed7953"
            ],
            [
             0.7777777777777778,
             "#fb9f3a"
            ],
            [
             0.8888888888888888,
             "#fdca26"
            ],
            [
             1,
             "#f0f921"
            ]
           ],
           "sequentialminus": [
            [
             0,
             "#0d0887"
            ],
            [
             0.1111111111111111,
             "#46039f"
            ],
            [
             0.2222222222222222,
             "#7201a8"
            ],
            [
             0.3333333333333333,
             "#9c179e"
            ],
            [
             0.4444444444444444,
             "#bd3786"
            ],
            [
             0.5555555555555556,
             "#d8576b"
            ],
            [
             0.6666666666666666,
             "#ed7953"
            ],
            [
             0.7777777777777778,
             "#fb9f3a"
            ],
            [
             0.8888888888888888,
             "#fdca26"
            ],
            [
             1,
             "#f0f921"
            ]
           ]
          },
          "colorway": [
           "#636efa",
           "#EF553B",
           "#00cc96",
           "#ab63fa",
           "#FFA15A",
           "#19d3f3",
           "#FF6692",
           "#B6E880",
           "#FF97FF",
           "#FECB52"
          ],
          "font": {
           "color": "#2a3f5f"
          },
          "geo": {
           "bgcolor": "white",
           "lakecolor": "white",
           "landcolor": "#E5ECF6",
           "showlakes": true,
           "showland": true,
           "subunitcolor": "white"
          },
          "hoverlabel": {
           "align": "left"
          },
          "hovermode": "closest",
          "mapbox": {
           "style": "light"
          },
          "paper_bgcolor": "white",
          "plot_bgcolor": "#E5ECF6",
          "polar": {
           "angularaxis": {
            "gridcolor": "white",
            "linecolor": "white",
            "ticks": ""
           },
           "bgcolor": "#E5ECF6",
           "radialaxis": {
            "gridcolor": "white",
            "linecolor": "white",
            "ticks": ""
           }
          },
          "scene": {
           "xaxis": {
            "backgroundcolor": "#E5ECF6",
            "gridcolor": "white",
            "gridwidth": 2,
            "linecolor": "white",
            "showbackground": true,
            "ticks": "",
            "zerolinecolor": "white"
           },
           "yaxis": {
            "backgroundcolor": "#E5ECF6",
            "gridcolor": "white",
            "gridwidth": 2,
            "linecolor": "white",
            "showbackground": true,
            "ticks": "",
            "zerolinecolor": "white"
           },
           "zaxis": {
            "backgroundcolor": "#E5ECF6",
            "gridcolor": "white",
            "gridwidth": 2,
            "linecolor": "white",
            "showbackground": true,
            "ticks": "",
            "zerolinecolor": "white"
           }
          },
          "shapedefaults": {
           "line": {
            "color": "#2a3f5f"
           }
          },
          "ternary": {
           "aaxis": {
            "gridcolor": "white",
            "linecolor": "white",
            "ticks": ""
           },
           "baxis": {
            "gridcolor": "white",
            "linecolor": "white",
            "ticks": ""
           },
           "bgcolor": "#E5ECF6",
           "caxis": {
            "gridcolor": "white",
            "linecolor": "white",
            "ticks": ""
           }
          },
          "title": {
           "x": 0.05
          },
          "xaxis": {
           "automargin": true,
           "gridcolor": "white",
           "linecolor": "white",
           "ticks": "",
           "title": {
            "standoff": 15
           },
           "zerolinecolor": "white",
           "zerolinewidth": 2
          },
          "yaxis": {
           "automargin": true,
           "gridcolor": "white",
           "linecolor": "white",
           "ticks": "",
           "title": {
            "standoff": 15
           },
           "zerolinecolor": "white",
           "zerolinewidth": 2
          }
         }
        }
       }
      },
      "text/html": [
       "<div>                            <div id=\"17ae00fb-286b-49f8-a27d-956545828ed5\" class=\"plotly-graph-div\" style=\"height:525px; width:100%;\"></div>            <script type=\"text/javascript\">                require([\"plotly\"], function(Plotly) {                    window.PLOTLYENV=window.PLOTLYENV || {};                                    if (document.getElementById(\"17ae00fb-286b-49f8-a27d-956545828ed5\")) {                    Plotly.newPlot(                        \"17ae00fb-286b-49f8-a27d-956545828ed5\",                        [{\"x\":[1,2,3,4,5,6,7,8,9,10,11,12,13,14,15,16],\"y\":[0.3013157894736842,0.030263157894736843,0.3355263157894737,0.021052631578947368,0.08289473684210526,0.04736842105263158,0.02368421052631579,0.031578947368421054,0.018421052631578946,0.025,0.02236842105263158,0.017105263157894738,0.019736842105263157,0.007894736842105263,0.007894736842105263,0.007894736842105263],\"type\":\"scatter\"}],                        {\"template\":{\"data\":{\"histogram2dcontour\":[{\"type\":\"histogram2dcontour\",\"colorbar\":{\"outlinewidth\":0,\"ticks\":\"\"},\"colorscale\":[[0.0,\"#0d0887\"],[0.1111111111111111,\"#46039f\"],[0.2222222222222222,\"#7201a8\"],[0.3333333333333333,\"#9c179e\"],[0.4444444444444444,\"#bd3786\"],[0.5555555555555556,\"#d8576b\"],[0.6666666666666666,\"#ed7953\"],[0.7777777777777778,\"#fb9f3a\"],[0.8888888888888888,\"#fdca26\"],[1.0,\"#f0f921\"]]}],\"choropleth\":[{\"type\":\"choropleth\",\"colorbar\":{\"outlinewidth\":0,\"ticks\":\"\"}}],\"histogram2d\":[{\"type\":\"histogram2d\",\"colorbar\":{\"outlinewidth\":0,\"ticks\":\"\"},\"colorscale\":[[0.0,\"#0d0887\"],[0.1111111111111111,\"#46039f\"],[0.2222222222222222,\"#7201a8\"],[0.3333333333333333,\"#9c179e\"],[0.4444444444444444,\"#bd3786\"],[0.5555555555555556,\"#d8576b\"],[0.6666666666666666,\"#ed7953\"],[0.7777777777777778,\"#fb9f3a\"],[0.8888888888888888,\"#fdca26\"],[1.0,\"#f0f921\"]]}],\"heatmap\":[{\"type\":\"heatmap\",\"colorbar\":{\"outlinewidth\":0,\"ticks\":\"\"},\"colorscale\":[[0.0,\"#0d0887\"],[0.1111111111111111,\"#46039f\"],[0.2222222222222222,\"#7201a8\"],[0.3333333333333333,\"#9c179e\"],[0.4444444444444444,\"#bd3786\"],[0.5555555555555556,\"#d8576b\"],[0.6666666666666666,\"#ed7953\"],[0.7777777777777778,\"#fb9f3a\"],[0.8888888888888888,\"#fdca26\"],[1.0,\"#f0f921\"]]}],\"heatmapgl\":[{\"type\":\"heatmapgl\",\"colorbar\":{\"outlinewidth\":0,\"ticks\":\"\"},\"colorscale\":[[0.0,\"#0d0887\"],[0.1111111111111111,\"#46039f\"],[0.2222222222222222,\"#7201a8\"],[0.3333333333333333,\"#9c179e\"],[0.4444444444444444,\"#bd3786\"],[0.5555555555555556,\"#d8576b\"],[0.6666666666666666,\"#ed7953\"],[0.7777777777777778,\"#fb9f3a\"],[0.8888888888888888,\"#fdca26\"],[1.0,\"#f0f921\"]]}],\"contourcarpet\":[{\"type\":\"contourcarpet\",\"colorbar\":{\"outlinewidth\":0,\"ticks\":\"\"}}],\"contour\":[{\"type\":\"contour\",\"colorbar\":{\"outlinewidth\":0,\"ticks\":\"\"},\"colorscale\":[[0.0,\"#0d0887\"],[0.1111111111111111,\"#46039f\"],[0.2222222222222222,\"#7201a8\"],[0.3333333333333333,\"#9c179e\"],[0.4444444444444444,\"#bd3786\"],[0.5555555555555556,\"#d8576b\"],[0.6666666666666666,\"#ed7953\"],[0.7777777777777778,\"#fb9f3a\"],[0.8888888888888888,\"#fdca26\"],[1.0,\"#f0f921\"]]}],\"surface\":[{\"type\":\"surface\",\"colorbar\":{\"outlinewidth\":0,\"ticks\":\"\"},\"colorscale\":[[0.0,\"#0d0887\"],[0.1111111111111111,\"#46039f\"],[0.2222222222222222,\"#7201a8\"],[0.3333333333333333,\"#9c179e\"],[0.4444444444444444,\"#bd3786\"],[0.5555555555555556,\"#d8576b\"],[0.6666666666666666,\"#ed7953\"],[0.7777777777777778,\"#fb9f3a\"],[0.8888888888888888,\"#fdca26\"],[1.0,\"#f0f921\"]]}],\"mesh3d\":[{\"type\":\"mesh3d\",\"colorbar\":{\"outlinewidth\":0,\"ticks\":\"\"}}],\"scatter\":[{\"fillpattern\":{\"fillmode\":\"overlay\",\"size\":10,\"solidity\":0.2},\"type\":\"scatter\"}],\"parcoords\":[{\"type\":\"parcoords\",\"line\":{\"colorbar\":{\"outlinewidth\":0,\"ticks\":\"\"}}}],\"scatterpolargl\":[{\"type\":\"scatterpolargl\",\"marker\":{\"colorbar\":{\"outlinewidth\":0,\"ticks\":\"\"}}}],\"bar\":[{\"error_x\":{\"color\":\"#2a3f5f\"},\"error_y\":{\"color\":\"#2a3f5f\"},\"marker\":{\"line\":{\"color\":\"#E5ECF6\",\"width\":0.5},\"pattern\":{\"fillmode\":\"overlay\",\"size\":10,\"solidity\":0.2}},\"type\":\"bar\"}],\"scattergeo\":[{\"type\":\"scattergeo\",\"marker\":{\"colorbar\":{\"outlinewidth\":0,\"ticks\":\"\"}}}],\"scatterpolar\":[{\"type\":\"scatterpolar\",\"marker\":{\"colorbar\":{\"outlinewidth\":0,\"ticks\":\"\"}}}],\"histogram\":[{\"marker\":{\"pattern\":{\"fillmode\":\"overlay\",\"size\":10,\"solidity\":0.2}},\"type\":\"histogram\"}],\"scattergl\":[{\"type\":\"scattergl\",\"marker\":{\"colorbar\":{\"outlinewidth\":0,\"ticks\":\"\"}}}],\"scatter3d\":[{\"type\":\"scatter3d\",\"line\":{\"colorbar\":{\"outlinewidth\":0,\"ticks\":\"\"}},\"marker\":{\"colorbar\":{\"outlinewidth\":0,\"ticks\":\"\"}}}],\"scattermapbox\":[{\"type\":\"scattermapbox\",\"marker\":{\"colorbar\":{\"outlinewidth\":0,\"ticks\":\"\"}}}],\"scatterternary\":[{\"type\":\"scatterternary\",\"marker\":{\"colorbar\":{\"outlinewidth\":0,\"ticks\":\"\"}}}],\"scattercarpet\":[{\"type\":\"scattercarpet\",\"marker\":{\"colorbar\":{\"outlinewidth\":0,\"ticks\":\"\"}}}],\"carpet\":[{\"aaxis\":{\"endlinecolor\":\"#2a3f5f\",\"gridcolor\":\"white\",\"linecolor\":\"white\",\"minorgridcolor\":\"white\",\"startlinecolor\":\"#2a3f5f\"},\"baxis\":{\"endlinecolor\":\"#2a3f5f\",\"gridcolor\":\"white\",\"linecolor\":\"white\",\"minorgridcolor\":\"white\",\"startlinecolor\":\"#2a3f5f\"},\"type\":\"carpet\"}],\"table\":[{\"cells\":{\"fill\":{\"color\":\"#EBF0F8\"},\"line\":{\"color\":\"white\"}},\"header\":{\"fill\":{\"color\":\"#C8D4E3\"},\"line\":{\"color\":\"white\"}},\"type\":\"table\"}],\"barpolar\":[{\"marker\":{\"line\":{\"color\":\"#E5ECF6\",\"width\":0.5},\"pattern\":{\"fillmode\":\"overlay\",\"size\":10,\"solidity\":0.2}},\"type\":\"barpolar\"}],\"pie\":[{\"automargin\":true,\"type\":\"pie\"}]},\"layout\":{\"autotypenumbers\":\"strict\",\"colorway\":[\"#636efa\",\"#EF553B\",\"#00cc96\",\"#ab63fa\",\"#FFA15A\",\"#19d3f3\",\"#FF6692\",\"#B6E880\",\"#FF97FF\",\"#FECB52\"],\"font\":{\"color\":\"#2a3f5f\"},\"hovermode\":\"closest\",\"hoverlabel\":{\"align\":\"left\"},\"paper_bgcolor\":\"white\",\"plot_bgcolor\":\"#E5ECF6\",\"polar\":{\"bgcolor\":\"#E5ECF6\",\"angularaxis\":{\"gridcolor\":\"white\",\"linecolor\":\"white\",\"ticks\":\"\"},\"radialaxis\":{\"gridcolor\":\"white\",\"linecolor\":\"white\",\"ticks\":\"\"}},\"ternary\":{\"bgcolor\":\"#E5ECF6\",\"aaxis\":{\"gridcolor\":\"white\",\"linecolor\":\"white\",\"ticks\":\"\"},\"baxis\":{\"gridcolor\":\"white\",\"linecolor\":\"white\",\"ticks\":\"\"},\"caxis\":{\"gridcolor\":\"white\",\"linecolor\":\"white\",\"ticks\":\"\"}},\"coloraxis\":{\"colorbar\":{\"outlinewidth\":0,\"ticks\":\"\"}},\"colorscale\":{\"sequential\":[[0.0,\"#0d0887\"],[0.1111111111111111,\"#46039f\"],[0.2222222222222222,\"#7201a8\"],[0.3333333333333333,\"#9c179e\"],[0.4444444444444444,\"#bd3786\"],[0.5555555555555556,\"#d8576b\"],[0.6666666666666666,\"#ed7953\"],[0.7777777777777778,\"#fb9f3a\"],[0.8888888888888888,\"#fdca26\"],[1.0,\"#f0f921\"]],\"sequentialminus\":[[0.0,\"#0d0887\"],[0.1111111111111111,\"#46039f\"],[0.2222222222222222,\"#7201a8\"],[0.3333333333333333,\"#9c179e\"],[0.4444444444444444,\"#bd3786\"],[0.5555555555555556,\"#d8576b\"],[0.6666666666666666,\"#ed7953\"],[0.7777777777777778,\"#fb9f3a\"],[0.8888888888888888,\"#fdca26\"],[1.0,\"#f0f921\"]],\"diverging\":[[0,\"#8e0152\"],[0.1,\"#c51b7d\"],[0.2,\"#de77ae\"],[0.3,\"#f1b6da\"],[0.4,\"#fde0ef\"],[0.5,\"#f7f7f7\"],[0.6,\"#e6f5d0\"],[0.7,\"#b8e186\"],[0.8,\"#7fbc41\"],[0.9,\"#4d9221\"],[1,\"#276419\"]]},\"xaxis\":{\"gridcolor\":\"white\",\"linecolor\":\"white\",\"ticks\":\"\",\"title\":{\"standoff\":15},\"zerolinecolor\":\"white\",\"automargin\":true,\"zerolinewidth\":2},\"yaxis\":{\"gridcolor\":\"white\",\"linecolor\":\"white\",\"ticks\":\"\",\"title\":{\"standoff\":15},\"zerolinecolor\":\"white\",\"automargin\":true,\"zerolinewidth\":2},\"scene\":{\"xaxis\":{\"backgroundcolor\":\"#E5ECF6\",\"gridcolor\":\"white\",\"linecolor\":\"white\",\"showbackground\":true,\"ticks\":\"\",\"zerolinecolor\":\"white\",\"gridwidth\":2},\"yaxis\":{\"backgroundcolor\":\"#E5ECF6\",\"gridcolor\":\"white\",\"linecolor\":\"white\",\"showbackground\":true,\"ticks\":\"\",\"zerolinecolor\":\"white\",\"gridwidth\":2},\"zaxis\":{\"backgroundcolor\":\"#E5ECF6\",\"gridcolor\":\"white\",\"linecolor\":\"white\",\"showbackground\":true,\"ticks\":\"\",\"zerolinecolor\":\"white\",\"gridwidth\":2}},\"shapedefaults\":{\"line\":{\"color\":\"#2a3f5f\"}},\"annotationdefaults\":{\"arrowcolor\":\"#2a3f5f\",\"arrowhead\":0,\"arrowwidth\":1},\"geo\":{\"bgcolor\":\"white\",\"landcolor\":\"#E5ECF6\",\"subunitcolor\":\"white\",\"showland\":true,\"showlakes\":true,\"lakecolor\":\"white\"},\"title\":{\"x\":0.05},\"mapbox\":{\"style\":\"light\"}}}},                        {\"responsive\": true}                    ).then(function(){\n",
       "                            \n",
       "var gd = document.getElementById('17ae00fb-286b-49f8-a27d-956545828ed5');\n",
       "var x = new MutationObserver(function (mutations, observer) {{\n",
       "        var display = window.getComputedStyle(gd).display;\n",
       "        if (!display || display === 'none') {{\n",
       "            console.log([gd, 'removed!']);\n",
       "            Plotly.purge(gd);\n",
       "            observer.disconnect();\n",
       "        }}\n",
       "}});\n",
       "\n",
       "// Listen for the removal of the full notebook cells\n",
       "var notebookContainer = gd.closest('#notebook-container');\n",
       "if (notebookContainer) {{\n",
       "    x.observe(notebookContainer, {childList: true});\n",
       "}}\n",
       "\n",
       "// Listen for the clearing of the current output cell\n",
       "var outputEl = gd.closest('.output');\n",
       "if (outputEl) {{\n",
       "    x.observe(outputEl, {childList: true});\n",
       "}}\n",
       "\n",
       "                        })                };                });            </script>        </div>"
      ]
     },
     "metadata": {},
     "output_type": "display_data"
    },
    {
     "name": "stdout",
     "output_type": "stream",
     "text": [
      "760\n"
     ]
    }
   ],
   "source": [
    "hist = np.histogram(all_data[\"kilonovaness\"], bins=np.max(all_data[\"kilonovaness\"]))\n",
    "\n",
    "fig = go.Figure()\n",
    "\n",
    "fig.add_trace(go.Scatter(x=np.arange(1, np.max(all_data[\"kilonovaness\"])+1), y=hist[0]/len(all_data[\"kilonovaness\"])))\n",
    "fig.show()\n",
    "print(len(all_data))"
   ]
  },
  {
   "cell_type": "code",
   "execution_count": 8,
   "metadata": {},
   "outputs": [
    {
     "data": {
      "application/vnd.plotly.v1+json": {
       "config": {
        "plotlyServerURL": "https://plot.ly"
       },
       "data": [
        {
         "histnorm": "probability",
         "type": "histogram",
         "x": [
          422.713674554723,
          422.713674554723,
          422.713674554723,
          422.713674554723,
          422.713674554723,
          422.713674554723,
          422.713674554723,
          422.713674554723,
          422.713674554723,
          422.713674554723,
          422.713674554723,
          422.713674554723,
          422.713674554723,
          422.713674554723,
          422.713674554723,
          422.713674554723,
          422.713674554723,
          422.713674554723,
          422.713674554723,
          422.713674554723,
          422.713674554723,
          422.713674554723,
          422.713674554723,
          422.713674554723,
          422.713674554723,
          422.713674554723,
          422.713674554723,
          422.713674554723,
          422.713674554723,
          422.713674554723,
          422.713674554723,
          422.713674554723,
          422.713674554723,
          422.713674554723,
          422.713674554723,
          422.713674554723,
          422.713674554723,
          422.713674554723,
          422.713674554723,
          422.713674554723,
          422.713674554723,
          422.713674554723,
          242.2036530453888,
          242.2036530453888,
          242.2036530453888,
          242.2036530453888,
          242.2036530453888,
          242.2036530453888,
          242.2036530453888,
          242.2036530453888,
          242.2036530453888,
          242.2036530453888,
          242.2036530453888,
          242.2036530453888,
          606.3435871805949,
          606.3435871805949,
          606.3435871805949,
          606.3435871805949,
          606.3435871805949,
          606.3435871805949,
          606.3435871805949,
          606.3435871805949,
          606.3435871805949,
          606.3435871805949,
          606.3435871805949,
          606.3435871805949,
          606.3435871805949,
          606.3435871805949,
          606.3435871805949,
          606.3435871805949,
          606.3435871805949,
          606.3435871805949,
          606.3435871805949,
          241.4503833921153,
          241.4503833921153,
          241.4503833921153,
          241.4503833921153,
          241.4503833921153,
          241.4503833921153,
          241.4503833921153,
          241.4503833921153,
          241.4503833921153,
          241.4503833921153,
          241.4503833921153,
          241.4503833921153,
          241.4503833921153,
          241.4503833921153,
          241.4503833921153,
          241.4503833921153,
          241.4503833921153,
          241.4503833921153,
          241.4503833921153,
          241.4503833921153,
          241.4503833921153,
          241.4503833921153,
          241.4503833921153,
          241.4503833921153,
          241.4503833921153,
          241.4503833921153,
          241.4503833921153,
          241.4503833921153,
          241.4503833921153,
          241.4503833921153,
          241.4503833921153,
          241.4503833921153,
          241.4503833921153,
          241.4503833921153,
          241.4503833921153,
          241.4503833921153,
          241.4503833921153,
          241.4503833921153,
          241.4503833921153,
          241.4503833921153,
          241.4503833921153,
          241.4503833921153,
          241.4503833921153,
          241.4503833921153,
          241.4503833921153,
          241.4503833921153,
          241.4503833921153,
          241.4503833921153,
          241.4503833921153,
          241.4503833921153,
          241.4503833921153,
          241.4503833921153,
          241.4503833921153,
          241.4503833921153,
          241.4503833921153,
          241.4503833921153,
          241.4503833921153,
          241.4503833921153,
          241.4503833921153,
          241.4503833921153,
          241.4503833921153,
          241.4503833921153,
          241.4503833921153,
          241.4503833921153,
          241.4503833921153,
          241.4503833921153,
          241.4503833921153,
          241.4503833921153,
          241.4503833921153,
          241.4503833921153,
          241.4503833921153,
          241.4503833921153,
          241.4503833921153,
          241.4503833921153,
          241.4503833921153,
          241.4503833921153,
          241.4503833921153,
          241.4503833921153,
          241.4503833921153,
          241.4503833921153,
          241.4503833921153,
          241.4503833921153,
          241.4503833921153,
          241.4503833921153,
          241.4503833921153,
          241.4503833921153,
          241.4503833921153,
          241.4503833921153,
          241.4503833921153,
          241.4503833921153,
          241.4503833921153,
          241.4503833921153,
          241.4503833921153,
          241.4503833921153,
          241.4503833921153,
          241.4503833921153,
          241.4503833921153,
          241.4503833921153,
          241.4503833921153,
          241.4503833921153,
          241.4503833921153,
          241.4503833921153,
          241.4503833921153,
          241.4503833921153,
          241.4503833921153,
          241.4503833921153,
          241.4503833921153,
          241.4503833921153,
          241.4503833921153,
          241.4503833921153,
          241.4503833921153,
          241.4503833921153,
          241.4503833921153,
          241.4503833921153,
          241.4503833921153,
          241.4503833921153,
          241.4503833921153,
          241.4503833921153,
          241.4503833921153,
          241.4503833921153,
          241.4503833921153,
          241.4503833921153,
          241.4503833921153,
          241.4503833921153,
          241.4503833921153,
          241.4503833921153,
          241.4503833921153,
          241.4503833921153,
          241.4503833921153,
          241.4503833921153,
          241.4503833921153,
          241.4503833921153,
          241.4503833921153,
          241.4503833921153,
          241.4503833921153,
          241.4503833921153,
          241.4503833921153,
          241.4503833921153,
          241.4503833921153,
          241.4503833921153,
          241.4503833921153,
          241.4503833921153,
          241.4503833921153,
          241.4503833921153,
          241.4503833921153,
          241.4503833921153,
          241.4503833921153,
          241.4503833921153,
          241.4503833921153,
          241.4503833921153,
          241.4503833921153,
          241.4503833921153,
          241.4503833921153,
          241.4503833921153,
          241.4503833921153,
          241.4503833921153,
          241.4503833921153,
          241.4503833921153,
          241.4503833921153,
          241.4503833921153,
          241.4503833921153,
          241.4503833921153,
          241.4503833921153,
          752.3721249388491,
          752.3721249388491,
          752.3721249388491,
          752.3721249388491,
          752.3721249388491,
          752.3721249388491,
          752.3721249388491,
          752.3721249388491,
          752.3721249388491,
          752.3721249388491,
          752.3721249388491,
          752.3721249388491,
          752.3721249388491,
          752.3721249388491,
          752.3721249388491,
          752.3721249388491,
          752.3721249388491,
          752.3721249388491,
          752.3721249388491,
          752.3721249388491,
          752.3721249388491,
          752.3721249388491,
          752.3721249388491,
          752.3721249388491,
          752.3721249388491,
          752.3721249388491,
          752.3721249388491,
          752.3721249388491,
          752.3721249388491,
          752.3721249388491,
          752.3721249388491,
          752.3721249388491,
          752.3721249388491,
          752.3721249388491,
          752.3721249388491,
          752.3721249388491,
          752.3721249388491,
          752.3721249388491,
          752.3721249388491,
          752.3721249388491,
          752.3721249388491,
          752.3721249388491,
          752.3721249388491,
          108.485191060567,
          108.485191060567,
          108.485191060567,
          108.485191060567,
          108.485191060567,
          108.485191060567,
          108.485191060567,
          108.485191060567,
          108.485191060567,
          108.485191060567,
          108.485191060567,
          108.485191060567,
          108.485191060567,
          108.485191060567,
          108.485191060567,
          108.485191060567,
          108.485191060567,
          108.485191060567,
          108.485191060567,
          108.485191060567,
          108.485191060567,
          108.485191060567,
          108.485191060567,
          108.485191060567,
          108.485191060567,
          108.485191060567,
          108.485191060567,
          108.485191060567,
          108.485191060567,
          108.485191060567,
          108.485191060567,
          108.485191060567,
          108.485191060567,
          108.485191060567,
          108.485191060567,
          108.485191060567,
          108.485191060567,
          108.485191060567,
          108.485191060567,
          108.485191060567,
          108.485191060567,
          108.485191060567,
          108.485191060567,
          108.485191060567,
          108.485191060567,
          108.485191060567,
          108.485191060567,
          108.485191060567,
          108.485191060567,
          108.485191060567,
          108.485191060567,
          108.485191060567,
          108.485191060567,
          108.485191060567,
          108.485191060567,
          108.485191060567,
          108.485191060567,
          108.485191060567,
          108.485191060567,
          108.485191060567,
          108.485191060567,
          108.485191060567,
          108.485191060567,
          108.485191060567,
          108.485191060567,
          108.485191060567,
          108.485191060567,
          108.485191060567,
          108.485191060567,
          108.485191060567,
          108.485191060567,
          108.485191060567,
          108.485191060567,
          108.485191060567,
          108.485191060567,
          108.485191060567,
          108.485191060567,
          108.485191060567,
          108.485191060567,
          108.485191060567,
          108.485191060567,
          108.485191060567,
          108.485191060567,
          108.485191060567,
          108.485191060567,
          108.485191060567,
          108.485191060567,
          108.485191060567,
          108.485191060567,
          108.485191060567,
          108.485191060567,
          108.485191060567,
          108.485191060567,
          108.485191060567,
          108.485191060567,
          108.485191060567,
          108.485191060567,
          108.485191060567,
          108.485191060567,
          108.485191060567,
          108.485191060567,
          108.485191060567,
          108.485191060567,
          108.485191060567,
          108.485191060567,
          108.485191060567,
          108.485191060567,
          108.485191060567,
          108.485191060567,
          108.485191060567,
          108.485191060567,
          108.485191060567,
          108.485191060567,
          108.485191060567,
          108.485191060567,
          108.485191060567,
          108.485191060567,
          108.485191060567,
          108.485191060567,
          108.485191060567,
          108.485191060567,
          108.485191060567,
          108.485191060567,
          108.485191060567,
          108.485191060567,
          108.485191060567,
          108.485191060567,
          108.485191060567,
          108.485191060567,
          108.485191060567,
          108.485191060567,
          108.485191060567,
          108.485191060567,
          108.485191060567,
          108.485191060567,
          108.485191060567,
          108.485191060567,
          108.485191060567,
          108.485191060567,
          108.485191060567,
          108.485191060567,
          108.485191060567,
          108.485191060567,
          108.485191060567,
          108.485191060567,
          108.485191060567,
          108.485191060567,
          108.485191060567,
          108.485191060567,
          108.485191060567,
          108.485191060567,
          108.485191060567,
          108.485191060567,
          108.485191060567,
          108.485191060567,
          108.485191060567,
          108.485191060567,
          108.485191060567,
          108.485191060567,
          108.485191060567,
          108.485191060567,
          108.485191060567,
          108.485191060567,
          108.485191060567,
          108.485191060567,
          108.485191060567,
          108.485191060567,
          108.485191060567,
          108.485191060567,
          108.485191060567,
          108.485191060567,
          108.485191060567,
          108.485191060567,
          108.485191060567,
          108.485191060567,
          108.485191060567,
          108.485191060567,
          108.485191060567,
          108.485191060567,
          108.485191060567,
          108.485191060567,
          108.485191060567,
          108.485191060567,
          108.485191060567,
          108.485191060567,
          108.485191060567,
          108.485191060567,
          108.485191060567,
          108.485191060567,
          108.485191060567,
          108.485191060567,
          1167.541422964793,
          1167.541422964793,
          1167.541422964793,
          1167.541422964793,
          1167.541422964793,
          1167.541422964793,
          1167.541422964793,
          1167.541422964793,
          1167.541422964793,
          1167.541422964793,
          1167.541422964793,
          1167.541422964793,
          1167.541422964793,
          1167.541422964793,
          1167.541422964793,
          1167.541422964793,
          1167.541422964793,
          1167.541422964793,
          1167.541422964793,
          1167.541422964793,
          1167.541422964793,
          1167.541422964793,
          1167.541422964793,
          1167.541422964793,
          1167.541422964793,
          1167.541422964793,
          1167.541422964793,
          1167.541422964793,
          1167.541422964793,
          1810.148665494627,
          1810.148665494627,
          1810.148665494627,
          1810.148665494627,
          1810.148665494627,
          1810.148665494627,
          1810.148665494627,
          1810.148665494627,
          1810.148665494627,
          1810.148665494627,
          1810.148665494627,
          1810.148665494627,
          1810.148665494627,
          1810.148665494627,
          1810.148665494627,
          1810.148665494627,
          1810.148665494627,
          1810.148665494627,
          1810.148665494627,
          1810.148665494627,
          1810.148665494627,
          1810.148665494627,
          1810.148665494627,
          1810.148665494627,
          1810.148665494627,
          1810.148665494627,
          1810.148665494627,
          1810.148665494627,
          1810.148665494627,
          1810.148665494627,
          1810.148665494627,
          1810.148665494627,
          1810.148665494627,
          1810.148665494627,
          1810.148665494627,
          1810.148665494627,
          1810.148665494627,
          1810.148665494627,
          1810.148665494627,
          1810.148665494627,
          1810.148665494627,
          1810.148665494627,
          1810.148665494627,
          1810.148665494627,
          203.9768858755638,
          203.9768858755638,
          203.9768858755638,
          203.9768858755638,
          203.9768858755638,
          203.9768858755638,
          203.9768858755638,
          203.9768858755638,
          203.9768858755638,
          203.9768858755638,
          203.9768858755638,
          203.9768858755638,
          203.9768858755638,
          203.9768858755638,
          203.9768858755638,
          203.9768858755638,
          203.9768858755638,
          203.9768858755638,
          203.9768858755638,
          203.9768858755638,
          203.9768858755638,
          203.9768858755638,
          203.9768858755638,
          203.9768858755638,
          203.9768858755638,
          203.9768858755638,
          203.9768858755638,
          203.9768858755638,
          203.9768858755638,
          203.9768858755638,
          203.9768858755638,
          203.9768858755638,
          203.9768858755638,
          203.9768858755638,
          203.9768858755638,
          203.9768858755638,
          203.9768858755638,
          203.9768858755638,
          203.9768858755638,
          203.9768858755638,
          94.85590855664248,
          94.85590855664248,
          94.85590855664248,
          94.85590855664248,
          94.85590855664248,
          258.0395401364863,
          258.0395401364863,
          258.0395401364863,
          258.0395401364863,
          258.0395401364863,
          258.0395401364863,
          258.0395401364863,
          258.0395401364863,
          258.0395401364863,
          258.0395401364863,
          258.0395401364863,
          258.0395401364863,
          258.0395401364863,
          258.0395401364863,
          258.0395401364863,
          258.0395401364863,
          258.0395401364863,
          258.0395401364863,
          258.0395401364863,
          258.0395401364863,
          258.0395401364863,
          258.0395401364863,
          258.0395401364863,
          258.0395401364863,
          258.0395401364863,
          2215.518605780816,
          265.0966291797101,
          265.0966291797101,
          265.0966291797101,
          265.0966291797101,
          265.0966291797101,
          265.0966291797101,
          265.0966291797101,
          265.0966291797101,
          265.0966291797101,
          265.0966291797101,
          265.0966291797101,
          265.0966291797101,
          265.0966291797101,
          265.0966291797101,
          265.0966291797101,
          265.0966291797101,
          265.0966291797101,
          265.0966291797101,
          265.0966291797101,
          265.0966291797101,
          265.0966291797101,
          265.0966291797101,
          408.5994026531808,
          1136.255139536576,
          1136.255139536576,
          1136.255139536576,
          1136.255139536576,
          1136.255139536576,
          1136.255139536576,
          1136.255139536576,
          1136.255139536576,
          1136.255139536576,
          1136.255139536576,
          1136.255139536576,
          1136.255139536576,
          1136.255139536576,
          1136.255139536576,
          1136.255139536576,
          1136.255139536576,
          1136.255139536576,
          1136.255139536576,
          1136.255139536576,
          1136.255139536576,
          1136.255139536576,
          1136.255139536576,
          1136.255139536576,
          1136.255139536576,
          1136.255139536576,
          1136.255139536576,
          1136.255139536576,
          1136.255139536576,
          1136.255139536576,
          1136.255139536576,
          1136.255139536576,
          1136.255139536576,
          1136.255139536576,
          1136.255139536576,
          1136.255139536576,
          1136.255139536576,
          1136.255139536576,
          1136.255139536576,
          1136.255139536576,
          340.2238301469039,
          340.2238301469039,
          340.2238301469039,
          30.94304738717872,
          30.94304738717872,
          30.94304738717872,
          30.94304738717872,
          30.94304738717872,
          30.94304738717872,
          30.94304738717872,
          4031.106685175951,
          4031.106685175951,
          4031.106685175951,
          4031.106685175951,
          4031.106685175951,
          4031.106685175951,
          4031.106685175951,
          223.5491691009208,
          223.5491691009208,
          223.5491691009208,
          223.5491691009208,
          223.5491691009208,
          223.5491691009208,
          223.5491691009208,
          223.5491691009208,
          223.5491691009208,
          223.5491691009208,
          223.5491691009208,
          223.5491691009208,
          223.5491691009208,
          223.5491691009208,
          223.5491691009208,
          223.5491691009208,
          223.5491691009208,
          223.5491691009208,
          223.5491691009208,
          223.5491691009208,
          223.5491691009208,
          223.5491691009208,
          223.5491691009208,
          223.5491691009208,
          223.5491691009208,
          223.5491691009208,
          223.5491691009208,
          223.5491691009208,
          223.5491691009208,
          223.5491691009208,
          223.5491691009208,
          223.5491691009208,
          223.5491691009208,
          223.5491691009208,
          223.5491691009208,
          223.5491691009208,
          223.5491691009208,
          223.5491691009208,
          223.5491691009208,
          223.5491691009208,
          1510.201949004476,
          1510.201949004476,
          1510.201949004476,
          1510.201949004476,
          1510.201949004476,
          1510.201949004476,
          1510.201949004476,
          1510.201949004476,
          1510.201949004476,
          1510.201949004476,
          1510.201949004476,
          1510.201949004476,
          1510.201949004476,
          1510.201949004476,
          1510.201949004476,
          1510.201949004476,
          1510.201949004476,
          1510.201949004476,
          1510.201949004476,
          1510.201949004476,
          1510.201949004476,
          1510.201949004476,
          1510.201949004476,
          1510.201949004476,
          1510.201949004476,
          1233.503493389387,
          1233.503493389387
         ]
        }
       ],
       "layout": {
        "template": {
         "data": {
          "bar": [
           {
            "error_x": {
             "color": "#2a3f5f"
            },
            "error_y": {
             "color": "#2a3f5f"
            },
            "marker": {
             "line": {
              "color": "#E5ECF6",
              "width": 0.5
             },
             "pattern": {
              "fillmode": "overlay",
              "size": 10,
              "solidity": 0.2
             }
            },
            "type": "bar"
           }
          ],
          "barpolar": [
           {
            "marker": {
             "line": {
              "color": "#E5ECF6",
              "width": 0.5
             },
             "pattern": {
              "fillmode": "overlay",
              "size": 10,
              "solidity": 0.2
             }
            },
            "type": "barpolar"
           }
          ],
          "carpet": [
           {
            "aaxis": {
             "endlinecolor": "#2a3f5f",
             "gridcolor": "white",
             "linecolor": "white",
             "minorgridcolor": "white",
             "startlinecolor": "#2a3f5f"
            },
            "baxis": {
             "endlinecolor": "#2a3f5f",
             "gridcolor": "white",
             "linecolor": "white",
             "minorgridcolor": "white",
             "startlinecolor": "#2a3f5f"
            },
            "type": "carpet"
           }
          ],
          "choropleth": [
           {
            "colorbar": {
             "outlinewidth": 0,
             "ticks": ""
            },
            "type": "choropleth"
           }
          ],
          "contour": [
           {
            "colorbar": {
             "outlinewidth": 0,
             "ticks": ""
            },
            "colorscale": [
             [
              0,
              "#0d0887"
             ],
             [
              0.1111111111111111,
              "#46039f"
             ],
             [
              0.2222222222222222,
              "#7201a8"
             ],
             [
              0.3333333333333333,
              "#9c179e"
             ],
             [
              0.4444444444444444,
              "#bd3786"
             ],
             [
              0.5555555555555556,
              "#d8576b"
             ],
             [
              0.6666666666666666,
              "#ed7953"
             ],
             [
              0.7777777777777778,
              "#fb9f3a"
             ],
             [
              0.8888888888888888,
              "#fdca26"
             ],
             [
              1,
              "#f0f921"
             ]
            ],
            "type": "contour"
           }
          ],
          "contourcarpet": [
           {
            "colorbar": {
             "outlinewidth": 0,
             "ticks": ""
            },
            "type": "contourcarpet"
           }
          ],
          "heatmap": [
           {
            "colorbar": {
             "outlinewidth": 0,
             "ticks": ""
            },
            "colorscale": [
             [
              0,
              "#0d0887"
             ],
             [
              0.1111111111111111,
              "#46039f"
             ],
             [
              0.2222222222222222,
              "#7201a8"
             ],
             [
              0.3333333333333333,
              "#9c179e"
             ],
             [
              0.4444444444444444,
              "#bd3786"
             ],
             [
              0.5555555555555556,
              "#d8576b"
             ],
             [
              0.6666666666666666,
              "#ed7953"
             ],
             [
              0.7777777777777778,
              "#fb9f3a"
             ],
             [
              0.8888888888888888,
              "#fdca26"
             ],
             [
              1,
              "#f0f921"
             ]
            ],
            "type": "heatmap"
           }
          ],
          "heatmapgl": [
           {
            "colorbar": {
             "outlinewidth": 0,
             "ticks": ""
            },
            "colorscale": [
             [
              0,
              "#0d0887"
             ],
             [
              0.1111111111111111,
              "#46039f"
             ],
             [
              0.2222222222222222,
              "#7201a8"
             ],
             [
              0.3333333333333333,
              "#9c179e"
             ],
             [
              0.4444444444444444,
              "#bd3786"
             ],
             [
              0.5555555555555556,
              "#d8576b"
             ],
             [
              0.6666666666666666,
              "#ed7953"
             ],
             [
              0.7777777777777778,
              "#fb9f3a"
             ],
             [
              0.8888888888888888,
              "#fdca26"
             ],
             [
              1,
              "#f0f921"
             ]
            ],
            "type": "heatmapgl"
           }
          ],
          "histogram": [
           {
            "marker": {
             "pattern": {
              "fillmode": "overlay",
              "size": 10,
              "solidity": 0.2
             }
            },
            "type": "histogram"
           }
          ],
          "histogram2d": [
           {
            "colorbar": {
             "outlinewidth": 0,
             "ticks": ""
            },
            "colorscale": [
             [
              0,
              "#0d0887"
             ],
             [
              0.1111111111111111,
              "#46039f"
             ],
             [
              0.2222222222222222,
              "#7201a8"
             ],
             [
              0.3333333333333333,
              "#9c179e"
             ],
             [
              0.4444444444444444,
              "#bd3786"
             ],
             [
              0.5555555555555556,
              "#d8576b"
             ],
             [
              0.6666666666666666,
              "#ed7953"
             ],
             [
              0.7777777777777778,
              "#fb9f3a"
             ],
             [
              0.8888888888888888,
              "#fdca26"
             ],
             [
              1,
              "#f0f921"
             ]
            ],
            "type": "histogram2d"
           }
          ],
          "histogram2dcontour": [
           {
            "colorbar": {
             "outlinewidth": 0,
             "ticks": ""
            },
            "colorscale": [
             [
              0,
              "#0d0887"
             ],
             [
              0.1111111111111111,
              "#46039f"
             ],
             [
              0.2222222222222222,
              "#7201a8"
             ],
             [
              0.3333333333333333,
              "#9c179e"
             ],
             [
              0.4444444444444444,
              "#bd3786"
             ],
             [
              0.5555555555555556,
              "#d8576b"
             ],
             [
              0.6666666666666666,
              "#ed7953"
             ],
             [
              0.7777777777777778,
              "#fb9f3a"
             ],
             [
              0.8888888888888888,
              "#fdca26"
             ],
             [
              1,
              "#f0f921"
             ]
            ],
            "type": "histogram2dcontour"
           }
          ],
          "mesh3d": [
           {
            "colorbar": {
             "outlinewidth": 0,
             "ticks": ""
            },
            "type": "mesh3d"
           }
          ],
          "parcoords": [
           {
            "line": {
             "colorbar": {
              "outlinewidth": 0,
              "ticks": ""
             }
            },
            "type": "parcoords"
           }
          ],
          "pie": [
           {
            "automargin": true,
            "type": "pie"
           }
          ],
          "scatter": [
           {
            "fillpattern": {
             "fillmode": "overlay",
             "size": 10,
             "solidity": 0.2
            },
            "type": "scatter"
           }
          ],
          "scatter3d": [
           {
            "line": {
             "colorbar": {
              "outlinewidth": 0,
              "ticks": ""
             }
            },
            "marker": {
             "colorbar": {
              "outlinewidth": 0,
              "ticks": ""
             }
            },
            "type": "scatter3d"
           }
          ],
          "scattercarpet": [
           {
            "marker": {
             "colorbar": {
              "outlinewidth": 0,
              "ticks": ""
             }
            },
            "type": "scattercarpet"
           }
          ],
          "scattergeo": [
           {
            "marker": {
             "colorbar": {
              "outlinewidth": 0,
              "ticks": ""
             }
            },
            "type": "scattergeo"
           }
          ],
          "scattergl": [
           {
            "marker": {
             "colorbar": {
              "outlinewidth": 0,
              "ticks": ""
             }
            },
            "type": "scattergl"
           }
          ],
          "scattermapbox": [
           {
            "marker": {
             "colorbar": {
              "outlinewidth": 0,
              "ticks": ""
             }
            },
            "type": "scattermapbox"
           }
          ],
          "scatterpolar": [
           {
            "marker": {
             "colorbar": {
              "outlinewidth": 0,
              "ticks": ""
             }
            },
            "type": "scatterpolar"
           }
          ],
          "scatterpolargl": [
           {
            "marker": {
             "colorbar": {
              "outlinewidth": 0,
              "ticks": ""
             }
            },
            "type": "scatterpolargl"
           }
          ],
          "scatterternary": [
           {
            "marker": {
             "colorbar": {
              "outlinewidth": 0,
              "ticks": ""
             }
            },
            "type": "scatterternary"
           }
          ],
          "surface": [
           {
            "colorbar": {
             "outlinewidth": 0,
             "ticks": ""
            },
            "colorscale": [
             [
              0,
              "#0d0887"
             ],
             [
              0.1111111111111111,
              "#46039f"
             ],
             [
              0.2222222222222222,
              "#7201a8"
             ],
             [
              0.3333333333333333,
              "#9c179e"
             ],
             [
              0.4444444444444444,
              "#bd3786"
             ],
             [
              0.5555555555555556,
              "#d8576b"
             ],
             [
              0.6666666666666666,
              "#ed7953"
             ],
             [
              0.7777777777777778,
              "#fb9f3a"
             ],
             [
              0.8888888888888888,
              "#fdca26"
             ],
             [
              1,
              "#f0f921"
             ]
            ],
            "type": "surface"
           }
          ],
          "table": [
           {
            "cells": {
             "fill": {
              "color": "#EBF0F8"
             },
             "line": {
              "color": "white"
             }
            },
            "header": {
             "fill": {
              "color": "#C8D4E3"
             },
             "line": {
              "color": "white"
             }
            },
            "type": "table"
           }
          ]
         },
         "layout": {
          "annotationdefaults": {
           "arrowcolor": "#2a3f5f",
           "arrowhead": 0,
           "arrowwidth": 1
          },
          "autotypenumbers": "strict",
          "coloraxis": {
           "colorbar": {
            "outlinewidth": 0,
            "ticks": ""
           }
          },
          "colorscale": {
           "diverging": [
            [
             0,
             "#8e0152"
            ],
            [
             0.1,
             "#c51b7d"
            ],
            [
             0.2,
             "#de77ae"
            ],
            [
             0.3,
             "#f1b6da"
            ],
            [
             0.4,
             "#fde0ef"
            ],
            [
             0.5,
             "#f7f7f7"
            ],
            [
             0.6,
             "#e6f5d0"
            ],
            [
             0.7,
             "#b8e186"
            ],
            [
             0.8,
             "#7fbc41"
            ],
            [
             0.9,
             "#4d9221"
            ],
            [
             1,
             "#276419"
            ]
           ],
           "sequential": [
            [
             0,
             "#0d0887"
            ],
            [
             0.1111111111111111,
             "#46039f"
            ],
            [
             0.2222222222222222,
             "#7201a8"
            ],
            [
             0.3333333333333333,
             "#9c179e"
            ],
            [
             0.4444444444444444,
             "#bd3786"
            ],
            [
             0.5555555555555556,
             "#d8576b"
            ],
            [
             0.6666666666666666,
             "#ed7953"
            ],
            [
             0.7777777777777778,
             "#fb9f3a"
            ],
            [
             0.8888888888888888,
             "#fdca26"
            ],
            [
             1,
             "#f0f921"
            ]
           ],
           "sequentialminus": [
            [
             0,
             "#0d0887"
            ],
            [
             0.1111111111111111,
             "#46039f"
            ],
            [
             0.2222222222222222,
             "#7201a8"
            ],
            [
             0.3333333333333333,
             "#9c179e"
            ],
            [
             0.4444444444444444,
             "#bd3786"
            ],
            [
             0.5555555555555556,
             "#d8576b"
            ],
            [
             0.6666666666666666,
             "#ed7953"
            ],
            [
             0.7777777777777778,
             "#fb9f3a"
            ],
            [
             0.8888888888888888,
             "#fdca26"
            ],
            [
             1,
             "#f0f921"
            ]
           ]
          },
          "colorway": [
           "#636efa",
           "#EF553B",
           "#00cc96",
           "#ab63fa",
           "#FFA15A",
           "#19d3f3",
           "#FF6692",
           "#B6E880",
           "#FF97FF",
           "#FECB52"
          ],
          "font": {
           "color": "#2a3f5f"
          },
          "geo": {
           "bgcolor": "white",
           "lakecolor": "white",
           "landcolor": "#E5ECF6",
           "showlakes": true,
           "showland": true,
           "subunitcolor": "white"
          },
          "hoverlabel": {
           "align": "left"
          },
          "hovermode": "closest",
          "mapbox": {
           "style": "light"
          },
          "paper_bgcolor": "white",
          "plot_bgcolor": "#E5ECF6",
          "polar": {
           "angularaxis": {
            "gridcolor": "white",
            "linecolor": "white",
            "ticks": ""
           },
           "bgcolor": "#E5ECF6",
           "radialaxis": {
            "gridcolor": "white",
            "linecolor": "white",
            "ticks": ""
           }
          },
          "scene": {
           "xaxis": {
            "backgroundcolor": "#E5ECF6",
            "gridcolor": "white",
            "gridwidth": 2,
            "linecolor": "white",
            "showbackground": true,
            "ticks": "",
            "zerolinecolor": "white"
           },
           "yaxis": {
            "backgroundcolor": "#E5ECF6",
            "gridcolor": "white",
            "gridwidth": 2,
            "linecolor": "white",
            "showbackground": true,
            "ticks": "",
            "zerolinecolor": "white"
           },
           "zaxis": {
            "backgroundcolor": "#E5ECF6",
            "gridcolor": "white",
            "gridwidth": 2,
            "linecolor": "white",
            "showbackground": true,
            "ticks": "",
            "zerolinecolor": "white"
           }
          },
          "shapedefaults": {
           "line": {
            "color": "#2a3f5f"
           }
          },
          "ternary": {
           "aaxis": {
            "gridcolor": "white",
            "linecolor": "white",
            "ticks": ""
           },
           "baxis": {
            "gridcolor": "white",
            "linecolor": "white",
            "ticks": ""
           },
           "bgcolor": "#E5ECF6",
           "caxis": {
            "gridcolor": "white",
            "linecolor": "white",
            "ticks": ""
           }
          },
          "title": {
           "x": 0.05
          },
          "xaxis": {
           "automargin": true,
           "gridcolor": "white",
           "linecolor": "white",
           "ticks": "",
           "title": {
            "standoff": 15
           },
           "zerolinecolor": "white",
           "zerolinewidth": 2
          },
          "yaxis": {
           "automargin": true,
           "gridcolor": "white",
           "linecolor": "white",
           "ticks": "",
           "title": {
            "standoff": 15
           },
           "zerolinecolor": "white",
           "zerolinewidth": 2
          }
         }
        }
       }
      },
      "text/html": [
       "<div>                            <div id=\"870daef0-44af-4ff0-bc4f-02592fd15402\" class=\"plotly-graph-div\" style=\"height:525px; width:100%;\"></div>            <script type=\"text/javascript\">                require([\"plotly\"], function(Plotly) {                    window.PLOTLYENV=window.PLOTLYENV || {};                                    if (document.getElementById(\"870daef0-44af-4ff0-bc4f-02592fd15402\")) {                    Plotly.newPlot(                        \"870daef0-44af-4ff0-bc4f-02592fd15402\",                        [{\"histnorm\":\"probability\",\"x\":[422.713674554723,422.713674554723,422.713674554723,422.713674554723,422.713674554723,422.713674554723,422.713674554723,422.713674554723,422.713674554723,422.713674554723,422.713674554723,422.713674554723,422.713674554723,422.713674554723,422.713674554723,422.713674554723,422.713674554723,422.713674554723,422.713674554723,422.713674554723,422.713674554723,422.713674554723,422.713674554723,422.713674554723,422.713674554723,422.713674554723,422.713674554723,422.713674554723,422.713674554723,422.713674554723,422.713674554723,422.713674554723,422.713674554723,422.713674554723,422.713674554723,422.713674554723,422.713674554723,422.713674554723,422.713674554723,422.713674554723,422.713674554723,422.713674554723,242.2036530453888,242.2036530453888,242.2036530453888,242.2036530453888,242.2036530453888,242.2036530453888,242.2036530453888,242.2036530453888,242.2036530453888,242.2036530453888,242.2036530453888,242.2036530453888,606.3435871805949,606.3435871805949,606.3435871805949,606.3435871805949,606.3435871805949,606.3435871805949,606.3435871805949,606.3435871805949,606.3435871805949,606.3435871805949,606.3435871805949,606.3435871805949,606.3435871805949,606.3435871805949,606.3435871805949,606.3435871805949,606.3435871805949,606.3435871805949,606.3435871805949,241.4503833921153,241.4503833921153,241.4503833921153,241.4503833921153,241.4503833921153,241.4503833921153,241.4503833921153,241.4503833921153,241.4503833921153,241.4503833921153,241.4503833921153,241.4503833921153,241.4503833921153,241.4503833921153,241.4503833921153,241.4503833921153,241.4503833921153,241.4503833921153,241.4503833921153,241.4503833921153,241.4503833921153,241.4503833921153,241.4503833921153,241.4503833921153,241.4503833921153,241.4503833921153,241.4503833921153,241.4503833921153,241.4503833921153,241.4503833921153,241.4503833921153,241.4503833921153,241.4503833921153,241.4503833921153,241.4503833921153,241.4503833921153,241.4503833921153,241.4503833921153,241.4503833921153,241.4503833921153,241.4503833921153,241.4503833921153,241.4503833921153,241.4503833921153,241.4503833921153,241.4503833921153,241.4503833921153,241.4503833921153,241.4503833921153,241.4503833921153,241.4503833921153,241.4503833921153,241.4503833921153,241.4503833921153,241.4503833921153,241.4503833921153,241.4503833921153,241.4503833921153,241.4503833921153,241.4503833921153,241.4503833921153,241.4503833921153,241.4503833921153,241.4503833921153,241.4503833921153,241.4503833921153,241.4503833921153,241.4503833921153,241.4503833921153,241.4503833921153,241.4503833921153,241.4503833921153,241.4503833921153,241.4503833921153,241.4503833921153,241.4503833921153,241.4503833921153,241.4503833921153,241.4503833921153,241.4503833921153,241.4503833921153,241.4503833921153,241.4503833921153,241.4503833921153,241.4503833921153,241.4503833921153,241.4503833921153,241.4503833921153,241.4503833921153,241.4503833921153,241.4503833921153,241.4503833921153,241.4503833921153,241.4503833921153,241.4503833921153,241.4503833921153,241.4503833921153,241.4503833921153,241.4503833921153,241.4503833921153,241.4503833921153,241.4503833921153,241.4503833921153,241.4503833921153,241.4503833921153,241.4503833921153,241.4503833921153,241.4503833921153,241.4503833921153,241.4503833921153,241.4503833921153,241.4503833921153,241.4503833921153,241.4503833921153,241.4503833921153,241.4503833921153,241.4503833921153,241.4503833921153,241.4503833921153,241.4503833921153,241.4503833921153,241.4503833921153,241.4503833921153,241.4503833921153,241.4503833921153,241.4503833921153,241.4503833921153,241.4503833921153,241.4503833921153,241.4503833921153,241.4503833921153,241.4503833921153,241.4503833921153,241.4503833921153,241.4503833921153,241.4503833921153,241.4503833921153,241.4503833921153,241.4503833921153,241.4503833921153,241.4503833921153,241.4503833921153,241.4503833921153,241.4503833921153,241.4503833921153,241.4503833921153,241.4503833921153,241.4503833921153,241.4503833921153,241.4503833921153,241.4503833921153,241.4503833921153,241.4503833921153,241.4503833921153,241.4503833921153,241.4503833921153,241.4503833921153,241.4503833921153,241.4503833921153,241.4503833921153,241.4503833921153,241.4503833921153,241.4503833921153,752.3721249388491,752.3721249388491,752.3721249388491,752.3721249388491,752.3721249388491,752.3721249388491,752.3721249388491,752.3721249388491,752.3721249388491,752.3721249388491,752.3721249388491,752.3721249388491,752.3721249388491,752.3721249388491,752.3721249388491,752.3721249388491,752.3721249388491,752.3721249388491,752.3721249388491,752.3721249388491,752.3721249388491,752.3721249388491,752.3721249388491,752.3721249388491,752.3721249388491,752.3721249388491,752.3721249388491,752.3721249388491,752.3721249388491,752.3721249388491,752.3721249388491,752.3721249388491,752.3721249388491,752.3721249388491,752.3721249388491,752.3721249388491,752.3721249388491,752.3721249388491,752.3721249388491,752.3721249388491,752.3721249388491,752.3721249388491,752.3721249388491,108.485191060567,108.485191060567,108.485191060567,108.485191060567,108.485191060567,108.485191060567,108.485191060567,108.485191060567,108.485191060567,108.485191060567,108.485191060567,108.485191060567,108.485191060567,108.485191060567,108.485191060567,108.485191060567,108.485191060567,108.485191060567,108.485191060567,108.485191060567,108.485191060567,108.485191060567,108.485191060567,108.485191060567,108.485191060567,108.485191060567,108.485191060567,108.485191060567,108.485191060567,108.485191060567,108.485191060567,108.485191060567,108.485191060567,108.485191060567,108.485191060567,108.485191060567,108.485191060567,108.485191060567,108.485191060567,108.485191060567,108.485191060567,108.485191060567,108.485191060567,108.485191060567,108.485191060567,108.485191060567,108.485191060567,108.485191060567,108.485191060567,108.485191060567,108.485191060567,108.485191060567,108.485191060567,108.485191060567,108.485191060567,108.485191060567,108.485191060567,108.485191060567,108.485191060567,108.485191060567,108.485191060567,108.485191060567,108.485191060567,108.485191060567,108.485191060567,108.485191060567,108.485191060567,108.485191060567,108.485191060567,108.485191060567,108.485191060567,108.485191060567,108.485191060567,108.485191060567,108.485191060567,108.485191060567,108.485191060567,108.485191060567,108.485191060567,108.485191060567,108.485191060567,108.485191060567,108.485191060567,108.485191060567,108.485191060567,108.485191060567,108.485191060567,108.485191060567,108.485191060567,108.485191060567,108.485191060567,108.485191060567,108.485191060567,108.485191060567,108.485191060567,108.485191060567,108.485191060567,108.485191060567,108.485191060567,108.485191060567,108.485191060567,108.485191060567,108.485191060567,108.485191060567,108.485191060567,108.485191060567,108.485191060567,108.485191060567,108.485191060567,108.485191060567,108.485191060567,108.485191060567,108.485191060567,108.485191060567,108.485191060567,108.485191060567,108.485191060567,108.485191060567,108.485191060567,108.485191060567,108.485191060567,108.485191060567,108.485191060567,108.485191060567,108.485191060567,108.485191060567,108.485191060567,108.485191060567,108.485191060567,108.485191060567,108.485191060567,108.485191060567,108.485191060567,108.485191060567,108.485191060567,108.485191060567,108.485191060567,108.485191060567,108.485191060567,108.485191060567,108.485191060567,108.485191060567,108.485191060567,108.485191060567,108.485191060567,108.485191060567,108.485191060567,108.485191060567,108.485191060567,108.485191060567,108.485191060567,108.485191060567,108.485191060567,108.485191060567,108.485191060567,108.485191060567,108.485191060567,108.485191060567,108.485191060567,108.485191060567,108.485191060567,108.485191060567,108.485191060567,108.485191060567,108.485191060567,108.485191060567,108.485191060567,108.485191060567,108.485191060567,108.485191060567,108.485191060567,108.485191060567,108.485191060567,108.485191060567,108.485191060567,108.485191060567,108.485191060567,108.485191060567,108.485191060567,108.485191060567,108.485191060567,108.485191060567,108.485191060567,108.485191060567,108.485191060567,108.485191060567,108.485191060567,108.485191060567,108.485191060567,108.485191060567,108.485191060567,1167.541422964793,1167.541422964793,1167.541422964793,1167.541422964793,1167.541422964793,1167.541422964793,1167.541422964793,1167.541422964793,1167.541422964793,1167.541422964793,1167.541422964793,1167.541422964793,1167.541422964793,1167.541422964793,1167.541422964793,1167.541422964793,1167.541422964793,1167.541422964793,1167.541422964793,1167.541422964793,1167.541422964793,1167.541422964793,1167.541422964793,1167.541422964793,1167.541422964793,1167.541422964793,1167.541422964793,1167.541422964793,1167.541422964793,1810.148665494627,1810.148665494627,1810.148665494627,1810.148665494627,1810.148665494627,1810.148665494627,1810.148665494627,1810.148665494627,1810.148665494627,1810.148665494627,1810.148665494627,1810.148665494627,1810.148665494627,1810.148665494627,1810.148665494627,1810.148665494627,1810.148665494627,1810.148665494627,1810.148665494627,1810.148665494627,1810.148665494627,1810.148665494627,1810.148665494627,1810.148665494627,1810.148665494627,1810.148665494627,1810.148665494627,1810.148665494627,1810.148665494627,1810.148665494627,1810.148665494627,1810.148665494627,1810.148665494627,1810.148665494627,1810.148665494627,1810.148665494627,1810.148665494627,1810.148665494627,1810.148665494627,1810.148665494627,1810.148665494627,1810.148665494627,1810.148665494627,1810.148665494627,203.9768858755638,203.9768858755638,203.9768858755638,203.9768858755638,203.9768858755638,203.9768858755638,203.9768858755638,203.9768858755638,203.9768858755638,203.9768858755638,203.9768858755638,203.9768858755638,203.9768858755638,203.9768858755638,203.9768858755638,203.9768858755638,203.9768858755638,203.9768858755638,203.9768858755638,203.9768858755638,203.9768858755638,203.9768858755638,203.9768858755638,203.9768858755638,203.9768858755638,203.9768858755638,203.9768858755638,203.9768858755638,203.9768858755638,203.9768858755638,203.9768858755638,203.9768858755638,203.9768858755638,203.9768858755638,203.9768858755638,203.9768858755638,203.9768858755638,203.9768858755638,203.9768858755638,203.9768858755638,94.85590855664248,94.85590855664248,94.85590855664248,94.85590855664248,94.85590855664248,258.0395401364863,258.0395401364863,258.0395401364863,258.0395401364863,258.0395401364863,258.0395401364863,258.0395401364863,258.0395401364863,258.0395401364863,258.0395401364863,258.0395401364863,258.0395401364863,258.0395401364863,258.0395401364863,258.0395401364863,258.0395401364863,258.0395401364863,258.0395401364863,258.0395401364863,258.0395401364863,258.0395401364863,258.0395401364863,258.0395401364863,258.0395401364863,258.0395401364863,2215.518605780816,265.0966291797101,265.0966291797101,265.0966291797101,265.0966291797101,265.0966291797101,265.0966291797101,265.0966291797101,265.0966291797101,265.0966291797101,265.0966291797101,265.0966291797101,265.0966291797101,265.0966291797101,265.0966291797101,265.0966291797101,265.0966291797101,265.0966291797101,265.0966291797101,265.0966291797101,265.0966291797101,265.0966291797101,265.0966291797101,408.5994026531808,1136.255139536576,1136.255139536576,1136.255139536576,1136.255139536576,1136.255139536576,1136.255139536576,1136.255139536576,1136.255139536576,1136.255139536576,1136.255139536576,1136.255139536576,1136.255139536576,1136.255139536576,1136.255139536576,1136.255139536576,1136.255139536576,1136.255139536576,1136.255139536576,1136.255139536576,1136.255139536576,1136.255139536576,1136.255139536576,1136.255139536576,1136.255139536576,1136.255139536576,1136.255139536576,1136.255139536576,1136.255139536576,1136.255139536576,1136.255139536576,1136.255139536576,1136.255139536576,1136.255139536576,1136.255139536576,1136.255139536576,1136.255139536576,1136.255139536576,1136.255139536576,1136.255139536576,340.2238301469039,340.2238301469039,340.2238301469039,30.94304738717872,30.94304738717872,30.94304738717872,30.94304738717872,30.94304738717872,30.94304738717872,30.94304738717872,4031.106685175951,4031.106685175951,4031.106685175951,4031.106685175951,4031.106685175951,4031.106685175951,4031.106685175951,223.5491691009208,223.5491691009208,223.5491691009208,223.5491691009208,223.5491691009208,223.5491691009208,223.5491691009208,223.5491691009208,223.5491691009208,223.5491691009208,223.5491691009208,223.5491691009208,223.5491691009208,223.5491691009208,223.5491691009208,223.5491691009208,223.5491691009208,223.5491691009208,223.5491691009208,223.5491691009208,223.5491691009208,223.5491691009208,223.5491691009208,223.5491691009208,223.5491691009208,223.5491691009208,223.5491691009208,223.5491691009208,223.5491691009208,223.5491691009208,223.5491691009208,223.5491691009208,223.5491691009208,223.5491691009208,223.5491691009208,223.5491691009208,223.5491691009208,223.5491691009208,223.5491691009208,223.5491691009208,1510.201949004476,1510.201949004476,1510.201949004476,1510.201949004476,1510.201949004476,1510.201949004476,1510.201949004476,1510.201949004476,1510.201949004476,1510.201949004476,1510.201949004476,1510.201949004476,1510.201949004476,1510.201949004476,1510.201949004476,1510.201949004476,1510.201949004476,1510.201949004476,1510.201949004476,1510.201949004476,1510.201949004476,1510.201949004476,1510.201949004476,1510.201949004476,1510.201949004476,1233.503493389387,1233.503493389387],\"type\":\"histogram\"}],                        {\"template\":{\"data\":{\"histogram2dcontour\":[{\"type\":\"histogram2dcontour\",\"colorbar\":{\"outlinewidth\":0,\"ticks\":\"\"},\"colorscale\":[[0.0,\"#0d0887\"],[0.1111111111111111,\"#46039f\"],[0.2222222222222222,\"#7201a8\"],[0.3333333333333333,\"#9c179e\"],[0.4444444444444444,\"#bd3786\"],[0.5555555555555556,\"#d8576b\"],[0.6666666666666666,\"#ed7953\"],[0.7777777777777778,\"#fb9f3a\"],[0.8888888888888888,\"#fdca26\"],[1.0,\"#f0f921\"]]}],\"choropleth\":[{\"type\":\"choropleth\",\"colorbar\":{\"outlinewidth\":0,\"ticks\":\"\"}}],\"histogram2d\":[{\"type\":\"histogram2d\",\"colorbar\":{\"outlinewidth\":0,\"ticks\":\"\"},\"colorscale\":[[0.0,\"#0d0887\"],[0.1111111111111111,\"#46039f\"],[0.2222222222222222,\"#7201a8\"],[0.3333333333333333,\"#9c179e\"],[0.4444444444444444,\"#bd3786\"],[0.5555555555555556,\"#d8576b\"],[0.6666666666666666,\"#ed7953\"],[0.7777777777777778,\"#fb9f3a\"],[0.8888888888888888,\"#fdca26\"],[1.0,\"#f0f921\"]]}],\"heatmap\":[{\"type\":\"heatmap\",\"colorbar\":{\"outlinewidth\":0,\"ticks\":\"\"},\"colorscale\":[[0.0,\"#0d0887\"],[0.1111111111111111,\"#46039f\"],[0.2222222222222222,\"#7201a8\"],[0.3333333333333333,\"#9c179e\"],[0.4444444444444444,\"#bd3786\"],[0.5555555555555556,\"#d8576b\"],[0.6666666666666666,\"#ed7953\"],[0.7777777777777778,\"#fb9f3a\"],[0.8888888888888888,\"#fdca26\"],[1.0,\"#f0f921\"]]}],\"heatmapgl\":[{\"type\":\"heatmapgl\",\"colorbar\":{\"outlinewidth\":0,\"ticks\":\"\"},\"colorscale\":[[0.0,\"#0d0887\"],[0.1111111111111111,\"#46039f\"],[0.2222222222222222,\"#7201a8\"],[0.3333333333333333,\"#9c179e\"],[0.4444444444444444,\"#bd3786\"],[0.5555555555555556,\"#d8576b\"],[0.6666666666666666,\"#ed7953\"],[0.7777777777777778,\"#fb9f3a\"],[0.8888888888888888,\"#fdca26\"],[1.0,\"#f0f921\"]]}],\"contourcarpet\":[{\"type\":\"contourcarpet\",\"colorbar\":{\"outlinewidth\":0,\"ticks\":\"\"}}],\"contour\":[{\"type\":\"contour\",\"colorbar\":{\"outlinewidth\":0,\"ticks\":\"\"},\"colorscale\":[[0.0,\"#0d0887\"],[0.1111111111111111,\"#46039f\"],[0.2222222222222222,\"#7201a8\"],[0.3333333333333333,\"#9c179e\"],[0.4444444444444444,\"#bd3786\"],[0.5555555555555556,\"#d8576b\"],[0.6666666666666666,\"#ed7953\"],[0.7777777777777778,\"#fb9f3a\"],[0.8888888888888888,\"#fdca26\"],[1.0,\"#f0f921\"]]}],\"surface\":[{\"type\":\"surface\",\"colorbar\":{\"outlinewidth\":0,\"ticks\":\"\"},\"colorscale\":[[0.0,\"#0d0887\"],[0.1111111111111111,\"#46039f\"],[0.2222222222222222,\"#7201a8\"],[0.3333333333333333,\"#9c179e\"],[0.4444444444444444,\"#bd3786\"],[0.5555555555555556,\"#d8576b\"],[0.6666666666666666,\"#ed7953\"],[0.7777777777777778,\"#fb9f3a\"],[0.8888888888888888,\"#fdca26\"],[1.0,\"#f0f921\"]]}],\"mesh3d\":[{\"type\":\"mesh3d\",\"colorbar\":{\"outlinewidth\":0,\"ticks\":\"\"}}],\"scatter\":[{\"fillpattern\":{\"fillmode\":\"overlay\",\"size\":10,\"solidity\":0.2},\"type\":\"scatter\"}],\"parcoords\":[{\"type\":\"parcoords\",\"line\":{\"colorbar\":{\"outlinewidth\":0,\"ticks\":\"\"}}}],\"scatterpolargl\":[{\"type\":\"scatterpolargl\",\"marker\":{\"colorbar\":{\"outlinewidth\":0,\"ticks\":\"\"}}}],\"bar\":[{\"error_x\":{\"color\":\"#2a3f5f\"},\"error_y\":{\"color\":\"#2a3f5f\"},\"marker\":{\"line\":{\"color\":\"#E5ECF6\",\"width\":0.5},\"pattern\":{\"fillmode\":\"overlay\",\"size\":10,\"solidity\":0.2}},\"type\":\"bar\"}],\"scattergeo\":[{\"type\":\"scattergeo\",\"marker\":{\"colorbar\":{\"outlinewidth\":0,\"ticks\":\"\"}}}],\"scatterpolar\":[{\"type\":\"scatterpolar\",\"marker\":{\"colorbar\":{\"outlinewidth\":0,\"ticks\":\"\"}}}],\"histogram\":[{\"marker\":{\"pattern\":{\"fillmode\":\"overlay\",\"size\":10,\"solidity\":0.2}},\"type\":\"histogram\"}],\"scattergl\":[{\"type\":\"scattergl\",\"marker\":{\"colorbar\":{\"outlinewidth\":0,\"ticks\":\"\"}}}],\"scatter3d\":[{\"type\":\"scatter3d\",\"line\":{\"colorbar\":{\"outlinewidth\":0,\"ticks\":\"\"}},\"marker\":{\"colorbar\":{\"outlinewidth\":0,\"ticks\":\"\"}}}],\"scattermapbox\":[{\"type\":\"scattermapbox\",\"marker\":{\"colorbar\":{\"outlinewidth\":0,\"ticks\":\"\"}}}],\"scatterternary\":[{\"type\":\"scatterternary\",\"marker\":{\"colorbar\":{\"outlinewidth\":0,\"ticks\":\"\"}}}],\"scattercarpet\":[{\"type\":\"scattercarpet\",\"marker\":{\"colorbar\":{\"outlinewidth\":0,\"ticks\":\"\"}}}],\"carpet\":[{\"aaxis\":{\"endlinecolor\":\"#2a3f5f\",\"gridcolor\":\"white\",\"linecolor\":\"white\",\"minorgridcolor\":\"white\",\"startlinecolor\":\"#2a3f5f\"},\"baxis\":{\"endlinecolor\":\"#2a3f5f\",\"gridcolor\":\"white\",\"linecolor\":\"white\",\"minorgridcolor\":\"white\",\"startlinecolor\":\"#2a3f5f\"},\"type\":\"carpet\"}],\"table\":[{\"cells\":{\"fill\":{\"color\":\"#EBF0F8\"},\"line\":{\"color\":\"white\"}},\"header\":{\"fill\":{\"color\":\"#C8D4E3\"},\"line\":{\"color\":\"white\"}},\"type\":\"table\"}],\"barpolar\":[{\"marker\":{\"line\":{\"color\":\"#E5ECF6\",\"width\":0.5},\"pattern\":{\"fillmode\":\"overlay\",\"size\":10,\"solidity\":0.2}},\"type\":\"barpolar\"}],\"pie\":[{\"automargin\":true,\"type\":\"pie\"}]},\"layout\":{\"autotypenumbers\":\"strict\",\"colorway\":[\"#636efa\",\"#EF553B\",\"#00cc96\",\"#ab63fa\",\"#FFA15A\",\"#19d3f3\",\"#FF6692\",\"#B6E880\",\"#FF97FF\",\"#FECB52\"],\"font\":{\"color\":\"#2a3f5f\"},\"hovermode\":\"closest\",\"hoverlabel\":{\"align\":\"left\"},\"paper_bgcolor\":\"white\",\"plot_bgcolor\":\"#E5ECF6\",\"polar\":{\"bgcolor\":\"#E5ECF6\",\"angularaxis\":{\"gridcolor\":\"white\",\"linecolor\":\"white\",\"ticks\":\"\"},\"radialaxis\":{\"gridcolor\":\"white\",\"linecolor\":\"white\",\"ticks\":\"\"}},\"ternary\":{\"bgcolor\":\"#E5ECF6\",\"aaxis\":{\"gridcolor\":\"white\",\"linecolor\":\"white\",\"ticks\":\"\"},\"baxis\":{\"gridcolor\":\"white\",\"linecolor\":\"white\",\"ticks\":\"\"},\"caxis\":{\"gridcolor\":\"white\",\"linecolor\":\"white\",\"ticks\":\"\"}},\"coloraxis\":{\"colorbar\":{\"outlinewidth\":0,\"ticks\":\"\"}},\"colorscale\":{\"sequential\":[[0.0,\"#0d0887\"],[0.1111111111111111,\"#46039f\"],[0.2222222222222222,\"#7201a8\"],[0.3333333333333333,\"#9c179e\"],[0.4444444444444444,\"#bd3786\"],[0.5555555555555556,\"#d8576b\"],[0.6666666666666666,\"#ed7953\"],[0.7777777777777778,\"#fb9f3a\"],[0.8888888888888888,\"#fdca26\"],[1.0,\"#f0f921\"]],\"sequentialminus\":[[0.0,\"#0d0887\"],[0.1111111111111111,\"#46039f\"],[0.2222222222222222,\"#7201a8\"],[0.3333333333333333,\"#9c179e\"],[0.4444444444444444,\"#bd3786\"],[0.5555555555555556,\"#d8576b\"],[0.6666666666666666,\"#ed7953\"],[0.7777777777777778,\"#fb9f3a\"],[0.8888888888888888,\"#fdca26\"],[1.0,\"#f0f921\"]],\"diverging\":[[0,\"#8e0152\"],[0.1,\"#c51b7d\"],[0.2,\"#de77ae\"],[0.3,\"#f1b6da\"],[0.4,\"#fde0ef\"],[0.5,\"#f7f7f7\"],[0.6,\"#e6f5d0\"],[0.7,\"#b8e186\"],[0.8,\"#7fbc41\"],[0.9,\"#4d9221\"],[1,\"#276419\"]]},\"xaxis\":{\"gridcolor\":\"white\",\"linecolor\":\"white\",\"ticks\":\"\",\"title\":{\"standoff\":15},\"zerolinecolor\":\"white\",\"automargin\":true,\"zerolinewidth\":2},\"yaxis\":{\"gridcolor\":\"white\",\"linecolor\":\"white\",\"ticks\":\"\",\"title\":{\"standoff\":15},\"zerolinecolor\":\"white\",\"automargin\":true,\"zerolinewidth\":2},\"scene\":{\"xaxis\":{\"backgroundcolor\":\"#E5ECF6\",\"gridcolor\":\"white\",\"linecolor\":\"white\",\"showbackground\":true,\"ticks\":\"\",\"zerolinecolor\":\"white\",\"gridwidth\":2},\"yaxis\":{\"backgroundcolor\":\"#E5ECF6\",\"gridcolor\":\"white\",\"linecolor\":\"white\",\"showbackground\":true,\"ticks\":\"\",\"zerolinecolor\":\"white\",\"gridwidth\":2},\"zaxis\":{\"backgroundcolor\":\"#E5ECF6\",\"gridcolor\":\"white\",\"linecolor\":\"white\",\"showbackground\":true,\"ticks\":\"\",\"zerolinecolor\":\"white\",\"gridwidth\":2}},\"shapedefaults\":{\"line\":{\"color\":\"#2a3f5f\"}},\"annotationdefaults\":{\"arrowcolor\":\"#2a3f5f\",\"arrowhead\":0,\"arrowwidth\":1},\"geo\":{\"bgcolor\":\"white\",\"landcolor\":\"#E5ECF6\",\"subunitcolor\":\"white\",\"showland\":true,\"showlakes\":true,\"lakecolor\":\"white\"},\"title\":{\"x\":0.05},\"mapbox\":{\"style\":\"light\"}}}},                        {\"responsive\": true}                    ).then(function(){\n",
       "                            \n",
       "var gd = document.getElementById('870daef0-44af-4ff0-bc4f-02592fd15402');\n",
       "var x = new MutationObserver(function (mutations, observer) {{\n",
       "        var display = window.getComputedStyle(gd).display;\n",
       "        if (!display || display === 'none') {{\n",
       "            console.log([gd, 'removed!']);\n",
       "            Plotly.purge(gd);\n",
       "            observer.disconnect();\n",
       "        }}\n",
       "}});\n",
       "\n",
       "// Listen for the removal of the full notebook cells\n",
       "var notebookContainer = gd.closest('#notebook-container');\n",
       "if (notebookContainer) {{\n",
       "    x.observe(notebookContainer, {childList: true});\n",
       "}}\n",
       "\n",
       "// Listen for the clearing of the current output cell\n",
       "var outputEl = gd.closest('.output');\n",
       "if (outputEl) {{\n",
       "    x.observe(outputEl, {childList: true});\n",
       "}}\n",
       "\n",
       "                        })                };                });            </script>        </div>"
      ]
     },
     "metadata": {},
     "output_type": "display_data"
    },
    {
     "name": "stdout",
     "output_type": "stream",
     "text": [
      "760\n"
     ]
    }
   ],
   "source": [
    "hist = np.histogram(all_data[\"map_dist\"])\n",
    "\n",
    "fig = go.Figure()\n",
    "\n",
    "fig.add_trace(go.Histogram(x=all_data[\"map_dist\"], histnorm='probability'))\n",
    "fig.show()\n",
    "print(len(all_data))"
   ]
  },
  {
   "cell_type": "code",
   "execution_count": 11,
   "metadata": {},
   "outputs": [
    {
     "data": {
      "application/vnd.plotly.v1+json": {
       "config": {
        "plotlyServerURL": "https://plot.ly"
       },
       "data": [
        {
         "histnorm": "probability",
         "nbinsx": 15,
         "type": "histogram",
         "x": [
          1932.3424784666472,
          1932.3424784666472,
          1932.3424784666472,
          1932.3424784666472,
          1932.3424784666472,
          1932.3424784666472,
          1932.3424784666472,
          1932.3424784666472,
          1932.3424784666472,
          1932.3424784666472,
          1932.3424784666472,
          1932.3424784666472,
          1932.3424784666472,
          1932.3424784666472,
          1932.3424784666472,
          1932.3424784666472,
          1932.3424784666472,
          1932.3424784666472,
          1932.3424784666472,
          1932.3424784666472,
          1932.3424784666472,
          1932.3424784666472,
          1932.3424784666472,
          1932.3424784666472,
          1932.3424784666472,
          1932.3424784666472,
          1932.3424784666472,
          1932.3424784666472,
          1932.3424784666472,
          1932.3424784666472,
          1932.3424784666472,
          1932.3424784666472,
          1932.3424784666472,
          1932.3424784666472,
          1932.3424784666472,
          1932.3424784666472,
          1932.3424784666472,
          1932.3424784666472,
          1932.3424784666472,
          1932.3424784666472,
          1932.3424784666472,
          1932.3424784666472,
          13612.92327850252,
          13612.92327850252,
          13612.92327850252,
          13612.92327850252,
          13612.92327850252,
          13612.92327850252,
          13612.92327850252,
          13612.92327850252,
          13612.92327850252,
          13612.92327850252,
          13612.92327850252,
          13612.92327850252,
          3829.067432864645,
          3829.067432864645,
          3829.067432864645,
          3829.067432864645,
          3829.067432864645,
          3829.067432864645,
          3829.067432864645,
          3829.067432864645,
          3829.067432864645,
          3829.067432864645,
          3829.067432864645,
          3829.067432864645,
          3829.067432864645,
          3829.067432864645,
          3829.067432864645,
          3829.067432864645,
          3829.067432864645,
          3829.067432864645,
          3829.067432864645,
          24226.211069020326,
          24226.211069020326,
          24226.211069020326,
          24226.211069020326,
          24226.211069020326,
          24226.211069020326,
          24226.211069020326,
          24226.211069020326,
          24226.211069020326,
          24226.211069020326,
          24226.211069020326,
          24226.211069020326,
          24226.211069020326,
          24226.211069020326,
          24226.211069020326,
          24226.211069020326,
          24226.211069020326,
          24226.211069020326,
          24226.211069020326,
          24226.211069020326,
          24226.211069020326,
          24226.211069020326,
          24226.211069020326,
          24226.211069020326,
          24226.211069020326,
          24226.211069020326,
          24226.211069020326,
          24226.211069020326,
          24226.211069020326,
          24226.211069020326,
          24226.211069020326,
          24226.211069020326,
          24226.211069020326,
          24226.211069020326,
          24226.211069020326,
          24226.211069020326,
          24226.211069020326,
          24226.211069020326,
          24226.211069020326,
          24226.211069020326,
          24226.211069020326,
          24226.211069020326,
          24226.211069020326,
          24226.211069020326,
          24226.211069020326,
          24226.211069020326,
          24226.211069020326,
          24226.211069020326,
          24226.211069020326,
          24226.211069020326,
          24226.211069020326,
          24226.211069020326,
          24226.211069020326,
          24226.211069020326,
          24226.211069020326,
          24226.211069020326,
          24226.211069020326,
          24226.211069020326,
          24226.211069020326,
          24226.211069020326,
          24226.211069020326,
          24226.211069020326,
          24226.211069020326,
          24226.211069020326,
          24226.211069020326,
          24226.211069020326,
          24226.211069020326,
          24226.211069020326,
          24226.211069020326,
          24226.211069020326,
          24226.211069020326,
          24226.211069020326,
          24226.211069020326,
          24226.211069020326,
          24226.211069020326,
          24226.211069020326,
          24226.211069020326,
          24226.211069020326,
          24226.211069020326,
          24226.211069020326,
          24226.211069020326,
          24226.211069020326,
          24226.211069020326,
          24226.211069020326,
          24226.211069020326,
          24226.211069020326,
          24226.211069020326,
          24226.211069020326,
          24226.211069020326,
          24226.211069020326,
          24226.211069020326,
          24226.211069020326,
          24226.211069020326,
          24226.211069020326,
          24226.211069020326,
          24226.211069020326,
          24226.211069020326,
          24226.211069020326,
          24226.211069020326,
          24226.211069020326,
          24226.211069020326,
          24226.211069020326,
          24226.211069020326,
          24226.211069020326,
          24226.211069020326,
          24226.211069020326,
          24226.211069020326,
          24226.211069020326,
          24226.211069020326,
          24226.211069020326,
          24226.211069020326,
          24226.211069020326,
          24226.211069020326,
          24226.211069020326,
          24226.211069020326,
          24226.211069020326,
          24226.211069020326,
          24226.211069020326,
          24226.211069020326,
          24226.211069020326,
          24226.211069020326,
          24226.211069020326,
          24226.211069020326,
          24226.211069020326,
          24226.211069020326,
          24226.211069020326,
          24226.211069020326,
          24226.211069020326,
          24226.211069020326,
          24226.211069020326,
          24226.211069020326,
          24226.211069020326,
          24226.211069020326,
          24226.211069020326,
          24226.211069020326,
          24226.211069020326,
          24226.211069020326,
          24226.211069020326,
          24226.211069020326,
          24226.211069020326,
          24226.211069020326,
          24226.211069020326,
          24226.211069020326,
          24226.211069020326,
          24226.211069020326,
          24226.211069020326,
          24226.211069020326,
          24226.211069020326,
          24226.211069020326,
          24226.211069020326,
          24226.211069020326,
          24226.211069020326,
          24226.211069020326,
          24226.211069020326,
          24226.211069020326,
          24226.211069020326,
          24226.211069020326,
          24226.211069020326,
          24226.211069020326,
          24226.211069020326,
          24226.211069020326,
          24226.211069020326,
          24226.211069020326,
          1997.8860665723569,
          1997.8860665723569,
          1997.8860665723569,
          1997.8860665723569,
          1997.8860665723569,
          1997.8860665723569,
          1997.8860665723569,
          1997.8860665723569,
          1997.8860665723569,
          1997.8860665723569,
          1997.8860665723569,
          1997.8860665723569,
          1997.8860665723569,
          1997.8860665723569,
          1997.8860665723569,
          1997.8860665723569,
          1997.8860665723569,
          1997.8860665723569,
          1997.8860665723569,
          1997.8860665723569,
          1997.8860665723569,
          1997.8860665723569,
          1997.8860665723569,
          1997.8860665723569,
          1997.8860665723569,
          1997.8860665723569,
          1997.8860665723569,
          1997.8860665723569,
          1997.8860665723569,
          1997.8860665723569,
          1997.8860665723569,
          1997.8860665723569,
          1997.8860665723569,
          1997.8860665723569,
          1997.8860665723569,
          1997.8860665723569,
          1997.8860665723569,
          1997.8860665723569,
          1997.8860665723569,
          1997.8860665723569,
          1997.8860665723569,
          1997.8860665723569,
          1997.8860665723569,
          24220.33601350385,
          24220.33601350385,
          24220.33601350385,
          24220.33601350385,
          24220.33601350385,
          24220.33601350385,
          24220.33601350385,
          24220.33601350385,
          24220.33601350385,
          24220.33601350385,
          24220.33601350385,
          24220.33601350385,
          24220.33601350385,
          24220.33601350385,
          24220.33601350385,
          24220.33601350385,
          24220.33601350385,
          24220.33601350385,
          24220.33601350385,
          24220.33601350385,
          24220.33601350385,
          24220.33601350385,
          24220.33601350385,
          24220.33601350385,
          24220.33601350385,
          24220.33601350385,
          24220.33601350385,
          24220.33601350385,
          24220.33601350385,
          24220.33601350385,
          24220.33601350385,
          24220.33601350385,
          24220.33601350385,
          24220.33601350385,
          24220.33601350385,
          24220.33601350385,
          24220.33601350385,
          24220.33601350385,
          24220.33601350385,
          24220.33601350385,
          24220.33601350385,
          24220.33601350385,
          24220.33601350385,
          24220.33601350385,
          24220.33601350385,
          24220.33601350385,
          24220.33601350385,
          24220.33601350385,
          24220.33601350385,
          24220.33601350385,
          24220.33601350385,
          24220.33601350385,
          24220.33601350385,
          24220.33601350385,
          24220.33601350385,
          24220.33601350385,
          24220.33601350385,
          24220.33601350385,
          24220.33601350385,
          24220.33601350385,
          24220.33601350385,
          24220.33601350385,
          24220.33601350385,
          24220.33601350385,
          24220.33601350385,
          24220.33601350385,
          24220.33601350385,
          24220.33601350385,
          24220.33601350385,
          24220.33601350385,
          24220.33601350385,
          24220.33601350385,
          24220.33601350385,
          24220.33601350385,
          24220.33601350385,
          24220.33601350385,
          24220.33601350385,
          24220.33601350385,
          24220.33601350385,
          24220.33601350385,
          24220.33601350385,
          24220.33601350385,
          24220.33601350385,
          24220.33601350385,
          24220.33601350385,
          24220.33601350385,
          24220.33601350385,
          24220.33601350385,
          24220.33601350385,
          24220.33601350385,
          24220.33601350385,
          24220.33601350385,
          24220.33601350385,
          24220.33601350385,
          24220.33601350385,
          24220.33601350385,
          24220.33601350385,
          24220.33601350385,
          24220.33601350385,
          24220.33601350385,
          24220.33601350385,
          24220.33601350385,
          24220.33601350385,
          24220.33601350385,
          24220.33601350385,
          24220.33601350385,
          24220.33601350385,
          24220.33601350385,
          24220.33601350385,
          24220.33601350385,
          24220.33601350385,
          24220.33601350385,
          24220.33601350385,
          24220.33601350385,
          24220.33601350385,
          24220.33601350385,
          24220.33601350385,
          24220.33601350385,
          24220.33601350385,
          24220.33601350385,
          24220.33601350385,
          24220.33601350385,
          24220.33601350385,
          24220.33601350385,
          24220.33601350385,
          24220.33601350385,
          24220.33601350385,
          24220.33601350385,
          24220.33601350385,
          24220.33601350385,
          24220.33601350385,
          24220.33601350385,
          24220.33601350385,
          24220.33601350385,
          24220.33601350385,
          24220.33601350385,
          24220.33601350385,
          24220.33601350385,
          24220.33601350385,
          24220.33601350385,
          24220.33601350385,
          24220.33601350385,
          24220.33601350385,
          24220.33601350385,
          24220.33601350385,
          24220.33601350385,
          24220.33601350385,
          24220.33601350385,
          24220.33601350385,
          24220.33601350385,
          24220.33601350385,
          24220.33601350385,
          24220.33601350385,
          24220.33601350385,
          24220.33601350385,
          24220.33601350385,
          24220.33601350385,
          24220.33601350385,
          24220.33601350385,
          24220.33601350385,
          24220.33601350385,
          24220.33601350385,
          24220.33601350385,
          24220.33601350385,
          24220.33601350385,
          24220.33601350385,
          24220.33601350385,
          24220.33601350385,
          24220.33601350385,
          24220.33601350385,
          24220.33601350385,
          24220.33601350385,
          24220.33601350385,
          24220.33601350385,
          24220.33601350385,
          24220.33601350385,
          24220.33601350385,
          24220.33601350385,
          24220.33601350385,
          24220.33601350385,
          24220.33601350385,
          24220.33601350385,
          24220.33601350385,
          24220.33601350385,
          24220.33601350385,
          24220.33601350385,
          24220.33601350385,
          24220.33601350385,
          24220.33601350385,
          24220.33601350385,
          24220.33601350385,
          1296.9840750785877,
          1296.9840750785877,
          1296.9840750785877,
          1296.9840750785877,
          1296.9840750785877,
          1296.9840750785877,
          1296.9840750785877,
          1296.9840750785877,
          1296.9840750785877,
          1296.9840750785877,
          1296.9840750785877,
          1296.9840750785877,
          1296.9840750785877,
          1296.9840750785877,
          1296.9840750785877,
          1296.9840750785877,
          1296.9840750785877,
          1296.9840750785877,
          1296.9840750785877,
          1296.9840750785877,
          1296.9840750785877,
          1296.9840750785877,
          1296.9840750785877,
          1296.9840750785877,
          1296.9840750785877,
          1296.9840750785877,
          1296.9840750785877,
          1296.9840750785877,
          1296.9840750785877,
          1487.3857068726643,
          1487.3857068726643,
          1487.3857068726643,
          1487.3857068726643,
          1487.3857068726643,
          1487.3857068726643,
          1487.3857068726643,
          1487.3857068726643,
          1487.3857068726643,
          1487.3857068726643,
          1487.3857068726643,
          1487.3857068726643,
          1487.3857068726643,
          1487.3857068726643,
          1487.3857068726643,
          1487.3857068726643,
          1487.3857068726643,
          1487.3857068726643,
          1487.3857068726643,
          1487.3857068726643,
          1487.3857068726643,
          1487.3857068726643,
          1487.3857068726643,
          1487.3857068726643,
          1487.3857068726643,
          1487.3857068726643,
          1487.3857068726643,
          1487.3857068726643,
          1487.3857068726643,
          1487.3857068726643,
          1487.3857068726643,
          1487.3857068726643,
          1487.3857068726643,
          1487.3857068726643,
          1487.3857068726643,
          1487.3857068726643,
          1487.3857068726643,
          1487.3857068726643,
          1487.3857068726643,
          1487.3857068726643,
          1487.3857068726643,
          1487.3857068726643,
          1487.3857068726643,
          1487.3857068726643,
          737.0768589986914,
          737.0768589986914,
          737.0768589986914,
          737.0768589986914,
          737.0768589986914,
          737.0768589986914,
          737.0768589986914,
          737.0768589986914,
          737.0768589986914,
          737.0768589986914,
          737.0768589986914,
          737.0768589986914,
          737.0768589986914,
          737.0768589986914,
          737.0768589986914,
          737.0768589986914,
          737.0768589986914,
          737.0768589986914,
          737.0768589986914,
          737.0768589986914,
          737.0768589986914,
          737.0768589986914,
          737.0768589986914,
          737.0768589986914,
          737.0768589986914,
          737.0768589986914,
          737.0768589986914,
          737.0768589986914,
          737.0768589986914,
          737.0768589986914,
          737.0768589986914,
          737.0768589986914,
          737.0768589986914,
          737.0768589986914,
          737.0768589986914,
          737.0768589986914,
          737.0768589986914,
          737.0768589986914,
          737.0768589986914,
          737.0768589986914,
          1154.1599017974186,
          1154.1599017974186,
          1154.1599017974186,
          1154.1599017974186,
          1154.1599017974186,
          10283.917490625254,
          10283.917490625254,
          10283.917490625254,
          10283.917490625254,
          10283.917490625254,
          10283.917490625254,
          10283.917490625254,
          10283.917490625254,
          10283.917490625254,
          10283.917490625254,
          10283.917490625254,
          10283.917490625254,
          10283.917490625254,
          10283.917490625254,
          10283.917490625254,
          10283.917490625254,
          10283.917490625254,
          10283.917490625254,
          10283.917490625254,
          10283.917490625254,
          10283.917490625254,
          10283.917490625254,
          10283.917490625254,
          10283.917490625254,
          10283.917490625254,
          922.8164768728842,
          7718.9836550071,
          7718.9836550071,
          7718.9836550071,
          7718.9836550071,
          7718.9836550071,
          7718.9836550071,
          7718.9836550071,
          7718.9836550071,
          7718.9836550071,
          7718.9836550071,
          7718.9836550071,
          7718.9836550071,
          7718.9836550071,
          7718.9836550071,
          7718.9836550071,
          7718.9836550071,
          7718.9836550071,
          7718.9836550071,
          7718.9836550071,
          7718.9836550071,
          7718.9836550071,
          7718.9836550071,
          851.7387962940635,
          6199.285142793807,
          6199.285142793807,
          6199.285142793807,
          6199.285142793807,
          6199.285142793807,
          6199.285142793807,
          6199.285142793807,
          6199.285142793807,
          6199.285142793807,
          6199.285142793807,
          6199.285142793807,
          6199.285142793807,
          6199.285142793807,
          6199.285142793807,
          6199.285142793807,
          6199.285142793807,
          6199.285142793807,
          6199.285142793807,
          6199.285142793807,
          6199.285142793807,
          6199.285142793807,
          6199.285142793807,
          6199.285142793807,
          6199.285142793807,
          6199.285142793807,
          6199.285142793807,
          6199.285142793807,
          6199.285142793807,
          6199.285142793807,
          6199.285142793807,
          6199.285142793807,
          6199.285142793807,
          6199.285142793807,
          6199.285142793807,
          6199.285142793807,
          6199.285142793807,
          6199.285142793807,
          6199.285142793807,
          6199.285142793807,
          765.1440187512411,
          765.1440187512411,
          765.1440187512411,
          220.3375313035425,
          220.3375313035425,
          220.3375313035425,
          220.3375313035425,
          220.3375313035425,
          220.3375313035425,
          220.3375313035425,
          2520.5037282747853,
          2520.5037282747853,
          2520.5037282747853,
          2520.5037282747853,
          2520.5037282747853,
          2520.5037282747853,
          2520.5037282747853,
          2586.886610025705,
          2586.886610025705,
          2586.886610025705,
          2586.886610025705,
          2586.886610025705,
          2586.886610025705,
          2586.886610025705,
          2586.886610025705,
          2586.886610025705,
          2586.886610025705,
          2586.886610025705,
          2586.886610025705,
          2586.886610025705,
          2586.886610025705,
          2586.886610025705,
          2586.886610025705,
          2586.886610025705,
          2586.886610025705,
          2586.886610025705,
          2586.886610025705,
          2586.886610025705,
          2586.886610025705,
          2586.886610025705,
          2586.886610025705,
          2586.886610025705,
          2586.886610025705,
          2586.886610025705,
          2586.886610025705,
          2586.886610025705,
          2586.886610025705,
          2586.886610025705,
          2586.886610025705,
          2586.886610025705,
          2586.886610025705,
          2586.886610025705,
          2586.886610025705,
          2586.886610025705,
          2586.886610025705,
          2586.886610025705,
          2586.886610025705,
          1250.7048989231157,
          1250.7048989231157,
          1250.7048989231157,
          1250.7048989231157,
          1250.7048989231157,
          1250.7048989231157,
          1250.7048989231157,
          1250.7048989231157,
          1250.7048989231157,
          1250.7048989231157,
          1250.7048989231157,
          1250.7048989231157,
          1250.7048989231157,
          1250.7048989231157,
          1250.7048989231157,
          1250.7048989231157,
          1250.7048989231157,
          1250.7048989231157,
          1250.7048989231157,
          1250.7048989231157,
          1250.7048989231157,
          1250.7048989231157,
          1250.7048989231157,
          1250.7048989231157,
          1250.7048989231157,
          668.3531348154236,
          668.3531348154236
         ]
        }
       ],
       "layout": {
        "template": {
         "data": {
          "bar": [
           {
            "error_x": {
             "color": "#2a3f5f"
            },
            "error_y": {
             "color": "#2a3f5f"
            },
            "marker": {
             "line": {
              "color": "#E5ECF6",
              "width": 0.5
             },
             "pattern": {
              "fillmode": "overlay",
              "size": 10,
              "solidity": 0.2
             }
            },
            "type": "bar"
           }
          ],
          "barpolar": [
           {
            "marker": {
             "line": {
              "color": "#E5ECF6",
              "width": 0.5
             },
             "pattern": {
              "fillmode": "overlay",
              "size": 10,
              "solidity": 0.2
             }
            },
            "type": "barpolar"
           }
          ],
          "carpet": [
           {
            "aaxis": {
             "endlinecolor": "#2a3f5f",
             "gridcolor": "white",
             "linecolor": "white",
             "minorgridcolor": "white",
             "startlinecolor": "#2a3f5f"
            },
            "baxis": {
             "endlinecolor": "#2a3f5f",
             "gridcolor": "white",
             "linecolor": "white",
             "minorgridcolor": "white",
             "startlinecolor": "#2a3f5f"
            },
            "type": "carpet"
           }
          ],
          "choropleth": [
           {
            "colorbar": {
             "outlinewidth": 0,
             "ticks": ""
            },
            "type": "choropleth"
           }
          ],
          "contour": [
           {
            "colorbar": {
             "outlinewidth": 0,
             "ticks": ""
            },
            "colorscale": [
             [
              0,
              "#0d0887"
             ],
             [
              0.1111111111111111,
              "#46039f"
             ],
             [
              0.2222222222222222,
              "#7201a8"
             ],
             [
              0.3333333333333333,
              "#9c179e"
             ],
             [
              0.4444444444444444,
              "#bd3786"
             ],
             [
              0.5555555555555556,
              "#d8576b"
             ],
             [
              0.6666666666666666,
              "#ed7953"
             ],
             [
              0.7777777777777778,
              "#fb9f3a"
             ],
             [
              0.8888888888888888,
              "#fdca26"
             ],
             [
              1,
              "#f0f921"
             ]
            ],
            "type": "contour"
           }
          ],
          "contourcarpet": [
           {
            "colorbar": {
             "outlinewidth": 0,
             "ticks": ""
            },
            "type": "contourcarpet"
           }
          ],
          "heatmap": [
           {
            "colorbar": {
             "outlinewidth": 0,
             "ticks": ""
            },
            "colorscale": [
             [
              0,
              "#0d0887"
             ],
             [
              0.1111111111111111,
              "#46039f"
             ],
             [
              0.2222222222222222,
              "#7201a8"
             ],
             [
              0.3333333333333333,
              "#9c179e"
             ],
             [
              0.4444444444444444,
              "#bd3786"
             ],
             [
              0.5555555555555556,
              "#d8576b"
             ],
             [
              0.6666666666666666,
              "#ed7953"
             ],
             [
              0.7777777777777778,
              "#fb9f3a"
             ],
             [
              0.8888888888888888,
              "#fdca26"
             ],
             [
              1,
              "#f0f921"
             ]
            ],
            "type": "heatmap"
           }
          ],
          "heatmapgl": [
           {
            "colorbar": {
             "outlinewidth": 0,
             "ticks": ""
            },
            "colorscale": [
             [
              0,
              "#0d0887"
             ],
             [
              0.1111111111111111,
              "#46039f"
             ],
             [
              0.2222222222222222,
              "#7201a8"
             ],
             [
              0.3333333333333333,
              "#9c179e"
             ],
             [
              0.4444444444444444,
              "#bd3786"
             ],
             [
              0.5555555555555556,
              "#d8576b"
             ],
             [
              0.6666666666666666,
              "#ed7953"
             ],
             [
              0.7777777777777778,
              "#fb9f3a"
             ],
             [
              0.8888888888888888,
              "#fdca26"
             ],
             [
              1,
              "#f0f921"
             ]
            ],
            "type": "heatmapgl"
           }
          ],
          "histogram": [
           {
            "marker": {
             "pattern": {
              "fillmode": "overlay",
              "size": 10,
              "solidity": 0.2
             }
            },
            "type": "histogram"
           }
          ],
          "histogram2d": [
           {
            "colorbar": {
             "outlinewidth": 0,
             "ticks": ""
            },
            "colorscale": [
             [
              0,
              "#0d0887"
             ],
             [
              0.1111111111111111,
              "#46039f"
             ],
             [
              0.2222222222222222,
              "#7201a8"
             ],
             [
              0.3333333333333333,
              "#9c179e"
             ],
             [
              0.4444444444444444,
              "#bd3786"
             ],
             [
              0.5555555555555556,
              "#d8576b"
             ],
             [
              0.6666666666666666,
              "#ed7953"
             ],
             [
              0.7777777777777778,
              "#fb9f3a"
             ],
             [
              0.8888888888888888,
              "#fdca26"
             ],
             [
              1,
              "#f0f921"
             ]
            ],
            "type": "histogram2d"
           }
          ],
          "histogram2dcontour": [
           {
            "colorbar": {
             "outlinewidth": 0,
             "ticks": ""
            },
            "colorscale": [
             [
              0,
              "#0d0887"
             ],
             [
              0.1111111111111111,
              "#46039f"
             ],
             [
              0.2222222222222222,
              "#7201a8"
             ],
             [
              0.3333333333333333,
              "#9c179e"
             ],
             [
              0.4444444444444444,
              "#bd3786"
             ],
             [
              0.5555555555555556,
              "#d8576b"
             ],
             [
              0.6666666666666666,
              "#ed7953"
             ],
             [
              0.7777777777777778,
              "#fb9f3a"
             ],
             [
              0.8888888888888888,
              "#fdca26"
             ],
             [
              1,
              "#f0f921"
             ]
            ],
            "type": "histogram2dcontour"
           }
          ],
          "mesh3d": [
           {
            "colorbar": {
             "outlinewidth": 0,
             "ticks": ""
            },
            "type": "mesh3d"
           }
          ],
          "parcoords": [
           {
            "line": {
             "colorbar": {
              "outlinewidth": 0,
              "ticks": ""
             }
            },
            "type": "parcoords"
           }
          ],
          "pie": [
           {
            "automargin": true,
            "type": "pie"
           }
          ],
          "scatter": [
           {
            "fillpattern": {
             "fillmode": "overlay",
             "size": 10,
             "solidity": 0.2
            },
            "type": "scatter"
           }
          ],
          "scatter3d": [
           {
            "line": {
             "colorbar": {
              "outlinewidth": 0,
              "ticks": ""
             }
            },
            "marker": {
             "colorbar": {
              "outlinewidth": 0,
              "ticks": ""
             }
            },
            "type": "scatter3d"
           }
          ],
          "scattercarpet": [
           {
            "marker": {
             "colorbar": {
              "outlinewidth": 0,
              "ticks": ""
             }
            },
            "type": "scattercarpet"
           }
          ],
          "scattergeo": [
           {
            "marker": {
             "colorbar": {
              "outlinewidth": 0,
              "ticks": ""
             }
            },
            "type": "scattergeo"
           }
          ],
          "scattergl": [
           {
            "marker": {
             "colorbar": {
              "outlinewidth": 0,
              "ticks": ""
             }
            },
            "type": "scattergl"
           }
          ],
          "scattermapbox": [
           {
            "marker": {
             "colorbar": {
              "outlinewidth": 0,
              "ticks": ""
             }
            },
            "type": "scattermapbox"
           }
          ],
          "scatterpolar": [
           {
            "marker": {
             "colorbar": {
              "outlinewidth": 0,
              "ticks": ""
             }
            },
            "type": "scatterpolar"
           }
          ],
          "scatterpolargl": [
           {
            "marker": {
             "colorbar": {
              "outlinewidth": 0,
              "ticks": ""
             }
            },
            "type": "scatterpolargl"
           }
          ],
          "scatterternary": [
           {
            "marker": {
             "colorbar": {
              "outlinewidth": 0,
              "ticks": ""
             }
            },
            "type": "scatterternary"
           }
          ],
          "surface": [
           {
            "colorbar": {
             "outlinewidth": 0,
             "ticks": ""
            },
            "colorscale": [
             [
              0,
              "#0d0887"
             ],
             [
              0.1111111111111111,
              "#46039f"
             ],
             [
              0.2222222222222222,
              "#7201a8"
             ],
             [
              0.3333333333333333,
              "#9c179e"
             ],
             [
              0.4444444444444444,
              "#bd3786"
             ],
             [
              0.5555555555555556,
              "#d8576b"
             ],
             [
              0.6666666666666666,
              "#ed7953"
             ],
             [
              0.7777777777777778,
              "#fb9f3a"
             ],
             [
              0.8888888888888888,
              "#fdca26"
             ],
             [
              1,
              "#f0f921"
             ]
            ],
            "type": "surface"
           }
          ],
          "table": [
           {
            "cells": {
             "fill": {
              "color": "#EBF0F8"
             },
             "line": {
              "color": "white"
             }
            },
            "header": {
             "fill": {
              "color": "#C8D4E3"
             },
             "line": {
              "color": "white"
             }
            },
            "type": "table"
           }
          ]
         },
         "layout": {
          "annotationdefaults": {
           "arrowcolor": "#2a3f5f",
           "arrowhead": 0,
           "arrowwidth": 1
          },
          "autotypenumbers": "strict",
          "coloraxis": {
           "colorbar": {
            "outlinewidth": 0,
            "ticks": ""
           }
          },
          "colorscale": {
           "diverging": [
            [
             0,
             "#8e0152"
            ],
            [
             0.1,
             "#c51b7d"
            ],
            [
             0.2,
             "#de77ae"
            ],
            [
             0.3,
             "#f1b6da"
            ],
            [
             0.4,
             "#fde0ef"
            ],
            [
             0.5,
             "#f7f7f7"
            ],
            [
             0.6,
             "#e6f5d0"
            ],
            [
             0.7,
             "#b8e186"
            ],
            [
             0.8,
             "#7fbc41"
            ],
            [
             0.9,
             "#4d9221"
            ],
            [
             1,
             "#276419"
            ]
           ],
           "sequential": [
            [
             0,
             "#0d0887"
            ],
            [
             0.1111111111111111,
             "#46039f"
            ],
            [
             0.2222222222222222,
             "#7201a8"
            ],
            [
             0.3333333333333333,
             "#9c179e"
            ],
            [
             0.4444444444444444,
             "#bd3786"
            ],
            [
             0.5555555555555556,
             "#d8576b"
            ],
            [
             0.6666666666666666,
             "#ed7953"
            ],
            [
             0.7777777777777778,
             "#fb9f3a"
            ],
            [
             0.8888888888888888,
             "#fdca26"
            ],
            [
             1,
             "#f0f921"
            ]
           ],
           "sequentialminus": [
            [
             0,
             "#0d0887"
            ],
            [
             0.1111111111111111,
             "#46039f"
            ],
            [
             0.2222222222222222,
             "#7201a8"
            ],
            [
             0.3333333333333333,
             "#9c179e"
            ],
            [
             0.4444444444444444,
             "#bd3786"
            ],
            [
             0.5555555555555556,
             "#d8576b"
            ],
            [
             0.6666666666666666,
             "#ed7953"
            ],
            [
             0.7777777777777778,
             "#fb9f3a"
            ],
            [
             0.8888888888888888,
             "#fdca26"
            ],
            [
             1,
             "#f0f921"
            ]
           ]
          },
          "colorway": [
           "#636efa",
           "#EF553B",
           "#00cc96",
           "#ab63fa",
           "#FFA15A",
           "#19d3f3",
           "#FF6692",
           "#B6E880",
           "#FF97FF",
           "#FECB52"
          ],
          "font": {
           "color": "#2a3f5f"
          },
          "geo": {
           "bgcolor": "white",
           "lakecolor": "white",
           "landcolor": "#E5ECF6",
           "showlakes": true,
           "showland": true,
           "subunitcolor": "white"
          },
          "hoverlabel": {
           "align": "left"
          },
          "hovermode": "closest",
          "mapbox": {
           "style": "light"
          },
          "paper_bgcolor": "white",
          "plot_bgcolor": "#E5ECF6",
          "polar": {
           "angularaxis": {
            "gridcolor": "white",
            "linecolor": "white",
            "ticks": ""
           },
           "bgcolor": "#E5ECF6",
           "radialaxis": {
            "gridcolor": "white",
            "linecolor": "white",
            "ticks": ""
           }
          },
          "scene": {
           "xaxis": {
            "backgroundcolor": "#E5ECF6",
            "gridcolor": "white",
            "gridwidth": 2,
            "linecolor": "white",
            "showbackground": true,
            "ticks": "",
            "zerolinecolor": "white"
           },
           "yaxis": {
            "backgroundcolor": "#E5ECF6",
            "gridcolor": "white",
            "gridwidth": 2,
            "linecolor": "white",
            "showbackground": true,
            "ticks": "",
            "zerolinecolor": "white"
           },
           "zaxis": {
            "backgroundcolor": "#E5ECF6",
            "gridcolor": "white",
            "gridwidth": 2,
            "linecolor": "white",
            "showbackground": true,
            "ticks": "",
            "zerolinecolor": "white"
           }
          },
          "shapedefaults": {
           "line": {
            "color": "#2a3f5f"
           }
          },
          "ternary": {
           "aaxis": {
            "gridcolor": "white",
            "linecolor": "white",
            "ticks": ""
           },
           "baxis": {
            "gridcolor": "white",
            "linecolor": "white",
            "ticks": ""
           },
           "bgcolor": "#E5ECF6",
           "caxis": {
            "gridcolor": "white",
            "linecolor": "white",
            "ticks": ""
           }
          },
          "title": {
           "x": 0.05
          },
          "xaxis": {
           "automargin": true,
           "gridcolor": "white",
           "linecolor": "white",
           "ticks": "",
           "title": {
            "standoff": 15
           },
           "zerolinecolor": "white",
           "zerolinewidth": 2
          },
          "yaxis": {
           "automargin": true,
           "gridcolor": "white",
           "linecolor": "white",
           "ticks": "",
           "title": {
            "standoff": 15
           },
           "zerolinecolor": "white",
           "zerolinewidth": 2
          }
         }
        },
        "title": {
         "text": "GW map area in O3 maps"
        },
        "width": 600,
        "xaxis": {
         "title": {
          "text": "Area (squ. deg.)"
         }
        },
        "yaxis": {
         "title": {
          "text": "Counts (relative)"
         }
        }
       }
      },
      "text/html": [
       "<div>                            <div id=\"bfc4f1b4-407a-46b4-96de-d0dd929a2d81\" class=\"plotly-graph-div\" style=\"height:525px; width:600px;\"></div>            <script type=\"text/javascript\">                require([\"plotly\"], function(Plotly) {                    window.PLOTLYENV=window.PLOTLYENV || {};                                    if (document.getElementById(\"bfc4f1b4-407a-46b4-96de-d0dd929a2d81\")) {                    Plotly.newPlot(                        \"bfc4f1b4-407a-46b4-96de-d0dd929a2d81\",                        [{\"histnorm\":\"probability\",\"nbinsx\":15,\"x\":[1932.3424784666472,1932.3424784666472,1932.3424784666472,1932.3424784666472,1932.3424784666472,1932.3424784666472,1932.3424784666472,1932.3424784666472,1932.3424784666472,1932.3424784666472,1932.3424784666472,1932.3424784666472,1932.3424784666472,1932.3424784666472,1932.3424784666472,1932.3424784666472,1932.3424784666472,1932.3424784666472,1932.3424784666472,1932.3424784666472,1932.3424784666472,1932.3424784666472,1932.3424784666472,1932.3424784666472,1932.3424784666472,1932.3424784666472,1932.3424784666472,1932.3424784666472,1932.3424784666472,1932.3424784666472,1932.3424784666472,1932.3424784666472,1932.3424784666472,1932.3424784666472,1932.3424784666472,1932.3424784666472,1932.3424784666472,1932.3424784666472,1932.3424784666472,1932.3424784666472,1932.3424784666472,1932.3424784666472,13612.92327850252,13612.92327850252,13612.92327850252,13612.92327850252,13612.92327850252,13612.92327850252,13612.92327850252,13612.92327850252,13612.92327850252,13612.92327850252,13612.92327850252,13612.92327850252,3829.067432864645,3829.067432864645,3829.067432864645,3829.067432864645,3829.067432864645,3829.067432864645,3829.067432864645,3829.067432864645,3829.067432864645,3829.067432864645,3829.067432864645,3829.067432864645,3829.067432864645,3829.067432864645,3829.067432864645,3829.067432864645,3829.067432864645,3829.067432864645,3829.067432864645,24226.211069020326,24226.211069020326,24226.211069020326,24226.211069020326,24226.211069020326,24226.211069020326,24226.211069020326,24226.211069020326,24226.211069020326,24226.211069020326,24226.211069020326,24226.211069020326,24226.211069020326,24226.211069020326,24226.211069020326,24226.211069020326,24226.211069020326,24226.211069020326,24226.211069020326,24226.211069020326,24226.211069020326,24226.211069020326,24226.211069020326,24226.211069020326,24226.211069020326,24226.211069020326,24226.211069020326,24226.211069020326,24226.211069020326,24226.211069020326,24226.211069020326,24226.211069020326,24226.211069020326,24226.211069020326,24226.211069020326,24226.211069020326,24226.211069020326,24226.211069020326,24226.211069020326,24226.211069020326,24226.211069020326,24226.211069020326,24226.211069020326,24226.211069020326,24226.211069020326,24226.211069020326,24226.211069020326,24226.211069020326,24226.211069020326,24226.211069020326,24226.211069020326,24226.211069020326,24226.211069020326,24226.211069020326,24226.211069020326,24226.211069020326,24226.211069020326,24226.211069020326,24226.211069020326,24226.211069020326,24226.211069020326,24226.211069020326,24226.211069020326,24226.211069020326,24226.211069020326,24226.211069020326,24226.211069020326,24226.211069020326,24226.211069020326,24226.211069020326,24226.211069020326,24226.211069020326,24226.211069020326,24226.211069020326,24226.211069020326,24226.211069020326,24226.211069020326,24226.211069020326,24226.211069020326,24226.211069020326,24226.211069020326,24226.211069020326,24226.211069020326,24226.211069020326,24226.211069020326,24226.211069020326,24226.211069020326,24226.211069020326,24226.211069020326,24226.211069020326,24226.211069020326,24226.211069020326,24226.211069020326,24226.211069020326,24226.211069020326,24226.211069020326,24226.211069020326,24226.211069020326,24226.211069020326,24226.211069020326,24226.211069020326,24226.211069020326,24226.211069020326,24226.211069020326,24226.211069020326,24226.211069020326,24226.211069020326,24226.211069020326,24226.211069020326,24226.211069020326,24226.211069020326,24226.211069020326,24226.211069020326,24226.211069020326,24226.211069020326,24226.211069020326,24226.211069020326,24226.211069020326,24226.211069020326,24226.211069020326,24226.211069020326,24226.211069020326,24226.211069020326,24226.211069020326,24226.211069020326,24226.211069020326,24226.211069020326,24226.211069020326,24226.211069020326,24226.211069020326,24226.211069020326,24226.211069020326,24226.211069020326,24226.211069020326,24226.211069020326,24226.211069020326,24226.211069020326,24226.211069020326,24226.211069020326,24226.211069020326,24226.211069020326,24226.211069020326,24226.211069020326,24226.211069020326,24226.211069020326,24226.211069020326,24226.211069020326,24226.211069020326,24226.211069020326,24226.211069020326,24226.211069020326,24226.211069020326,24226.211069020326,24226.211069020326,24226.211069020326,24226.211069020326,24226.211069020326,24226.211069020326,24226.211069020326,24226.211069020326,24226.211069020326,24226.211069020326,24226.211069020326,1997.8860665723569,1997.8860665723569,1997.8860665723569,1997.8860665723569,1997.8860665723569,1997.8860665723569,1997.8860665723569,1997.8860665723569,1997.8860665723569,1997.8860665723569,1997.8860665723569,1997.8860665723569,1997.8860665723569,1997.8860665723569,1997.8860665723569,1997.8860665723569,1997.8860665723569,1997.8860665723569,1997.8860665723569,1997.8860665723569,1997.8860665723569,1997.8860665723569,1997.8860665723569,1997.8860665723569,1997.8860665723569,1997.8860665723569,1997.8860665723569,1997.8860665723569,1997.8860665723569,1997.8860665723569,1997.8860665723569,1997.8860665723569,1997.8860665723569,1997.8860665723569,1997.8860665723569,1997.8860665723569,1997.8860665723569,1997.8860665723569,1997.8860665723569,1997.8860665723569,1997.8860665723569,1997.8860665723569,1997.8860665723569,24220.33601350385,24220.33601350385,24220.33601350385,24220.33601350385,24220.33601350385,24220.33601350385,24220.33601350385,24220.33601350385,24220.33601350385,24220.33601350385,24220.33601350385,24220.33601350385,24220.33601350385,24220.33601350385,24220.33601350385,24220.33601350385,24220.33601350385,24220.33601350385,24220.33601350385,24220.33601350385,24220.33601350385,24220.33601350385,24220.33601350385,24220.33601350385,24220.33601350385,24220.33601350385,24220.33601350385,24220.33601350385,24220.33601350385,24220.33601350385,24220.33601350385,24220.33601350385,24220.33601350385,24220.33601350385,24220.33601350385,24220.33601350385,24220.33601350385,24220.33601350385,24220.33601350385,24220.33601350385,24220.33601350385,24220.33601350385,24220.33601350385,24220.33601350385,24220.33601350385,24220.33601350385,24220.33601350385,24220.33601350385,24220.33601350385,24220.33601350385,24220.33601350385,24220.33601350385,24220.33601350385,24220.33601350385,24220.33601350385,24220.33601350385,24220.33601350385,24220.33601350385,24220.33601350385,24220.33601350385,24220.33601350385,24220.33601350385,24220.33601350385,24220.33601350385,24220.33601350385,24220.33601350385,24220.33601350385,24220.33601350385,24220.33601350385,24220.33601350385,24220.33601350385,24220.33601350385,24220.33601350385,24220.33601350385,24220.33601350385,24220.33601350385,24220.33601350385,24220.33601350385,24220.33601350385,24220.33601350385,24220.33601350385,24220.33601350385,24220.33601350385,24220.33601350385,24220.33601350385,24220.33601350385,24220.33601350385,24220.33601350385,24220.33601350385,24220.33601350385,24220.33601350385,24220.33601350385,24220.33601350385,24220.33601350385,24220.33601350385,24220.33601350385,24220.33601350385,24220.33601350385,24220.33601350385,24220.33601350385,24220.33601350385,24220.33601350385,24220.33601350385,24220.33601350385,24220.33601350385,24220.33601350385,24220.33601350385,24220.33601350385,24220.33601350385,24220.33601350385,24220.33601350385,24220.33601350385,24220.33601350385,24220.33601350385,24220.33601350385,24220.33601350385,24220.33601350385,24220.33601350385,24220.33601350385,24220.33601350385,24220.33601350385,24220.33601350385,24220.33601350385,24220.33601350385,24220.33601350385,24220.33601350385,24220.33601350385,24220.33601350385,24220.33601350385,24220.33601350385,24220.33601350385,24220.33601350385,24220.33601350385,24220.33601350385,24220.33601350385,24220.33601350385,24220.33601350385,24220.33601350385,24220.33601350385,24220.33601350385,24220.33601350385,24220.33601350385,24220.33601350385,24220.33601350385,24220.33601350385,24220.33601350385,24220.33601350385,24220.33601350385,24220.33601350385,24220.33601350385,24220.33601350385,24220.33601350385,24220.33601350385,24220.33601350385,24220.33601350385,24220.33601350385,24220.33601350385,24220.33601350385,24220.33601350385,24220.33601350385,24220.33601350385,24220.33601350385,24220.33601350385,24220.33601350385,24220.33601350385,24220.33601350385,24220.33601350385,24220.33601350385,24220.33601350385,24220.33601350385,24220.33601350385,24220.33601350385,24220.33601350385,24220.33601350385,24220.33601350385,24220.33601350385,24220.33601350385,24220.33601350385,24220.33601350385,24220.33601350385,24220.33601350385,24220.33601350385,24220.33601350385,24220.33601350385,24220.33601350385,24220.33601350385,24220.33601350385,24220.33601350385,24220.33601350385,24220.33601350385,24220.33601350385,1296.9840750785877,1296.9840750785877,1296.9840750785877,1296.9840750785877,1296.9840750785877,1296.9840750785877,1296.9840750785877,1296.9840750785877,1296.9840750785877,1296.9840750785877,1296.9840750785877,1296.9840750785877,1296.9840750785877,1296.9840750785877,1296.9840750785877,1296.9840750785877,1296.9840750785877,1296.9840750785877,1296.9840750785877,1296.9840750785877,1296.9840750785877,1296.9840750785877,1296.9840750785877,1296.9840750785877,1296.9840750785877,1296.9840750785877,1296.9840750785877,1296.9840750785877,1296.9840750785877,1487.3857068726643,1487.3857068726643,1487.3857068726643,1487.3857068726643,1487.3857068726643,1487.3857068726643,1487.3857068726643,1487.3857068726643,1487.3857068726643,1487.3857068726643,1487.3857068726643,1487.3857068726643,1487.3857068726643,1487.3857068726643,1487.3857068726643,1487.3857068726643,1487.3857068726643,1487.3857068726643,1487.3857068726643,1487.3857068726643,1487.3857068726643,1487.3857068726643,1487.3857068726643,1487.3857068726643,1487.3857068726643,1487.3857068726643,1487.3857068726643,1487.3857068726643,1487.3857068726643,1487.3857068726643,1487.3857068726643,1487.3857068726643,1487.3857068726643,1487.3857068726643,1487.3857068726643,1487.3857068726643,1487.3857068726643,1487.3857068726643,1487.3857068726643,1487.3857068726643,1487.3857068726643,1487.3857068726643,1487.3857068726643,1487.3857068726643,737.0768589986914,737.0768589986914,737.0768589986914,737.0768589986914,737.0768589986914,737.0768589986914,737.0768589986914,737.0768589986914,737.0768589986914,737.0768589986914,737.0768589986914,737.0768589986914,737.0768589986914,737.0768589986914,737.0768589986914,737.0768589986914,737.0768589986914,737.0768589986914,737.0768589986914,737.0768589986914,737.0768589986914,737.0768589986914,737.0768589986914,737.0768589986914,737.0768589986914,737.0768589986914,737.0768589986914,737.0768589986914,737.0768589986914,737.0768589986914,737.0768589986914,737.0768589986914,737.0768589986914,737.0768589986914,737.0768589986914,737.0768589986914,737.0768589986914,737.0768589986914,737.0768589986914,737.0768589986914,1154.1599017974186,1154.1599017974186,1154.1599017974186,1154.1599017974186,1154.1599017974186,10283.917490625254,10283.917490625254,10283.917490625254,10283.917490625254,10283.917490625254,10283.917490625254,10283.917490625254,10283.917490625254,10283.917490625254,10283.917490625254,10283.917490625254,10283.917490625254,10283.917490625254,10283.917490625254,10283.917490625254,10283.917490625254,10283.917490625254,10283.917490625254,10283.917490625254,10283.917490625254,10283.917490625254,10283.917490625254,10283.917490625254,10283.917490625254,10283.917490625254,922.8164768728842,7718.9836550071,7718.9836550071,7718.9836550071,7718.9836550071,7718.9836550071,7718.9836550071,7718.9836550071,7718.9836550071,7718.9836550071,7718.9836550071,7718.9836550071,7718.9836550071,7718.9836550071,7718.9836550071,7718.9836550071,7718.9836550071,7718.9836550071,7718.9836550071,7718.9836550071,7718.9836550071,7718.9836550071,7718.9836550071,851.7387962940635,6199.285142793807,6199.285142793807,6199.285142793807,6199.285142793807,6199.285142793807,6199.285142793807,6199.285142793807,6199.285142793807,6199.285142793807,6199.285142793807,6199.285142793807,6199.285142793807,6199.285142793807,6199.285142793807,6199.285142793807,6199.285142793807,6199.285142793807,6199.285142793807,6199.285142793807,6199.285142793807,6199.285142793807,6199.285142793807,6199.285142793807,6199.285142793807,6199.285142793807,6199.285142793807,6199.285142793807,6199.285142793807,6199.285142793807,6199.285142793807,6199.285142793807,6199.285142793807,6199.285142793807,6199.285142793807,6199.285142793807,6199.285142793807,6199.285142793807,6199.285142793807,6199.285142793807,765.1440187512411,765.1440187512411,765.1440187512411,220.3375313035425,220.3375313035425,220.3375313035425,220.3375313035425,220.3375313035425,220.3375313035425,220.3375313035425,2520.5037282747853,2520.5037282747853,2520.5037282747853,2520.5037282747853,2520.5037282747853,2520.5037282747853,2520.5037282747853,2586.886610025705,2586.886610025705,2586.886610025705,2586.886610025705,2586.886610025705,2586.886610025705,2586.886610025705,2586.886610025705,2586.886610025705,2586.886610025705,2586.886610025705,2586.886610025705,2586.886610025705,2586.886610025705,2586.886610025705,2586.886610025705,2586.886610025705,2586.886610025705,2586.886610025705,2586.886610025705,2586.886610025705,2586.886610025705,2586.886610025705,2586.886610025705,2586.886610025705,2586.886610025705,2586.886610025705,2586.886610025705,2586.886610025705,2586.886610025705,2586.886610025705,2586.886610025705,2586.886610025705,2586.886610025705,2586.886610025705,2586.886610025705,2586.886610025705,2586.886610025705,2586.886610025705,2586.886610025705,1250.7048989231157,1250.7048989231157,1250.7048989231157,1250.7048989231157,1250.7048989231157,1250.7048989231157,1250.7048989231157,1250.7048989231157,1250.7048989231157,1250.7048989231157,1250.7048989231157,1250.7048989231157,1250.7048989231157,1250.7048989231157,1250.7048989231157,1250.7048989231157,1250.7048989231157,1250.7048989231157,1250.7048989231157,1250.7048989231157,1250.7048989231157,1250.7048989231157,1250.7048989231157,1250.7048989231157,1250.7048989231157,668.3531348154236,668.3531348154236],\"type\":\"histogram\"}],                        {\"template\":{\"data\":{\"histogram2dcontour\":[{\"type\":\"histogram2dcontour\",\"colorbar\":{\"outlinewidth\":0,\"ticks\":\"\"},\"colorscale\":[[0.0,\"#0d0887\"],[0.1111111111111111,\"#46039f\"],[0.2222222222222222,\"#7201a8\"],[0.3333333333333333,\"#9c179e\"],[0.4444444444444444,\"#bd3786\"],[0.5555555555555556,\"#d8576b\"],[0.6666666666666666,\"#ed7953\"],[0.7777777777777778,\"#fb9f3a\"],[0.8888888888888888,\"#fdca26\"],[1.0,\"#f0f921\"]]}],\"choropleth\":[{\"type\":\"choropleth\",\"colorbar\":{\"outlinewidth\":0,\"ticks\":\"\"}}],\"histogram2d\":[{\"type\":\"histogram2d\",\"colorbar\":{\"outlinewidth\":0,\"ticks\":\"\"},\"colorscale\":[[0.0,\"#0d0887\"],[0.1111111111111111,\"#46039f\"],[0.2222222222222222,\"#7201a8\"],[0.3333333333333333,\"#9c179e\"],[0.4444444444444444,\"#bd3786\"],[0.5555555555555556,\"#d8576b\"],[0.6666666666666666,\"#ed7953\"],[0.7777777777777778,\"#fb9f3a\"],[0.8888888888888888,\"#fdca26\"],[1.0,\"#f0f921\"]]}],\"heatmap\":[{\"type\":\"heatmap\",\"colorbar\":{\"outlinewidth\":0,\"ticks\":\"\"},\"colorscale\":[[0.0,\"#0d0887\"],[0.1111111111111111,\"#46039f\"],[0.2222222222222222,\"#7201a8\"],[0.3333333333333333,\"#9c179e\"],[0.4444444444444444,\"#bd3786\"],[0.5555555555555556,\"#d8576b\"],[0.6666666666666666,\"#ed7953\"],[0.7777777777777778,\"#fb9f3a\"],[0.8888888888888888,\"#fdca26\"],[1.0,\"#f0f921\"]]}],\"heatmapgl\":[{\"type\":\"heatmapgl\",\"colorbar\":{\"outlinewidth\":0,\"ticks\":\"\"},\"colorscale\":[[0.0,\"#0d0887\"],[0.1111111111111111,\"#46039f\"],[0.2222222222222222,\"#7201a8\"],[0.3333333333333333,\"#9c179e\"],[0.4444444444444444,\"#bd3786\"],[0.5555555555555556,\"#d8576b\"],[0.6666666666666666,\"#ed7953\"],[0.7777777777777778,\"#fb9f3a\"],[0.8888888888888888,\"#fdca26\"],[1.0,\"#f0f921\"]]}],\"contourcarpet\":[{\"type\":\"contourcarpet\",\"colorbar\":{\"outlinewidth\":0,\"ticks\":\"\"}}],\"contour\":[{\"type\":\"contour\",\"colorbar\":{\"outlinewidth\":0,\"ticks\":\"\"},\"colorscale\":[[0.0,\"#0d0887\"],[0.1111111111111111,\"#46039f\"],[0.2222222222222222,\"#7201a8\"],[0.3333333333333333,\"#9c179e\"],[0.4444444444444444,\"#bd3786\"],[0.5555555555555556,\"#d8576b\"],[0.6666666666666666,\"#ed7953\"],[0.7777777777777778,\"#fb9f3a\"],[0.8888888888888888,\"#fdca26\"],[1.0,\"#f0f921\"]]}],\"surface\":[{\"type\":\"surface\",\"colorbar\":{\"outlinewidth\":0,\"ticks\":\"\"},\"colorscale\":[[0.0,\"#0d0887\"],[0.1111111111111111,\"#46039f\"],[0.2222222222222222,\"#7201a8\"],[0.3333333333333333,\"#9c179e\"],[0.4444444444444444,\"#bd3786\"],[0.5555555555555556,\"#d8576b\"],[0.6666666666666666,\"#ed7953\"],[0.7777777777777778,\"#fb9f3a\"],[0.8888888888888888,\"#fdca26\"],[1.0,\"#f0f921\"]]}],\"mesh3d\":[{\"type\":\"mesh3d\",\"colorbar\":{\"outlinewidth\":0,\"ticks\":\"\"}}],\"scatter\":[{\"fillpattern\":{\"fillmode\":\"overlay\",\"size\":10,\"solidity\":0.2},\"type\":\"scatter\"}],\"parcoords\":[{\"type\":\"parcoords\",\"line\":{\"colorbar\":{\"outlinewidth\":0,\"ticks\":\"\"}}}],\"scatterpolargl\":[{\"type\":\"scatterpolargl\",\"marker\":{\"colorbar\":{\"outlinewidth\":0,\"ticks\":\"\"}}}],\"bar\":[{\"error_x\":{\"color\":\"#2a3f5f\"},\"error_y\":{\"color\":\"#2a3f5f\"},\"marker\":{\"line\":{\"color\":\"#E5ECF6\",\"width\":0.5},\"pattern\":{\"fillmode\":\"overlay\",\"size\":10,\"solidity\":0.2}},\"type\":\"bar\"}],\"scattergeo\":[{\"type\":\"scattergeo\",\"marker\":{\"colorbar\":{\"outlinewidth\":0,\"ticks\":\"\"}}}],\"scatterpolar\":[{\"type\":\"scatterpolar\",\"marker\":{\"colorbar\":{\"outlinewidth\":0,\"ticks\":\"\"}}}],\"histogram\":[{\"marker\":{\"pattern\":{\"fillmode\":\"overlay\",\"size\":10,\"solidity\":0.2}},\"type\":\"histogram\"}],\"scattergl\":[{\"type\":\"scattergl\",\"marker\":{\"colorbar\":{\"outlinewidth\":0,\"ticks\":\"\"}}}],\"scatter3d\":[{\"type\":\"scatter3d\",\"line\":{\"colorbar\":{\"outlinewidth\":0,\"ticks\":\"\"}},\"marker\":{\"colorbar\":{\"outlinewidth\":0,\"ticks\":\"\"}}}],\"scattermapbox\":[{\"type\":\"scattermapbox\",\"marker\":{\"colorbar\":{\"outlinewidth\":0,\"ticks\":\"\"}}}],\"scatterternary\":[{\"type\":\"scatterternary\",\"marker\":{\"colorbar\":{\"outlinewidth\":0,\"ticks\":\"\"}}}],\"scattercarpet\":[{\"type\":\"scattercarpet\",\"marker\":{\"colorbar\":{\"outlinewidth\":0,\"ticks\":\"\"}}}],\"carpet\":[{\"aaxis\":{\"endlinecolor\":\"#2a3f5f\",\"gridcolor\":\"white\",\"linecolor\":\"white\",\"minorgridcolor\":\"white\",\"startlinecolor\":\"#2a3f5f\"},\"baxis\":{\"endlinecolor\":\"#2a3f5f\",\"gridcolor\":\"white\",\"linecolor\":\"white\",\"minorgridcolor\":\"white\",\"startlinecolor\":\"#2a3f5f\"},\"type\":\"carpet\"}],\"table\":[{\"cells\":{\"fill\":{\"color\":\"#EBF0F8\"},\"line\":{\"color\":\"white\"}},\"header\":{\"fill\":{\"color\":\"#C8D4E3\"},\"line\":{\"color\":\"white\"}},\"type\":\"table\"}],\"barpolar\":[{\"marker\":{\"line\":{\"color\":\"#E5ECF6\",\"width\":0.5},\"pattern\":{\"fillmode\":\"overlay\",\"size\":10,\"solidity\":0.2}},\"type\":\"barpolar\"}],\"pie\":[{\"automargin\":true,\"type\":\"pie\"}]},\"layout\":{\"autotypenumbers\":\"strict\",\"colorway\":[\"#636efa\",\"#EF553B\",\"#00cc96\",\"#ab63fa\",\"#FFA15A\",\"#19d3f3\",\"#FF6692\",\"#B6E880\",\"#FF97FF\",\"#FECB52\"],\"font\":{\"color\":\"#2a3f5f\"},\"hovermode\":\"closest\",\"hoverlabel\":{\"align\":\"left\"},\"paper_bgcolor\":\"white\",\"plot_bgcolor\":\"#E5ECF6\",\"polar\":{\"bgcolor\":\"#E5ECF6\",\"angularaxis\":{\"gridcolor\":\"white\",\"linecolor\":\"white\",\"ticks\":\"\"},\"radialaxis\":{\"gridcolor\":\"white\",\"linecolor\":\"white\",\"ticks\":\"\"}},\"ternary\":{\"bgcolor\":\"#E5ECF6\",\"aaxis\":{\"gridcolor\":\"white\",\"linecolor\":\"white\",\"ticks\":\"\"},\"baxis\":{\"gridcolor\":\"white\",\"linecolor\":\"white\",\"ticks\":\"\"},\"caxis\":{\"gridcolor\":\"white\",\"linecolor\":\"white\",\"ticks\":\"\"}},\"coloraxis\":{\"colorbar\":{\"outlinewidth\":0,\"ticks\":\"\"}},\"colorscale\":{\"sequential\":[[0.0,\"#0d0887\"],[0.1111111111111111,\"#46039f\"],[0.2222222222222222,\"#7201a8\"],[0.3333333333333333,\"#9c179e\"],[0.4444444444444444,\"#bd3786\"],[0.5555555555555556,\"#d8576b\"],[0.6666666666666666,\"#ed7953\"],[0.7777777777777778,\"#fb9f3a\"],[0.8888888888888888,\"#fdca26\"],[1.0,\"#f0f921\"]],\"sequentialminus\":[[0.0,\"#0d0887\"],[0.1111111111111111,\"#46039f\"],[0.2222222222222222,\"#7201a8\"],[0.3333333333333333,\"#9c179e\"],[0.4444444444444444,\"#bd3786\"],[0.5555555555555556,\"#d8576b\"],[0.6666666666666666,\"#ed7953\"],[0.7777777777777778,\"#fb9f3a\"],[0.8888888888888888,\"#fdca26\"],[1.0,\"#f0f921\"]],\"diverging\":[[0,\"#8e0152\"],[0.1,\"#c51b7d\"],[0.2,\"#de77ae\"],[0.3,\"#f1b6da\"],[0.4,\"#fde0ef\"],[0.5,\"#f7f7f7\"],[0.6,\"#e6f5d0\"],[0.7,\"#b8e186\"],[0.8,\"#7fbc41\"],[0.9,\"#4d9221\"],[1,\"#276419\"]]},\"xaxis\":{\"gridcolor\":\"white\",\"linecolor\":\"white\",\"ticks\":\"\",\"title\":{\"standoff\":15},\"zerolinecolor\":\"white\",\"automargin\":true,\"zerolinewidth\":2},\"yaxis\":{\"gridcolor\":\"white\",\"linecolor\":\"white\",\"ticks\":\"\",\"title\":{\"standoff\":15},\"zerolinecolor\":\"white\",\"automargin\":true,\"zerolinewidth\":2},\"scene\":{\"xaxis\":{\"backgroundcolor\":\"#E5ECF6\",\"gridcolor\":\"white\",\"linecolor\":\"white\",\"showbackground\":true,\"ticks\":\"\",\"zerolinecolor\":\"white\",\"gridwidth\":2},\"yaxis\":{\"backgroundcolor\":\"#E5ECF6\",\"gridcolor\":\"white\",\"linecolor\":\"white\",\"showbackground\":true,\"ticks\":\"\",\"zerolinecolor\":\"white\",\"gridwidth\":2},\"zaxis\":{\"backgroundcolor\":\"#E5ECF6\",\"gridcolor\":\"white\",\"linecolor\":\"white\",\"showbackground\":true,\"ticks\":\"\",\"zerolinecolor\":\"white\",\"gridwidth\":2}},\"shapedefaults\":{\"line\":{\"color\":\"#2a3f5f\"}},\"annotationdefaults\":{\"arrowcolor\":\"#2a3f5f\",\"arrowhead\":0,\"arrowwidth\":1},\"geo\":{\"bgcolor\":\"white\",\"landcolor\":\"#E5ECF6\",\"subunitcolor\":\"white\",\"showland\":true,\"showlakes\":true,\"lakecolor\":\"white\"},\"title\":{\"x\":0.05},\"mapbox\":{\"style\":\"light\"}}},\"width\":600,\"title\":{\"text\":\"GW map area in O3 maps\"},\"xaxis\":{\"title\":{\"text\":\"Area (squ. deg.)\"}},\"yaxis\":{\"title\":{\"text\":\"Counts (relative)\"}}},                        {\"responsive\": true}                    ).then(function(){\n",
       "                            \n",
       "var gd = document.getElementById('bfc4f1b4-407a-46b4-96de-d0dd929a2d81');\n",
       "var x = new MutationObserver(function (mutations, observer) {{\n",
       "        var display = window.getComputedStyle(gd).display;\n",
       "        if (!display || display === 'none') {{\n",
       "            console.log([gd, 'removed!']);\n",
       "            Plotly.purge(gd);\n",
       "            observer.disconnect();\n",
       "        }}\n",
       "}});\n",
       "\n",
       "// Listen for the removal of the full notebook cells\n",
       "var notebookContainer = gd.closest('#notebook-container');\n",
       "if (notebookContainer) {{\n",
       "    x.observe(notebookContainer, {childList: true});\n",
       "}}\n",
       "\n",
       "// Listen for the clearing of the current output cell\n",
       "var outputEl = gd.closest('.output');\n",
       "if (outputEl) {{\n",
       "    x.observe(outputEl, {childList: true});\n",
       "}}\n",
       "\n",
       "                        })                };                });            </script>        </div>"
      ]
     },
     "metadata": {},
     "output_type": "display_data"
    },
    {
     "name": "stdout",
     "output_type": "stream",
     "text": [
      "760\n"
     ]
    }
   ],
   "source": [
    "fig = go.Figure()\n",
    "\n",
    "fig.add_trace(go.Histogram(x=all_data[\"map_area\"], histnorm='probability', nbinsx=15))\n",
    "fig.update_layout({\"width\": 600,\n",
    "                   \"title\": \"GW map area in O3 maps\",\n",
    "                   \"xaxis_title\": \"Area (squ. deg.)\",\n",
    "                   \"yaxis_title\": \"Counts (relative)\"})\n",
    "fig.show()\n",
    "figname = os.path.join(save_dir, \"map_area.pdf\")\n",
    "fig.write_image(figname)\n",
    "print(len(all_data))"
   ]
  },
  {
   "cell_type": "code",
   "execution_count": 14,
   "metadata": {},
   "outputs": [
    {
     "data": {
      "application/vnd.plotly.v1+json": {
       "config": {
        "plotlyServerURL": "https://plot.ly"
       },
       "data": [
        {
         "mode": "markers",
         "type": "scatter",
         "x": [
          422.713674554723,
          422.713674554723,
          422.713674554723,
          422.713674554723,
          422.713674554723,
          422.713674554723,
          422.713674554723,
          422.713674554723,
          422.713674554723,
          422.713674554723,
          422.713674554723,
          422.713674554723,
          422.713674554723,
          422.713674554723,
          422.713674554723,
          422.713674554723,
          422.713674554723,
          422.713674554723,
          422.713674554723,
          422.713674554723,
          422.713674554723,
          422.713674554723,
          422.713674554723,
          422.713674554723,
          422.713674554723,
          422.713674554723,
          422.713674554723,
          422.713674554723,
          422.713674554723,
          422.713674554723,
          422.713674554723,
          422.713674554723,
          422.713674554723,
          422.713674554723,
          422.713674554723,
          422.713674554723,
          422.713674554723,
          422.713674554723,
          422.713674554723,
          422.713674554723,
          422.713674554723,
          422.713674554723,
          242.2036530453888,
          242.2036530453888,
          242.2036530453888,
          242.2036530453888,
          242.2036530453888,
          242.2036530453888,
          242.2036530453888,
          242.2036530453888,
          242.2036530453888,
          242.2036530453888,
          242.2036530453888,
          242.2036530453888,
          606.3435871805949,
          606.3435871805949,
          606.3435871805949,
          606.3435871805949,
          606.3435871805949,
          606.3435871805949,
          606.3435871805949,
          606.3435871805949,
          606.3435871805949,
          606.3435871805949,
          606.3435871805949,
          606.3435871805949,
          606.3435871805949,
          606.3435871805949,
          606.3435871805949,
          606.3435871805949,
          606.3435871805949,
          606.3435871805949,
          606.3435871805949,
          241.4503833921153,
          241.4503833921153,
          241.4503833921153,
          241.4503833921153,
          241.4503833921153,
          241.4503833921153,
          241.4503833921153,
          241.4503833921153,
          241.4503833921153,
          241.4503833921153,
          241.4503833921153,
          241.4503833921153,
          241.4503833921153,
          241.4503833921153,
          241.4503833921153,
          241.4503833921153,
          241.4503833921153,
          241.4503833921153,
          241.4503833921153,
          241.4503833921153,
          241.4503833921153,
          241.4503833921153,
          241.4503833921153,
          241.4503833921153,
          241.4503833921153,
          241.4503833921153,
          241.4503833921153,
          241.4503833921153,
          241.4503833921153,
          241.4503833921153,
          241.4503833921153,
          241.4503833921153,
          241.4503833921153,
          241.4503833921153,
          241.4503833921153,
          241.4503833921153,
          241.4503833921153,
          241.4503833921153,
          241.4503833921153,
          241.4503833921153,
          241.4503833921153,
          241.4503833921153,
          241.4503833921153,
          241.4503833921153,
          241.4503833921153,
          241.4503833921153,
          241.4503833921153,
          241.4503833921153,
          241.4503833921153,
          241.4503833921153,
          241.4503833921153,
          241.4503833921153,
          241.4503833921153,
          241.4503833921153,
          241.4503833921153,
          241.4503833921153,
          241.4503833921153,
          241.4503833921153,
          241.4503833921153,
          241.4503833921153,
          241.4503833921153,
          241.4503833921153,
          241.4503833921153,
          241.4503833921153,
          241.4503833921153,
          241.4503833921153,
          241.4503833921153,
          241.4503833921153,
          241.4503833921153,
          241.4503833921153,
          241.4503833921153,
          241.4503833921153,
          241.4503833921153,
          241.4503833921153,
          241.4503833921153,
          241.4503833921153,
          241.4503833921153,
          241.4503833921153,
          241.4503833921153,
          241.4503833921153,
          241.4503833921153,
          241.4503833921153,
          241.4503833921153,
          241.4503833921153,
          241.4503833921153,
          241.4503833921153,
          241.4503833921153,
          241.4503833921153,
          241.4503833921153,
          241.4503833921153,
          241.4503833921153,
          241.4503833921153,
          241.4503833921153,
          241.4503833921153,
          241.4503833921153,
          241.4503833921153,
          241.4503833921153,
          241.4503833921153,
          241.4503833921153,
          241.4503833921153,
          241.4503833921153,
          241.4503833921153,
          241.4503833921153,
          241.4503833921153,
          241.4503833921153,
          241.4503833921153,
          241.4503833921153,
          241.4503833921153,
          241.4503833921153,
          241.4503833921153,
          241.4503833921153,
          241.4503833921153,
          241.4503833921153,
          241.4503833921153,
          241.4503833921153,
          241.4503833921153,
          241.4503833921153,
          241.4503833921153,
          241.4503833921153,
          241.4503833921153,
          241.4503833921153,
          241.4503833921153,
          241.4503833921153,
          241.4503833921153,
          241.4503833921153,
          241.4503833921153,
          241.4503833921153,
          241.4503833921153,
          241.4503833921153,
          241.4503833921153,
          241.4503833921153,
          241.4503833921153,
          241.4503833921153,
          241.4503833921153,
          241.4503833921153,
          241.4503833921153,
          241.4503833921153,
          241.4503833921153,
          241.4503833921153,
          241.4503833921153,
          241.4503833921153,
          241.4503833921153,
          241.4503833921153,
          241.4503833921153,
          241.4503833921153,
          241.4503833921153,
          241.4503833921153,
          241.4503833921153,
          241.4503833921153,
          241.4503833921153,
          241.4503833921153,
          241.4503833921153,
          241.4503833921153,
          241.4503833921153,
          241.4503833921153,
          241.4503833921153,
          241.4503833921153,
          241.4503833921153,
          241.4503833921153,
          241.4503833921153,
          241.4503833921153,
          241.4503833921153,
          241.4503833921153,
          752.3721249388491,
          752.3721249388491,
          752.3721249388491,
          752.3721249388491,
          752.3721249388491,
          752.3721249388491,
          752.3721249388491,
          752.3721249388491,
          752.3721249388491,
          752.3721249388491,
          752.3721249388491,
          752.3721249388491,
          752.3721249388491,
          752.3721249388491,
          752.3721249388491,
          752.3721249388491,
          752.3721249388491,
          752.3721249388491,
          752.3721249388491,
          752.3721249388491,
          752.3721249388491,
          752.3721249388491,
          752.3721249388491,
          752.3721249388491,
          752.3721249388491,
          752.3721249388491,
          752.3721249388491,
          752.3721249388491,
          752.3721249388491,
          752.3721249388491,
          752.3721249388491,
          752.3721249388491,
          752.3721249388491,
          752.3721249388491,
          752.3721249388491,
          752.3721249388491,
          752.3721249388491,
          752.3721249388491,
          752.3721249388491,
          752.3721249388491,
          752.3721249388491,
          752.3721249388491,
          752.3721249388491,
          108.485191060567,
          108.485191060567,
          108.485191060567,
          108.485191060567,
          108.485191060567,
          108.485191060567,
          108.485191060567,
          108.485191060567,
          108.485191060567,
          108.485191060567,
          108.485191060567,
          108.485191060567,
          108.485191060567,
          108.485191060567,
          108.485191060567,
          108.485191060567,
          108.485191060567,
          108.485191060567,
          108.485191060567,
          108.485191060567,
          108.485191060567,
          108.485191060567,
          108.485191060567,
          108.485191060567,
          108.485191060567,
          108.485191060567,
          108.485191060567,
          108.485191060567,
          108.485191060567,
          108.485191060567,
          108.485191060567,
          108.485191060567,
          108.485191060567,
          108.485191060567,
          108.485191060567,
          108.485191060567,
          108.485191060567,
          108.485191060567,
          108.485191060567,
          108.485191060567,
          108.485191060567,
          108.485191060567,
          108.485191060567,
          108.485191060567,
          108.485191060567,
          108.485191060567,
          108.485191060567,
          108.485191060567,
          108.485191060567,
          108.485191060567,
          108.485191060567,
          108.485191060567,
          108.485191060567,
          108.485191060567,
          108.485191060567,
          108.485191060567,
          108.485191060567,
          108.485191060567,
          108.485191060567,
          108.485191060567,
          108.485191060567,
          108.485191060567,
          108.485191060567,
          108.485191060567,
          108.485191060567,
          108.485191060567,
          108.485191060567,
          108.485191060567,
          108.485191060567,
          108.485191060567,
          108.485191060567,
          108.485191060567,
          108.485191060567,
          108.485191060567,
          108.485191060567,
          108.485191060567,
          108.485191060567,
          108.485191060567,
          108.485191060567,
          108.485191060567,
          108.485191060567,
          108.485191060567,
          108.485191060567,
          108.485191060567,
          108.485191060567,
          108.485191060567,
          108.485191060567,
          108.485191060567,
          108.485191060567,
          108.485191060567,
          108.485191060567,
          108.485191060567,
          108.485191060567,
          108.485191060567,
          108.485191060567,
          108.485191060567,
          108.485191060567,
          108.485191060567,
          108.485191060567,
          108.485191060567,
          108.485191060567,
          108.485191060567,
          108.485191060567,
          108.485191060567,
          108.485191060567,
          108.485191060567,
          108.485191060567,
          108.485191060567,
          108.485191060567,
          108.485191060567,
          108.485191060567,
          108.485191060567,
          108.485191060567,
          108.485191060567,
          108.485191060567,
          108.485191060567,
          108.485191060567,
          108.485191060567,
          108.485191060567,
          108.485191060567,
          108.485191060567,
          108.485191060567,
          108.485191060567,
          108.485191060567,
          108.485191060567,
          108.485191060567,
          108.485191060567,
          108.485191060567,
          108.485191060567,
          108.485191060567,
          108.485191060567,
          108.485191060567,
          108.485191060567,
          108.485191060567,
          108.485191060567,
          108.485191060567,
          108.485191060567,
          108.485191060567,
          108.485191060567,
          108.485191060567,
          108.485191060567,
          108.485191060567,
          108.485191060567,
          108.485191060567,
          108.485191060567,
          108.485191060567,
          108.485191060567,
          108.485191060567,
          108.485191060567,
          108.485191060567,
          108.485191060567,
          108.485191060567,
          108.485191060567,
          108.485191060567,
          108.485191060567,
          108.485191060567,
          108.485191060567,
          108.485191060567,
          108.485191060567,
          108.485191060567,
          108.485191060567,
          108.485191060567,
          108.485191060567,
          108.485191060567,
          108.485191060567,
          108.485191060567,
          108.485191060567,
          108.485191060567,
          108.485191060567,
          108.485191060567,
          108.485191060567,
          108.485191060567,
          108.485191060567,
          108.485191060567,
          108.485191060567,
          108.485191060567,
          108.485191060567,
          108.485191060567,
          108.485191060567,
          108.485191060567,
          108.485191060567,
          108.485191060567,
          108.485191060567,
          108.485191060567,
          108.485191060567,
          108.485191060567,
          108.485191060567,
          108.485191060567,
          108.485191060567,
          108.485191060567,
          108.485191060567,
          1167.541422964793,
          1167.541422964793,
          1167.541422964793,
          1167.541422964793,
          1167.541422964793,
          1167.541422964793,
          1167.541422964793,
          1167.541422964793,
          1167.541422964793,
          1167.541422964793,
          1167.541422964793,
          1167.541422964793,
          1167.541422964793,
          1167.541422964793,
          1167.541422964793,
          1167.541422964793,
          1167.541422964793,
          1167.541422964793,
          1167.541422964793,
          1167.541422964793,
          1167.541422964793,
          1167.541422964793,
          1167.541422964793,
          1167.541422964793,
          1167.541422964793,
          1167.541422964793,
          1167.541422964793,
          1167.541422964793,
          1167.541422964793,
          1810.148665494627,
          1810.148665494627,
          1810.148665494627,
          1810.148665494627,
          1810.148665494627,
          1810.148665494627,
          1810.148665494627,
          1810.148665494627,
          1810.148665494627,
          1810.148665494627,
          1810.148665494627,
          1810.148665494627,
          1810.148665494627,
          1810.148665494627,
          1810.148665494627,
          1810.148665494627,
          1810.148665494627,
          1810.148665494627,
          1810.148665494627,
          1810.148665494627,
          1810.148665494627,
          1810.148665494627,
          1810.148665494627,
          1810.148665494627,
          1810.148665494627,
          1810.148665494627,
          1810.148665494627,
          1810.148665494627,
          1810.148665494627,
          1810.148665494627,
          1810.148665494627,
          1810.148665494627,
          1810.148665494627,
          1810.148665494627,
          1810.148665494627,
          1810.148665494627,
          1810.148665494627,
          1810.148665494627,
          1810.148665494627,
          1810.148665494627,
          1810.148665494627,
          1810.148665494627,
          1810.148665494627,
          1810.148665494627,
          203.9768858755638,
          203.9768858755638,
          203.9768858755638,
          203.9768858755638,
          203.9768858755638,
          203.9768858755638,
          203.9768858755638,
          203.9768858755638,
          203.9768858755638,
          203.9768858755638,
          203.9768858755638,
          203.9768858755638,
          203.9768858755638,
          203.9768858755638,
          203.9768858755638,
          203.9768858755638,
          203.9768858755638,
          203.9768858755638,
          203.9768858755638,
          203.9768858755638,
          203.9768858755638,
          203.9768858755638,
          203.9768858755638,
          203.9768858755638,
          203.9768858755638,
          203.9768858755638,
          203.9768858755638,
          203.9768858755638,
          203.9768858755638,
          203.9768858755638,
          203.9768858755638,
          203.9768858755638,
          203.9768858755638,
          203.9768858755638,
          203.9768858755638,
          203.9768858755638,
          203.9768858755638,
          203.9768858755638,
          203.9768858755638,
          203.9768858755638,
          94.85590855664248,
          94.85590855664248,
          94.85590855664248,
          94.85590855664248,
          94.85590855664248,
          258.0395401364863,
          258.0395401364863,
          258.0395401364863,
          258.0395401364863,
          258.0395401364863,
          258.0395401364863,
          258.0395401364863,
          258.0395401364863,
          258.0395401364863,
          258.0395401364863,
          258.0395401364863,
          258.0395401364863,
          258.0395401364863,
          258.0395401364863,
          258.0395401364863,
          258.0395401364863,
          258.0395401364863,
          258.0395401364863,
          258.0395401364863,
          258.0395401364863,
          258.0395401364863,
          258.0395401364863,
          258.0395401364863,
          258.0395401364863,
          258.0395401364863,
          2215.518605780816,
          265.0966291797101,
          265.0966291797101,
          265.0966291797101,
          265.0966291797101,
          265.0966291797101,
          265.0966291797101,
          265.0966291797101,
          265.0966291797101,
          265.0966291797101,
          265.0966291797101,
          265.0966291797101,
          265.0966291797101,
          265.0966291797101,
          265.0966291797101,
          265.0966291797101,
          265.0966291797101,
          265.0966291797101,
          265.0966291797101,
          265.0966291797101,
          265.0966291797101,
          265.0966291797101,
          265.0966291797101,
          408.5994026531808,
          1136.255139536576,
          1136.255139536576,
          1136.255139536576,
          1136.255139536576,
          1136.255139536576,
          1136.255139536576,
          1136.255139536576,
          1136.255139536576,
          1136.255139536576,
          1136.255139536576,
          1136.255139536576,
          1136.255139536576,
          1136.255139536576,
          1136.255139536576,
          1136.255139536576,
          1136.255139536576,
          1136.255139536576,
          1136.255139536576,
          1136.255139536576,
          1136.255139536576,
          1136.255139536576,
          1136.255139536576,
          1136.255139536576,
          1136.255139536576,
          1136.255139536576,
          1136.255139536576,
          1136.255139536576,
          1136.255139536576,
          1136.255139536576,
          1136.255139536576,
          1136.255139536576,
          1136.255139536576,
          1136.255139536576,
          1136.255139536576,
          1136.255139536576,
          1136.255139536576,
          1136.255139536576,
          1136.255139536576,
          1136.255139536576,
          340.2238301469039,
          340.2238301469039,
          340.2238301469039,
          30.94304738717872,
          30.94304738717872,
          30.94304738717872,
          30.94304738717872,
          30.94304738717872,
          30.94304738717872,
          30.94304738717872,
          4031.106685175951,
          4031.106685175951,
          4031.106685175951,
          4031.106685175951,
          4031.106685175951,
          4031.106685175951,
          4031.106685175951,
          223.5491691009208,
          223.5491691009208,
          223.5491691009208,
          223.5491691009208,
          223.5491691009208,
          223.5491691009208,
          223.5491691009208,
          223.5491691009208,
          223.5491691009208,
          223.5491691009208,
          223.5491691009208,
          223.5491691009208,
          223.5491691009208,
          223.5491691009208,
          223.5491691009208,
          223.5491691009208,
          223.5491691009208,
          223.5491691009208,
          223.5491691009208,
          223.5491691009208,
          223.5491691009208,
          223.5491691009208,
          223.5491691009208,
          223.5491691009208,
          223.5491691009208,
          223.5491691009208,
          223.5491691009208,
          223.5491691009208,
          223.5491691009208,
          223.5491691009208,
          223.5491691009208,
          223.5491691009208,
          223.5491691009208,
          223.5491691009208,
          223.5491691009208,
          223.5491691009208,
          223.5491691009208,
          223.5491691009208,
          223.5491691009208,
          223.5491691009208,
          1510.201949004476,
          1510.201949004476,
          1510.201949004476,
          1510.201949004476,
          1510.201949004476,
          1510.201949004476,
          1510.201949004476,
          1510.201949004476,
          1510.201949004476,
          1510.201949004476,
          1510.201949004476,
          1510.201949004476,
          1510.201949004476,
          1510.201949004476,
          1510.201949004476,
          1510.201949004476,
          1510.201949004476,
          1510.201949004476,
          1510.201949004476,
          1510.201949004476,
          1510.201949004476,
          1510.201949004476,
          1510.201949004476,
          1510.201949004476,
          1510.201949004476,
          1233.503493389387,
          1233.503493389387
         ],
         "y": [
          127.8069820109394,
          127.8069820109394,
          127.8069820109394,
          127.8069820109394,
          127.8069820109394,
          127.8069820109394,
          127.8069820109394,
          127.8069820109394,
          127.8069820109394,
          127.8069820109394,
          127.8069820109394,
          127.8069820109394,
          127.8069820109394,
          127.8069820109394,
          127.8069820109394,
          127.8069820109394,
          127.8069820109394,
          127.8069820109394,
          127.8069820109394,
          127.8069820109394,
          127.8069820109394,
          127.8069820109394,
          127.8069820109394,
          127.8069820109394,
          127.8069820109394,
          127.8069820109394,
          127.8069820109394,
          127.8069820109394,
          127.8069820109394,
          127.8069820109394,
          127.8069820109394,
          127.8069820109394,
          127.8069820109394,
          127.8069820109394,
          127.8069820109394,
          127.8069820109394,
          127.8069820109394,
          127.8069820109394,
          127.8069820109394,
          127.8069820109394,
          127.8069820109394,
          127.8069820109394,
          81.005097759311,
          81.005097759311,
          81.005097759311,
          81.005097759311,
          81.005097759311,
          81.005097759311,
          81.005097759311,
          81.005097759311,
          81.005097759311,
          81.005097759311,
          81.005097759311,
          81.005097759311,
          196.8015001289417,
          196.8015001289417,
          196.8015001289417,
          196.8015001289417,
          196.8015001289417,
          196.8015001289417,
          196.8015001289417,
          196.8015001289417,
          196.8015001289417,
          196.8015001289417,
          196.8015001289417,
          196.8015001289417,
          196.8015001289417,
          196.8015001289417,
          196.8015001289417,
          196.8015001289417,
          196.8015001289417,
          196.8015001289417,
          196.8015001289417,
          88.84046927803388,
          88.84046927803388,
          88.84046927803388,
          88.84046927803388,
          88.84046927803388,
          88.84046927803388,
          88.84046927803388,
          88.84046927803388,
          88.84046927803388,
          88.84046927803388,
          88.84046927803388,
          88.84046927803388,
          88.84046927803388,
          88.84046927803388,
          88.84046927803388,
          88.84046927803388,
          88.84046927803388,
          88.84046927803388,
          88.84046927803388,
          88.84046927803388,
          88.84046927803388,
          88.84046927803388,
          88.84046927803388,
          88.84046927803388,
          88.84046927803388,
          88.84046927803388,
          88.84046927803388,
          88.84046927803388,
          88.84046927803388,
          88.84046927803388,
          88.84046927803388,
          88.84046927803388,
          88.84046927803388,
          88.84046927803388,
          88.84046927803388,
          88.84046927803388,
          88.84046927803388,
          88.84046927803388,
          88.84046927803388,
          88.84046927803388,
          88.84046927803388,
          88.84046927803388,
          88.84046927803388,
          88.84046927803388,
          88.84046927803388,
          88.84046927803388,
          88.84046927803388,
          88.84046927803388,
          88.84046927803388,
          88.84046927803388,
          88.84046927803388,
          88.84046927803388,
          88.84046927803388,
          88.84046927803388,
          88.84046927803388,
          88.84046927803388,
          88.84046927803388,
          88.84046927803388,
          88.84046927803388,
          88.84046927803388,
          88.84046927803388,
          88.84046927803388,
          88.84046927803388,
          88.84046927803388,
          88.84046927803388,
          88.84046927803388,
          88.84046927803388,
          88.84046927803388,
          88.84046927803388,
          88.84046927803388,
          88.84046927803388,
          88.84046927803388,
          88.84046927803388,
          88.84046927803388,
          88.84046927803388,
          88.84046927803388,
          88.84046927803388,
          88.84046927803388,
          88.84046927803388,
          88.84046927803388,
          88.84046927803388,
          88.84046927803388,
          88.84046927803388,
          88.84046927803388,
          88.84046927803388,
          88.84046927803388,
          88.84046927803388,
          88.84046927803388,
          88.84046927803388,
          88.84046927803388,
          88.84046927803388,
          88.84046927803388,
          88.84046927803388,
          88.84046927803388,
          88.84046927803388,
          88.84046927803388,
          88.84046927803388,
          88.84046927803388,
          88.84046927803388,
          88.84046927803388,
          88.84046927803388,
          88.84046927803388,
          88.84046927803388,
          88.84046927803388,
          88.84046927803388,
          88.84046927803388,
          88.84046927803388,
          88.84046927803388,
          88.84046927803388,
          88.84046927803388,
          88.84046927803388,
          88.84046927803388,
          88.84046927803388,
          88.84046927803388,
          88.84046927803388,
          88.84046927803388,
          88.84046927803388,
          88.84046927803388,
          88.84046927803388,
          88.84046927803388,
          88.84046927803388,
          88.84046927803388,
          88.84046927803388,
          88.84046927803388,
          88.84046927803388,
          88.84046927803388,
          88.84046927803388,
          88.84046927803388,
          88.84046927803388,
          88.84046927803388,
          88.84046927803388,
          88.84046927803388,
          88.84046927803388,
          88.84046927803388,
          88.84046927803388,
          88.84046927803388,
          88.84046927803388,
          88.84046927803388,
          88.84046927803388,
          88.84046927803388,
          88.84046927803388,
          88.84046927803388,
          88.84046927803388,
          88.84046927803388,
          88.84046927803388,
          88.84046927803388,
          88.84046927803388,
          88.84046927803388,
          88.84046927803388,
          88.84046927803388,
          88.84046927803388,
          88.84046927803388,
          88.84046927803388,
          88.84046927803388,
          88.84046927803388,
          88.84046927803388,
          88.84046927803388,
          88.84046927803388,
          88.84046927803388,
          88.84046927803388,
          88.84046927803388,
          88.84046927803388,
          88.84046927803388,
          223.6055842915501,
          223.6055842915501,
          223.6055842915501,
          223.6055842915501,
          223.6055842915501,
          223.6055842915501,
          223.6055842915501,
          223.6055842915501,
          223.6055842915501,
          223.6055842915501,
          223.6055842915501,
          223.6055842915501,
          223.6055842915501,
          223.6055842915501,
          223.6055842915501,
          223.6055842915501,
          223.6055842915501,
          223.6055842915501,
          223.6055842915501,
          223.6055842915501,
          223.6055842915501,
          223.6055842915501,
          223.6055842915501,
          223.6055842915501,
          223.6055842915501,
          223.6055842915501,
          223.6055842915501,
          223.6055842915501,
          223.6055842915501,
          223.6055842915501,
          223.6055842915501,
          223.6055842915501,
          223.6055842915501,
          223.6055842915501,
          223.6055842915501,
          223.6055842915501,
          223.6055842915501,
          223.6055842915501,
          223.6055842915501,
          223.6055842915501,
          223.6055842915501,
          223.6055842915501,
          223.6055842915501,
          37.66947666107399,
          37.66947666107399,
          37.66947666107399,
          37.66947666107399,
          37.66947666107399,
          37.66947666107399,
          37.66947666107399,
          37.66947666107399,
          37.66947666107399,
          37.66947666107399,
          37.66947666107399,
          37.66947666107399,
          37.66947666107399,
          37.66947666107399,
          37.66947666107399,
          37.66947666107399,
          37.66947666107399,
          37.66947666107399,
          37.66947666107399,
          37.66947666107399,
          37.66947666107399,
          37.66947666107399,
          37.66947666107399,
          37.66947666107399,
          37.66947666107399,
          37.66947666107399,
          37.66947666107399,
          37.66947666107399,
          37.66947666107399,
          37.66947666107399,
          37.66947666107399,
          37.66947666107399,
          37.66947666107399,
          37.66947666107399,
          37.66947666107399,
          37.66947666107399,
          37.66947666107399,
          37.66947666107399,
          37.66947666107399,
          37.66947666107399,
          37.66947666107399,
          37.66947666107399,
          37.66947666107399,
          37.66947666107399,
          37.66947666107399,
          37.66947666107399,
          37.66947666107399,
          37.66947666107399,
          37.66947666107399,
          37.66947666107399,
          37.66947666107399,
          37.66947666107399,
          37.66947666107399,
          37.66947666107399,
          37.66947666107399,
          37.66947666107399,
          37.66947666107399,
          37.66947666107399,
          37.66947666107399,
          37.66947666107399,
          37.66947666107399,
          37.66947666107399,
          37.66947666107399,
          37.66947666107399,
          37.66947666107399,
          37.66947666107399,
          37.66947666107399,
          37.66947666107399,
          37.66947666107399,
          37.66947666107399,
          37.66947666107399,
          37.66947666107399,
          37.66947666107399,
          37.66947666107399,
          37.66947666107399,
          37.66947666107399,
          37.66947666107399,
          37.66947666107399,
          37.66947666107399,
          37.66947666107399,
          37.66947666107399,
          37.66947666107399,
          37.66947666107399,
          37.66947666107399,
          37.66947666107399,
          37.66947666107399,
          37.66947666107399,
          37.66947666107399,
          37.66947666107399,
          37.66947666107399,
          37.66947666107399,
          37.66947666107399,
          37.66947666107399,
          37.66947666107399,
          37.66947666107399,
          37.66947666107399,
          37.66947666107399,
          37.66947666107399,
          37.66947666107399,
          37.66947666107399,
          37.66947666107399,
          37.66947666107399,
          37.66947666107399,
          37.66947666107399,
          37.66947666107399,
          37.66947666107399,
          37.66947666107399,
          37.66947666107399,
          37.66947666107399,
          37.66947666107399,
          37.66947666107399,
          37.66947666107399,
          37.66947666107399,
          37.66947666107399,
          37.66947666107399,
          37.66947666107399,
          37.66947666107399,
          37.66947666107399,
          37.66947666107399,
          37.66947666107399,
          37.66947666107399,
          37.66947666107399,
          37.66947666107399,
          37.66947666107399,
          37.66947666107399,
          37.66947666107399,
          37.66947666107399,
          37.66947666107399,
          37.66947666107399,
          37.66947666107399,
          37.66947666107399,
          37.66947666107399,
          37.66947666107399,
          37.66947666107399,
          37.66947666107399,
          37.66947666107399,
          37.66947666107399,
          37.66947666107399,
          37.66947666107399,
          37.66947666107399,
          37.66947666107399,
          37.66947666107399,
          37.66947666107399,
          37.66947666107399,
          37.66947666107399,
          37.66947666107399,
          37.66947666107399,
          37.66947666107399,
          37.66947666107399,
          37.66947666107399,
          37.66947666107399,
          37.66947666107399,
          37.66947666107399,
          37.66947666107399,
          37.66947666107399,
          37.66947666107399,
          37.66947666107399,
          37.66947666107399,
          37.66947666107399,
          37.66947666107399,
          37.66947666107399,
          37.66947666107399,
          37.66947666107399,
          37.66947666107399,
          37.66947666107399,
          37.66947666107399,
          37.66947666107399,
          37.66947666107399,
          37.66947666107399,
          37.66947666107399,
          37.66947666107399,
          37.66947666107399,
          37.66947666107399,
          37.66947666107399,
          37.66947666107399,
          37.66947666107399,
          37.66947666107399,
          37.66947666107399,
          37.66947666107399,
          37.66947666107399,
          37.66947666107399,
          37.66947666107399,
          37.66947666107399,
          37.66947666107399,
          37.66947666107399,
          37.66947666107399,
          37.66947666107399,
          37.66947666107399,
          37.66947666107399,
          37.66947666107399,
          37.66947666107399,
          329.895665101025,
          329.895665101025,
          329.895665101025,
          329.895665101025,
          329.895665101025,
          329.895665101025,
          329.895665101025,
          329.895665101025,
          329.895665101025,
          329.895665101025,
          329.895665101025,
          329.895665101025,
          329.895665101025,
          329.895665101025,
          329.895665101025,
          329.895665101025,
          329.895665101025,
          329.895665101025,
          329.895665101025,
          329.895665101025,
          329.895665101025,
          329.895665101025,
          329.895665101025,
          329.895665101025,
          329.895665101025,
          329.895665101025,
          329.895665101025,
          329.895665101025,
          329.895665101025,
          604.0562044885311,
          604.0562044885311,
          604.0562044885311,
          604.0562044885311,
          604.0562044885311,
          604.0562044885311,
          604.0562044885311,
          604.0562044885311,
          604.0562044885311,
          604.0562044885311,
          604.0562044885311,
          604.0562044885311,
          604.0562044885311,
          604.0562044885311,
          604.0562044885311,
          604.0562044885311,
          604.0562044885311,
          604.0562044885311,
          604.0562044885311,
          604.0562044885311,
          604.0562044885311,
          604.0562044885311,
          604.0562044885311,
          604.0562044885311,
          604.0562044885311,
          604.0562044885311,
          604.0562044885311,
          604.0562044885311,
          604.0562044885311,
          604.0562044885311,
          604.0562044885311,
          604.0562044885311,
          604.0562044885311,
          604.0562044885311,
          604.0562044885311,
          604.0562044885311,
          604.0562044885311,
          604.0562044885311,
          604.0562044885311,
          604.0562044885311,
          604.0562044885311,
          604.0562044885311,
          604.0562044885311,
          604.0562044885311,
          86.93088662758699,
          86.93088662758699,
          86.93088662758699,
          86.93088662758699,
          86.93088662758699,
          86.93088662758699,
          86.93088662758699,
          86.93088662758699,
          86.93088662758699,
          86.93088662758699,
          86.93088662758699,
          86.93088662758699,
          86.93088662758699,
          86.93088662758699,
          86.93088662758699,
          86.93088662758699,
          86.93088662758699,
          86.93088662758699,
          86.93088662758699,
          86.93088662758699,
          86.93088662758699,
          86.93088662758699,
          86.93088662758699,
          86.93088662758699,
          86.93088662758699,
          86.93088662758699,
          86.93088662758699,
          86.93088662758699,
          86.93088662758699,
          86.93088662758699,
          86.93088662758699,
          86.93088662758699,
          86.93088662758699,
          86.93088662758699,
          86.93088662758699,
          86.93088662758699,
          86.93088662758699,
          86.93088662758699,
          86.93088662758699,
          86.93088662758699,
          27.01590327932539,
          27.01590327932539,
          27.01590327932539,
          27.01590327932539,
          27.01590327932539,
          121.0945182789995,
          121.0945182789995,
          121.0945182789995,
          121.0945182789995,
          121.0945182789995,
          121.0945182789995,
          121.0945182789995,
          121.0945182789995,
          121.0945182789995,
          121.0945182789995,
          121.0945182789995,
          121.0945182789995,
          121.0945182789995,
          121.0945182789995,
          121.0945182789995,
          121.0945182789995,
          121.0945182789995,
          121.0945182789995,
          121.0945182789995,
          121.0945182789995,
          121.0945182789995,
          121.0945182789995,
          121.0945182789995,
          121.0945182789995,
          121.0945182789995,
          590.0786752863252,
          71.12767220341831,
          71.12767220341831,
          71.12767220341831,
          71.12767220341831,
          71.12767220341831,
          71.12767220341831,
          71.12767220341831,
          71.12767220341831,
          71.12767220341831,
          71.12767220341831,
          71.12767220341831,
          71.12767220341831,
          71.12767220341831,
          71.12767220341831,
          71.12767220341831,
          71.12767220341831,
          71.12767220341831,
          71.12767220341831,
          71.12767220341831,
          71.12767220341831,
          71.12767220341831,
          71.12767220341831,
          130.611799408359,
          320.3552243168454,
          320.3552243168454,
          320.3552243168454,
          320.3552243168454,
          320.3552243168454,
          320.3552243168454,
          320.3552243168454,
          320.3552243168454,
          320.3552243168454,
          320.3552243168454,
          320.3552243168454,
          320.3552243168454,
          320.3552243168454,
          320.3552243168454,
          320.3552243168454,
          320.3552243168454,
          320.3552243168454,
          320.3552243168454,
          320.3552243168454,
          320.3552243168454,
          320.3552243168454,
          320.3552243168454,
          320.3552243168454,
          320.3552243168454,
          320.3552243168454,
          320.3552243168454,
          320.3552243168454,
          320.3552243168454,
          320.3552243168454,
          320.3552243168454,
          320.3552243168454,
          320.3552243168454,
          320.3552243168454,
          320.3552243168454,
          320.3552243168454,
          320.3552243168454,
          320.3552243168454,
          320.3552243168454,
          320.3552243168454,
          79.38673289175209,
          79.38673289175209,
          79.38673289175209,
          8.299479968348875,
          8.299479968348875,
          8.299479968348875,
          8.299479968348875,
          8.299479968348875,
          8.299479968348875,
          8.299479968348875,
          1241.264886146013,
          1241.264886146013,
          1241.264886146013,
          1241.264886146013,
          1241.264886146013,
          1241.264886146013,
          1241.264886146013,
          90.07613955703088,
          90.07613955703088,
          90.07613955703088,
          90.07613955703088,
          90.07613955703088,
          90.07613955703088,
          90.07613955703088,
          90.07613955703088,
          90.07613955703088,
          90.07613955703088,
          90.07613955703088,
          90.07613955703088,
          90.07613955703088,
          90.07613955703088,
          90.07613955703088,
          90.07613955703088,
          90.07613955703088,
          90.07613955703088,
          90.07613955703088,
          90.07613955703088,
          90.07613955703088,
          90.07613955703088,
          90.07613955703088,
          90.07613955703088,
          90.07613955703088,
          90.07613955703088,
          90.07613955703088,
          90.07613955703088,
          90.07613955703088,
          90.07613955703088,
          90.07613955703088,
          90.07613955703088,
          90.07613955703088,
          90.07613955703088,
          90.07613955703088,
          90.07613955703088,
          90.07613955703088,
          90.07613955703088,
          90.07613955703088,
          90.07613955703088,
          404.6879295603262,
          404.6879295603262,
          404.6879295603262,
          404.6879295603262,
          404.6879295603262,
          404.6879295603262,
          404.6879295603262,
          404.6879295603262,
          404.6879295603262,
          404.6879295603262,
          404.6879295603262,
          404.6879295603262,
          404.6879295603262,
          404.6879295603262,
          404.6879295603262,
          404.6879295603262,
          404.6879295603262,
          404.6879295603262,
          404.6879295603262,
          404.6879295603262,
          404.6879295603262,
          404.6879295603262,
          404.6879295603262,
          404.6879295603262,
          404.6879295603262,
          340.980631154986,
          340.980631154986
         ]
        }
       ],
       "layout": {
        "template": {
         "data": {
          "bar": [
           {
            "error_x": {
             "color": "#2a3f5f"
            },
            "error_y": {
             "color": "#2a3f5f"
            },
            "marker": {
             "line": {
              "color": "#E5ECF6",
              "width": 0.5
             },
             "pattern": {
              "fillmode": "overlay",
              "size": 10,
              "solidity": 0.2
             }
            },
            "type": "bar"
           }
          ],
          "barpolar": [
           {
            "marker": {
             "line": {
              "color": "#E5ECF6",
              "width": 0.5
             },
             "pattern": {
              "fillmode": "overlay",
              "size": 10,
              "solidity": 0.2
             }
            },
            "type": "barpolar"
           }
          ],
          "carpet": [
           {
            "aaxis": {
             "endlinecolor": "#2a3f5f",
             "gridcolor": "white",
             "linecolor": "white",
             "minorgridcolor": "white",
             "startlinecolor": "#2a3f5f"
            },
            "baxis": {
             "endlinecolor": "#2a3f5f",
             "gridcolor": "white",
             "linecolor": "white",
             "minorgridcolor": "white",
             "startlinecolor": "#2a3f5f"
            },
            "type": "carpet"
           }
          ],
          "choropleth": [
           {
            "colorbar": {
             "outlinewidth": 0,
             "ticks": ""
            },
            "type": "choropleth"
           }
          ],
          "contour": [
           {
            "colorbar": {
             "outlinewidth": 0,
             "ticks": ""
            },
            "colorscale": [
             [
              0,
              "#0d0887"
             ],
             [
              0.1111111111111111,
              "#46039f"
             ],
             [
              0.2222222222222222,
              "#7201a8"
             ],
             [
              0.3333333333333333,
              "#9c179e"
             ],
             [
              0.4444444444444444,
              "#bd3786"
             ],
             [
              0.5555555555555556,
              "#d8576b"
             ],
             [
              0.6666666666666666,
              "#ed7953"
             ],
             [
              0.7777777777777778,
              "#fb9f3a"
             ],
             [
              0.8888888888888888,
              "#fdca26"
             ],
             [
              1,
              "#f0f921"
             ]
            ],
            "type": "contour"
           }
          ],
          "contourcarpet": [
           {
            "colorbar": {
             "outlinewidth": 0,
             "ticks": ""
            },
            "type": "contourcarpet"
           }
          ],
          "heatmap": [
           {
            "colorbar": {
             "outlinewidth": 0,
             "ticks": ""
            },
            "colorscale": [
             [
              0,
              "#0d0887"
             ],
             [
              0.1111111111111111,
              "#46039f"
             ],
             [
              0.2222222222222222,
              "#7201a8"
             ],
             [
              0.3333333333333333,
              "#9c179e"
             ],
             [
              0.4444444444444444,
              "#bd3786"
             ],
             [
              0.5555555555555556,
              "#d8576b"
             ],
             [
              0.6666666666666666,
              "#ed7953"
             ],
             [
              0.7777777777777778,
              "#fb9f3a"
             ],
             [
              0.8888888888888888,
              "#fdca26"
             ],
             [
              1,
              "#f0f921"
             ]
            ],
            "type": "heatmap"
           }
          ],
          "heatmapgl": [
           {
            "colorbar": {
             "outlinewidth": 0,
             "ticks": ""
            },
            "colorscale": [
             [
              0,
              "#0d0887"
             ],
             [
              0.1111111111111111,
              "#46039f"
             ],
             [
              0.2222222222222222,
              "#7201a8"
             ],
             [
              0.3333333333333333,
              "#9c179e"
             ],
             [
              0.4444444444444444,
              "#bd3786"
             ],
             [
              0.5555555555555556,
              "#d8576b"
             ],
             [
              0.6666666666666666,
              "#ed7953"
             ],
             [
              0.7777777777777778,
              "#fb9f3a"
             ],
             [
              0.8888888888888888,
              "#fdca26"
             ],
             [
              1,
              "#f0f921"
             ]
            ],
            "type": "heatmapgl"
           }
          ],
          "histogram": [
           {
            "marker": {
             "pattern": {
              "fillmode": "overlay",
              "size": 10,
              "solidity": 0.2
             }
            },
            "type": "histogram"
           }
          ],
          "histogram2d": [
           {
            "colorbar": {
             "outlinewidth": 0,
             "ticks": ""
            },
            "colorscale": [
             [
              0,
              "#0d0887"
             ],
             [
              0.1111111111111111,
              "#46039f"
             ],
             [
              0.2222222222222222,
              "#7201a8"
             ],
             [
              0.3333333333333333,
              "#9c179e"
             ],
             [
              0.4444444444444444,
              "#bd3786"
             ],
             [
              0.5555555555555556,
              "#d8576b"
             ],
             [
              0.6666666666666666,
              "#ed7953"
             ],
             [
              0.7777777777777778,
              "#fb9f3a"
             ],
             [
              0.8888888888888888,
              "#fdca26"
             ],
             [
              1,
              "#f0f921"
             ]
            ],
            "type": "histogram2d"
           }
          ],
          "histogram2dcontour": [
           {
            "colorbar": {
             "outlinewidth": 0,
             "ticks": ""
            },
            "colorscale": [
             [
              0,
              "#0d0887"
             ],
             [
              0.1111111111111111,
              "#46039f"
             ],
             [
              0.2222222222222222,
              "#7201a8"
             ],
             [
              0.3333333333333333,
              "#9c179e"
             ],
             [
              0.4444444444444444,
              "#bd3786"
             ],
             [
              0.5555555555555556,
              "#d8576b"
             ],
             [
              0.6666666666666666,
              "#ed7953"
             ],
             [
              0.7777777777777778,
              "#fb9f3a"
             ],
             [
              0.8888888888888888,
              "#fdca26"
             ],
             [
              1,
              "#f0f921"
             ]
            ],
            "type": "histogram2dcontour"
           }
          ],
          "mesh3d": [
           {
            "colorbar": {
             "outlinewidth": 0,
             "ticks": ""
            },
            "type": "mesh3d"
           }
          ],
          "parcoords": [
           {
            "line": {
             "colorbar": {
              "outlinewidth": 0,
              "ticks": ""
             }
            },
            "type": "parcoords"
           }
          ],
          "pie": [
           {
            "automargin": true,
            "type": "pie"
           }
          ],
          "scatter": [
           {
            "fillpattern": {
             "fillmode": "overlay",
             "size": 10,
             "solidity": 0.2
            },
            "type": "scatter"
           }
          ],
          "scatter3d": [
           {
            "line": {
             "colorbar": {
              "outlinewidth": 0,
              "ticks": ""
             }
            },
            "marker": {
             "colorbar": {
              "outlinewidth": 0,
              "ticks": ""
             }
            },
            "type": "scatter3d"
           }
          ],
          "scattercarpet": [
           {
            "marker": {
             "colorbar": {
              "outlinewidth": 0,
              "ticks": ""
             }
            },
            "type": "scattercarpet"
           }
          ],
          "scattergeo": [
           {
            "marker": {
             "colorbar": {
              "outlinewidth": 0,
              "ticks": ""
             }
            },
            "type": "scattergeo"
           }
          ],
          "scattergl": [
           {
            "marker": {
             "colorbar": {
              "outlinewidth": 0,
              "ticks": ""
             }
            },
            "type": "scattergl"
           }
          ],
          "scattermapbox": [
           {
            "marker": {
             "colorbar": {
              "outlinewidth": 0,
              "ticks": ""
             }
            },
            "type": "scattermapbox"
           }
          ],
          "scatterpolar": [
           {
            "marker": {
             "colorbar": {
              "outlinewidth": 0,
              "ticks": ""
             }
            },
            "type": "scatterpolar"
           }
          ],
          "scatterpolargl": [
           {
            "marker": {
             "colorbar": {
              "outlinewidth": 0,
              "ticks": ""
             }
            },
            "type": "scatterpolargl"
           }
          ],
          "scatterternary": [
           {
            "marker": {
             "colorbar": {
              "outlinewidth": 0,
              "ticks": ""
             }
            },
            "type": "scatterternary"
           }
          ],
          "surface": [
           {
            "colorbar": {
             "outlinewidth": 0,
             "ticks": ""
            },
            "colorscale": [
             [
              0,
              "#0d0887"
             ],
             [
              0.1111111111111111,
              "#46039f"
             ],
             [
              0.2222222222222222,
              "#7201a8"
             ],
             [
              0.3333333333333333,
              "#9c179e"
             ],
             [
              0.4444444444444444,
              "#bd3786"
             ],
             [
              0.5555555555555556,
              "#d8576b"
             ],
             [
              0.6666666666666666,
              "#ed7953"
             ],
             [
              0.7777777777777778,
              "#fb9f3a"
             ],
             [
              0.8888888888888888,
              "#fdca26"
             ],
             [
              1,
              "#f0f921"
             ]
            ],
            "type": "surface"
           }
          ],
          "table": [
           {
            "cells": {
             "fill": {
              "color": "#EBF0F8"
             },
             "line": {
              "color": "white"
             }
            },
            "header": {
             "fill": {
              "color": "#C8D4E3"
             },
             "line": {
              "color": "white"
             }
            },
            "type": "table"
           }
          ]
         },
         "layout": {
          "annotationdefaults": {
           "arrowcolor": "#2a3f5f",
           "arrowhead": 0,
           "arrowwidth": 1
          },
          "autotypenumbers": "strict",
          "coloraxis": {
           "colorbar": {
            "outlinewidth": 0,
            "ticks": ""
           }
          },
          "colorscale": {
           "diverging": [
            [
             0,
             "#8e0152"
            ],
            [
             0.1,
             "#c51b7d"
            ],
            [
             0.2,
             "#de77ae"
            ],
            [
             0.3,
             "#f1b6da"
            ],
            [
             0.4,
             "#fde0ef"
            ],
            [
             0.5,
             "#f7f7f7"
            ],
            [
             0.6,
             "#e6f5d0"
            ],
            [
             0.7,
             "#b8e186"
            ],
            [
             0.8,
             "#7fbc41"
            ],
            [
             0.9,
             "#4d9221"
            ],
            [
             1,
             "#276419"
            ]
           ],
           "sequential": [
            [
             0,
             "#0d0887"
            ],
            [
             0.1111111111111111,
             "#46039f"
            ],
            [
             0.2222222222222222,
             "#7201a8"
            ],
            [
             0.3333333333333333,
             "#9c179e"
            ],
            [
             0.4444444444444444,
             "#bd3786"
            ],
            [
             0.5555555555555556,
             "#d8576b"
            ],
            [
             0.6666666666666666,
             "#ed7953"
            ],
            [
             0.7777777777777778,
             "#fb9f3a"
            ],
            [
             0.8888888888888888,
             "#fdca26"
            ],
            [
             1,
             "#f0f921"
            ]
           ],
           "sequentialminus": [
            [
             0,
             "#0d0887"
            ],
            [
             0.1111111111111111,
             "#46039f"
            ],
            [
             0.2222222222222222,
             "#7201a8"
            ],
            [
             0.3333333333333333,
             "#9c179e"
            ],
            [
             0.4444444444444444,
             "#bd3786"
            ],
            [
             0.5555555555555556,
             "#d8576b"
            ],
            [
             0.6666666666666666,
             "#ed7953"
            ],
            [
             0.7777777777777778,
             "#fb9f3a"
            ],
            [
             0.8888888888888888,
             "#fdca26"
            ],
            [
             1,
             "#f0f921"
            ]
           ]
          },
          "colorway": [
           "#636efa",
           "#EF553B",
           "#00cc96",
           "#ab63fa",
           "#FFA15A",
           "#19d3f3",
           "#FF6692",
           "#B6E880",
           "#FF97FF",
           "#FECB52"
          ],
          "font": {
           "color": "#2a3f5f"
          },
          "geo": {
           "bgcolor": "white",
           "lakecolor": "white",
           "landcolor": "#E5ECF6",
           "showlakes": true,
           "showland": true,
           "subunitcolor": "white"
          },
          "hoverlabel": {
           "align": "left"
          },
          "hovermode": "closest",
          "mapbox": {
           "style": "light"
          },
          "paper_bgcolor": "white",
          "plot_bgcolor": "#E5ECF6",
          "polar": {
           "angularaxis": {
            "gridcolor": "white",
            "linecolor": "white",
            "ticks": ""
           },
           "bgcolor": "#E5ECF6",
           "radialaxis": {
            "gridcolor": "white",
            "linecolor": "white",
            "ticks": ""
           }
          },
          "scene": {
           "xaxis": {
            "backgroundcolor": "#E5ECF6",
            "gridcolor": "white",
            "gridwidth": 2,
            "linecolor": "white",
            "showbackground": true,
            "ticks": "",
            "zerolinecolor": "white"
           },
           "yaxis": {
            "backgroundcolor": "#E5ECF6",
            "gridcolor": "white",
            "gridwidth": 2,
            "linecolor": "white",
            "showbackground": true,
            "ticks": "",
            "zerolinecolor": "white"
           },
           "zaxis": {
            "backgroundcolor": "#E5ECF6",
            "gridcolor": "white",
            "gridwidth": 2,
            "linecolor": "white",
            "showbackground": true,
            "ticks": "",
            "zerolinecolor": "white"
           }
          },
          "shapedefaults": {
           "line": {
            "color": "#2a3f5f"
           }
          },
          "ternary": {
           "aaxis": {
            "gridcolor": "white",
            "linecolor": "white",
            "ticks": ""
           },
           "baxis": {
            "gridcolor": "white",
            "linecolor": "white",
            "ticks": ""
           },
           "bgcolor": "#E5ECF6",
           "caxis": {
            "gridcolor": "white",
            "linecolor": "white",
            "ticks": ""
           }
          },
          "title": {
           "x": 0.05
          },
          "xaxis": {
           "automargin": true,
           "gridcolor": "white",
           "linecolor": "white",
           "ticks": "",
           "title": {
            "standoff": 15
           },
           "zerolinecolor": "white",
           "zerolinewidth": 2
          },
          "yaxis": {
           "automargin": true,
           "gridcolor": "white",
           "linecolor": "white",
           "ticks": "",
           "title": {
            "standoff": 15
           },
           "zerolinecolor": "white",
           "zerolinewidth": 2
          }
         }
        },
        "title": {
         "text": "GW map dist in O3 maps"
        },
        "width": 600,
        "xaxis": {
         "title": {
          "text": "Dist (Mpc)"
         }
        },
        "yaxis": {
         "title": {
          "text": "Dist. unc. (Mpc)"
         }
        }
       }
      },
      "text/html": [
       "<div>                            <div id=\"e89055ac-69ca-4a53-b085-b46817a15c8b\" class=\"plotly-graph-div\" style=\"height:525px; width:600px;\"></div>            <script type=\"text/javascript\">                require([\"plotly\"], function(Plotly) {                    window.PLOTLYENV=window.PLOTLYENV || {};                                    if (document.getElementById(\"e89055ac-69ca-4a53-b085-b46817a15c8b\")) {                    Plotly.newPlot(                        \"e89055ac-69ca-4a53-b085-b46817a15c8b\",                        [{\"mode\":\"markers\",\"x\":[422.713674554723,422.713674554723,422.713674554723,422.713674554723,422.713674554723,422.713674554723,422.713674554723,422.713674554723,422.713674554723,422.713674554723,422.713674554723,422.713674554723,422.713674554723,422.713674554723,422.713674554723,422.713674554723,422.713674554723,422.713674554723,422.713674554723,422.713674554723,422.713674554723,422.713674554723,422.713674554723,422.713674554723,422.713674554723,422.713674554723,422.713674554723,422.713674554723,422.713674554723,422.713674554723,422.713674554723,422.713674554723,422.713674554723,422.713674554723,422.713674554723,422.713674554723,422.713674554723,422.713674554723,422.713674554723,422.713674554723,422.713674554723,422.713674554723,242.2036530453888,242.2036530453888,242.2036530453888,242.2036530453888,242.2036530453888,242.2036530453888,242.2036530453888,242.2036530453888,242.2036530453888,242.2036530453888,242.2036530453888,242.2036530453888,606.3435871805949,606.3435871805949,606.3435871805949,606.3435871805949,606.3435871805949,606.3435871805949,606.3435871805949,606.3435871805949,606.3435871805949,606.3435871805949,606.3435871805949,606.3435871805949,606.3435871805949,606.3435871805949,606.3435871805949,606.3435871805949,606.3435871805949,606.3435871805949,606.3435871805949,241.4503833921153,241.4503833921153,241.4503833921153,241.4503833921153,241.4503833921153,241.4503833921153,241.4503833921153,241.4503833921153,241.4503833921153,241.4503833921153,241.4503833921153,241.4503833921153,241.4503833921153,241.4503833921153,241.4503833921153,241.4503833921153,241.4503833921153,241.4503833921153,241.4503833921153,241.4503833921153,241.4503833921153,241.4503833921153,241.4503833921153,241.4503833921153,241.4503833921153,241.4503833921153,241.4503833921153,241.4503833921153,241.4503833921153,241.4503833921153,241.4503833921153,241.4503833921153,241.4503833921153,241.4503833921153,241.4503833921153,241.4503833921153,241.4503833921153,241.4503833921153,241.4503833921153,241.4503833921153,241.4503833921153,241.4503833921153,241.4503833921153,241.4503833921153,241.4503833921153,241.4503833921153,241.4503833921153,241.4503833921153,241.4503833921153,241.4503833921153,241.4503833921153,241.4503833921153,241.4503833921153,241.4503833921153,241.4503833921153,241.4503833921153,241.4503833921153,241.4503833921153,241.4503833921153,241.4503833921153,241.4503833921153,241.4503833921153,241.4503833921153,241.4503833921153,241.4503833921153,241.4503833921153,241.4503833921153,241.4503833921153,241.4503833921153,241.4503833921153,241.4503833921153,241.4503833921153,241.4503833921153,241.4503833921153,241.4503833921153,241.4503833921153,241.4503833921153,241.4503833921153,241.4503833921153,241.4503833921153,241.4503833921153,241.4503833921153,241.4503833921153,241.4503833921153,241.4503833921153,241.4503833921153,241.4503833921153,241.4503833921153,241.4503833921153,241.4503833921153,241.4503833921153,241.4503833921153,241.4503833921153,241.4503833921153,241.4503833921153,241.4503833921153,241.4503833921153,241.4503833921153,241.4503833921153,241.4503833921153,241.4503833921153,241.4503833921153,241.4503833921153,241.4503833921153,241.4503833921153,241.4503833921153,241.4503833921153,241.4503833921153,241.4503833921153,241.4503833921153,241.4503833921153,241.4503833921153,241.4503833921153,241.4503833921153,241.4503833921153,241.4503833921153,241.4503833921153,241.4503833921153,241.4503833921153,241.4503833921153,241.4503833921153,241.4503833921153,241.4503833921153,241.4503833921153,241.4503833921153,241.4503833921153,241.4503833921153,241.4503833921153,241.4503833921153,241.4503833921153,241.4503833921153,241.4503833921153,241.4503833921153,241.4503833921153,241.4503833921153,241.4503833921153,241.4503833921153,241.4503833921153,241.4503833921153,241.4503833921153,241.4503833921153,241.4503833921153,241.4503833921153,241.4503833921153,241.4503833921153,241.4503833921153,241.4503833921153,241.4503833921153,241.4503833921153,241.4503833921153,241.4503833921153,241.4503833921153,241.4503833921153,241.4503833921153,241.4503833921153,241.4503833921153,241.4503833921153,241.4503833921153,241.4503833921153,241.4503833921153,241.4503833921153,241.4503833921153,241.4503833921153,752.3721249388491,752.3721249388491,752.3721249388491,752.3721249388491,752.3721249388491,752.3721249388491,752.3721249388491,752.3721249388491,752.3721249388491,752.3721249388491,752.3721249388491,752.3721249388491,752.3721249388491,752.3721249388491,752.3721249388491,752.3721249388491,752.3721249388491,752.3721249388491,752.3721249388491,752.3721249388491,752.3721249388491,752.3721249388491,752.3721249388491,752.3721249388491,752.3721249388491,752.3721249388491,752.3721249388491,752.3721249388491,752.3721249388491,752.3721249388491,752.3721249388491,752.3721249388491,752.3721249388491,752.3721249388491,752.3721249388491,752.3721249388491,752.3721249388491,752.3721249388491,752.3721249388491,752.3721249388491,752.3721249388491,752.3721249388491,752.3721249388491,108.485191060567,108.485191060567,108.485191060567,108.485191060567,108.485191060567,108.485191060567,108.485191060567,108.485191060567,108.485191060567,108.485191060567,108.485191060567,108.485191060567,108.485191060567,108.485191060567,108.485191060567,108.485191060567,108.485191060567,108.485191060567,108.485191060567,108.485191060567,108.485191060567,108.485191060567,108.485191060567,108.485191060567,108.485191060567,108.485191060567,108.485191060567,108.485191060567,108.485191060567,108.485191060567,108.485191060567,108.485191060567,108.485191060567,108.485191060567,108.485191060567,108.485191060567,108.485191060567,108.485191060567,108.485191060567,108.485191060567,108.485191060567,108.485191060567,108.485191060567,108.485191060567,108.485191060567,108.485191060567,108.485191060567,108.485191060567,108.485191060567,108.485191060567,108.485191060567,108.485191060567,108.485191060567,108.485191060567,108.485191060567,108.485191060567,108.485191060567,108.485191060567,108.485191060567,108.485191060567,108.485191060567,108.485191060567,108.485191060567,108.485191060567,108.485191060567,108.485191060567,108.485191060567,108.485191060567,108.485191060567,108.485191060567,108.485191060567,108.485191060567,108.485191060567,108.485191060567,108.485191060567,108.485191060567,108.485191060567,108.485191060567,108.485191060567,108.485191060567,108.485191060567,108.485191060567,108.485191060567,108.485191060567,108.485191060567,108.485191060567,108.485191060567,108.485191060567,108.485191060567,108.485191060567,108.485191060567,108.485191060567,108.485191060567,108.485191060567,108.485191060567,108.485191060567,108.485191060567,108.485191060567,108.485191060567,108.485191060567,108.485191060567,108.485191060567,108.485191060567,108.485191060567,108.485191060567,108.485191060567,108.485191060567,108.485191060567,108.485191060567,108.485191060567,108.485191060567,108.485191060567,108.485191060567,108.485191060567,108.485191060567,108.485191060567,108.485191060567,108.485191060567,108.485191060567,108.485191060567,108.485191060567,108.485191060567,108.485191060567,108.485191060567,108.485191060567,108.485191060567,108.485191060567,108.485191060567,108.485191060567,108.485191060567,108.485191060567,108.485191060567,108.485191060567,108.485191060567,108.485191060567,108.485191060567,108.485191060567,108.485191060567,108.485191060567,108.485191060567,108.485191060567,108.485191060567,108.485191060567,108.485191060567,108.485191060567,108.485191060567,108.485191060567,108.485191060567,108.485191060567,108.485191060567,108.485191060567,108.485191060567,108.485191060567,108.485191060567,108.485191060567,108.485191060567,108.485191060567,108.485191060567,108.485191060567,108.485191060567,108.485191060567,108.485191060567,108.485191060567,108.485191060567,108.485191060567,108.485191060567,108.485191060567,108.485191060567,108.485191060567,108.485191060567,108.485191060567,108.485191060567,108.485191060567,108.485191060567,108.485191060567,108.485191060567,108.485191060567,108.485191060567,108.485191060567,108.485191060567,108.485191060567,108.485191060567,108.485191060567,108.485191060567,108.485191060567,108.485191060567,108.485191060567,108.485191060567,108.485191060567,108.485191060567,108.485191060567,1167.541422964793,1167.541422964793,1167.541422964793,1167.541422964793,1167.541422964793,1167.541422964793,1167.541422964793,1167.541422964793,1167.541422964793,1167.541422964793,1167.541422964793,1167.541422964793,1167.541422964793,1167.541422964793,1167.541422964793,1167.541422964793,1167.541422964793,1167.541422964793,1167.541422964793,1167.541422964793,1167.541422964793,1167.541422964793,1167.541422964793,1167.541422964793,1167.541422964793,1167.541422964793,1167.541422964793,1167.541422964793,1167.541422964793,1810.148665494627,1810.148665494627,1810.148665494627,1810.148665494627,1810.148665494627,1810.148665494627,1810.148665494627,1810.148665494627,1810.148665494627,1810.148665494627,1810.148665494627,1810.148665494627,1810.148665494627,1810.148665494627,1810.148665494627,1810.148665494627,1810.148665494627,1810.148665494627,1810.148665494627,1810.148665494627,1810.148665494627,1810.148665494627,1810.148665494627,1810.148665494627,1810.148665494627,1810.148665494627,1810.148665494627,1810.148665494627,1810.148665494627,1810.148665494627,1810.148665494627,1810.148665494627,1810.148665494627,1810.148665494627,1810.148665494627,1810.148665494627,1810.148665494627,1810.148665494627,1810.148665494627,1810.148665494627,1810.148665494627,1810.148665494627,1810.148665494627,1810.148665494627,203.9768858755638,203.9768858755638,203.9768858755638,203.9768858755638,203.9768858755638,203.9768858755638,203.9768858755638,203.9768858755638,203.9768858755638,203.9768858755638,203.9768858755638,203.9768858755638,203.9768858755638,203.9768858755638,203.9768858755638,203.9768858755638,203.9768858755638,203.9768858755638,203.9768858755638,203.9768858755638,203.9768858755638,203.9768858755638,203.9768858755638,203.9768858755638,203.9768858755638,203.9768858755638,203.9768858755638,203.9768858755638,203.9768858755638,203.9768858755638,203.9768858755638,203.9768858755638,203.9768858755638,203.9768858755638,203.9768858755638,203.9768858755638,203.9768858755638,203.9768858755638,203.9768858755638,203.9768858755638,94.85590855664248,94.85590855664248,94.85590855664248,94.85590855664248,94.85590855664248,258.0395401364863,258.0395401364863,258.0395401364863,258.0395401364863,258.0395401364863,258.0395401364863,258.0395401364863,258.0395401364863,258.0395401364863,258.0395401364863,258.0395401364863,258.0395401364863,258.0395401364863,258.0395401364863,258.0395401364863,258.0395401364863,258.0395401364863,258.0395401364863,258.0395401364863,258.0395401364863,258.0395401364863,258.0395401364863,258.0395401364863,258.0395401364863,258.0395401364863,2215.518605780816,265.0966291797101,265.0966291797101,265.0966291797101,265.0966291797101,265.0966291797101,265.0966291797101,265.0966291797101,265.0966291797101,265.0966291797101,265.0966291797101,265.0966291797101,265.0966291797101,265.0966291797101,265.0966291797101,265.0966291797101,265.0966291797101,265.0966291797101,265.0966291797101,265.0966291797101,265.0966291797101,265.0966291797101,265.0966291797101,408.5994026531808,1136.255139536576,1136.255139536576,1136.255139536576,1136.255139536576,1136.255139536576,1136.255139536576,1136.255139536576,1136.255139536576,1136.255139536576,1136.255139536576,1136.255139536576,1136.255139536576,1136.255139536576,1136.255139536576,1136.255139536576,1136.255139536576,1136.255139536576,1136.255139536576,1136.255139536576,1136.255139536576,1136.255139536576,1136.255139536576,1136.255139536576,1136.255139536576,1136.255139536576,1136.255139536576,1136.255139536576,1136.255139536576,1136.255139536576,1136.255139536576,1136.255139536576,1136.255139536576,1136.255139536576,1136.255139536576,1136.255139536576,1136.255139536576,1136.255139536576,1136.255139536576,1136.255139536576,340.2238301469039,340.2238301469039,340.2238301469039,30.94304738717872,30.94304738717872,30.94304738717872,30.94304738717872,30.94304738717872,30.94304738717872,30.94304738717872,4031.106685175951,4031.106685175951,4031.106685175951,4031.106685175951,4031.106685175951,4031.106685175951,4031.106685175951,223.5491691009208,223.5491691009208,223.5491691009208,223.5491691009208,223.5491691009208,223.5491691009208,223.5491691009208,223.5491691009208,223.5491691009208,223.5491691009208,223.5491691009208,223.5491691009208,223.5491691009208,223.5491691009208,223.5491691009208,223.5491691009208,223.5491691009208,223.5491691009208,223.5491691009208,223.5491691009208,223.5491691009208,223.5491691009208,223.5491691009208,223.5491691009208,223.5491691009208,223.5491691009208,223.5491691009208,223.5491691009208,223.5491691009208,223.5491691009208,223.5491691009208,223.5491691009208,223.5491691009208,223.5491691009208,223.5491691009208,223.5491691009208,223.5491691009208,223.5491691009208,223.5491691009208,223.5491691009208,1510.201949004476,1510.201949004476,1510.201949004476,1510.201949004476,1510.201949004476,1510.201949004476,1510.201949004476,1510.201949004476,1510.201949004476,1510.201949004476,1510.201949004476,1510.201949004476,1510.201949004476,1510.201949004476,1510.201949004476,1510.201949004476,1510.201949004476,1510.201949004476,1510.201949004476,1510.201949004476,1510.201949004476,1510.201949004476,1510.201949004476,1510.201949004476,1510.201949004476,1233.503493389387,1233.503493389387],\"y\":[127.8069820109394,127.8069820109394,127.8069820109394,127.8069820109394,127.8069820109394,127.8069820109394,127.8069820109394,127.8069820109394,127.8069820109394,127.8069820109394,127.8069820109394,127.8069820109394,127.8069820109394,127.8069820109394,127.8069820109394,127.8069820109394,127.8069820109394,127.8069820109394,127.8069820109394,127.8069820109394,127.8069820109394,127.8069820109394,127.8069820109394,127.8069820109394,127.8069820109394,127.8069820109394,127.8069820109394,127.8069820109394,127.8069820109394,127.8069820109394,127.8069820109394,127.8069820109394,127.8069820109394,127.8069820109394,127.8069820109394,127.8069820109394,127.8069820109394,127.8069820109394,127.8069820109394,127.8069820109394,127.8069820109394,127.8069820109394,81.005097759311,81.005097759311,81.005097759311,81.005097759311,81.005097759311,81.005097759311,81.005097759311,81.005097759311,81.005097759311,81.005097759311,81.005097759311,81.005097759311,196.8015001289417,196.8015001289417,196.8015001289417,196.8015001289417,196.8015001289417,196.8015001289417,196.8015001289417,196.8015001289417,196.8015001289417,196.8015001289417,196.8015001289417,196.8015001289417,196.8015001289417,196.8015001289417,196.8015001289417,196.8015001289417,196.8015001289417,196.8015001289417,196.8015001289417,88.84046927803388,88.84046927803388,88.84046927803388,88.84046927803388,88.84046927803388,88.84046927803388,88.84046927803388,88.84046927803388,88.84046927803388,88.84046927803388,88.84046927803388,88.84046927803388,88.84046927803388,88.84046927803388,88.84046927803388,88.84046927803388,88.84046927803388,88.84046927803388,88.84046927803388,88.84046927803388,88.84046927803388,88.84046927803388,88.84046927803388,88.84046927803388,88.84046927803388,88.84046927803388,88.84046927803388,88.84046927803388,88.84046927803388,88.84046927803388,88.84046927803388,88.84046927803388,88.84046927803388,88.84046927803388,88.84046927803388,88.84046927803388,88.84046927803388,88.84046927803388,88.84046927803388,88.84046927803388,88.84046927803388,88.84046927803388,88.84046927803388,88.84046927803388,88.84046927803388,88.84046927803388,88.84046927803388,88.84046927803388,88.84046927803388,88.84046927803388,88.84046927803388,88.84046927803388,88.84046927803388,88.84046927803388,88.84046927803388,88.84046927803388,88.84046927803388,88.84046927803388,88.84046927803388,88.84046927803388,88.84046927803388,88.84046927803388,88.84046927803388,88.84046927803388,88.84046927803388,88.84046927803388,88.84046927803388,88.84046927803388,88.84046927803388,88.84046927803388,88.84046927803388,88.84046927803388,88.84046927803388,88.84046927803388,88.84046927803388,88.84046927803388,88.84046927803388,88.84046927803388,88.84046927803388,88.84046927803388,88.84046927803388,88.84046927803388,88.84046927803388,88.84046927803388,88.84046927803388,88.84046927803388,88.84046927803388,88.84046927803388,88.84046927803388,88.84046927803388,88.84046927803388,88.84046927803388,88.84046927803388,88.84046927803388,88.84046927803388,88.84046927803388,88.84046927803388,88.84046927803388,88.84046927803388,88.84046927803388,88.84046927803388,88.84046927803388,88.84046927803388,88.84046927803388,88.84046927803388,88.84046927803388,88.84046927803388,88.84046927803388,88.84046927803388,88.84046927803388,88.84046927803388,88.84046927803388,88.84046927803388,88.84046927803388,88.84046927803388,88.84046927803388,88.84046927803388,88.84046927803388,88.84046927803388,88.84046927803388,88.84046927803388,88.84046927803388,88.84046927803388,88.84046927803388,88.84046927803388,88.84046927803388,88.84046927803388,88.84046927803388,88.84046927803388,88.84046927803388,88.84046927803388,88.84046927803388,88.84046927803388,88.84046927803388,88.84046927803388,88.84046927803388,88.84046927803388,88.84046927803388,88.84046927803388,88.84046927803388,88.84046927803388,88.84046927803388,88.84046927803388,88.84046927803388,88.84046927803388,88.84046927803388,88.84046927803388,88.84046927803388,88.84046927803388,88.84046927803388,88.84046927803388,88.84046927803388,88.84046927803388,88.84046927803388,88.84046927803388,88.84046927803388,88.84046927803388,88.84046927803388,88.84046927803388,88.84046927803388,88.84046927803388,88.84046927803388,88.84046927803388,223.6055842915501,223.6055842915501,223.6055842915501,223.6055842915501,223.6055842915501,223.6055842915501,223.6055842915501,223.6055842915501,223.6055842915501,223.6055842915501,223.6055842915501,223.6055842915501,223.6055842915501,223.6055842915501,223.6055842915501,223.6055842915501,223.6055842915501,223.6055842915501,223.6055842915501,223.6055842915501,223.6055842915501,223.6055842915501,223.6055842915501,223.6055842915501,223.6055842915501,223.6055842915501,223.6055842915501,223.6055842915501,223.6055842915501,223.6055842915501,223.6055842915501,223.6055842915501,223.6055842915501,223.6055842915501,223.6055842915501,223.6055842915501,223.6055842915501,223.6055842915501,223.6055842915501,223.6055842915501,223.6055842915501,223.6055842915501,223.6055842915501,37.66947666107399,37.66947666107399,37.66947666107399,37.66947666107399,37.66947666107399,37.66947666107399,37.66947666107399,37.66947666107399,37.66947666107399,37.66947666107399,37.66947666107399,37.66947666107399,37.66947666107399,37.66947666107399,37.66947666107399,37.66947666107399,37.66947666107399,37.66947666107399,37.66947666107399,37.66947666107399,37.66947666107399,37.66947666107399,37.66947666107399,37.66947666107399,37.66947666107399,37.66947666107399,37.66947666107399,37.66947666107399,37.66947666107399,37.66947666107399,37.66947666107399,37.66947666107399,37.66947666107399,37.66947666107399,37.66947666107399,37.66947666107399,37.66947666107399,37.66947666107399,37.66947666107399,37.66947666107399,37.66947666107399,37.66947666107399,37.66947666107399,37.66947666107399,37.66947666107399,37.66947666107399,37.66947666107399,37.66947666107399,37.66947666107399,37.66947666107399,37.66947666107399,37.66947666107399,37.66947666107399,37.66947666107399,37.66947666107399,37.66947666107399,37.66947666107399,37.66947666107399,37.66947666107399,37.66947666107399,37.66947666107399,37.66947666107399,37.66947666107399,37.66947666107399,37.66947666107399,37.66947666107399,37.66947666107399,37.66947666107399,37.66947666107399,37.66947666107399,37.66947666107399,37.66947666107399,37.66947666107399,37.66947666107399,37.66947666107399,37.66947666107399,37.66947666107399,37.66947666107399,37.66947666107399,37.66947666107399,37.66947666107399,37.66947666107399,37.66947666107399,37.66947666107399,37.66947666107399,37.66947666107399,37.66947666107399,37.66947666107399,37.66947666107399,37.66947666107399,37.66947666107399,37.66947666107399,37.66947666107399,37.66947666107399,37.66947666107399,37.66947666107399,37.66947666107399,37.66947666107399,37.66947666107399,37.66947666107399,37.66947666107399,37.66947666107399,37.66947666107399,37.66947666107399,37.66947666107399,37.66947666107399,37.66947666107399,37.66947666107399,37.66947666107399,37.66947666107399,37.66947666107399,37.66947666107399,37.66947666107399,37.66947666107399,37.66947666107399,37.66947666107399,37.66947666107399,37.66947666107399,37.66947666107399,37.66947666107399,37.66947666107399,37.66947666107399,37.66947666107399,37.66947666107399,37.66947666107399,37.66947666107399,37.66947666107399,37.66947666107399,37.66947666107399,37.66947666107399,37.66947666107399,37.66947666107399,37.66947666107399,37.66947666107399,37.66947666107399,37.66947666107399,37.66947666107399,37.66947666107399,37.66947666107399,37.66947666107399,37.66947666107399,37.66947666107399,37.66947666107399,37.66947666107399,37.66947666107399,37.66947666107399,37.66947666107399,37.66947666107399,37.66947666107399,37.66947666107399,37.66947666107399,37.66947666107399,37.66947666107399,37.66947666107399,37.66947666107399,37.66947666107399,37.66947666107399,37.66947666107399,37.66947666107399,37.66947666107399,37.66947666107399,37.66947666107399,37.66947666107399,37.66947666107399,37.66947666107399,37.66947666107399,37.66947666107399,37.66947666107399,37.66947666107399,37.66947666107399,37.66947666107399,37.66947666107399,37.66947666107399,37.66947666107399,37.66947666107399,37.66947666107399,37.66947666107399,37.66947666107399,37.66947666107399,37.66947666107399,37.66947666107399,37.66947666107399,37.66947666107399,37.66947666107399,37.66947666107399,37.66947666107399,37.66947666107399,37.66947666107399,37.66947666107399,37.66947666107399,37.66947666107399,329.895665101025,329.895665101025,329.895665101025,329.895665101025,329.895665101025,329.895665101025,329.895665101025,329.895665101025,329.895665101025,329.895665101025,329.895665101025,329.895665101025,329.895665101025,329.895665101025,329.895665101025,329.895665101025,329.895665101025,329.895665101025,329.895665101025,329.895665101025,329.895665101025,329.895665101025,329.895665101025,329.895665101025,329.895665101025,329.895665101025,329.895665101025,329.895665101025,329.895665101025,604.0562044885311,604.0562044885311,604.0562044885311,604.0562044885311,604.0562044885311,604.0562044885311,604.0562044885311,604.0562044885311,604.0562044885311,604.0562044885311,604.0562044885311,604.0562044885311,604.0562044885311,604.0562044885311,604.0562044885311,604.0562044885311,604.0562044885311,604.0562044885311,604.0562044885311,604.0562044885311,604.0562044885311,604.0562044885311,604.0562044885311,604.0562044885311,604.0562044885311,604.0562044885311,604.0562044885311,604.0562044885311,604.0562044885311,604.0562044885311,604.0562044885311,604.0562044885311,604.0562044885311,604.0562044885311,604.0562044885311,604.0562044885311,604.0562044885311,604.0562044885311,604.0562044885311,604.0562044885311,604.0562044885311,604.0562044885311,604.0562044885311,604.0562044885311,86.93088662758699,86.93088662758699,86.93088662758699,86.93088662758699,86.93088662758699,86.93088662758699,86.93088662758699,86.93088662758699,86.93088662758699,86.93088662758699,86.93088662758699,86.93088662758699,86.93088662758699,86.93088662758699,86.93088662758699,86.93088662758699,86.93088662758699,86.93088662758699,86.93088662758699,86.93088662758699,86.93088662758699,86.93088662758699,86.93088662758699,86.93088662758699,86.93088662758699,86.93088662758699,86.93088662758699,86.93088662758699,86.93088662758699,86.93088662758699,86.93088662758699,86.93088662758699,86.93088662758699,86.93088662758699,86.93088662758699,86.93088662758699,86.93088662758699,86.93088662758699,86.93088662758699,86.93088662758699,27.01590327932539,27.01590327932539,27.01590327932539,27.01590327932539,27.01590327932539,121.0945182789995,121.0945182789995,121.0945182789995,121.0945182789995,121.0945182789995,121.0945182789995,121.0945182789995,121.0945182789995,121.0945182789995,121.0945182789995,121.0945182789995,121.0945182789995,121.0945182789995,121.0945182789995,121.0945182789995,121.0945182789995,121.0945182789995,121.0945182789995,121.0945182789995,121.0945182789995,121.0945182789995,121.0945182789995,121.0945182789995,121.0945182789995,121.0945182789995,590.0786752863252,71.12767220341831,71.12767220341831,71.12767220341831,71.12767220341831,71.12767220341831,71.12767220341831,71.12767220341831,71.12767220341831,71.12767220341831,71.12767220341831,71.12767220341831,71.12767220341831,71.12767220341831,71.12767220341831,71.12767220341831,71.12767220341831,71.12767220341831,71.12767220341831,71.12767220341831,71.12767220341831,71.12767220341831,71.12767220341831,130.611799408359,320.3552243168454,320.3552243168454,320.3552243168454,320.3552243168454,320.3552243168454,320.3552243168454,320.3552243168454,320.3552243168454,320.3552243168454,320.3552243168454,320.3552243168454,320.3552243168454,320.3552243168454,320.3552243168454,320.3552243168454,320.3552243168454,320.3552243168454,320.3552243168454,320.3552243168454,320.3552243168454,320.3552243168454,320.3552243168454,320.3552243168454,320.3552243168454,320.3552243168454,320.3552243168454,320.3552243168454,320.3552243168454,320.3552243168454,320.3552243168454,320.3552243168454,320.3552243168454,320.3552243168454,320.3552243168454,320.3552243168454,320.3552243168454,320.3552243168454,320.3552243168454,320.3552243168454,79.38673289175209,79.38673289175209,79.38673289175209,8.299479968348875,8.299479968348875,8.299479968348875,8.299479968348875,8.299479968348875,8.299479968348875,8.299479968348875,1241.264886146013,1241.264886146013,1241.264886146013,1241.264886146013,1241.264886146013,1241.264886146013,1241.264886146013,90.07613955703088,90.07613955703088,90.07613955703088,90.07613955703088,90.07613955703088,90.07613955703088,90.07613955703088,90.07613955703088,90.07613955703088,90.07613955703088,90.07613955703088,90.07613955703088,90.07613955703088,90.07613955703088,90.07613955703088,90.07613955703088,90.07613955703088,90.07613955703088,90.07613955703088,90.07613955703088,90.07613955703088,90.07613955703088,90.07613955703088,90.07613955703088,90.07613955703088,90.07613955703088,90.07613955703088,90.07613955703088,90.07613955703088,90.07613955703088,90.07613955703088,90.07613955703088,90.07613955703088,90.07613955703088,90.07613955703088,90.07613955703088,90.07613955703088,90.07613955703088,90.07613955703088,90.07613955703088,404.6879295603262,404.6879295603262,404.6879295603262,404.6879295603262,404.6879295603262,404.6879295603262,404.6879295603262,404.6879295603262,404.6879295603262,404.6879295603262,404.6879295603262,404.6879295603262,404.6879295603262,404.6879295603262,404.6879295603262,404.6879295603262,404.6879295603262,404.6879295603262,404.6879295603262,404.6879295603262,404.6879295603262,404.6879295603262,404.6879295603262,404.6879295603262,404.6879295603262,340.980631154986,340.980631154986],\"type\":\"scatter\"}],                        {\"template\":{\"data\":{\"histogram2dcontour\":[{\"type\":\"histogram2dcontour\",\"colorbar\":{\"outlinewidth\":0,\"ticks\":\"\"},\"colorscale\":[[0.0,\"#0d0887\"],[0.1111111111111111,\"#46039f\"],[0.2222222222222222,\"#7201a8\"],[0.3333333333333333,\"#9c179e\"],[0.4444444444444444,\"#bd3786\"],[0.5555555555555556,\"#d8576b\"],[0.6666666666666666,\"#ed7953\"],[0.7777777777777778,\"#fb9f3a\"],[0.8888888888888888,\"#fdca26\"],[1.0,\"#f0f921\"]]}],\"choropleth\":[{\"type\":\"choropleth\",\"colorbar\":{\"outlinewidth\":0,\"ticks\":\"\"}}],\"histogram2d\":[{\"type\":\"histogram2d\",\"colorbar\":{\"outlinewidth\":0,\"ticks\":\"\"},\"colorscale\":[[0.0,\"#0d0887\"],[0.1111111111111111,\"#46039f\"],[0.2222222222222222,\"#7201a8\"],[0.3333333333333333,\"#9c179e\"],[0.4444444444444444,\"#bd3786\"],[0.5555555555555556,\"#d8576b\"],[0.6666666666666666,\"#ed7953\"],[0.7777777777777778,\"#fb9f3a\"],[0.8888888888888888,\"#fdca26\"],[1.0,\"#f0f921\"]]}],\"heatmap\":[{\"type\":\"heatmap\",\"colorbar\":{\"outlinewidth\":0,\"ticks\":\"\"},\"colorscale\":[[0.0,\"#0d0887\"],[0.1111111111111111,\"#46039f\"],[0.2222222222222222,\"#7201a8\"],[0.3333333333333333,\"#9c179e\"],[0.4444444444444444,\"#bd3786\"],[0.5555555555555556,\"#d8576b\"],[0.6666666666666666,\"#ed7953\"],[0.7777777777777778,\"#fb9f3a\"],[0.8888888888888888,\"#fdca26\"],[1.0,\"#f0f921\"]]}],\"heatmapgl\":[{\"type\":\"heatmapgl\",\"colorbar\":{\"outlinewidth\":0,\"ticks\":\"\"},\"colorscale\":[[0.0,\"#0d0887\"],[0.1111111111111111,\"#46039f\"],[0.2222222222222222,\"#7201a8\"],[0.3333333333333333,\"#9c179e\"],[0.4444444444444444,\"#bd3786\"],[0.5555555555555556,\"#d8576b\"],[0.6666666666666666,\"#ed7953\"],[0.7777777777777778,\"#fb9f3a\"],[0.8888888888888888,\"#fdca26\"],[1.0,\"#f0f921\"]]}],\"contourcarpet\":[{\"type\":\"contourcarpet\",\"colorbar\":{\"outlinewidth\":0,\"ticks\":\"\"}}],\"contour\":[{\"type\":\"contour\",\"colorbar\":{\"outlinewidth\":0,\"ticks\":\"\"},\"colorscale\":[[0.0,\"#0d0887\"],[0.1111111111111111,\"#46039f\"],[0.2222222222222222,\"#7201a8\"],[0.3333333333333333,\"#9c179e\"],[0.4444444444444444,\"#bd3786\"],[0.5555555555555556,\"#d8576b\"],[0.6666666666666666,\"#ed7953\"],[0.7777777777777778,\"#fb9f3a\"],[0.8888888888888888,\"#fdca26\"],[1.0,\"#f0f921\"]]}],\"surface\":[{\"type\":\"surface\",\"colorbar\":{\"outlinewidth\":0,\"ticks\":\"\"},\"colorscale\":[[0.0,\"#0d0887\"],[0.1111111111111111,\"#46039f\"],[0.2222222222222222,\"#7201a8\"],[0.3333333333333333,\"#9c179e\"],[0.4444444444444444,\"#bd3786\"],[0.5555555555555556,\"#d8576b\"],[0.6666666666666666,\"#ed7953\"],[0.7777777777777778,\"#fb9f3a\"],[0.8888888888888888,\"#fdca26\"],[1.0,\"#f0f921\"]]}],\"mesh3d\":[{\"type\":\"mesh3d\",\"colorbar\":{\"outlinewidth\":0,\"ticks\":\"\"}}],\"scatter\":[{\"fillpattern\":{\"fillmode\":\"overlay\",\"size\":10,\"solidity\":0.2},\"type\":\"scatter\"}],\"parcoords\":[{\"type\":\"parcoords\",\"line\":{\"colorbar\":{\"outlinewidth\":0,\"ticks\":\"\"}}}],\"scatterpolargl\":[{\"type\":\"scatterpolargl\",\"marker\":{\"colorbar\":{\"outlinewidth\":0,\"ticks\":\"\"}}}],\"bar\":[{\"error_x\":{\"color\":\"#2a3f5f\"},\"error_y\":{\"color\":\"#2a3f5f\"},\"marker\":{\"line\":{\"color\":\"#E5ECF6\",\"width\":0.5},\"pattern\":{\"fillmode\":\"overlay\",\"size\":10,\"solidity\":0.2}},\"type\":\"bar\"}],\"scattergeo\":[{\"type\":\"scattergeo\",\"marker\":{\"colorbar\":{\"outlinewidth\":0,\"ticks\":\"\"}}}],\"scatterpolar\":[{\"type\":\"scatterpolar\",\"marker\":{\"colorbar\":{\"outlinewidth\":0,\"ticks\":\"\"}}}],\"histogram\":[{\"marker\":{\"pattern\":{\"fillmode\":\"overlay\",\"size\":10,\"solidity\":0.2}},\"type\":\"histogram\"}],\"scattergl\":[{\"type\":\"scattergl\",\"marker\":{\"colorbar\":{\"outlinewidth\":0,\"ticks\":\"\"}}}],\"scatter3d\":[{\"type\":\"scatter3d\",\"line\":{\"colorbar\":{\"outlinewidth\":0,\"ticks\":\"\"}},\"marker\":{\"colorbar\":{\"outlinewidth\":0,\"ticks\":\"\"}}}],\"scattermapbox\":[{\"type\":\"scattermapbox\",\"marker\":{\"colorbar\":{\"outlinewidth\":0,\"ticks\":\"\"}}}],\"scatterternary\":[{\"type\":\"scatterternary\",\"marker\":{\"colorbar\":{\"outlinewidth\":0,\"ticks\":\"\"}}}],\"scattercarpet\":[{\"type\":\"scattercarpet\",\"marker\":{\"colorbar\":{\"outlinewidth\":0,\"ticks\":\"\"}}}],\"carpet\":[{\"aaxis\":{\"endlinecolor\":\"#2a3f5f\",\"gridcolor\":\"white\",\"linecolor\":\"white\",\"minorgridcolor\":\"white\",\"startlinecolor\":\"#2a3f5f\"},\"baxis\":{\"endlinecolor\":\"#2a3f5f\",\"gridcolor\":\"white\",\"linecolor\":\"white\",\"minorgridcolor\":\"white\",\"startlinecolor\":\"#2a3f5f\"},\"type\":\"carpet\"}],\"table\":[{\"cells\":{\"fill\":{\"color\":\"#EBF0F8\"},\"line\":{\"color\":\"white\"}},\"header\":{\"fill\":{\"color\":\"#C8D4E3\"},\"line\":{\"color\":\"white\"}},\"type\":\"table\"}],\"barpolar\":[{\"marker\":{\"line\":{\"color\":\"#E5ECF6\",\"width\":0.5},\"pattern\":{\"fillmode\":\"overlay\",\"size\":10,\"solidity\":0.2}},\"type\":\"barpolar\"}],\"pie\":[{\"automargin\":true,\"type\":\"pie\"}]},\"layout\":{\"autotypenumbers\":\"strict\",\"colorway\":[\"#636efa\",\"#EF553B\",\"#00cc96\",\"#ab63fa\",\"#FFA15A\",\"#19d3f3\",\"#FF6692\",\"#B6E880\",\"#FF97FF\",\"#FECB52\"],\"font\":{\"color\":\"#2a3f5f\"},\"hovermode\":\"closest\",\"hoverlabel\":{\"align\":\"left\"},\"paper_bgcolor\":\"white\",\"plot_bgcolor\":\"#E5ECF6\",\"polar\":{\"bgcolor\":\"#E5ECF6\",\"angularaxis\":{\"gridcolor\":\"white\",\"linecolor\":\"white\",\"ticks\":\"\"},\"radialaxis\":{\"gridcolor\":\"white\",\"linecolor\":\"white\",\"ticks\":\"\"}},\"ternary\":{\"bgcolor\":\"#E5ECF6\",\"aaxis\":{\"gridcolor\":\"white\",\"linecolor\":\"white\",\"ticks\":\"\"},\"baxis\":{\"gridcolor\":\"white\",\"linecolor\":\"white\",\"ticks\":\"\"},\"caxis\":{\"gridcolor\":\"white\",\"linecolor\":\"white\",\"ticks\":\"\"}},\"coloraxis\":{\"colorbar\":{\"outlinewidth\":0,\"ticks\":\"\"}},\"colorscale\":{\"sequential\":[[0.0,\"#0d0887\"],[0.1111111111111111,\"#46039f\"],[0.2222222222222222,\"#7201a8\"],[0.3333333333333333,\"#9c179e\"],[0.4444444444444444,\"#bd3786\"],[0.5555555555555556,\"#d8576b\"],[0.6666666666666666,\"#ed7953\"],[0.7777777777777778,\"#fb9f3a\"],[0.8888888888888888,\"#fdca26\"],[1.0,\"#f0f921\"]],\"sequentialminus\":[[0.0,\"#0d0887\"],[0.1111111111111111,\"#46039f\"],[0.2222222222222222,\"#7201a8\"],[0.3333333333333333,\"#9c179e\"],[0.4444444444444444,\"#bd3786\"],[0.5555555555555556,\"#d8576b\"],[0.6666666666666666,\"#ed7953\"],[0.7777777777777778,\"#fb9f3a\"],[0.8888888888888888,\"#fdca26\"],[1.0,\"#f0f921\"]],\"diverging\":[[0,\"#8e0152\"],[0.1,\"#c51b7d\"],[0.2,\"#de77ae\"],[0.3,\"#f1b6da\"],[0.4,\"#fde0ef\"],[0.5,\"#f7f7f7\"],[0.6,\"#e6f5d0\"],[0.7,\"#b8e186\"],[0.8,\"#7fbc41\"],[0.9,\"#4d9221\"],[1,\"#276419\"]]},\"xaxis\":{\"gridcolor\":\"white\",\"linecolor\":\"white\",\"ticks\":\"\",\"title\":{\"standoff\":15},\"zerolinecolor\":\"white\",\"automargin\":true,\"zerolinewidth\":2},\"yaxis\":{\"gridcolor\":\"white\",\"linecolor\":\"white\",\"ticks\":\"\",\"title\":{\"standoff\":15},\"zerolinecolor\":\"white\",\"automargin\":true,\"zerolinewidth\":2},\"scene\":{\"xaxis\":{\"backgroundcolor\":\"#E5ECF6\",\"gridcolor\":\"white\",\"linecolor\":\"white\",\"showbackground\":true,\"ticks\":\"\",\"zerolinecolor\":\"white\",\"gridwidth\":2},\"yaxis\":{\"backgroundcolor\":\"#E5ECF6\",\"gridcolor\":\"white\",\"linecolor\":\"white\",\"showbackground\":true,\"ticks\":\"\",\"zerolinecolor\":\"white\",\"gridwidth\":2},\"zaxis\":{\"backgroundcolor\":\"#E5ECF6\",\"gridcolor\":\"white\",\"linecolor\":\"white\",\"showbackground\":true,\"ticks\":\"\",\"zerolinecolor\":\"white\",\"gridwidth\":2}},\"shapedefaults\":{\"line\":{\"color\":\"#2a3f5f\"}},\"annotationdefaults\":{\"arrowcolor\":\"#2a3f5f\",\"arrowhead\":0,\"arrowwidth\":1},\"geo\":{\"bgcolor\":\"white\",\"landcolor\":\"#E5ECF6\",\"subunitcolor\":\"white\",\"showland\":true,\"showlakes\":true,\"lakecolor\":\"white\"},\"title\":{\"x\":0.05},\"mapbox\":{\"style\":\"light\"}}},\"width\":600,\"title\":{\"text\":\"GW map dist in O3 maps\"},\"xaxis\":{\"title\":{\"text\":\"Dist (Mpc)\"}},\"yaxis\":{\"title\":{\"text\":\"Dist. unc. (Mpc)\"}}},                        {\"responsive\": true}                    ).then(function(){\n",
       "                            \n",
       "var gd = document.getElementById('e89055ac-69ca-4a53-b085-b46817a15c8b');\n",
       "var x = new MutationObserver(function (mutations, observer) {{\n",
       "        var display = window.getComputedStyle(gd).display;\n",
       "        if (!display || display === 'none') {{\n",
       "            console.log([gd, 'removed!']);\n",
       "            Plotly.purge(gd);\n",
       "            observer.disconnect();\n",
       "        }}\n",
       "}});\n",
       "\n",
       "// Listen for the removal of the full notebook cells\n",
       "var notebookContainer = gd.closest('#notebook-container');\n",
       "if (notebookContainer) {{\n",
       "    x.observe(notebookContainer, {childList: true});\n",
       "}}\n",
       "\n",
       "// Listen for the clearing of the current output cell\n",
       "var outputEl = gd.closest('.output');\n",
       "if (outputEl) {{\n",
       "    x.observe(outputEl, {childList: true});\n",
       "}}\n",
       "\n",
       "                        })                };                });            </script>        </div>"
      ]
     },
     "metadata": {},
     "output_type": "display_data"
    },
    {
     "name": "stdout",
     "output_type": "stream",
     "text": [
      "760\n"
     ]
    }
   ],
   "source": [
    "fig = go.Figure()\n",
    "\n",
    "fig.add_trace(go.Scatter(x=all_data[\"map_dist\"], y=all_data[\"map_dist_unc\"], mode=\"markers\"))\n",
    "fig.update_layout({\"width\": 600,\n",
    "                   \"title\": \"GW map dist in O3 maps\",\n",
    "                   \"xaxis_title\": \"Dist (Mpc)\",\n",
    "                   \"yaxis_title\": \"Dist. unc. (Mpc)\"})\n",
    "fig.show()\n",
    "\n",
    "print(len(all_data))"
   ]
  }
 ],
 "metadata": {
  "kernelspec": {
   "display_name": "ampel-hu",
   "language": "python",
   "name": "python3"
  },
  "language_info": {
   "codemirror_mode": {
    "name": "ipython",
    "version": 3
   },
   "file_extension": ".py",
   "mimetype": "text/x-python",
   "name": "python",
   "nbconvert_exporter": "python",
   "pygments_lexer": "ipython3",
   "version": "3.10.9"
  },
  "orig_nbformat": 4
 },
 "nbformat": 4,
 "nbformat_minor": 2
}
