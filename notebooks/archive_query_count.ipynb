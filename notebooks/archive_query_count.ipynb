{
 "cells": [
  {
   "cell_type": "code",
   "execution_count": 1,
   "metadata": {},
   "outputs": [],
   "source": [
    "import requests, os\n",
    "from ampel.ztf.t0.load.ZTFArchiveAlertLoader import ZTFArchiveAlertLoader"
   ]
  },
  {
   "cell_type": "code",
   "execution_count": 2,
   "metadata": {},
   "outputs": [],
   "source": [
    "# This is the archive token which can be obtained from https://ampel.zeuthen.desy.de/live/dashboard/tokens\n",
    "# In order to retrieve ZTF partnership alerts your token needs to have the appropriate access\n",
    "token = os.environ[\"ARCHIVE_TOKEN\"]   # I have mine stored\n",
    "header = {\"Authorization\": \"bearer \"+token}"
   ]
  },
  {
   "cell_type": "code",
   "execution_count": 3,
   "metadata": {},
   "outputs": [],
   "source": [
    "endpoint_query = 'https://ampel.zeuthen.desy.de/api/ztf/archive/v3/streams/from_query?programid=1'\n",
    "endpoint_count = 'https://ampel.zeuthen.desy.de/api/ztf/archive/v3/alerts/healpix/skymap/count'"
   ]
  },
  {
   "cell_type": "code",
   "execution_count": 4,
   "metadata": {},
   "outputs": [],
   "source": [
    "query = {'jd': {'$gt': 2458728.479882375, '$lt': 2458731.479882375}, 'regions': [{'nside': 32, 'pixels': [8, 9, 30]}]} #, 'candidate': {'rb': {'$gt': 0.3}, 'magpsf': {'$gt': 15}, 'ndethist': {'$gt': 0, '$lte': 10}, 'jdstarthist': {'$gt': 2458728.479882375}}}"
   ]
  },
  {
   "cell_type": "code",
   "execution_count": 9,
   "metadata": {},
   "outputs": [],
   "source": [
    "response_query = requests.post(endpoint_query, headers=header, json=query )\n",
    "response_count = requests.post(endpoint_count, headers=header, json=query )\n",
    "\n",
    "if not response_query.ok:\n",
    "    print( 'Query creation failed.')"
   ]
  },
  {
   "cell_type": "code",
   "execution_count": 10,
   "metadata": {},
   "outputs": [
    {
     "name": "stdout",
     "output_type": "stream",
     "text": [
      "b'{\"count\":1025}'\n",
      "None\n"
     ]
    }
   ],
   "source": [
    "print(response_count.content)\n",
    "\n",
    "print(response_query.next)"
   ]
  },
  {
   "cell_type": "code",
   "execution_count": 7,
   "metadata": {},
   "outputs": [
    {
     "data": {
      "text/plain": [
       "{'resume_token': 'yazuHznUd-nqErq2jUCI-Nalq88l82UjWW80MBlRPHY',\n",
       " 'chunk_size': 100}"
      ]
     },
     "execution_count": 7,
     "metadata": {},
     "output_type": "execute_result"
    }
   ],
   "source": [
    "response_query.json()"
   ]
  },
  {
   "cell_type": "code",
   "execution_count": 8,
   "metadata": {},
   "outputs": [
    {
     "name": "stdout",
     "output_type": "stream",
     "text": [
      "Found 0 alerts\n"
     ]
    }
   ],
   "source": [
    "resume_token = response_query.json()['resume_token']\n",
    "# The loader config contains the resume_token as stream identifier\n",
    "config = {'archive':\"https://ampel.zeuthen.desy.de/api/ztf/archive/v3\", \n",
    "          \"stream\":resume_token}\n",
    "\n",
    "\n",
    "try:\n",
    "    alertlist = []\n",
    "    alertloader = ZTFArchiveAlertLoader(**config)\n",
    "    alerts = alertloader.get_alerts()\n",
    "    for alert in alerts:\n",
    "        alertlist.append(alert)\n",
    "        print(alert['objectId'], alert['candidate']['jd'])\n",
    "except requests.exceptions.HTTPError as e:\n",
    "    status_code = e.response.status_code\n",
    "    if status_code==423:\n",
    "        print('HTTP error {}: likely caused by server staging process. Wait and try again.'.format(status_code) )\n",
    "    else:\n",
    "        raise e\n",
    "    \n",
    "print('Found {} alerts'.format(len(alertlist)))\n"
   ]
  }
 ],
 "metadata": {
  "kernelspec": {
   "display_name": "ampel-hu",
   "language": "python",
   "name": "python3"
  },
  "language_info": {
   "codemirror_mode": {
    "name": "ipython",
    "version": 3
   },
   "file_extension": ".py",
   "mimetype": "text/x-python",
   "name": "python",
   "nbconvert_exporter": "python",
   "pygments_lexer": "ipython3",
   "version": "3.10.9"
  },
  "orig_nbformat": 4
 },
 "nbformat": 4,
 "nbformat_minor": 2
}
