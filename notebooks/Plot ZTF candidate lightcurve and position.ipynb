{
 "cells": [
  {
   "cell_type": "markdown",
   "id": "independent-detail",
   "metadata": {},
   "source": [
    "Study whether systematics shifts to the best fit alert position can be seen as a function of time. \n",
    "\n",
    "Based on using the DESY ZTF alert archive, accessed through the convenience methods in `ampel_notebook_utils.py`. The full archive API documentation can be found at:\n",
    "https://ampel.zeuthen.desy.de/api/ztf/archive/docs\n",
    "\n",
    "Note that access is controlled through the personal archive token (see below), and the data returned might hence vary from person to person."
   ]
  },
  {
   "cell_type": "code",
   "execution_count": null,
   "id": "82b06c6c",
   "metadata": {},
   "outputs": [],
   "source": [
    "import os\n",
    "from ampel_notebook_utils import * "
   ]
  },
  {
   "cell_type": "code",
   "execution_count": null,
   "id": "e7656d26",
   "metadata": {},
   "outputs": [],
   "source": [
    "# Access to the AMPEL data archive assumes an individual *archive token* which can be obtained from \n",
    "# https://response = requests.get(endpoint, headers=header )ampel.zeuthen.desy.de/live/dashboard/tokens\n",
    "# This currently builds on GitHub authorization for AmpelProject members.\n",
    "archivetoken = os.environ[\"ARCHIVE_TOKEN\"]"
   ]
  },
  {
   "cell_type": "code",
   "execution_count": null,
   "id": "4bfa250d",
   "metadata": {},
   "outputs": [],
   "source": [
    "# ZTF name of transients to explore\n",
    "snname = \"ZTF22aahmovu\""
   ]
  },
  {
   "cell_type": "markdown",
   "id": "39518ff5",
   "metadata": {},
   "source": [
    "#### Return a `LightCurve` object\n",
    "\n",
    "Will obtain the latest photometry for the SN, and convert this into a ZTF `LightCurve` object, which contains the ZTF alert information in the `photopoints` and `upperlimits` lists (under the `body` field). A `LightCurve` object contains all information present in the Ampel DB corresponding to a particular transient _state_ and acessible to the active user. \n",
    "\n",
    "Ampel T2 (and T3) units are provided `LightCurve` objects for each transient. "
   ]
  },
  {
   "cell_type": "code",
   "execution_count": null,
   "id": "f53fc793",
   "metadata": {},
   "outputs": [],
   "source": [
    "from ampel.view.LightCurve import LightCurve"
   ]
  },
  {
   "cell_type": "code",
   "execution_count": null,
   "id": "5f670146",
   "metadata": {},
   "outputs": [],
   "source": [
    "lightCurve = api_get_lightcurve(snname, archivetoken)"
   ]
  },
  {
   "cell_type": "code",
   "execution_count": null,
   "id": "bf8d2e50",
   "metadata": {},
   "outputs": [],
   "source": [
    "# lightCurve"
   ]
  },
  {
   "cell_type": "markdown",
   "id": "583b635c",
   "metadata": {},
   "source": [
    "#### Working with LightCurve data\n",
    "\n",
    "LightCurve objects contain several convenience methods for retrieving subsets of the available information. The following cells show an example for doing a crude plot."
   ]
  },
  {
   "cell_type": "code",
   "execution_count": null,
   "id": "ac2c3300",
   "metadata": {},
   "outputs": [],
   "source": [
    "gphot = lightCurve.get_ntuples(['jd', 'magpsf', 'sigmapsf', 'ra', 'dec'], \n",
    "                              {'attribute': 'fid', 'operator': '==', 'value': 1})\n",
    "rphot = lightCurve.get_ntuples(['jd', 'magpsf', 'sigmapsf', 'ra', 'dec'], \n",
    "                              {'attribute': 'fid', 'operator': '==', 'value': 2})\n",
    "iphot = lightCurve.get_ntuples(['jd', 'magpsf', 'sigmapsf', 'ra', 'dec'], \n",
    "                              {'attribute': 'fid', 'operator': '==', 'value': 3})\n"
   ]
  },
  {
   "cell_type": "code",
   "execution_count": null,
   "id": "c958b3fe",
   "metadata": {},
   "outputs": [],
   "source": [
    "import matplotlib.pyplot as plt"
   ]
  },
  {
   "cell_type": "code",
   "execution_count": null,
   "id": "1f7622ad",
   "metadata": {},
   "outputs": [],
   "source": [
    "plt.errorbar( [p[0] for p in gphot], [p[1] for p in gphot], yerr=[p[2] for p in gphot], fmt='.', color='black',alpha=0.5)\n",
    "plt.plot( [p[0] for p in gphot], [p[1] for p in gphot], 'o', color='g', label='ZTF g')\n",
    "plt.errorbar( [p[0] for p in rphot], [p[1] for p in rphot], yerr=[p[2] for p in rphot], fmt='.', color='black',alpha=0.5)\n",
    "plt.plot( [p[0] for p in rphot], [p[1] for p in rphot], 'o', color='r', label='ZTF r')\n",
    "if iphot is not None:\n",
    "    plt.errorbar( [p[0] for p in iphot], [p[1] for p in iphot], yerr=[p[2] for p in iphot], fmt='.', color='black',alpha=0.5)\n",
    "    plt.plot( [p[0] for p in iphot], [p[1] for p in iphot], 'o', color='y', label='ZTF i')\n",
    "plt.gca().invert_yaxis()\n",
    "plt.xlabel('JD')\n",
    "plt.ylabel('ZTF mag')\n",
    "_ = plt.legend()"
   ]
  },
  {
   "cell_type": "code",
   "execution_count": null,
   "id": "1c290dfe",
   "metadata": {},
   "outputs": [],
   "source": [
    "plt.plot( [p[0] for p in gphot], [p[3] for p in gphot], 'o', color='g', label='ZTF g')\n",
    "plt.plot( [p[0] for p in rphot], [p[3] for p in rphot], 'o', color='r', label='ZTF r')\n",
    "if iphot is not None:\n",
    "    plt.plot( [p[0] for p in iphot], [p[3] for p in iphot], 'o', color='y', label='ZTF i')\n",
    "plt.xlabel('JD')\n",
    "plt.ylabel('RA')\n",
    "_ = plt.legend()"
   ]
  },
  {
   "cell_type": "code",
   "execution_count": null,
   "id": "d195931c",
   "metadata": {},
   "outputs": [],
   "source": [
    "plt.plot( [p[0] for p in gphot], [p[4] for p in gphot], 'o', color='g', label='ZTF g')\n",
    "plt.plot( [p[0] for p in rphot], [p[4] for p in rphot], 'o', color='r', label='ZTF r')\n",
    "if iphot is not None:\n",
    "    plt.plot( [p[0] for p in iphot], [p[4] for p in iphot], 'o', color='y', label='ZTF i')\n",
    "plt.xlabel('JD')\n",
    "plt.ylabel('Dec')\n",
    "_ = plt.legend()"
   ]
  },
  {
   "cell_type": "code",
   "execution_count": null,
   "id": "59443722",
   "metadata": {},
   "outputs": [],
   "source": []
  }
 ],
 "metadata": {
  "kernelspec": {
   "display_name": "Python 3 (ipykernel)",
   "language": "python",
   "name": "python3"
  },
  "language_info": {
   "codemirror_mode": {
    "name": "ipython",
    "version": 3
   },
   "file_extension": ".py",
   "mimetype": "text/x-python",
   "name": "python",
   "nbconvert_exporter": "python",
   "pygments_lexer": "ipython3",
   "version": "3.10.13"
  }
 },
 "nbformat": 4,
 "nbformat_minor": 5
}
